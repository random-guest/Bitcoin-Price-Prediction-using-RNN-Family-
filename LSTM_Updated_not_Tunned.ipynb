{
  "nbformat": 4,
  "nbformat_minor": 0,
  "metadata": {
    "colab": {
      "name": "LSTM_Updated_not_Tunned.ipynb",
      "provenance": [],
      "collapsed_sections": []
    },
    "kernelspec": {
      "name": "python3",
      "display_name": "Python 3"
    },
    "language_info": {
      "name": "python"
    },
    "accelerator": "GPU"
  },
  "cells": [
    {
      "cell_type": "code",
      "source": [
        "import pandas as pd\n",
        "import numpy as np\n",
        "import matplotlib.pyplot as plt\n",
        "import seaborn as sns\n",
        "from matplotlib.dates import DateFormatter\n",
        "sns.set_style(\"white\")\n",
        "\n",
        "import scipy \n",
        "import tensorflow as tf\n",
        "from tensorflow import keras\n",
        "from tensorflow.keras import Sequential, layers, callbacks\n",
        "from tensorflow.keras.layers import Dense, LSTM, Dropout, GRU, Bidirectional, Conv2D,Conv1D, BatchNormalization\n",
        "\n",
        "from sklearn.preprocessing import MinMaxScaler\n",
        "from sklearn.model_selection import train_test_split\n",
        "\n",
        "from IPython.core.pylabtools import figsize\n",
        "\n",
        "from pandas.plotting import register_matplotlib_converters\n",
        "register_matplotlib_converters()\n",
        "from tensorflow.keras.callbacks import EarlyStopping, LearningRateScheduler\n",
        "from tensorflow.keras.callbacks import ModelCheckpoint\n",
        "from keras.layers import *\n",
        "from keras.models import *\n",
        "from keras import backend as K\n",
        "\n",
        "\n",
        "\n",
        "# Set random seed for reproducibility\n",
        "tf.random.set_seed(42)"
      ],
      "metadata": {
        "id": "ZIqnE-1t3LpQ"
      },
      "execution_count": 1,
      "outputs": []
    },
    {
      "cell_type": "code",
      "execution_count": 2,
      "metadata": {
        "colab": {
          "base_uri": "https://localhost:8080/"
        },
        "id": "DlKkrRPxurWw",
        "outputId": "f8c8567a-59d5-4db1-d139-46b87c522e31"
      },
      "outputs": [
        {
          "output_type": "stream",
          "name": "stdout",
          "text": [
            "Requirement already satisfied: Historic-Crypto in /usr/local/lib/python3.7/dist-packages (0.1.6)\n",
            "Requirement already satisfied: requests in /usr/local/lib/python3.7/dist-packages (from Historic-Crypto) (2.23.0)\n",
            "Requirement already satisfied: numpy in /usr/local/lib/python3.7/dist-packages (from Historic-Crypto) (1.21.6)\n",
            "Requirement already satisfied: idna<3,>=2.5 in /usr/local/lib/python3.7/dist-packages (from requests->Historic-Crypto) (2.10)\n",
            "Requirement already satisfied: urllib3!=1.25.0,!=1.25.1,<1.26,>=1.21.1 in /usr/local/lib/python3.7/dist-packages (from requests->Historic-Crypto) (1.24.3)\n",
            "Requirement already satisfied: chardet<4,>=3.0.2 in /usr/local/lib/python3.7/dist-packages (from requests->Historic-Crypto) (3.0.4)\n",
            "Requirement already satisfied: certifi>=2017.4.17 in /usr/local/lib/python3.7/dist-packages (from requests->Historic-Crypto) (2021.10.8)\n"
          ]
        }
      ],
      "source": [
        "!pip install Historic-Crypto"
      ]
    },
    {
      "cell_type": "code",
      "source": [
        "import warnings\n",
        "warnings.filterwarnings(\"ignore\")\n",
        "\n",
        "from Historic_Crypto import HistoricalData"
      ],
      "metadata": {
        "id": "duP3WefmvoJd"
      },
      "execution_count": 3,
      "outputs": []
    },
    {
      "cell_type": "code",
      "source": [
        "btc_historicals = HistoricalData('BTC-USD',86400,'2017-01-01-00-00', '2021-01-01-00-00').retrieve_data() # cyrpto name, number of seconds, start date, end date\n"
      ],
      "metadata": {
        "colab": {
          "base_uri": "https://localhost:8080/"
        },
        "id": "mXFZVRlFvxAq",
        "outputId": "51ed40ce-67b5-4edc-fa1b-fb5997bd4257"
      },
      "execution_count": 4,
      "outputs": [
        {
          "output_type": "stream",
          "name": "stdout",
          "text": [
            "Checking input parameters are in the correct format.\n",
            "Formatting Dates.\n",
            "Checking if user supplied is available on the CoinBase Pro API.\n",
            "Connected to the CoinBase Pro API.\n",
            "Ticker 'BTC-USD' found at the CoinBase Pro API, continuing to extraction.\n",
            "Provisional Start: 2017-01-01T00:00:00\n",
            "Provisional End: 2017-10-28T00:00:00\n",
            "Data for chunk 1 of 5 extracted\n",
            "Provisional Start: 2017-10-28T00:00:00\n",
            "Provisional End: 2018-08-24T00:00:00\n",
            "Data for chunk 2 of 5 extracted\n",
            "Provisional Start: 2018-08-24T00:00:00\n",
            "Provisional End: 2019-06-20T00:00:00\n",
            "Data for chunk 3 of 5 extracted\n",
            "Provisional Start: 2019-06-20T00:00:00\n",
            "Provisional End: 2020-04-15T00:00:00\n",
            "Data for chunk 4 of 5 extracted\n",
            "Provisional Start: 2020-04-15T00:00:00\n",
            "Provisional End: 2021-02-09T00:00:00\n",
            "Data for chunk 5 of 5 extracted\n"
          ]
        }
      ]
    },
    {
      "cell_type": "code",
      "source": [
        "btc_historicals.shape"
      ],
      "metadata": {
        "colab": {
          "base_uri": "https://localhost:8080/"
        },
        "id": "bB36viuAwnr4",
        "outputId": "95b371f1-4bf1-4b95-dd59-1b3001f043d7"
      },
      "execution_count": 5,
      "outputs": [
        {
          "output_type": "execute_result",
          "data": {
            "text/plain": [
              "(1461, 5)"
            ]
          },
          "metadata": {},
          "execution_count": 5
        }
      ]
    },
    {
      "cell_type": "code",
      "source": [
        "btc_historicals.tail()"
      ],
      "metadata": {
        "colab": {
          "base_uri": "https://localhost:8080/",
          "height": 237
        },
        "id": "-QepeTnmyIfF",
        "outputId": "17fb7d99-6e91-4616-d745-cd9fe7d928e8"
      },
      "execution_count": 6,
      "outputs": [
        {
          "output_type": "execute_result",
          "data": {
            "text/plain": [
              "                 low      high      open     close        volume\n",
              "time                                                            \n",
              "2020-12-28  26086.19  27477.00  26255.16  27040.36  21265.709350\n",
              "2020-12-29  25833.73  27396.77  27039.39  27366.35  20668.104338\n",
              "2020-12-30  27311.73  29018.26  27366.35  28897.42  28181.496815\n",
              "2020-12-31  28000.00  29321.90  28897.42  28990.08  28813.886911\n",
              "2021-01-01  28700.00  29688.88  28990.08  29412.84  22211.252518"
            ],
            "text/html": [
              "\n",
              "  <div id=\"df-56922316-c63e-473b-bcb6-40748c9983a7\">\n",
              "    <div class=\"colab-df-container\">\n",
              "      <div>\n",
              "<style scoped>\n",
              "    .dataframe tbody tr th:only-of-type {\n",
              "        vertical-align: middle;\n",
              "    }\n",
              "\n",
              "    .dataframe tbody tr th {\n",
              "        vertical-align: top;\n",
              "    }\n",
              "\n",
              "    .dataframe thead th {\n",
              "        text-align: right;\n",
              "    }\n",
              "</style>\n",
              "<table border=\"1\" class=\"dataframe\">\n",
              "  <thead>\n",
              "    <tr style=\"text-align: right;\">\n",
              "      <th></th>\n",
              "      <th>low</th>\n",
              "      <th>high</th>\n",
              "      <th>open</th>\n",
              "      <th>close</th>\n",
              "      <th>volume</th>\n",
              "    </tr>\n",
              "    <tr>\n",
              "      <th>time</th>\n",
              "      <th></th>\n",
              "      <th></th>\n",
              "      <th></th>\n",
              "      <th></th>\n",
              "      <th></th>\n",
              "    </tr>\n",
              "  </thead>\n",
              "  <tbody>\n",
              "    <tr>\n",
              "      <th>2020-12-28</th>\n",
              "      <td>26086.19</td>\n",
              "      <td>27477.00</td>\n",
              "      <td>26255.16</td>\n",
              "      <td>27040.36</td>\n",
              "      <td>21265.709350</td>\n",
              "    </tr>\n",
              "    <tr>\n",
              "      <th>2020-12-29</th>\n",
              "      <td>25833.73</td>\n",
              "      <td>27396.77</td>\n",
              "      <td>27039.39</td>\n",
              "      <td>27366.35</td>\n",
              "      <td>20668.104338</td>\n",
              "    </tr>\n",
              "    <tr>\n",
              "      <th>2020-12-30</th>\n",
              "      <td>27311.73</td>\n",
              "      <td>29018.26</td>\n",
              "      <td>27366.35</td>\n",
              "      <td>28897.42</td>\n",
              "      <td>28181.496815</td>\n",
              "    </tr>\n",
              "    <tr>\n",
              "      <th>2020-12-31</th>\n",
              "      <td>28000.00</td>\n",
              "      <td>29321.90</td>\n",
              "      <td>28897.42</td>\n",
              "      <td>28990.08</td>\n",
              "      <td>28813.886911</td>\n",
              "    </tr>\n",
              "    <tr>\n",
              "      <th>2021-01-01</th>\n",
              "      <td>28700.00</td>\n",
              "      <td>29688.88</td>\n",
              "      <td>28990.08</td>\n",
              "      <td>29412.84</td>\n",
              "      <td>22211.252518</td>\n",
              "    </tr>\n",
              "  </tbody>\n",
              "</table>\n",
              "</div>\n",
              "      <button class=\"colab-df-convert\" onclick=\"convertToInteractive('df-56922316-c63e-473b-bcb6-40748c9983a7')\"\n",
              "              title=\"Convert this dataframe to an interactive table.\"\n",
              "              style=\"display:none;\">\n",
              "        \n",
              "  <svg xmlns=\"http://www.w3.org/2000/svg\" height=\"24px\"viewBox=\"0 0 24 24\"\n",
              "       width=\"24px\">\n",
              "    <path d=\"M0 0h24v24H0V0z\" fill=\"none\"/>\n",
              "    <path d=\"M18.56 5.44l.94 2.06.94-2.06 2.06-.94-2.06-.94-.94-2.06-.94 2.06-2.06.94zm-11 1L8.5 8.5l.94-2.06 2.06-.94-2.06-.94L8.5 2.5l-.94 2.06-2.06.94zm10 10l.94 2.06.94-2.06 2.06-.94-2.06-.94-.94-2.06-.94 2.06-2.06.94z\"/><path d=\"M17.41 7.96l-1.37-1.37c-.4-.4-.92-.59-1.43-.59-.52 0-1.04.2-1.43.59L10.3 9.45l-7.72 7.72c-.78.78-.78 2.05 0 2.83L4 21.41c.39.39.9.59 1.41.59.51 0 1.02-.2 1.41-.59l7.78-7.78 2.81-2.81c.8-.78.8-2.07 0-2.86zM5.41 20L4 18.59l7.72-7.72 1.47 1.35L5.41 20z\"/>\n",
              "  </svg>\n",
              "      </button>\n",
              "      \n",
              "  <style>\n",
              "    .colab-df-container {\n",
              "      display:flex;\n",
              "      flex-wrap:wrap;\n",
              "      gap: 12px;\n",
              "    }\n",
              "\n",
              "    .colab-df-convert {\n",
              "      background-color: #E8F0FE;\n",
              "      border: none;\n",
              "      border-radius: 50%;\n",
              "      cursor: pointer;\n",
              "      display: none;\n",
              "      fill: #1967D2;\n",
              "      height: 32px;\n",
              "      padding: 0 0 0 0;\n",
              "      width: 32px;\n",
              "    }\n",
              "\n",
              "    .colab-df-convert:hover {\n",
              "      background-color: #E2EBFA;\n",
              "      box-shadow: 0px 1px 2px rgba(60, 64, 67, 0.3), 0px 1px 3px 1px rgba(60, 64, 67, 0.15);\n",
              "      fill: #174EA6;\n",
              "    }\n",
              "\n",
              "    [theme=dark] .colab-df-convert {\n",
              "      background-color: #3B4455;\n",
              "      fill: #D2E3FC;\n",
              "    }\n",
              "\n",
              "    [theme=dark] .colab-df-convert:hover {\n",
              "      background-color: #434B5C;\n",
              "      box-shadow: 0px 1px 3px 1px rgba(0, 0, 0, 0.15);\n",
              "      filter: drop-shadow(0px 1px 2px rgba(0, 0, 0, 0.3));\n",
              "      fill: #FFFFFF;\n",
              "    }\n",
              "  </style>\n",
              "\n",
              "      <script>\n",
              "        const buttonEl =\n",
              "          document.querySelector('#df-56922316-c63e-473b-bcb6-40748c9983a7 button.colab-df-convert');\n",
              "        buttonEl.style.display =\n",
              "          google.colab.kernel.accessAllowed ? 'block' : 'none';\n",
              "\n",
              "        async function convertToInteractive(key) {\n",
              "          const element = document.querySelector('#df-56922316-c63e-473b-bcb6-40748c9983a7');\n",
              "          const dataTable =\n",
              "            await google.colab.kernel.invokeFunction('convertToInteractive',\n",
              "                                                     [key], {});\n",
              "          if (!dataTable) return;\n",
              "\n",
              "          const docLinkHtml = 'Like what you see? Visit the ' +\n",
              "            '<a target=\"_blank\" href=https://colab.research.google.com/notebooks/data_table.ipynb>data table notebook</a>'\n",
              "            + ' to learn more about interactive tables.';\n",
              "          element.innerHTML = '';\n",
              "          dataTable['output_type'] = 'display_data';\n",
              "          await google.colab.output.renderOutput(dataTable, element);\n",
              "          const docLink = document.createElement('div');\n",
              "          docLink.innerHTML = docLinkHtml;\n",
              "          element.appendChild(docLink);\n",
              "        }\n",
              "      </script>\n",
              "    </div>\n",
              "  </div>\n",
              "  "
            ]
          },
          "metadata": {},
          "execution_count": 6
        }
      ]
    },
    {
      "cell_type": "code",
      "source": [
        "# Check out variables\n",
        "btc_historicals.dtypes"
      ],
      "metadata": {
        "colab": {
          "base_uri": "https://localhost:8080/"
        },
        "id": "wEBYs9iyygbR",
        "outputId": "8ab615f1-efc9-4bfb-a3af-da99476a52ee"
      },
      "execution_count": 7,
      "outputs": [
        {
          "output_type": "execute_result",
          "data": {
            "text/plain": [
              "low       float64\n",
              "high      float64\n",
              "open      float64\n",
              "close     float64\n",
              "volume    float64\n",
              "dtype: object"
            ]
          },
          "metadata": {},
          "execution_count": 7
        }
      ]
    },
    {
      "cell_type": "code",
      "source": [
        "tst = btc_historicals"
      ],
      "metadata": {
        "id": "8AvL9iDB0Ajo"
      },
      "execution_count": 8,
      "outputs": []
    },
    {
      "cell_type": "code",
      "source": [
        "print('Null Values:',tst.isnull().values.sum())\n",
        "print('If any NA values:', tst.isnull().values.any())"
      ],
      "metadata": {
        "colab": {
          "base_uri": "https://localhost:8080/"
        },
        "id": "8CWBQogH8Dvl",
        "outputId": "68314bfa-9428-48d4-bdfc-1331b5d25a2e"
      },
      "execution_count": 9,
      "outputs": [
        {
          "output_type": "stream",
          "name": "stdout",
          "text": [
            "Null Values: 0\n",
            "If any NA values: False\n"
          ]
        }
      ]
    },
    {
      "cell_type": "code",
      "source": [
        "# Create variable '‘TOMORROW_CLOSE’' which shifts 'Close' up by 1\n",
        "tst['TOMORROW_CLOSE'] = tst['close'].shift(-1,fill_value=0)"
      ],
      "metadata": {
        "id": "dhxMK0DoyiIJ"
      },
      "execution_count": 10,
      "outputs": []
    },
    {
      "cell_type": "code",
      "source": [
        "# drop last row because we shifted value (remember this when you add your forecasting data)\n",
        "tst.drop(tst.tail(1).index,inplace=True) "
      ],
      "metadata": {
        "id": "tIyv8Sikzy_R"
      },
      "execution_count": 11,
      "outputs": []
    },
    {
      "cell_type": "code",
      "source": [
        "# Drop close column, since we created new ‘TOMORROW_CLOSE’\n",
        "tst = tst.drop(columns=['close'])"
      ],
      "metadata": {
        "id": "Vb8CFnmzy1vh"
      },
      "execution_count": 12,
      "outputs": []
    },
    {
      "cell_type": "code",
      "source": [
        "tst.head()"
      ],
      "metadata": {
        "colab": {
          "base_uri": "https://localhost:8080/",
          "height": 237
        },
        "id": "Ee1SrZN3y9zR",
        "outputId": "d7c73b3a-8966-42cf-a11d-14a13c75a99a"
      },
      "execution_count": 13,
      "outputs": [
        {
          "output_type": "execute_result",
          "data": {
            "text/plain": [
              "                low     high     open        volume  TOMORROW_CLOSE\n",
              "time                                                               \n",
              "2017-01-02   990.52  1034.39   992.96   7723.635752         1020.67\n",
              "2017-01-03  1006.71  1036.99  1011.52   8615.260058         1130.30\n",
              "2017-01-04  1018.00  1147.00  1020.69  16222.230267         1007.00\n",
              "2017-01-05   880.00  1175.00  1131.10  20446.405615          895.71\n",
              "2017-01-06   875.01  1033.85  1007.00  14274.259206          909.00"
            ],
            "text/html": [
              "\n",
              "  <div id=\"df-df7dcae5-edc8-409a-9124-50c5c5482b2a\">\n",
              "    <div class=\"colab-df-container\">\n",
              "      <div>\n",
              "<style scoped>\n",
              "    .dataframe tbody tr th:only-of-type {\n",
              "        vertical-align: middle;\n",
              "    }\n",
              "\n",
              "    .dataframe tbody tr th {\n",
              "        vertical-align: top;\n",
              "    }\n",
              "\n",
              "    .dataframe thead th {\n",
              "        text-align: right;\n",
              "    }\n",
              "</style>\n",
              "<table border=\"1\" class=\"dataframe\">\n",
              "  <thead>\n",
              "    <tr style=\"text-align: right;\">\n",
              "      <th></th>\n",
              "      <th>low</th>\n",
              "      <th>high</th>\n",
              "      <th>open</th>\n",
              "      <th>volume</th>\n",
              "      <th>TOMORROW_CLOSE</th>\n",
              "    </tr>\n",
              "    <tr>\n",
              "      <th>time</th>\n",
              "      <th></th>\n",
              "      <th></th>\n",
              "      <th></th>\n",
              "      <th></th>\n",
              "      <th></th>\n",
              "    </tr>\n",
              "  </thead>\n",
              "  <tbody>\n",
              "    <tr>\n",
              "      <th>2017-01-02</th>\n",
              "      <td>990.52</td>\n",
              "      <td>1034.39</td>\n",
              "      <td>992.96</td>\n",
              "      <td>7723.635752</td>\n",
              "      <td>1020.67</td>\n",
              "    </tr>\n",
              "    <tr>\n",
              "      <th>2017-01-03</th>\n",
              "      <td>1006.71</td>\n",
              "      <td>1036.99</td>\n",
              "      <td>1011.52</td>\n",
              "      <td>8615.260058</td>\n",
              "      <td>1130.30</td>\n",
              "    </tr>\n",
              "    <tr>\n",
              "      <th>2017-01-04</th>\n",
              "      <td>1018.00</td>\n",
              "      <td>1147.00</td>\n",
              "      <td>1020.69</td>\n",
              "      <td>16222.230267</td>\n",
              "      <td>1007.00</td>\n",
              "    </tr>\n",
              "    <tr>\n",
              "      <th>2017-01-05</th>\n",
              "      <td>880.00</td>\n",
              "      <td>1175.00</td>\n",
              "      <td>1131.10</td>\n",
              "      <td>20446.405615</td>\n",
              "      <td>895.71</td>\n",
              "    </tr>\n",
              "    <tr>\n",
              "      <th>2017-01-06</th>\n",
              "      <td>875.01</td>\n",
              "      <td>1033.85</td>\n",
              "      <td>1007.00</td>\n",
              "      <td>14274.259206</td>\n",
              "      <td>909.00</td>\n",
              "    </tr>\n",
              "  </tbody>\n",
              "</table>\n",
              "</div>\n",
              "      <button class=\"colab-df-convert\" onclick=\"convertToInteractive('df-df7dcae5-edc8-409a-9124-50c5c5482b2a')\"\n",
              "              title=\"Convert this dataframe to an interactive table.\"\n",
              "              style=\"display:none;\">\n",
              "        \n",
              "  <svg xmlns=\"http://www.w3.org/2000/svg\" height=\"24px\"viewBox=\"0 0 24 24\"\n",
              "       width=\"24px\">\n",
              "    <path d=\"M0 0h24v24H0V0z\" fill=\"none\"/>\n",
              "    <path d=\"M18.56 5.44l.94 2.06.94-2.06 2.06-.94-2.06-.94-.94-2.06-.94 2.06-2.06.94zm-11 1L8.5 8.5l.94-2.06 2.06-.94-2.06-.94L8.5 2.5l-.94 2.06-2.06.94zm10 10l.94 2.06.94-2.06 2.06-.94-2.06-.94-.94-2.06-.94 2.06-2.06.94z\"/><path d=\"M17.41 7.96l-1.37-1.37c-.4-.4-.92-.59-1.43-.59-.52 0-1.04.2-1.43.59L10.3 9.45l-7.72 7.72c-.78.78-.78 2.05 0 2.83L4 21.41c.39.39.9.59 1.41.59.51 0 1.02-.2 1.41-.59l7.78-7.78 2.81-2.81c.8-.78.8-2.07 0-2.86zM5.41 20L4 18.59l7.72-7.72 1.47 1.35L5.41 20z\"/>\n",
              "  </svg>\n",
              "      </button>\n",
              "      \n",
              "  <style>\n",
              "    .colab-df-container {\n",
              "      display:flex;\n",
              "      flex-wrap:wrap;\n",
              "      gap: 12px;\n",
              "    }\n",
              "\n",
              "    .colab-df-convert {\n",
              "      background-color: #E8F0FE;\n",
              "      border: none;\n",
              "      border-radius: 50%;\n",
              "      cursor: pointer;\n",
              "      display: none;\n",
              "      fill: #1967D2;\n",
              "      height: 32px;\n",
              "      padding: 0 0 0 0;\n",
              "      width: 32px;\n",
              "    }\n",
              "\n",
              "    .colab-df-convert:hover {\n",
              "      background-color: #E2EBFA;\n",
              "      box-shadow: 0px 1px 2px rgba(60, 64, 67, 0.3), 0px 1px 3px 1px rgba(60, 64, 67, 0.15);\n",
              "      fill: #174EA6;\n",
              "    }\n",
              "\n",
              "    [theme=dark] .colab-df-convert {\n",
              "      background-color: #3B4455;\n",
              "      fill: #D2E3FC;\n",
              "    }\n",
              "\n",
              "    [theme=dark] .colab-df-convert:hover {\n",
              "      background-color: #434B5C;\n",
              "      box-shadow: 0px 1px 3px 1px rgba(0, 0, 0, 0.15);\n",
              "      filter: drop-shadow(0px 1px 2px rgba(0, 0, 0, 0.3));\n",
              "      fill: #FFFFFF;\n",
              "    }\n",
              "  </style>\n",
              "\n",
              "      <script>\n",
              "        const buttonEl =\n",
              "          document.querySelector('#df-df7dcae5-edc8-409a-9124-50c5c5482b2a button.colab-df-convert');\n",
              "        buttonEl.style.display =\n",
              "          google.colab.kernel.accessAllowed ? 'block' : 'none';\n",
              "\n",
              "        async function convertToInteractive(key) {\n",
              "          const element = document.querySelector('#df-df7dcae5-edc8-409a-9124-50c5c5482b2a');\n",
              "          const dataTable =\n",
              "            await google.colab.kernel.invokeFunction('convertToInteractive',\n",
              "                                                     [key], {});\n",
              "          if (!dataTable) return;\n",
              "\n",
              "          const docLinkHtml = 'Like what you see? Visit the ' +\n",
              "            '<a target=\"_blank\" href=https://colab.research.google.com/notebooks/data_table.ipynb>data table notebook</a>'\n",
              "            + ' to learn more about interactive tables.';\n",
              "          element.innerHTML = '';\n",
              "          dataTable['output_type'] = 'display_data';\n",
              "          await google.colab.output.renderOutput(dataTable, element);\n",
              "          const docLink = document.createElement('div');\n",
              "          docLink.innerHTML = docLinkHtml;\n",
              "          element.appendChild(docLink);\n",
              "        }\n",
              "      </script>\n",
              "    </div>\n",
              "  </div>\n",
              "  "
            ]
          },
          "metadata": {},
          "execution_count": 13
        }
      ]
    },
    {
      "cell_type": "code",
      "source": [
        "tst.shape"
      ],
      "metadata": {
        "colab": {
          "base_uri": "https://localhost:8080/"
        },
        "id": "bmfjRuDozBTh",
        "outputId": "9c329f0c-cbff-4551-c765-771be69eba96"
      },
      "execution_count": 14,
      "outputs": [
        {
          "output_type": "execute_result",
          "data": {
            "text/plain": [
              "(1460, 5)"
            ]
          },
          "metadata": {},
          "execution_count": 14
        }
      ]
    },
    {
      "cell_type": "code",
      "source": [
        "# Split train data (90%) and test data (10%)\n",
        "\n",
        "train_size = int(len(tst)*0.90)\n",
        "train_dataset, test_dataset = tst.iloc[:train_size],tst.iloc[train_size:]\n"
      ],
      "metadata": {
        "id": "vaD-dLKTzJbx"
      },
      "execution_count": 15,
      "outputs": []
    },
    {
      "cell_type": "code",
      "source": [
        "train_dataset.head()"
      ],
      "metadata": {
        "colab": {
          "base_uri": "https://localhost:8080/",
          "height": 237
        },
        "id": "yIvQhz7xpYkg",
        "outputId": "acac093d-8968-43bd-d4ee-cdf4652d9a63"
      },
      "execution_count": 16,
      "outputs": [
        {
          "output_type": "execute_result",
          "data": {
            "text/plain": [
              "                low     high     open        volume  TOMORROW_CLOSE\n",
              "time                                                               \n",
              "2017-01-02   990.52  1034.39   992.96   7723.635752         1020.67\n",
              "2017-01-03  1006.71  1036.99  1011.52   8615.260058         1130.30\n",
              "2017-01-04  1018.00  1147.00  1020.69  16222.230267         1007.00\n",
              "2017-01-05   880.00  1175.00  1131.10  20446.405615          895.71\n",
              "2017-01-06   875.01  1033.85  1007.00  14274.259206          909.00"
            ],
            "text/html": [
              "\n",
              "  <div id=\"df-70799c2e-346d-4c00-b12b-d7c9e44bd0c0\">\n",
              "    <div class=\"colab-df-container\">\n",
              "      <div>\n",
              "<style scoped>\n",
              "    .dataframe tbody tr th:only-of-type {\n",
              "        vertical-align: middle;\n",
              "    }\n",
              "\n",
              "    .dataframe tbody tr th {\n",
              "        vertical-align: top;\n",
              "    }\n",
              "\n",
              "    .dataframe thead th {\n",
              "        text-align: right;\n",
              "    }\n",
              "</style>\n",
              "<table border=\"1\" class=\"dataframe\">\n",
              "  <thead>\n",
              "    <tr style=\"text-align: right;\">\n",
              "      <th></th>\n",
              "      <th>low</th>\n",
              "      <th>high</th>\n",
              "      <th>open</th>\n",
              "      <th>volume</th>\n",
              "      <th>TOMORROW_CLOSE</th>\n",
              "    </tr>\n",
              "    <tr>\n",
              "      <th>time</th>\n",
              "      <th></th>\n",
              "      <th></th>\n",
              "      <th></th>\n",
              "      <th></th>\n",
              "      <th></th>\n",
              "    </tr>\n",
              "  </thead>\n",
              "  <tbody>\n",
              "    <tr>\n",
              "      <th>2017-01-02</th>\n",
              "      <td>990.52</td>\n",
              "      <td>1034.39</td>\n",
              "      <td>992.96</td>\n",
              "      <td>7723.635752</td>\n",
              "      <td>1020.67</td>\n",
              "    </tr>\n",
              "    <tr>\n",
              "      <th>2017-01-03</th>\n",
              "      <td>1006.71</td>\n",
              "      <td>1036.99</td>\n",
              "      <td>1011.52</td>\n",
              "      <td>8615.260058</td>\n",
              "      <td>1130.30</td>\n",
              "    </tr>\n",
              "    <tr>\n",
              "      <th>2017-01-04</th>\n",
              "      <td>1018.00</td>\n",
              "      <td>1147.00</td>\n",
              "      <td>1020.69</td>\n",
              "      <td>16222.230267</td>\n",
              "      <td>1007.00</td>\n",
              "    </tr>\n",
              "    <tr>\n",
              "      <th>2017-01-05</th>\n",
              "      <td>880.00</td>\n",
              "      <td>1175.00</td>\n",
              "      <td>1131.10</td>\n",
              "      <td>20446.405615</td>\n",
              "      <td>895.71</td>\n",
              "    </tr>\n",
              "    <tr>\n",
              "      <th>2017-01-06</th>\n",
              "      <td>875.01</td>\n",
              "      <td>1033.85</td>\n",
              "      <td>1007.00</td>\n",
              "      <td>14274.259206</td>\n",
              "      <td>909.00</td>\n",
              "    </tr>\n",
              "  </tbody>\n",
              "</table>\n",
              "</div>\n",
              "      <button class=\"colab-df-convert\" onclick=\"convertToInteractive('df-70799c2e-346d-4c00-b12b-d7c9e44bd0c0')\"\n",
              "              title=\"Convert this dataframe to an interactive table.\"\n",
              "              style=\"display:none;\">\n",
              "        \n",
              "  <svg xmlns=\"http://www.w3.org/2000/svg\" height=\"24px\"viewBox=\"0 0 24 24\"\n",
              "       width=\"24px\">\n",
              "    <path d=\"M0 0h24v24H0V0z\" fill=\"none\"/>\n",
              "    <path d=\"M18.56 5.44l.94 2.06.94-2.06 2.06-.94-2.06-.94-.94-2.06-.94 2.06-2.06.94zm-11 1L8.5 8.5l.94-2.06 2.06-.94-2.06-.94L8.5 2.5l-.94 2.06-2.06.94zm10 10l.94 2.06.94-2.06 2.06-.94-2.06-.94-.94-2.06-.94 2.06-2.06.94z\"/><path d=\"M17.41 7.96l-1.37-1.37c-.4-.4-.92-.59-1.43-.59-.52 0-1.04.2-1.43.59L10.3 9.45l-7.72 7.72c-.78.78-.78 2.05 0 2.83L4 21.41c.39.39.9.59 1.41.59.51 0 1.02-.2 1.41-.59l7.78-7.78 2.81-2.81c.8-.78.8-2.07 0-2.86zM5.41 20L4 18.59l7.72-7.72 1.47 1.35L5.41 20z\"/>\n",
              "  </svg>\n",
              "      </button>\n",
              "      \n",
              "  <style>\n",
              "    .colab-df-container {\n",
              "      display:flex;\n",
              "      flex-wrap:wrap;\n",
              "      gap: 12px;\n",
              "    }\n",
              "\n",
              "    .colab-df-convert {\n",
              "      background-color: #E8F0FE;\n",
              "      border: none;\n",
              "      border-radius: 50%;\n",
              "      cursor: pointer;\n",
              "      display: none;\n",
              "      fill: #1967D2;\n",
              "      height: 32px;\n",
              "      padding: 0 0 0 0;\n",
              "      width: 32px;\n",
              "    }\n",
              "\n",
              "    .colab-df-convert:hover {\n",
              "      background-color: #E2EBFA;\n",
              "      box-shadow: 0px 1px 2px rgba(60, 64, 67, 0.3), 0px 1px 3px 1px rgba(60, 64, 67, 0.15);\n",
              "      fill: #174EA6;\n",
              "    }\n",
              "\n",
              "    [theme=dark] .colab-df-convert {\n",
              "      background-color: #3B4455;\n",
              "      fill: #D2E3FC;\n",
              "    }\n",
              "\n",
              "    [theme=dark] .colab-df-convert:hover {\n",
              "      background-color: #434B5C;\n",
              "      box-shadow: 0px 1px 3px 1px rgba(0, 0, 0, 0.15);\n",
              "      filter: drop-shadow(0px 1px 2px rgba(0, 0, 0, 0.3));\n",
              "      fill: #FFFFFF;\n",
              "    }\n",
              "  </style>\n",
              "\n",
              "      <script>\n",
              "        const buttonEl =\n",
              "          document.querySelector('#df-70799c2e-346d-4c00-b12b-d7c9e44bd0c0 button.colab-df-convert');\n",
              "        buttonEl.style.display =\n",
              "          google.colab.kernel.accessAllowed ? 'block' : 'none';\n",
              "\n",
              "        async function convertToInteractive(key) {\n",
              "          const element = document.querySelector('#df-70799c2e-346d-4c00-b12b-d7c9e44bd0c0');\n",
              "          const dataTable =\n",
              "            await google.colab.kernel.invokeFunction('convertToInteractive',\n",
              "                                                     [key], {});\n",
              "          if (!dataTable) return;\n",
              "\n",
              "          const docLinkHtml = 'Like what you see? Visit the ' +\n",
              "            '<a target=\"_blank\" href=https://colab.research.google.com/notebooks/data_table.ipynb>data table notebook</a>'\n",
              "            + ' to learn more about interactive tables.';\n",
              "          element.innerHTML = '';\n",
              "          dataTable['output_type'] = 'display_data';\n",
              "          await google.colab.output.renderOutput(dataTable, element);\n",
              "          const docLink = document.createElement('div');\n",
              "          docLink.innerHTML = docLinkHtml;\n",
              "          element.appendChild(docLink);\n",
              "        }\n",
              "      </script>\n",
              "    </div>\n",
              "  </div>\n",
              "  "
            ]
          },
          "metadata": {},
          "execution_count": 16
        }
      ]
    },
    {
      "cell_type": "code",
      "source": [
        "# Split train data to X and y\n",
        "X_train = train_dataset.drop('TOMORROW_CLOSE', axis = 1)\n",
        "y_train = train_dataset.loc[:,['TOMORROW_CLOSE']]\n",
        "\n",
        "# Split test data to X and y\n",
        "X_test = test_dataset.drop('TOMORROW_CLOSE', axis = 1)\n",
        "y_test = test_dataset.loc[:,['TOMORROW_CLOSE']]"
      ],
      "metadata": {
        "id": "mHMzSSQ_24Uo"
      },
      "execution_count": 17,
      "outputs": []
    },
    {
      "cell_type": "code",
      "source": [
        "X_train.head()"
      ],
      "metadata": {
        "colab": {
          "base_uri": "https://localhost:8080/",
          "height": 237
        },
        "id": "fNUixtLJm6mv",
        "outputId": "e209931c-c430-46d0-dd1c-53b39b206dae"
      },
      "execution_count": 18,
      "outputs": [
        {
          "output_type": "execute_result",
          "data": {
            "text/plain": [
              "                low     high     open        volume\n",
              "time                                               \n",
              "2017-01-02   990.52  1034.39   992.96   7723.635752\n",
              "2017-01-03  1006.71  1036.99  1011.52   8615.260058\n",
              "2017-01-04  1018.00  1147.00  1020.69  16222.230267\n",
              "2017-01-05   880.00  1175.00  1131.10  20446.405615\n",
              "2017-01-06   875.01  1033.85  1007.00  14274.259206"
            ],
            "text/html": [
              "\n",
              "  <div id=\"df-b604784e-2f77-4035-a585-7b5d95c382dd\">\n",
              "    <div class=\"colab-df-container\">\n",
              "      <div>\n",
              "<style scoped>\n",
              "    .dataframe tbody tr th:only-of-type {\n",
              "        vertical-align: middle;\n",
              "    }\n",
              "\n",
              "    .dataframe tbody tr th {\n",
              "        vertical-align: top;\n",
              "    }\n",
              "\n",
              "    .dataframe thead th {\n",
              "        text-align: right;\n",
              "    }\n",
              "</style>\n",
              "<table border=\"1\" class=\"dataframe\">\n",
              "  <thead>\n",
              "    <tr style=\"text-align: right;\">\n",
              "      <th></th>\n",
              "      <th>low</th>\n",
              "      <th>high</th>\n",
              "      <th>open</th>\n",
              "      <th>volume</th>\n",
              "    </tr>\n",
              "    <tr>\n",
              "      <th>time</th>\n",
              "      <th></th>\n",
              "      <th></th>\n",
              "      <th></th>\n",
              "      <th></th>\n",
              "    </tr>\n",
              "  </thead>\n",
              "  <tbody>\n",
              "    <tr>\n",
              "      <th>2017-01-02</th>\n",
              "      <td>990.52</td>\n",
              "      <td>1034.39</td>\n",
              "      <td>992.96</td>\n",
              "      <td>7723.635752</td>\n",
              "    </tr>\n",
              "    <tr>\n",
              "      <th>2017-01-03</th>\n",
              "      <td>1006.71</td>\n",
              "      <td>1036.99</td>\n",
              "      <td>1011.52</td>\n",
              "      <td>8615.260058</td>\n",
              "    </tr>\n",
              "    <tr>\n",
              "      <th>2017-01-04</th>\n",
              "      <td>1018.00</td>\n",
              "      <td>1147.00</td>\n",
              "      <td>1020.69</td>\n",
              "      <td>16222.230267</td>\n",
              "    </tr>\n",
              "    <tr>\n",
              "      <th>2017-01-05</th>\n",
              "      <td>880.00</td>\n",
              "      <td>1175.00</td>\n",
              "      <td>1131.10</td>\n",
              "      <td>20446.405615</td>\n",
              "    </tr>\n",
              "    <tr>\n",
              "      <th>2017-01-06</th>\n",
              "      <td>875.01</td>\n",
              "      <td>1033.85</td>\n",
              "      <td>1007.00</td>\n",
              "      <td>14274.259206</td>\n",
              "    </tr>\n",
              "  </tbody>\n",
              "</table>\n",
              "</div>\n",
              "      <button class=\"colab-df-convert\" onclick=\"convertToInteractive('df-b604784e-2f77-4035-a585-7b5d95c382dd')\"\n",
              "              title=\"Convert this dataframe to an interactive table.\"\n",
              "              style=\"display:none;\">\n",
              "        \n",
              "  <svg xmlns=\"http://www.w3.org/2000/svg\" height=\"24px\"viewBox=\"0 0 24 24\"\n",
              "       width=\"24px\">\n",
              "    <path d=\"M0 0h24v24H0V0z\" fill=\"none\"/>\n",
              "    <path d=\"M18.56 5.44l.94 2.06.94-2.06 2.06-.94-2.06-.94-.94-2.06-.94 2.06-2.06.94zm-11 1L8.5 8.5l.94-2.06 2.06-.94-2.06-.94L8.5 2.5l-.94 2.06-2.06.94zm10 10l.94 2.06.94-2.06 2.06-.94-2.06-.94-.94-2.06-.94 2.06-2.06.94z\"/><path d=\"M17.41 7.96l-1.37-1.37c-.4-.4-.92-.59-1.43-.59-.52 0-1.04.2-1.43.59L10.3 9.45l-7.72 7.72c-.78.78-.78 2.05 0 2.83L4 21.41c.39.39.9.59 1.41.59.51 0 1.02-.2 1.41-.59l7.78-7.78 2.81-2.81c.8-.78.8-2.07 0-2.86zM5.41 20L4 18.59l7.72-7.72 1.47 1.35L5.41 20z\"/>\n",
              "  </svg>\n",
              "      </button>\n",
              "      \n",
              "  <style>\n",
              "    .colab-df-container {\n",
              "      display:flex;\n",
              "      flex-wrap:wrap;\n",
              "      gap: 12px;\n",
              "    }\n",
              "\n",
              "    .colab-df-convert {\n",
              "      background-color: #E8F0FE;\n",
              "      border: none;\n",
              "      border-radius: 50%;\n",
              "      cursor: pointer;\n",
              "      display: none;\n",
              "      fill: #1967D2;\n",
              "      height: 32px;\n",
              "      padding: 0 0 0 0;\n",
              "      width: 32px;\n",
              "    }\n",
              "\n",
              "    .colab-df-convert:hover {\n",
              "      background-color: #E2EBFA;\n",
              "      box-shadow: 0px 1px 2px rgba(60, 64, 67, 0.3), 0px 1px 3px 1px rgba(60, 64, 67, 0.15);\n",
              "      fill: #174EA6;\n",
              "    }\n",
              "\n",
              "    [theme=dark] .colab-df-convert {\n",
              "      background-color: #3B4455;\n",
              "      fill: #D2E3FC;\n",
              "    }\n",
              "\n",
              "    [theme=dark] .colab-df-convert:hover {\n",
              "      background-color: #434B5C;\n",
              "      box-shadow: 0px 1px 3px 1px rgba(0, 0, 0, 0.15);\n",
              "      filter: drop-shadow(0px 1px 2px rgba(0, 0, 0, 0.3));\n",
              "      fill: #FFFFFF;\n",
              "    }\n",
              "  </style>\n",
              "\n",
              "      <script>\n",
              "        const buttonEl =\n",
              "          document.querySelector('#df-b604784e-2f77-4035-a585-7b5d95c382dd button.colab-df-convert');\n",
              "        buttonEl.style.display =\n",
              "          google.colab.kernel.accessAllowed ? 'block' : 'none';\n",
              "\n",
              "        async function convertToInteractive(key) {\n",
              "          const element = document.querySelector('#df-b604784e-2f77-4035-a585-7b5d95c382dd');\n",
              "          const dataTable =\n",
              "            await google.colab.kernel.invokeFunction('convertToInteractive',\n",
              "                                                     [key], {});\n",
              "          if (!dataTable) return;\n",
              "\n",
              "          const docLinkHtml = 'Like what you see? Visit the ' +\n",
              "            '<a target=\"_blank\" href=https://colab.research.google.com/notebooks/data_table.ipynb>data table notebook</a>'\n",
              "            + ' to learn more about interactive tables.';\n",
              "          element.innerHTML = '';\n",
              "          dataTable['output_type'] = 'display_data';\n",
              "          await google.colab.output.renderOutput(dataTable, element);\n",
              "          const docLink = document.createElement('div');\n",
              "          docLink.innerHTML = docLinkHtml;\n",
              "          element.appendChild(docLink);\n",
              "        }\n",
              "      </script>\n",
              "    </div>\n",
              "  </div>\n",
              "  "
            ]
          },
          "metadata": {},
          "execution_count": 18
        }
      ]
    },
    {
      "cell_type": "code",
      "source": [
        "#Plot train and test data\n",
        "plt.figure(figsize = (12, 6))\n",
        "plt.rcParams['figure.dpi'] = 360\n",
        "plt.plot(train_dataset.TOMORROW_CLOSE)\n",
        "plt.plot(test_dataset.TOMORROW_CLOSE)\n",
        "plt.xlabel('Date')\n",
        "plt.ylabel('Close value (US$)')\n",
        "plt.legend(['Train set', 'Test set'], loc='upper left')\n",
        "print('Dimension of train data: ',train_dataset.shape)\n",
        "print('Dimension of test data: ', test_dataset.shape)\n"
      ],
      "metadata": {
        "colab": {
          "base_uri": "https://localhost:8080/",
          "height": 425
        },
        "id": "hF4OcMzB3D1I",
        "outputId": "bc8bbf6d-c8c0-425d-f5f1-4dc3d64b67a3"
      },
      "execution_count": 19,
      "outputs": [
        {
          "output_type": "stream",
          "name": "stdout",
          "text": [
            "Dimension of train data:  (1314, 5)\n",
            "Dimension of test data:  (146, 5)\n"
          ]
        },
        {
          "output_type": "display_data",
          "data": {
            "text/plain": [
              "<Figure size 864x432 with 1 Axes>"
            ],
            "image/png": "[encoded data removed]"
          },
          "metadata": {
            "needs_background": "light"
          }
        }
      ]
    },
    {
      "cell_type": "code",
      "source": [
        "# Different scaler for input and output ----> Normalizate the data\n",
        "scaler_x = MinMaxScaler(feature_range = (-1,1))\n",
        "scaler_y = MinMaxScaler(feature_range = (-1,1))\n",
        "\n",
        "# Fit the scaler using available training data\n",
        "input_scaler = scaler_x.fit(X_train)\n",
        "output_scaler = scaler_y.fit(y_train)\n",
        "\n",
        "# Apply the scaler to training data\n",
        "train_y_norm = output_scaler.transform(y_train)\n",
        "train_x_norm = input_scaler.transform(X_train)\n",
        "\n",
        "# Apply the scaler to test data\n",
        "test_y_norm = output_scaler.transform(y_test)\n",
        "test_x_norm = input_scaler.transform(X_test)"
      ],
      "metadata": {
        "id": "XhyiYytM3S-w"
      },
      "execution_count": 20,
      "outputs": []
    },
    {
      "cell_type": "code",
      "source": [
        "# Create 3 dimensional data set \n",
        "def threeD_dataset (X, y, time_steps = 1):\n",
        "    Xs, ys = [], []\n",
        "    \n",
        "    for i in range(len(X)-time_steps):\n",
        "        v = X[i:i+time_steps, :]\n",
        "        Xs.append(v)\n",
        "        ys.append(y[i+time_steps])\n",
        "        \n",
        "    return np.array(Xs), np.array(ys)\n",
        "\n",
        "\n",
        "TIME_STEPS = 10 # which means the model will make predictions of ‘TOMORROW_CLOSE’ based on the input from the 10 previous days or future days bi-lstm or bi-gru\n",
        "\n",
        "X_test, y_test = threeD_dataset(test_x_norm, test_y_norm, TIME_STEPS)\n",
        "X_train, y_train = threeD_dataset(train_x_norm, train_y_norm, TIME_STEPS)\n",
        "print('X_train.shape: ', X_train.shape)\n",
        "print('y_train.shape: ', y_train.shape)\n",
        "print('X_test.shape: ', X_test.shape) \n",
        "print('y_test.shape: ', y_test.shape)"
      ],
      "metadata": {
        "colab": {
          "base_uri": "https://localhost:8080/"
        },
        "id": "_yxSLwrm3efn",
        "outputId": "264d20ae-51c5-4bca-b857-6552587e933b"
      },
      "execution_count": 21,
      "outputs": [
        {
          "output_type": "stream",
          "name": "stdout",
          "text": [
            "X_train.shape:  (1304, 10, 4)\n",
            "y_train.shape:  (1304, 1)\n",
            "X_test.shape:  (136, 10, 4)\n",
            "y_test.shape:  (136, 1)\n"
          ]
        }
      ]
    },
    {
      "cell_type": "code",
      "source": [
        "# Create LSTM \n",
        "def create_model(m):\n",
        "    model = Sequential()\n",
        "    # First layer of LSTM\n",
        "    model.add(m (units = 32, activation = 'relu', return_sequences = False, input_shape = [X_train.shape[1], X_train.shape[2]])) # use 64 hidden units\n",
        "    model.add(Dropout(0.2)) # dropout for regulaization, with probability of 20% \n",
        "    model.add(Dense(units = 1)) \n",
        "    model.add(BatchNormalization())\n",
        "    #Compile model\n",
        "    model.compile(loss = 'mse', optimizer=tf.keras.optimizers.Adam(learning_rate = 0.001 ) ) # use loss as MSE and Adam optimizer\n",
        "    return model"
      ],
      "metadata": {
        "id": "NOhFjCaC3wM4"
      },
      "execution_count": 22,
      "outputs": []
    },
    {
      "cell_type": "code",
      "source": [
        "model_lstm = create_model(LSTM)\n"
      ],
      "metadata": {
        "id": "x-1Fc8hc4Nw4",
        "colab": {
          "base_uri": "https://localhost:8080/"
        },
        "outputId": "c7f9b4d8-4e0e-43b3-9852-ecf766677ae3"
      },
      "execution_count": 23,
      "outputs": [
        {
          "output_type": "stream",
          "name": "stdout",
          "text": [
            "WARNING:tensorflow:Layer lstm will not use cuDNN kernels since it doesn't meet the criteria. It will use a generic GPU kernel as fallback when running on GPU.\n"
          ]
        }
      ]
    },
    {
      "cell_type": "code",
      "source": [
        "# Let's check the summary of our baby model\n",
        "model_lstm.summary()"
      ],
      "metadata": {
        "colab": {
          "base_uri": "https://localhost:8080/"
        },
        "id": "QvyWxytS4Pg3",
        "outputId": "b21ff41d-a721-4139-e7bb-3c888a3844ce"
      },
      "execution_count": 24,
      "outputs": [
        {
          "output_type": "stream",
          "name": "stdout",
          "text": [
            "Model: \"sequential\"\n",
            "_________________________________________________________________\n",
            " Layer (type)                Output Shape              Param #   \n",
            "=================================================================\n",
            " lstm (LSTM)                 (None, 32)                4736      \n",
            "                                                                 \n",
            " dropout (Dropout)           (None, 32)                0         \n",
            "                                                                 \n",
            " dense (Dense)               (None, 1)                 33        \n",
            "                                                                 \n",
            " batch_normalization (BatchN  (None, 1)                4         \n",
            " ormalization)                                                   \n",
            "                                                                 \n",
            "=================================================================\n",
            "Total params: 4,773\n",
            "Trainable params: 4,771\n",
            "Non-trainable params: 2\n",
            "_________________________________________________________________\n"
          ]
        }
      ]
    },
    {
      "cell_type": "code",
      "source": [
        "# Fit the model !\n",
        "early_stop = keras.callbacks.EarlyStopping(monitor = 'val_loss',patience = 15) # use early stop technique to stop the training process if the val loss didn't improve for 10 epochs\n",
        "\n",
        "# decaying lr on every 2nd epoch by 1%\n",
        "def scheduler(epoch, lr):\n",
        "    rate =  1 - 0.01 \n",
        "    if epoch%2 == 0:\n",
        "        return lr*rate\n",
        "    return lr\n",
        "\n",
        "LRscheduler = LearningRateScheduler(scheduler)\n",
        "callbacks_list = [early_stop, LRscheduler]\n",
        "history_lstm = model_lstm.fit(X_train, y_train, epochs = 120, validation_split = 0.2,batch_size = 32, shuffle = False,callbacks=callbacks_list) # no shuffer , as its time series data"
      ],
      "metadata": {
        "colab": {
          "base_uri": "https://localhost:8080/"
        },
        "id": "HsWs4MNL4RuI",
        "outputId": "3a2bdf72-650c-4cca-e24c-d295eecc9381"
      },
      "execution_count": 25,
      "outputs": [
        {
          "output_type": "stream",
          "name": "stdout",
          "text": [
            "Epoch 1/120\n",
            "33/33 [==============================] - 6s 104ms/step - loss: 1.0821 - val_loss: 0.0305 - lr: 9.9000e-04\n",
            "Epoch 2/120\n",
            "33/33 [==============================] - 3s 90ms/step - loss: 0.7339 - val_loss: 0.0398 - lr: 9.9000e-04\n",
            "Epoch 3/120\n",
            "33/33 [==============================] - 3s 78ms/step - loss: 0.4430 - val_loss: 0.0413 - lr: 9.8010e-04\n",
            "Epoch 4/120\n",
            "33/33 [==============================] - 3s 79ms/step - loss: 0.3091 - val_loss: 0.0342 - lr: 9.8010e-04\n",
            "Epoch 5/120\n",
            "33/33 [==============================] - 2s 73ms/step - loss: 0.2562 - val_loss: 0.0299 - lr: 9.7030e-04\n",
            "Epoch 6/120\n",
            "33/33 [==============================] - 3s 80ms/step - loss: 0.2407 - val_loss: 0.0228 - lr: 9.7030e-04\n",
            "Epoch 7/120\n",
            "33/33 [==============================] - 3s 80ms/step - loss: 0.2262 - val_loss: 0.0206 - lr: 9.6060e-04\n",
            "Epoch 8/120\n",
            "33/33 [==============================] - 3s 88ms/step - loss: 0.2140 - val_loss: 0.0190 - lr: 9.6060e-04\n",
            "Epoch 9/120\n",
            "33/33 [==============================] - 3s 81ms/step - loss: 0.2039 - val_loss: 0.0190 - lr: 9.5099e-04\n",
            "Epoch 10/120\n",
            "33/33 [==============================] - 3s 83ms/step - loss: 0.1965 - val_loss: 0.0190 - lr: 9.5099e-04\n",
            "Epoch 11/120\n",
            "33/33 [==============================] - 3s 81ms/step - loss: 0.1899 - val_loss: 0.0177 - lr: 9.4148e-04\n",
            "Epoch 12/120\n",
            "33/33 [==============================] - 3s 79ms/step - loss: 0.1832 - val_loss: 0.0180 - lr: 9.4148e-04\n",
            "Epoch 13/120\n",
            "33/33 [==============================] - 3s 79ms/step - loss: 0.1776 - val_loss: 0.0188 - lr: 9.3207e-04\n",
            "Epoch 14/120\n",
            "33/33 [==============================] - 2s 61ms/step - loss: 0.1735 - val_loss: 0.0264 - lr: 9.3207e-04\n",
            "Epoch 15/120\n",
            "33/33 [==============================] - 1s 41ms/step - loss: 0.1691 - val_loss: 0.0323 - lr: 9.2274e-04\n",
            "Epoch 16/120\n",
            "33/33 [==============================] - 1s 40ms/step - loss: 0.1659 - val_loss: 0.0363 - lr: 9.2274e-04\n",
            "Epoch 17/120\n",
            "33/33 [==============================] - 1s 42ms/step - loss: 0.1630 - val_loss: 0.0208 - lr: 9.1352e-04\n",
            "Epoch 18/120\n",
            "33/33 [==============================] - 1s 41ms/step - loss: 0.1595 - val_loss: 0.0154 - lr: 9.1352e-04\n",
            "Epoch 19/120\n",
            "33/33 [==============================] - 1s 40ms/step - loss: 0.1571 - val_loss: 0.0165 - lr: 9.0438e-04\n",
            "Epoch 20/120\n",
            "33/33 [==============================] - 1s 40ms/step - loss: 0.1552 - val_loss: 0.0135 - lr: 9.0438e-04\n",
            "Epoch 21/120\n",
            "33/33 [==============================] - 1s 40ms/step - loss: 0.1535 - val_loss: 0.0147 - lr: 8.9534e-04\n",
            "Epoch 22/120\n",
            "33/33 [==============================] - 1s 41ms/step - loss: 0.1517 - val_loss: 0.0124 - lr: 8.9534e-04\n",
            "Epoch 23/120\n",
            "33/33 [==============================] - 1s 40ms/step - loss: 0.1508 - val_loss: 0.0160 - lr: 8.8638e-04\n",
            "Epoch 24/120\n",
            "33/33 [==============================] - 1s 40ms/step - loss: 0.1486 - val_loss: 0.0367 - lr: 8.8638e-04\n",
            "Epoch 25/120\n",
            "33/33 [==============================] - 1s 39ms/step - loss: 0.1476 - val_loss: 0.0441 - lr: 8.7752e-04\n",
            "Epoch 26/120\n",
            "33/33 [==============================] - 1s 40ms/step - loss: 0.1474 - val_loss: 0.0144 - lr: 8.7752e-04\n",
            "Epoch 27/120\n",
            "33/33 [==============================] - 1s 40ms/step - loss: 0.1464 - val_loss: 0.0159 - lr: 8.6875e-04\n",
            "Epoch 28/120\n",
            "33/33 [==============================] - 1s 41ms/step - loss: 0.1453 - val_loss: 0.0315 - lr: 8.6875e-04\n",
            "Epoch 29/120\n",
            "33/33 [==============================] - 1s 41ms/step - loss: 0.1448 - val_loss: 0.0459 - lr: 8.6006e-04\n",
            "Epoch 30/120\n",
            "33/33 [==============================] - 1s 41ms/step - loss: 0.1435 - val_loss: 0.0266 - lr: 8.6006e-04\n",
            "Epoch 31/120\n",
            "33/33 [==============================] - 1s 42ms/step - loss: 0.1442 - val_loss: 0.0172 - lr: 8.5146e-04\n",
            "Epoch 32/120\n",
            "33/33 [==============================] - 1s 41ms/step - loss: 0.1427 - val_loss: 0.0129 - lr: 8.5146e-04\n",
            "Epoch 33/120\n",
            "33/33 [==============================] - 1s 39ms/step - loss: 0.1425 - val_loss: 0.0125 - lr: 8.4294e-04\n",
            "Epoch 34/120\n",
            "33/33 [==============================] - 1s 40ms/step - loss: 0.1426 - val_loss: 0.0108 - lr: 8.4294e-04\n",
            "Epoch 35/120\n",
            "33/33 [==============================] - 1s 41ms/step - loss: 0.1423 - val_loss: 0.0103 - lr: 8.3451e-04\n",
            "Epoch 36/120\n",
            "33/33 [==============================] - 1s 42ms/step - loss: 0.1420 - val_loss: 0.0235 - lr: 8.3451e-04\n",
            "Epoch 37/120\n",
            "33/33 [==============================] - 1s 40ms/step - loss: 0.1418 - val_loss: 0.0214 - lr: 8.2617e-04\n",
            "Epoch 38/120\n",
            "33/33 [==============================] - 1s 41ms/step - loss: 0.1415 - val_loss: 0.0363 - lr: 8.2617e-04\n",
            "Epoch 39/120\n",
            "33/33 [==============================] - 1s 43ms/step - loss: 0.1414 - val_loss: 0.0334 - lr: 8.1791e-04\n",
            "Epoch 40/120\n",
            "33/33 [==============================] - 1s 41ms/step - loss: 0.1410 - val_loss: 0.1170 - lr: 8.1791e-04\n",
            "Epoch 41/120\n",
            "33/33 [==============================] - 1s 39ms/step - loss: 0.1412 - val_loss: 0.0669 - lr: 8.0973e-04\n",
            "Epoch 42/120\n",
            "33/33 [==============================] - 1s 41ms/step - loss: 0.1416 - val_loss: 0.0576 - lr: 8.0973e-04\n",
            "Epoch 43/120\n",
            "33/33 [==============================] - 1s 40ms/step - loss: 0.1403 - val_loss: 0.0813 - lr: 8.0163e-04\n",
            "Epoch 44/120\n",
            "33/33 [==============================] - 1s 42ms/step - loss: 0.1408 - val_loss: 0.1386 - lr: 8.0163e-04\n",
            "Epoch 45/120\n",
            "33/33 [==============================] - 1s 40ms/step - loss: 0.1400 - val_loss: 0.1248 - lr: 7.9361e-04\n",
            "Epoch 46/120\n",
            "33/33 [==============================] - 1s 41ms/step - loss: 0.1409 - val_loss: 0.0858 - lr: 7.9361e-04\n",
            "Epoch 47/120\n",
            "33/33 [==============================] - 1s 41ms/step - loss: 0.1402 - val_loss: 0.0472 - lr: 7.8568e-04\n",
            "Epoch 48/120\n",
            "33/33 [==============================] - 1s 40ms/step - loss: 0.1406 - val_loss: 0.0343 - lr: 7.8568e-04\n",
            "Epoch 49/120\n",
            "33/33 [==============================] - 1s 41ms/step - loss: 0.1408 - val_loss: 0.0088 - lr: 7.7782e-04\n",
            "Epoch 50/120\n",
            "33/33 [==============================] - 1s 41ms/step - loss: 0.1400 - val_loss: 0.0165 - lr: 7.7782e-04\n",
            "Epoch 51/120\n",
            "33/33 [==============================] - 1s 38ms/step - loss: 0.1404 - val_loss: 0.0132 - lr: 7.7004e-04\n",
            "Epoch 52/120\n",
            "33/33 [==============================] - 1s 39ms/step - loss: 0.1404 - val_loss: 0.0087 - lr: 7.7004e-04\n",
            "Epoch 53/120\n",
            "33/33 [==============================] - 1s 39ms/step - loss: 0.1394 - val_loss: 0.0082 - lr: 7.6234e-04\n",
            "Epoch 54/120\n",
            "33/33 [==============================] - 1s 41ms/step - loss: 0.1401 - val_loss: 0.0103 - lr: 7.6234e-04\n",
            "Epoch 55/120\n",
            "33/33 [==============================] - 1s 41ms/step - loss: 0.1400 - val_loss: 0.0091 - lr: 7.5472e-04\n",
            "Epoch 56/120\n",
            "33/33 [==============================] - 1s 41ms/step - loss: 0.1403 - val_loss: 0.0428 - lr: 7.5472e-04\n",
            "Epoch 57/120\n",
            "33/33 [==============================] - 1s 40ms/step - loss: 0.1396 - val_loss: 0.0840 - lr: 7.4717e-04\n",
            "Epoch 58/120\n",
            "33/33 [==============================] - 1s 41ms/step - loss: 0.1401 - val_loss: 0.0982 - lr: 7.4717e-04\n",
            "Epoch 59/120\n",
            "33/33 [==============================] - 1s 41ms/step - loss: 0.1398 - val_loss: 0.0610 - lr: 7.3970e-04\n",
            "Epoch 60/120\n",
            "33/33 [==============================] - 1s 42ms/step - loss: 0.1402 - val_loss: 0.0998 - lr: 7.3970e-04\n",
            "Epoch 61/120\n",
            "33/33 [==============================] - 1s 40ms/step - loss: 0.1394 - val_loss: 0.1475 - lr: 7.3230e-04\n",
            "Epoch 62/120\n",
            "33/33 [==============================] - 1s 41ms/step - loss: 0.1396 - val_loss: 0.1593 - lr: 7.3230e-04\n",
            "Epoch 63/120\n",
            "33/33 [==============================] - 1s 39ms/step - loss: 0.1393 - val_loss: 0.1202 - lr: 7.2498e-04\n",
            "Epoch 64/120\n",
            "33/33 [==============================] - 1s 39ms/step - loss: 0.1394 - val_loss: 0.1022 - lr: 7.2498e-04\n",
            "Epoch 65/120\n",
            "33/33 [==============================] - 1s 40ms/step - loss: 0.1393 - val_loss: 0.0736 - lr: 7.1773e-04\n",
            "Epoch 66/120\n",
            "33/33 [==============================] - 1s 39ms/step - loss: 0.1393 - val_loss: 0.0428 - lr: 7.1773e-04\n",
            "Epoch 67/120\n",
            "33/33 [==============================] - 1s 40ms/step - loss: 0.1393 - val_loss: 0.0202 - lr: 7.1055e-04\n",
            "Epoch 68/120\n",
            "33/33 [==============================] - 1s 38ms/step - loss: 0.1399 - val_loss: 0.0277 - lr: 7.1055e-04\n"
          ]
        }
      ]
    },
    {
      "cell_type": "code",
      "source": [
        "#Plot train and validation loss\n",
        "def plot_loss (history, model_name):\n",
        "    plt.figure(figsize = (10, 6))\n",
        "    plt.rcParams['figure.dpi'] = 360\n",
        "    plt.plot(history.history['loss'])\n",
        "    plt.plot(history.history['val_loss'])\n",
        "    plt.title('Model Train vs Validation Loss for ' + model_name)\n",
        "    plt.ylabel('Loss')\n",
        "    plt.xlabel('epoch')\n",
        "    plt.legend(['Train loss', 'Validation loss'], loc='upper right')\n",
        "    \n",
        "plot_loss (history_lstm, 'LSTM')"
      ],
      "metadata": {
        "id": "zkd3oqts4anP",
        "colab": {
          "base_uri": "https://localhost:8080/",
          "height": 1000
        },
        "outputId": "ad6db461-4932-4fdd-e8a3-5023d65e1de4"
      },
      "execution_count": 26,
      "outputs": [
        {
          "output_type": "display_data",
          "data": {
            "text/plain": [
              "<Figure size 3600x2160 with 1 Axes>"
            ],
            "image/png": "[encoded data removed]"
          },
          "metadata": {
            "needs_background": "light"
          }
        }
      ]
    },
    {
      "cell_type": "markdown",
      "source": [
        "**Afte 30 epochs, the validation errors starts to rise, which is a sign of over fitting, therefore, one has to stop the training process at 30 epochs.**"
      ],
      "metadata": {
        "id": "8c3y71jpqXIf"
      }
    },
    {
      "cell_type": "code",
      "source": [
        "y_test = scaler_y.inverse_transform(y_test)\n",
        "y_train = scaler_y.inverse_transform(y_train)"
      ],
      "metadata": {
        "id": "6y6yIrED4_B_"
      },
      "execution_count": 27,
      "outputs": []
    },
    {
      "cell_type": "code",
      "source": [
        "def prediction(model):\n",
        "    prediction = model.predict(X_test)\n",
        "    prediction = scaler_y.inverse_transform(prediction)\n",
        "    return prediction"
      ],
      "metadata": {
        "id": "afyw6NSrNjKz"
      },
      "execution_count": 28,
      "outputs": []
    },
    {
      "cell_type": "code",
      "source": [
        "prediction_LSTM = prediction(model_lstm)"
      ],
      "metadata": {
        "id": "gAEBUr__NlXa"
      },
      "execution_count": 29,
      "outputs": []
    },
    {
      "cell_type": "code",
      "source": [
        "## Define a function to calculate MAE and RMSE\n",
        "def evaluate_prediction(predictions, actual, model_name):\n",
        "    errors = predictions - actual\n",
        "    mse = np.square(errors).mean()\n",
        "    rmse = np.sqrt(mse)\n",
        "    mae = np.abs(errors).mean()\n",
        "\n",
        "    print(model_name + ':')\n",
        "    print('Mean Absolute Error: {:.4f}'.format(mae))\n",
        "    print('Root Mean Square Error: {:.4f}'.format(rmse))\n",
        "    print('')"
      ],
      "metadata": {
        "id": "MvsFAOhlNqow"
      },
      "execution_count": 30,
      "outputs": []
    },
    {
      "cell_type": "code",
      "source": [
        "evaluate_prediction(prediction_LSTM, y_test, 'LSTM')"
      ],
      "metadata": {
        "id": "xlZLERJqNtPQ",
        "colab": {
          "base_uri": "https://localhost:8080/"
        },
        "outputId": "9b10399e-a4b5-416b-d2b5-8cdae33f2422"
      },
      "execution_count": 31,
      "outputs": [
        {
          "output_type": "stream",
          "name": "stdout",
          "text": [
            "LSTM:\n",
            "Mean Absolute Error: 5863.3564\n",
            "Root Mean Square Error: 7138.1261\n",
            "\n"
          ]
        }
      ]
    },
    {
      "cell_type": "code",
      "source": [
        ""
      ],
      "metadata": {
        "id": "jo6r9Pr7NxVu"
      },
      "execution_count": 31,
      "outputs": []
    }
  ]
}