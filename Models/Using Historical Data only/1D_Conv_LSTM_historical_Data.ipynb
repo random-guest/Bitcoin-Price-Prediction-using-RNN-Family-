{
  "cells": [
    {
      "cell_type": "markdown",
      "metadata": {
        "id": "n5-_wnY7RPiS"
      },
      "source": [
        "\n",
        "**This model will utilize the LSTM netwrok only to predicts next day closing price of the bitcoin.**\n",
        "\n",
        "\n"
      ]
    },
    {
      "cell_type": "markdown",
      "metadata": {
        "id": "5uuCidcxRhSE"
      },
      "source": [
        "The next piece of code will **import the neccassary libraries** that will be used throughout the code."
      ]
    },
    {
      "cell_type": "code",
      "execution_count": 1,
      "metadata": {
        "id": "ZIqnE-1t3LpQ"
      },
      "outputs": [],
      "source": [
        "import pandas as pd\n",
        "import numpy as np\n",
        "import matplotlib.pyplot as plt\n",
        "import seaborn as sns\n",
        "from matplotlib.dates import DateFormatter\n",
        "sns.set_style(\"white\")\n",
        "import scipy \n",
        "import tensorflow as tf\n",
        "from tensorflow import keras\n",
        "from sklearn.preprocessing import MinMaxScaler\n",
        "from sklearn.model_selection import train_test_split\n",
        "from IPython.core.pylabtools import figsize\n",
        "from pandas.plotting import register_matplotlib_converters\n",
        "register_matplotlib_converters()\n",
        "from keras.layers import *\n",
        "from keras.models import *\n",
        "from tensorflow.keras.layers import Dense, LSTM, Dropout, GRU, Bidirectional, Conv2D,Conv1D, BatchNormalization\n",
        "\n",
        "from keras import backend as K\n",
        "\n",
        "# Set random seed for reproducibility\n",
        "tf.random.set_seed(42)"
      ]
    },
    {
      "cell_type": "markdown",
      "metadata": {
        "id": "7hkvn5AySPKC"
      },
      "source": [
        "Now that we have the imported the required libraries, we need to get the data.\n",
        "We will do so by first **installing the historic crypto data api**, that will allow us to get the data of any crypto (mainly the famous ones), on any range we wish, for example, we can get the bitcoin data from a chosen date to a chosen date, per 60 seconds up to per 24 hrs."
      ]
    },
    {
      "cell_type": "code",
      "execution_count": 2,
      "metadata": {
        "colab": {
          "base_uri": "https://localhost:8080/"
        },
        "id": "DlKkrRPxurWw",
        "outputId": "4f263b72-0c4e-4dc1-c4fa-4a3cfc301e0a"
      },
      "outputs": [
        {
          "output_type": "stream",
          "name": "stdout",
          "text": [
            "Looking in indexes: https://pypi.org/simple, https://us-python.pkg.dev/colab-wheels/public/simple/\n",
            "Requirement already satisfied: Historic-Crypto in /usr/local/lib/python3.7/dist-packages (0.1.6)\n",
            "Requirement already satisfied: requests in /usr/local/lib/python3.7/dist-packages (from Historic-Crypto) (2.23.0)\n",
            "Requirement already satisfied: numpy in /usr/local/lib/python3.7/dist-packages (from Historic-Crypto) (1.21.6)\n",
            "Requirement already satisfied: certifi>=2017.4.17 in /usr/local/lib/python3.7/dist-packages (from requests->Historic-Crypto) (2022.6.15)\n",
            "Requirement already satisfied: idna<3,>=2.5 in /usr/local/lib/python3.7/dist-packages (from requests->Historic-Crypto) (2.10)\n",
            "Requirement already satisfied: urllib3!=1.25.0,!=1.25.1,<1.26,>=1.21.1 in /usr/local/lib/python3.7/dist-packages (from requests->Historic-Crypto) (1.24.3)\n",
            "Requirement already satisfied: chardet<4,>=3.0.2 in /usr/local/lib/python3.7/dist-packages (from requests->Historic-Crypto) (3.0.4)\n"
          ]
        }
      ],
      "source": [
        "!pip install Historic-Crypto"
      ]
    },
    {
      "cell_type": "code",
      "execution_count": 3,
      "metadata": {
        "id": "duP3WefmvoJd"
      },
      "outputs": [],
      "source": [
        "import warnings\n",
        "warnings.filterwarnings(\"ignore\")\n",
        "\n",
        "# From the histroic cyrpto import the historical data\n",
        "from Historic_Crypto import HistoricalData"
      ]
    },
    {
      "cell_type": "markdown",
      "metadata": {
        "id": "qmoVmkKnS3z3"
      },
      "source": [
        "Next step would be to **get the data** . The chosen data will be reterived chunk wise. Here, we will specify the name of the cryptocurrency we are interested in, for instance in our case 'BTC-USD' is the bitcoin one, then we should specify number of seconds that will seperate the data. For example, 86400 is the number of seconds in 1 day. So, we will reterive the data on a daily bases. Next, we will specify the starting date in the form of year-month-day-hour-minute and finally the ending date, in the same format.\n",
        "\n",
        "**In our case, we will reterive data between 01/01/2021 and 31/05/2022 on daily bases.**\n"
      ]
    },
    {
      "cell_type": "code",
      "execution_count": 4,
      "metadata": {
        "colab": {
          "base_uri": "https://localhost:8080/"
        },
        "id": "mXFZVRlFvxAq",
        "outputId": "ae5ba09c-2f4e-4e44-a01c-08ec8c952325"
      },
      "outputs": [
        {
          "output_type": "stream",
          "name": "stdout",
          "text": [
            "Checking input parameters are in the correct format.\n",
            "Formatting Dates.\n",
            "Checking if user supplied is available on the CoinBase Pro API.\n",
            "Connected to the CoinBase Pro API.\n",
            "Ticker 'BTC-USD' found at the CoinBase Pro API, continuing to extraction.\n",
            "Provisional Start: 2021-01-01T00:00:00\n",
            "Provisional End: 2021-10-28T00:00:00\n",
            "Data for chunk 1 of 2 extracted\n",
            "Provisional Start: 2021-10-28T00:00:00\n",
            "Provisional End: 2022-08-24T00:00:00\n",
            "Data for chunk 2 of 2 extracted\n"
          ]
        }
      ],
      "source": [
        "btc_historicals = HistoricalData('BTC-USD',86400,'2021-01-01-00-00', '2022-07-01-00-00').retrieve_data() # cyrpto name, number of seconds, start date, end date\n"
      ]
    },
    {
      "cell_type": "markdown",
      "metadata": {
        "id": "eNLnmGK6Uktm"
      },
      "source": [
        "In the next few lines, we will try to have **a closer look at the data** and check whether it needs any cleaning or not."
      ]
    },
    {
      "cell_type": "code",
      "execution_count": 5,
      "metadata": {
        "colab": {
          "base_uri": "https://localhost:8080/"
        },
        "id": "bB36viuAwnr4",
        "outputId": "b7cb29f9-2663-46cf-aa26-93b0ef8b0e0e"
      },
      "outputs": [
        {
          "output_type": "execute_result",
          "data": {
            "text/plain": [
              "(546, 5)"
            ]
          },
          "metadata": {},
          "execution_count": 5
        }
      ],
      "source": [
        "# check the shape of the data\n",
        "btc_historicals.shape"
      ]
    },
    {
      "cell_type": "code",
      "execution_count": 6,
      "metadata": {
        "colab": {
          "base_uri": "https://localhost:8080/",
          "height": 238
        },
        "id": "-QepeTnmyIfF",
        "outputId": "c25532c3-1e46-4448-a05e-473f5ba3891f"
      },
      "outputs": [
        {
          "output_type": "execute_result",
          "data": {
            "text/plain": [
              "                 low      high      open     close        volume\n",
              "time                                                            \n",
              "2022-06-27  20500.00  21520.00  21024.85  20725.17  17440.942683\n",
              "2022-06-28  20164.70  21189.99  20722.95  20252.89  17658.660417\n",
              "2022-06-29  19823.43  20410.91  20253.50  20094.79  18278.451859\n",
              "2022-06-30  18603.00  20143.53  20098.00  19985.62  28361.458762\n",
              "2022-07-01  18938.33  20879.99  19985.62  19252.76  32977.000523"
            ],
            "text/html": [
              "\n",
              "  <div id=\"df-20d19573-5338-4e10-901f-3c18aa9eaa76\">\n",
              "    <div class=\"colab-df-container\">\n",
              "      <div>\n",
              "<style scoped>\n",
              "    .dataframe tbody tr th:only-of-type {\n",
              "        vertical-align: middle;\n",
              "    }\n",
              "\n",
              "    .dataframe tbody tr th {\n",
              "        vertical-align: top;\n",
              "    }\n",
              "\n",
              "    .dataframe thead th {\n",
              "        text-align: right;\n",
              "    }\n",
              "</style>\n",
              "<table border=\"1\" class=\"dataframe\">\n",
              "  <thead>\n",
              "    <tr style=\"text-align: right;\">\n",
              "      <th></th>\n",
              "      <th>low</th>\n",
              "      <th>high</th>\n",
              "      <th>open</th>\n",
              "      <th>close</th>\n",
              "      <th>volume</th>\n",
              "    </tr>\n",
              "    <tr>\n",
              "      <th>time</th>\n",
              "      <th></th>\n",
              "      <th></th>\n",
              "      <th></th>\n",
              "      <th></th>\n",
              "      <th></th>\n",
              "    </tr>\n",
              "  </thead>\n",
              "  <tbody>\n",
              "    <tr>\n",
              "      <th>2022-06-27</th>\n",
              "      <td>20500.00</td>\n",
              "      <td>21520.00</td>\n",
              "      <td>21024.85</td>\n",
              "      <td>20725.17</td>\n",
              "      <td>17440.942683</td>\n",
              "    </tr>\n",
              "    <tr>\n",
              "      <th>2022-06-28</th>\n",
              "      <td>20164.70</td>\n",
              "      <td>21189.99</td>\n",
              "      <td>20722.95</td>\n",
              "      <td>20252.89</td>\n",
              "      <td>17658.660417</td>\n",
              "    </tr>\n",
              "    <tr>\n",
              "      <th>2022-06-29</th>\n",
              "      <td>19823.43</td>\n",
              "      <td>20410.91</td>\n",
              "      <td>20253.50</td>\n",
              "      <td>20094.79</td>\n",
              "      <td>18278.451859</td>\n",
              "    </tr>\n",
              "    <tr>\n",
              "      <th>2022-06-30</th>\n",
              "      <td>18603.00</td>\n",
              "      <td>20143.53</td>\n",
              "      <td>20098.00</td>\n",
              "      <td>19985.62</td>\n",
              "      <td>28361.458762</td>\n",
              "    </tr>\n",
              "    <tr>\n",
              "      <th>2022-07-01</th>\n",
              "      <td>18938.33</td>\n",
              "      <td>20879.99</td>\n",
              "      <td>19985.62</td>\n",
              "      <td>19252.76</td>\n",
              "      <td>32977.000523</td>\n",
              "    </tr>\n",
              "  </tbody>\n",
              "</table>\n",
              "</div>\n",
              "      <button class=\"colab-df-convert\" onclick=\"convertToInteractive('df-20d19573-5338-4e10-901f-3c18aa9eaa76')\"\n",
              "              title=\"Convert this dataframe to an interactive table.\"\n",
              "              style=\"display:none;\">\n",
              "        \n",
              "  <svg xmlns=\"http://www.w3.org/2000/svg\" height=\"24px\"viewBox=\"0 0 24 24\"\n",
              "       width=\"24px\">\n",
              "    <path d=\"M0 0h24v24H0V0z\" fill=\"none\"/>\n",
              "    <path d=\"M18.56 5.44l.94 2.06.94-2.06 2.06-.94-2.06-.94-.94-2.06-.94 2.06-2.06.94zm-11 1L8.5 8.5l.94-2.06 2.06-.94-2.06-.94L8.5 2.5l-.94 2.06-2.06.94zm10 10l.94 2.06.94-2.06 2.06-.94-2.06-.94-.94-2.06-.94 2.06-2.06.94z\"/><path d=\"M17.41 7.96l-1.37-1.37c-.4-.4-.92-.59-1.43-.59-.52 0-1.04.2-1.43.59L10.3 9.45l-7.72 7.72c-.78.78-.78 2.05 0 2.83L4 21.41c.39.39.9.59 1.41.59.51 0 1.02-.2 1.41-.59l7.78-7.78 2.81-2.81c.8-.78.8-2.07 0-2.86zM5.41 20L4 18.59l7.72-7.72 1.47 1.35L5.41 20z\"/>\n",
              "  </svg>\n",
              "      </button>\n",
              "      \n",
              "  <style>\n",
              "    .colab-df-container {\n",
              "      display:flex;\n",
              "      flex-wrap:wrap;\n",
              "      gap: 12px;\n",
              "    }\n",
              "\n",
              "    .colab-df-convert {\n",
              "      background-color: #E8F0FE;\n",
              "      border: none;\n",
              "      border-radius: 50%;\n",
              "      cursor: pointer;\n",
              "      display: none;\n",
              "      fill: #1967D2;\n",
              "      height: 32px;\n",
              "      padding: 0 0 0 0;\n",
              "      width: 32px;\n",
              "    }\n",
              "\n",
              "    .colab-df-convert:hover {\n",
              "      background-color: #E2EBFA;\n",
              "      box-shadow: 0px 1px 2px rgba(60, 64, 67, 0.3), 0px 1px 3px 1px rgba(60, 64, 67, 0.15);\n",
              "      fill: #174EA6;\n",
              "    }\n",
              "\n",
              "    [theme=dark] .colab-df-convert {\n",
              "      background-color: #3B4455;\n",
              "      fill: #D2E3FC;\n",
              "    }\n",
              "\n",
              "    [theme=dark] .colab-df-convert:hover {\n",
              "      background-color: #434B5C;\n",
              "      box-shadow: 0px 1px 3px 1px rgba(0, 0, 0, 0.15);\n",
              "      filter: drop-shadow(0px 1px 2px rgba(0, 0, 0, 0.3));\n",
              "      fill: #FFFFFF;\n",
              "    }\n",
              "  </style>\n",
              "\n",
              "      <script>\n",
              "        const buttonEl =\n",
              "          document.querySelector('#df-20d19573-5338-4e10-901f-3c18aa9eaa76 button.colab-df-convert');\n",
              "        buttonEl.style.display =\n",
              "          google.colab.kernel.accessAllowed ? 'block' : 'none';\n",
              "\n",
              "        async function convertToInteractive(key) {\n",
              "          const element = document.querySelector('#df-20d19573-5338-4e10-901f-3c18aa9eaa76');\n",
              "          const dataTable =\n",
              "            await google.colab.kernel.invokeFunction('convertToInteractive',\n",
              "                                                     [key], {});\n",
              "          if (!dataTable) return;\n",
              "\n",
              "          const docLinkHtml = 'Like what you see? Visit the ' +\n",
              "            '<a target=\"_blank\" href=https://colab.research.google.com/notebooks/data_table.ipynb>data table notebook</a>'\n",
              "            + ' to learn more about interactive tables.';\n",
              "          element.innerHTML = '';\n",
              "          dataTable['output_type'] = 'display_data';\n",
              "          await google.colab.output.renderOutput(dataTable, element);\n",
              "          const docLink = document.createElement('div');\n",
              "          docLink.innerHTML = docLinkHtml;\n",
              "          element.appendChild(docLink);\n",
              "        }\n",
              "      </script>\n",
              "    </div>\n",
              "  </div>\n",
              "  "
            ]
          },
          "metadata": {},
          "execution_count": 6
        }
      ],
      "source": [
        "# few the last 5 rows of the data\n",
        "btc_historicals.tail()"
      ]
    },
    {
      "cell_type": "markdown",
      "metadata": {
        "id": "1milUq6xVYmE"
      },
      "source": [
        "As we can observe, the data is in the form of low high open close volume, that means, on te given date, the lowest price was low, the higest price was high, the openning price was open, the closing price was close, and the volume of data that was exchanges was volume."
      ]
    },
    {
      "cell_type": "code",
      "execution_count": 7,
      "metadata": {
        "colab": {
          "base_uri": "https://localhost:8080/"
        },
        "id": "wEBYs9iyygbR",
        "outputId": "c8a8ba4b-1640-44ae-e4dd-41406a0806a9"
      },
      "outputs": [
        {
          "output_type": "execute_result",
          "data": {
            "text/plain": [
              "low       float64\n",
              "high      float64\n",
              "open      float64\n",
              "close     float64\n",
              "volume    float64\n",
              "dtype: object"
            ]
          },
          "metadata": {},
          "execution_count": 7
        }
      ],
      "source": [
        "# Check out variables\n",
        "btc_historicals.dtypes"
      ]
    },
    {
      "cell_type": "code",
      "execution_count": 8,
      "metadata": {
        "id": "8AvL9iDB0Ajo"
      },
      "outputs": [],
      "source": [
        "# assign a dummy variable to hold the data, so that incase we need to do any\n",
        "# modifications, we wouldn't lose the orginal data.\n",
        "tst = btc_historicals"
      ]
    },
    {
      "cell_type": "code",
      "execution_count": 9,
      "metadata": {
        "colab": {
          "base_uri": "https://localhost:8080/"
        },
        "id": "8CWBQogH8Dvl",
        "outputId": "c0d7d22f-367c-4efa-a755-676d1e99f183"
      },
      "outputs": [
        {
          "output_type": "stream",
          "name": "stdout",
          "text": [
            "Null Values: 0\n",
            "If any NA values: False\n"
          ]
        }
      ],
      "source": [
        "# The data is clean already, but let us try to check for any null or NA vales.\n",
        "print('Null Values:',tst.isnull().values.sum())\n",
        "print('If any NA values:', tst.isnull().values.any())"
      ]
    },
    {
      "cell_type": "markdown",
      "metadata": {
        "id": "5toxwwEtVxCk"
      },
      "source": [
        "Next, we will need to do some modifications to the data we have. The first one will be to create a new variable called, Tomorrrow_Close which shifts the close price by 1 row and thus the last row will be deleted. This is done to add a new important feature so that our model will learn from. "
      ]
    },
    {
      "cell_type": "code",
      "execution_count": 10,
      "metadata": {
        "id": "dhxMK0DoyiIJ"
      },
      "outputs": [],
      "source": [
        "# Create variable '‘TOMORROW_CLOSE’' which shifts 'Close' up by 1\n",
        "tst['TOMORROW_CLOSE'] = tst['close'].shift(-1,fill_value=0)"
      ]
    },
    {
      "cell_type": "code",
      "execution_count": 11,
      "metadata": {
        "id": "tIyv8Sikzy_R"
      },
      "outputs": [],
      "source": [
        "# drop last row because we shifted value (remember this when you add your forecasting data)\n",
        "tst.drop(tst.tail(1).index,inplace=True) "
      ]
    },
    {
      "cell_type": "code",
      "execution_count": 12,
      "metadata": {
        "id": "Vb8CFnmzy1vh"
      },
      "outputs": [],
      "source": [
        "# Drop close column, since we created new ‘TOMORROW_CLOSE’\n",
        "tst = tst.drop(columns=['close'])"
      ]
    },
    {
      "cell_type": "code",
      "execution_count": 13,
      "metadata": {
        "colab": {
          "base_uri": "https://localhost:8080/",
          "height": 238
        },
        "id": "Ee1SrZN3y9zR",
        "outputId": "4687bb46-d11b-4584-bef5-88e9cb810814"
      },
      "outputs": [
        {
          "output_type": "execute_result",
          "data": {
            "text/plain": [
              "                 low      high      open        volume  TOMORROW_CLOSE\n",
              "time                                                                  \n",
              "2021-01-02  29039.00  33300.00  29413.29  46675.246521        33080.66\n",
              "2021-01-03  32008.62  34810.00  32222.88  36951.716506        32019.99\n",
              "2021-01-04  27678.00  33666.99  33082.84  46045.389685        34030.64\n",
              "2021-01-05  29891.13  34499.67  32020.22  42282.569200        36859.26\n",
              "2021-01-06  33352.54  37000.00  34043.91  45744.103200        39505.56"
            ],
            "text/html": [
              "\n",
              "  <div id=\"df-08611209-fea3-4175-94e8-290a908c3370\">\n",
              "    <div class=\"colab-df-container\">\n",
              "      <div>\n",
              "<style scoped>\n",
              "    .dataframe tbody tr th:only-of-type {\n",
              "        vertical-align: middle;\n",
              "    }\n",
              "\n",
              "    .dataframe tbody tr th {\n",
              "        vertical-align: top;\n",
              "    }\n",
              "\n",
              "    .dataframe thead th {\n",
              "        text-align: right;\n",
              "    }\n",
              "</style>\n",
              "<table border=\"1\" class=\"dataframe\">\n",
              "  <thead>\n",
              "    <tr style=\"text-align: right;\">\n",
              "      <th></th>\n",
              "      <th>low</th>\n",
              "      <th>high</th>\n",
              "      <th>open</th>\n",
              "      <th>volume</th>\n",
              "      <th>TOMORROW_CLOSE</th>\n",
              "    </tr>\n",
              "    <tr>\n",
              "      <th>time</th>\n",
              "      <th></th>\n",
              "      <th></th>\n",
              "      <th></th>\n",
              "      <th></th>\n",
              "      <th></th>\n",
              "    </tr>\n",
              "  </thead>\n",
              "  <tbody>\n",
              "    <tr>\n",
              "      <th>2021-01-02</th>\n",
              "      <td>29039.00</td>\n",
              "      <td>33300.00</td>\n",
              "      <td>29413.29</td>\n",
              "      <td>46675.246521</td>\n",
              "      <td>33080.66</td>\n",
              "    </tr>\n",
              "    <tr>\n",
              "      <th>2021-01-03</th>\n",
              "      <td>32008.62</td>\n",
              "      <td>34810.00</td>\n",
              "      <td>32222.88</td>\n",
              "      <td>36951.716506</td>\n",
              "      <td>32019.99</td>\n",
              "    </tr>\n",
              "    <tr>\n",
              "      <th>2021-01-04</th>\n",
              "      <td>27678.00</td>\n",
              "      <td>33666.99</td>\n",
              "      <td>33082.84</td>\n",
              "      <td>46045.389685</td>\n",
              "      <td>34030.64</td>\n",
              "    </tr>\n",
              "    <tr>\n",
              "      <th>2021-01-05</th>\n",
              "      <td>29891.13</td>\n",
              "      <td>34499.67</td>\n",
              "      <td>32020.22</td>\n",
              "      <td>42282.569200</td>\n",
              "      <td>36859.26</td>\n",
              "    </tr>\n",
              "    <tr>\n",
              "      <th>2021-01-06</th>\n",
              "      <td>33352.54</td>\n",
              "      <td>37000.00</td>\n",
              "      <td>34043.91</td>\n",
              "      <td>45744.103200</td>\n",
              "      <td>39505.56</td>\n",
              "    </tr>\n",
              "  </tbody>\n",
              "</table>\n",
              "</div>\n",
              "      <button class=\"colab-df-convert\" onclick=\"convertToInteractive('df-08611209-fea3-4175-94e8-290a908c3370')\"\n",
              "              title=\"Convert this dataframe to an interactive table.\"\n",
              "              style=\"display:none;\">\n",
              "        \n",
              "  <svg xmlns=\"http://www.w3.org/2000/svg\" height=\"24px\"viewBox=\"0 0 24 24\"\n",
              "       width=\"24px\">\n",
              "    <path d=\"M0 0h24v24H0V0z\" fill=\"none\"/>\n",
              "    <path d=\"M18.56 5.44l.94 2.06.94-2.06 2.06-.94-2.06-.94-.94-2.06-.94 2.06-2.06.94zm-11 1L8.5 8.5l.94-2.06 2.06-.94-2.06-.94L8.5 2.5l-.94 2.06-2.06.94zm10 10l.94 2.06.94-2.06 2.06-.94-2.06-.94-.94-2.06-.94 2.06-2.06.94z\"/><path d=\"M17.41 7.96l-1.37-1.37c-.4-.4-.92-.59-1.43-.59-.52 0-1.04.2-1.43.59L10.3 9.45l-7.72 7.72c-.78.78-.78 2.05 0 2.83L4 21.41c.39.39.9.59 1.41.59.51 0 1.02-.2 1.41-.59l7.78-7.78 2.81-2.81c.8-.78.8-2.07 0-2.86zM5.41 20L4 18.59l7.72-7.72 1.47 1.35L5.41 20z\"/>\n",
              "  </svg>\n",
              "      </button>\n",
              "      \n",
              "  <style>\n",
              "    .colab-df-container {\n",
              "      display:flex;\n",
              "      flex-wrap:wrap;\n",
              "      gap: 12px;\n",
              "    }\n",
              "\n",
              "    .colab-df-convert {\n",
              "      background-color: #E8F0FE;\n",
              "      border: none;\n",
              "      border-radius: 50%;\n",
              "      cursor: pointer;\n",
              "      display: none;\n",
              "      fill: #1967D2;\n",
              "      height: 32px;\n",
              "      padding: 0 0 0 0;\n",
              "      width: 32px;\n",
              "    }\n",
              "\n",
              "    .colab-df-convert:hover {\n",
              "      background-color: #E2EBFA;\n",
              "      box-shadow: 0px 1px 2px rgba(60, 64, 67, 0.3), 0px 1px 3px 1px rgba(60, 64, 67, 0.15);\n",
              "      fill: #174EA6;\n",
              "    }\n",
              "\n",
              "    [theme=dark] .colab-df-convert {\n",
              "      background-color: #3B4455;\n",
              "      fill: #D2E3FC;\n",
              "    }\n",
              "\n",
              "    [theme=dark] .colab-df-convert:hover {\n",
              "      background-color: #434B5C;\n",
              "      box-shadow: 0px 1px 3px 1px rgba(0, 0, 0, 0.15);\n",
              "      filter: drop-shadow(0px 1px 2px rgba(0, 0, 0, 0.3));\n",
              "      fill: #FFFFFF;\n",
              "    }\n",
              "  </style>\n",
              "\n",
              "      <script>\n",
              "        const buttonEl =\n",
              "          document.querySelector('#df-08611209-fea3-4175-94e8-290a908c3370 button.colab-df-convert');\n",
              "        buttonEl.style.display =\n",
              "          google.colab.kernel.accessAllowed ? 'block' : 'none';\n",
              "\n",
              "        async function convertToInteractive(key) {\n",
              "          const element = document.querySelector('#df-08611209-fea3-4175-94e8-290a908c3370');\n",
              "          const dataTable =\n",
              "            await google.colab.kernel.invokeFunction('convertToInteractive',\n",
              "                                                     [key], {});\n",
              "          if (!dataTable) return;\n",
              "\n",
              "          const docLinkHtml = 'Like what you see? Visit the ' +\n",
              "            '<a target=\"_blank\" href=https://colab.research.google.com/notebooks/data_table.ipynb>data table notebook</a>'\n",
              "            + ' to learn more about interactive tables.';\n",
              "          element.innerHTML = '';\n",
              "          dataTable['output_type'] = 'display_data';\n",
              "          await google.colab.output.renderOutput(dataTable, element);\n",
              "          const docLink = document.createElement('div');\n",
              "          docLink.innerHTML = docLinkHtml;\n",
              "          element.appendChild(docLink);\n",
              "        }\n",
              "      </script>\n",
              "    </div>\n",
              "  </div>\n",
              "  "
            ]
          },
          "metadata": {},
          "execution_count": 13
        }
      ],
      "source": [
        "\n",
        "tst.head()"
      ]
    },
    {
      "cell_type": "code",
      "execution_count": 14,
      "metadata": {
        "colab": {
          "base_uri": "https://localhost:8080/"
        },
        "id": "bmfjRuDozBTh",
        "outputId": "3b725c2b-18e7-42a3-bd41-0a42ade71053"
      },
      "outputs": [
        {
          "output_type": "execute_result",
          "data": {
            "text/plain": [
              "(545, 5)"
            ]
          },
          "metadata": {},
          "execution_count": 14
        }
      ],
      "source": [
        "# check the shape of data to know how many sample we have\n",
        "tst.shape"
      ]
    },
    {
      "cell_type": "code",
      "source": [
        "'''\n",
        "import numpy as np\n",
        "import pandas as pd\n",
        "import matplotlib.pyplot as plt\n",
        "import seaborn as sns\n",
        "import datetime \n",
        "from datetime import date\n",
        "import math\n",
        "import pandas_datareader as web\n",
        "'''"
      ],
      "metadata": {
        "colab": {
          "base_uri": "https://localhost:8080/",
          "height": 35
        },
        "id": "P8atecVtvkSK",
        "outputId": "4fea3e87-39ee-441f-f08b-d1dd396072b7"
      },
      "execution_count": 15,
      "outputs": [
        {
          "output_type": "execute_result",
          "data": {
            "text/plain": [
              "'\\nimport numpy as np\\nimport pandas as pd\\nimport matplotlib.pyplot as plt\\nimport seaborn as sns\\nimport datetime \\nfrom datetime import date\\nimport math\\nimport pandas_datareader as web\\n'"
            ],
            "application/vnd.google.colaboratory.intrinsic+json": {
              "type": "string"
            }
          },
          "metadata": {},
          "execution_count": 15
        }
      ]
    },
    {
      "cell_type": "markdown",
      "source": [
        "***Technical Indicators***"
      ],
      "metadata": {
        "id": "Teyqc22CkuZx"
      }
    },
    {
      "cell_type": "code",
      "source": [
        "'''\n",
        "def get_technical_indicators(dataset):\n",
        "    # Create 7 and 21 days Moving Average\n",
        "    dataset['ma7'] = dataset['TOMORROW_CLOSE'].rolling(window=7).mean()\n",
        "    dataset['ma21'] = dataset['TOMORROW_CLOSE'].rolling(window=21).mean()\n",
        "    \n",
        "    # Create MACD\n",
        "    dataset['26ema'] = dataset['TOMORROW_CLOSE'].ewm(span=26).mean()\n",
        "    dataset['12ema'] = dataset['TOMORROW_CLOSE'].ewm(span=12).mean()\n",
        "    dataset['MACD'] = dataset['12ema']-dataset['26ema']\n",
        "\n",
        "    # Create Bollinger Bands\n",
        "    dataset['20sd'] = dataset['TOMORROW_CLOSE'].rolling(window = 21).std()\n",
        "    dataset['upper_band'] = dataset['ma21'] + (dataset['20sd']*2)\n",
        "    dataset['lower_band'] = dataset['ma21'] - (dataset['20sd']*2)\n",
        "    \n",
        "    # Create Exponential moving average\n",
        "    dataset['ema'] = dataset['TOMORROW_CLOSE'].ewm(com=0.5).mean()\n",
        "    \n",
        "    # Create Momentum\n",
        "    dataset['momentum'] = dataset['TOMORROW_CLOSE']-1\n",
        "    dataset['log_momentum'] = np.log(dataset['momentum'])\n",
        "    return dataset\n",
        "    '''"
      ],
      "metadata": {
        "colab": {
          "base_uri": "https://localhost:8080/",
          "height": 87
        },
        "id": "ZLEgu4S3kxH2",
        "outputId": "18ce65c1-03bc-4d5d-c4be-216001a9c412"
      },
      "execution_count": 16,
      "outputs": [
        {
          "output_type": "execute_result",
          "data": {
            "text/plain": [
              "\"\\ndef get_technical_indicators(dataset):\\n    # Create 7 and 21 days Moving Average\\n    dataset['ma7'] = dataset['TOMORROW_CLOSE'].rolling(window=7).mean()\\n    dataset['ma21'] = dataset['TOMORROW_CLOSE'].rolling(window=21).mean()\\n    \\n    # Create MACD\\n    dataset['26ema'] = dataset['TOMORROW_CLOSE'].ewm(span=26).mean()\\n    dataset['12ema'] = dataset['TOMORROW_CLOSE'].ewm(span=12).mean()\\n    dataset['MACD'] = dataset['12ema']-dataset['26ema']\\n\\n    # Create Bollinger Bands\\n    dataset['20sd'] = dataset['TOMORROW_CLOSE'].rolling(window = 21).std()\\n    dataset['upper_band'] = dataset['ma21'] + (dataset['20sd']*2)\\n    dataset['lower_band'] = dataset['ma21'] - (dataset['20sd']*2)\\n    \\n    # Create Exponential moving average\\n    dataset['ema'] = dataset['TOMORROW_CLOSE'].ewm(com=0.5).mean()\\n    \\n    # Create Momentum\\n    dataset['momentum'] = dataset['TOMORROW_CLOSE']-1\\n    dataset['log_momentum'] = np.log(dataset['momentum'])\\n    return dataset\\n    \""
            ],
            "application/vnd.google.colaboratory.intrinsic+json": {
              "type": "string"
            }
          },
          "metadata": {},
          "execution_count": 16
        }
      ]
    },
    {
      "cell_type": "code",
      "source": [
        "#df = get_technical_indicators(tst)"
      ],
      "metadata": {
        "id": "ezv-WDyHk76e"
      },
      "execution_count": 17,
      "outputs": []
    },
    {
      "cell_type": "code",
      "source": [
        "#df = df.dropna()\n",
        "#df.head()"
      ],
      "metadata": {
        "id": "OGhvZOa1lGK4"
      },
      "execution_count": 18,
      "outputs": []
    },
    {
      "cell_type": "code",
      "source": [
        "#df.shape"
      ],
      "metadata": {
        "id": "1N_XuSxClc_Q"
      },
      "execution_count": 19,
      "outputs": []
    },
    {
      "cell_type": "code",
      "source": [
        "# Double check for NANS !\n",
        "# The data is clean already, but let us try to check for any null or NA vales.\n",
        "#print('Null Values:',tst.isnull().values.sum())\n",
        "#print('If any NA values:', tst.isnull().values.any())"
      ],
      "metadata": {
        "id": "z-xXwsbNldFE"
      },
      "execution_count": 20,
      "outputs": []
    },
    {
      "cell_type": "code",
      "execution_count": 21,
      "metadata": {
        "id": "vaD-dLKTzJbx"
      },
      "outputs": [],
      "source": [
        "# Split the data intro train data (90%) and test data (10%)\n",
        "\n",
        "train_size = int(len(tst)*0.90)\n",
        "train_dataset, test_dataset = tst.iloc[:train_size],tst.iloc[train_size:]\n"
      ]
    },
    {
      "cell_type": "code",
      "source": [
        "print('Null Values:',train_dataset.isnull().values.sum())\n",
        "train_dataset = train_dataset.dropna()\n",
        "print('Null Values:',train_dataset.isnull().values.sum())"
      ],
      "metadata": {
        "colab": {
          "base_uri": "https://localhost:8080/"
        },
        "id": "kUpuc7voDUCC",
        "outputId": "eeaa5a6f-c870-4efb-c504-bb093479c07a"
      },
      "execution_count": 22,
      "outputs": [
        {
          "output_type": "stream",
          "name": "stdout",
          "text": [
            "Null Values: 0\n",
            "Null Values: 0\n"
          ]
        }
      ]
    },
    {
      "cell_type": "code",
      "source": [
        ""
      ],
      "metadata": {
        "id": "hCrSCc9hDUI5"
      },
      "execution_count": 22,
      "outputs": []
    },
    {
      "cell_type": "code",
      "execution_count": 23,
      "metadata": {
        "id": "yIvQhz7xpYkg",
        "colab": {
          "base_uri": "https://localhost:8080/",
          "height": 238
        },
        "outputId": "dc47b9d7-8896-4d81-ed10-8f864b077c9b"
      },
      "outputs": [
        {
          "output_type": "execute_result",
          "data": {
            "text/plain": [
              "                 low      high      open        volume  TOMORROW_CLOSE\n",
              "time                                                                  \n",
              "2021-01-02  29039.00  33300.00  29413.29  46675.246521        33080.66\n",
              "2021-01-03  32008.62  34810.00  32222.88  36951.716506        32019.99\n",
              "2021-01-04  27678.00  33666.99  33082.84  46045.389685        34030.64\n",
              "2021-01-05  29891.13  34499.67  32020.22  42282.569200        36859.26\n",
              "2021-01-06  33352.54  37000.00  34043.91  45744.103200        39505.56"
            ],
            "text/html": [
              "\n",
              "  <div id=\"df-dd331be4-2959-47f0-a0b6-7f498ab781d9\">\n",
              "    <div class=\"colab-df-container\">\n",
              "      <div>\n",
              "<style scoped>\n",
              "    .dataframe tbody tr th:only-of-type {\n",
              "        vertical-align: middle;\n",
              "    }\n",
              "\n",
              "    .dataframe tbody tr th {\n",
              "        vertical-align: top;\n",
              "    }\n",
              "\n",
              "    .dataframe thead th {\n",
              "        text-align: right;\n",
              "    }\n",
              "</style>\n",
              "<table border=\"1\" class=\"dataframe\">\n",
              "  <thead>\n",
              "    <tr style=\"text-align: right;\">\n",
              "      <th></th>\n",
              "      <th>low</th>\n",
              "      <th>high</th>\n",
              "      <th>open</th>\n",
              "      <th>volume</th>\n",
              "      <th>TOMORROW_CLOSE</th>\n",
              "    </tr>\n",
              "    <tr>\n",
              "      <th>time</th>\n",
              "      <th></th>\n",
              "      <th></th>\n",
              "      <th></th>\n",
              "      <th></th>\n",
              "      <th></th>\n",
              "    </tr>\n",
              "  </thead>\n",
              "  <tbody>\n",
              "    <tr>\n",
              "      <th>2021-01-02</th>\n",
              "      <td>29039.00</td>\n",
              "      <td>33300.00</td>\n",
              "      <td>29413.29</td>\n",
              "      <td>46675.246521</td>\n",
              "      <td>33080.66</td>\n",
              "    </tr>\n",
              "    <tr>\n",
              "      <th>2021-01-03</th>\n",
              "      <td>32008.62</td>\n",
              "      <td>34810.00</td>\n",
              "      <td>32222.88</td>\n",
              "      <td>36951.716506</td>\n",
              "      <td>32019.99</td>\n",
              "    </tr>\n",
              "    <tr>\n",
              "      <th>2021-01-04</th>\n",
              "      <td>27678.00</td>\n",
              "      <td>33666.99</td>\n",
              "      <td>33082.84</td>\n",
              "      <td>46045.389685</td>\n",
              "      <td>34030.64</td>\n",
              "    </tr>\n",
              "    <tr>\n",
              "      <th>2021-01-05</th>\n",
              "      <td>29891.13</td>\n",
              "      <td>34499.67</td>\n",
              "      <td>32020.22</td>\n",
              "      <td>42282.569200</td>\n",
              "      <td>36859.26</td>\n",
              "    </tr>\n",
              "    <tr>\n",
              "      <th>2021-01-06</th>\n",
              "      <td>33352.54</td>\n",
              "      <td>37000.00</td>\n",
              "      <td>34043.91</td>\n",
              "      <td>45744.103200</td>\n",
              "      <td>39505.56</td>\n",
              "    </tr>\n",
              "  </tbody>\n",
              "</table>\n",
              "</div>\n",
              "      <button class=\"colab-df-convert\" onclick=\"convertToInteractive('df-dd331be4-2959-47f0-a0b6-7f498ab781d9')\"\n",
              "              title=\"Convert this dataframe to an interactive table.\"\n",
              "              style=\"display:none;\">\n",
              "        \n",
              "  <svg xmlns=\"http://www.w3.org/2000/svg\" height=\"24px\"viewBox=\"0 0 24 24\"\n",
              "       width=\"24px\">\n",
              "    <path d=\"M0 0h24v24H0V0z\" fill=\"none\"/>\n",
              "    <path d=\"M18.56 5.44l.94 2.06.94-2.06 2.06-.94-2.06-.94-.94-2.06-.94 2.06-2.06.94zm-11 1L8.5 8.5l.94-2.06 2.06-.94-2.06-.94L8.5 2.5l-.94 2.06-2.06.94zm10 10l.94 2.06.94-2.06 2.06-.94-2.06-.94-.94-2.06-.94 2.06-2.06.94z\"/><path d=\"M17.41 7.96l-1.37-1.37c-.4-.4-.92-.59-1.43-.59-.52 0-1.04.2-1.43.59L10.3 9.45l-7.72 7.72c-.78.78-.78 2.05 0 2.83L4 21.41c.39.39.9.59 1.41.59.51 0 1.02-.2 1.41-.59l7.78-7.78 2.81-2.81c.8-.78.8-2.07 0-2.86zM5.41 20L4 18.59l7.72-7.72 1.47 1.35L5.41 20z\"/>\n",
              "  </svg>\n",
              "      </button>\n",
              "      \n",
              "  <style>\n",
              "    .colab-df-container {\n",
              "      display:flex;\n",
              "      flex-wrap:wrap;\n",
              "      gap: 12px;\n",
              "    }\n",
              "\n",
              "    .colab-df-convert {\n",
              "      background-color: #E8F0FE;\n",
              "      border: none;\n",
              "      border-radius: 50%;\n",
              "      cursor: pointer;\n",
              "      display: none;\n",
              "      fill: #1967D2;\n",
              "      height: 32px;\n",
              "      padding: 0 0 0 0;\n",
              "      width: 32px;\n",
              "    }\n",
              "\n",
              "    .colab-df-convert:hover {\n",
              "      background-color: #E2EBFA;\n",
              "      box-shadow: 0px 1px 2px rgba(60, 64, 67, 0.3), 0px 1px 3px 1px rgba(60, 64, 67, 0.15);\n",
              "      fill: #174EA6;\n",
              "    }\n",
              "\n",
              "    [theme=dark] .colab-df-convert {\n",
              "      background-color: #3B4455;\n",
              "      fill: #D2E3FC;\n",
              "    }\n",
              "\n",
              "    [theme=dark] .colab-df-convert:hover {\n",
              "      background-color: #434B5C;\n",
              "      box-shadow: 0px 1px 3px 1px rgba(0, 0, 0, 0.15);\n",
              "      filter: drop-shadow(0px 1px 2px rgba(0, 0, 0, 0.3));\n",
              "      fill: #FFFFFF;\n",
              "    }\n",
              "  </style>\n",
              "\n",
              "      <script>\n",
              "        const buttonEl =\n",
              "          document.querySelector('#df-dd331be4-2959-47f0-a0b6-7f498ab781d9 button.colab-df-convert');\n",
              "        buttonEl.style.display =\n",
              "          google.colab.kernel.accessAllowed ? 'block' : 'none';\n",
              "\n",
              "        async function convertToInteractive(key) {\n",
              "          const element = document.querySelector('#df-dd331be4-2959-47f0-a0b6-7f498ab781d9');\n",
              "          const dataTable =\n",
              "            await google.colab.kernel.invokeFunction('convertToInteractive',\n",
              "                                                     [key], {});\n",
              "          if (!dataTable) return;\n",
              "\n",
              "          const docLinkHtml = 'Like what you see? Visit the ' +\n",
              "            '<a target=\"_blank\" href=https://colab.research.google.com/notebooks/data_table.ipynb>data table notebook</a>'\n",
              "            + ' to learn more about interactive tables.';\n",
              "          element.innerHTML = '';\n",
              "          dataTable['output_type'] = 'display_data';\n",
              "          await google.colab.output.renderOutput(dataTable, element);\n",
              "          const docLink = document.createElement('div');\n",
              "          docLink.innerHTML = docLinkHtml;\n",
              "          element.appendChild(docLink);\n",
              "        }\n",
              "      </script>\n",
              "    </div>\n",
              "  </div>\n",
              "  "
            ]
          },
          "metadata": {},
          "execution_count": 23
        }
      ],
      "source": [
        "# Double check the split\n",
        "train_dataset.head()"
      ]
    },
    {
      "cell_type": "code",
      "source": [
        "print('Null Values:',train_dataset.isnull().values.sum())"
      ],
      "metadata": {
        "colab": {
          "base_uri": "https://localhost:8080/"
        },
        "id": "nfUkNIVSpw6D",
        "outputId": "b44e2d7d-2743-4386-a664-87f0a26b6f23"
      },
      "execution_count": 24,
      "outputs": [
        {
          "output_type": "stream",
          "name": "stdout",
          "text": [
            "Null Values: 0\n"
          ]
        }
      ]
    },
    {
      "cell_type": "code",
      "execution_count": 25,
      "metadata": {
        "id": "1p1UTPx2XZmv",
        "colab": {
          "base_uri": "https://localhost:8080/",
          "height": 238
        },
        "outputId": "9f4e1749-28ec-4904-fc01-4ae68300d544"
      },
      "outputs": [
        {
          "output_type": "execute_result",
          "data": {
            "text/plain": [
              "                 low      high      open        volume  TOMORROW_CLOSE\n",
              "time                                                                  \n",
              "2022-05-07  34785.00  36125.00  35999.10  11372.453192        34027.91\n",
              "2022-05-08  33701.00  35499.93  35458.00  22357.511521        30078.27\n",
              "2022-05-09  30010.00  34231.54  34033.49  55136.453328        31002.39\n",
              "2022-05-10  29735.05  32645.49  30078.27  55818.019003        28972.34\n",
              "2022-05-11  27682.38  32185.90  31002.39  61128.252963        28941.95"
            ],
            "text/html": [
              "\n",
              "  <div id=\"df-b43b98a2-5fc0-4cca-9100-6cb3c1d40604\">\n",
              "    <div class=\"colab-df-container\">\n",
              "      <div>\n",
              "<style scoped>\n",
              "    .dataframe tbody tr th:only-of-type {\n",
              "        vertical-align: middle;\n",
              "    }\n",
              "\n",
              "    .dataframe tbody tr th {\n",
              "        vertical-align: top;\n",
              "    }\n",
              "\n",
              "    .dataframe thead th {\n",
              "        text-align: right;\n",
              "    }\n",
              "</style>\n",
              "<table border=\"1\" class=\"dataframe\">\n",
              "  <thead>\n",
              "    <tr style=\"text-align: right;\">\n",
              "      <th></th>\n",
              "      <th>low</th>\n",
              "      <th>high</th>\n",
              "      <th>open</th>\n",
              "      <th>volume</th>\n",
              "      <th>TOMORROW_CLOSE</th>\n",
              "    </tr>\n",
              "    <tr>\n",
              "      <th>time</th>\n",
              "      <th></th>\n",
              "      <th></th>\n",
              "      <th></th>\n",
              "      <th></th>\n",
              "      <th></th>\n",
              "    </tr>\n",
              "  </thead>\n",
              "  <tbody>\n",
              "    <tr>\n",
              "      <th>2022-05-07</th>\n",
              "      <td>34785.00</td>\n",
              "      <td>36125.00</td>\n",
              "      <td>35999.10</td>\n",
              "      <td>11372.453192</td>\n",
              "      <td>34027.91</td>\n",
              "    </tr>\n",
              "    <tr>\n",
              "      <th>2022-05-08</th>\n",
              "      <td>33701.00</td>\n",
              "      <td>35499.93</td>\n",
              "      <td>35458.00</td>\n",
              "      <td>22357.511521</td>\n",
              "      <td>30078.27</td>\n",
              "    </tr>\n",
              "    <tr>\n",
              "      <th>2022-05-09</th>\n",
              "      <td>30010.00</td>\n",
              "      <td>34231.54</td>\n",
              "      <td>34033.49</td>\n",
              "      <td>55136.453328</td>\n",
              "      <td>31002.39</td>\n",
              "    </tr>\n",
              "    <tr>\n",
              "      <th>2022-05-10</th>\n",
              "      <td>29735.05</td>\n",
              "      <td>32645.49</td>\n",
              "      <td>30078.27</td>\n",
              "      <td>55818.019003</td>\n",
              "      <td>28972.34</td>\n",
              "    </tr>\n",
              "    <tr>\n",
              "      <th>2022-05-11</th>\n",
              "      <td>27682.38</td>\n",
              "      <td>32185.90</td>\n",
              "      <td>31002.39</td>\n",
              "      <td>61128.252963</td>\n",
              "      <td>28941.95</td>\n",
              "    </tr>\n",
              "  </tbody>\n",
              "</table>\n",
              "</div>\n",
              "      <button class=\"colab-df-convert\" onclick=\"convertToInteractive('df-b43b98a2-5fc0-4cca-9100-6cb3c1d40604')\"\n",
              "              title=\"Convert this dataframe to an interactive table.\"\n",
              "              style=\"display:none;\">\n",
              "        \n",
              "  <svg xmlns=\"http://www.w3.org/2000/svg\" height=\"24px\"viewBox=\"0 0 24 24\"\n",
              "       width=\"24px\">\n",
              "    <path d=\"M0 0h24v24H0V0z\" fill=\"none\"/>\n",
              "    <path d=\"M18.56 5.44l.94 2.06.94-2.06 2.06-.94-2.06-.94-.94-2.06-.94 2.06-2.06.94zm-11 1L8.5 8.5l.94-2.06 2.06-.94-2.06-.94L8.5 2.5l-.94 2.06-2.06.94zm10 10l.94 2.06.94-2.06 2.06-.94-2.06-.94-.94-2.06-.94 2.06-2.06.94z\"/><path d=\"M17.41 7.96l-1.37-1.37c-.4-.4-.92-.59-1.43-.59-.52 0-1.04.2-1.43.59L10.3 9.45l-7.72 7.72c-.78.78-.78 2.05 0 2.83L4 21.41c.39.39.9.59 1.41.59.51 0 1.02-.2 1.41-.59l7.78-7.78 2.81-2.81c.8-.78.8-2.07 0-2.86zM5.41 20L4 18.59l7.72-7.72 1.47 1.35L5.41 20z\"/>\n",
              "  </svg>\n",
              "      </button>\n",
              "      \n",
              "  <style>\n",
              "    .colab-df-container {\n",
              "      display:flex;\n",
              "      flex-wrap:wrap;\n",
              "      gap: 12px;\n",
              "    }\n",
              "\n",
              "    .colab-df-convert {\n",
              "      background-color: #E8F0FE;\n",
              "      border: none;\n",
              "      border-radius: 50%;\n",
              "      cursor: pointer;\n",
              "      display: none;\n",
              "      fill: #1967D2;\n",
              "      height: 32px;\n",
              "      padding: 0 0 0 0;\n",
              "      width: 32px;\n",
              "    }\n",
              "\n",
              "    .colab-df-convert:hover {\n",
              "      background-color: #E2EBFA;\n",
              "      box-shadow: 0px 1px 2px rgba(60, 64, 67, 0.3), 0px 1px 3px 1px rgba(60, 64, 67, 0.15);\n",
              "      fill: #174EA6;\n",
              "    }\n",
              "\n",
              "    [theme=dark] .colab-df-convert {\n",
              "      background-color: #3B4455;\n",
              "      fill: #D2E3FC;\n",
              "    }\n",
              "\n",
              "    [theme=dark] .colab-df-convert:hover {\n",
              "      background-color: #434B5C;\n",
              "      box-shadow: 0px 1px 3px 1px rgba(0, 0, 0, 0.15);\n",
              "      filter: drop-shadow(0px 1px 2px rgba(0, 0, 0, 0.3));\n",
              "      fill: #FFFFFF;\n",
              "    }\n",
              "  </style>\n",
              "\n",
              "      <script>\n",
              "        const buttonEl =\n",
              "          document.querySelector('#df-b43b98a2-5fc0-4cca-9100-6cb3c1d40604 button.colab-df-convert');\n",
              "        buttonEl.style.display =\n",
              "          google.colab.kernel.accessAllowed ? 'block' : 'none';\n",
              "\n",
              "        async function convertToInteractive(key) {\n",
              "          const element = document.querySelector('#df-b43b98a2-5fc0-4cca-9100-6cb3c1d40604');\n",
              "          const dataTable =\n",
              "            await google.colab.kernel.invokeFunction('convertToInteractive',\n",
              "                                                     [key], {});\n",
              "          if (!dataTable) return;\n",
              "\n",
              "          const docLinkHtml = 'Like what you see? Visit the ' +\n",
              "            '<a target=\"_blank\" href=https://colab.research.google.com/notebooks/data_table.ipynb>data table notebook</a>'\n",
              "            + ' to learn more about interactive tables.';\n",
              "          element.innerHTML = '';\n",
              "          dataTable['output_type'] = 'display_data';\n",
              "          await google.colab.output.renderOutput(dataTable, element);\n",
              "          const docLink = document.createElement('div');\n",
              "          docLink.innerHTML = docLinkHtml;\n",
              "          element.appendChild(docLink);\n",
              "        }\n",
              "      </script>\n",
              "    </div>\n",
              "  </div>\n",
              "  "
            ]
          },
          "metadata": {},
          "execution_count": 25
        }
      ],
      "source": [
        "# Double check the split\n",
        "test_dataset.head()"
      ]
    },
    {
      "cell_type": "code",
      "source": [
        "#print('Null Values:',test_dataset.isnull().values.sum())"
      ],
      "metadata": {
        "id": "q8wfnGWnp1I8"
      },
      "execution_count": 26,
      "outputs": []
    },
    {
      "cell_type": "code",
      "execution_count": 27,
      "metadata": {
        "id": "mHMzSSQ_24Uo"
      },
      "outputs": [],
      "source": [
        "# Split train data to X and y\n",
        "X_train = train_dataset.drop('TOMORROW_CLOSE', axis = 1)\n",
        "y_train = train_dataset.loc[:,['TOMORROW_CLOSE']]\n",
        "\n",
        "# Split test data to X and y\n",
        "X_test = test_dataset.drop('TOMORROW_CLOSE', axis = 1)\n",
        "y_test = test_dataset.loc[:,['TOMORROW_CLOSE']]"
      ]
    },
    {
      "cell_type": "code",
      "execution_count": 28,
      "metadata": {
        "id": "fNUixtLJm6mv",
        "colab": {
          "base_uri": "https://localhost:8080/",
          "height": 238
        },
        "outputId": "a51d0c43-1e02-4635-d117-8b3a88da2ce5"
      },
      "outputs": [
        {
          "output_type": "execute_result",
          "data": {
            "text/plain": [
              "                 low      high      open        volume\n",
              "time                                                  \n",
              "2021-01-02  29039.00  33300.00  29413.29  46675.246521\n",
              "2021-01-03  32008.62  34810.00  32222.88  36951.716506\n",
              "2021-01-04  27678.00  33666.99  33082.84  46045.389685\n",
              "2021-01-05  29891.13  34499.67  32020.22  42282.569200\n",
              "2021-01-06  33352.54  37000.00  34043.91  45744.103200"
            ],
            "text/html": [
              "\n",
              "  <div id=\"df-4ec7a0ef-93d3-4c9d-ac96-65367be74a6b\">\n",
              "    <div class=\"colab-df-container\">\n",
              "      <div>\n",
              "<style scoped>\n",
              "    .dataframe tbody tr th:only-of-type {\n",
              "        vertical-align: middle;\n",
              "    }\n",
              "\n",
              "    .dataframe tbody tr th {\n",
              "        vertical-align: top;\n",
              "    }\n",
              "\n",
              "    .dataframe thead th {\n",
              "        text-align: right;\n",
              "    }\n",
              "</style>\n",
              "<table border=\"1\" class=\"dataframe\">\n",
              "  <thead>\n",
              "    <tr style=\"text-align: right;\">\n",
              "      <th></th>\n",
              "      <th>low</th>\n",
              "      <th>high</th>\n",
              "      <th>open</th>\n",
              "      <th>volume</th>\n",
              "    </tr>\n",
              "    <tr>\n",
              "      <th>time</th>\n",
              "      <th></th>\n",
              "      <th></th>\n",
              "      <th></th>\n",
              "      <th></th>\n",
              "    </tr>\n",
              "  </thead>\n",
              "  <tbody>\n",
              "    <tr>\n",
              "      <th>2021-01-02</th>\n",
              "      <td>29039.00</td>\n",
              "      <td>33300.00</td>\n",
              "      <td>29413.29</td>\n",
              "      <td>46675.246521</td>\n",
              "    </tr>\n",
              "    <tr>\n",
              "      <th>2021-01-03</th>\n",
              "      <td>32008.62</td>\n",
              "      <td>34810.00</td>\n",
              "      <td>32222.88</td>\n",
              "      <td>36951.716506</td>\n",
              "    </tr>\n",
              "    <tr>\n",
              "      <th>2021-01-04</th>\n",
              "      <td>27678.00</td>\n",
              "      <td>33666.99</td>\n",
              "      <td>33082.84</td>\n",
              "      <td>46045.389685</td>\n",
              "    </tr>\n",
              "    <tr>\n",
              "      <th>2021-01-05</th>\n",
              "      <td>29891.13</td>\n",
              "      <td>34499.67</td>\n",
              "      <td>32020.22</td>\n",
              "      <td>42282.569200</td>\n",
              "    </tr>\n",
              "    <tr>\n",
              "      <th>2021-01-06</th>\n",
              "      <td>33352.54</td>\n",
              "      <td>37000.00</td>\n",
              "      <td>34043.91</td>\n",
              "      <td>45744.103200</td>\n",
              "    </tr>\n",
              "  </tbody>\n",
              "</table>\n",
              "</div>\n",
              "      <button class=\"colab-df-convert\" onclick=\"convertToInteractive('df-4ec7a0ef-93d3-4c9d-ac96-65367be74a6b')\"\n",
              "              title=\"Convert this dataframe to an interactive table.\"\n",
              "              style=\"display:none;\">\n",
              "        \n",
              "  <svg xmlns=\"http://www.w3.org/2000/svg\" height=\"24px\"viewBox=\"0 0 24 24\"\n",
              "       width=\"24px\">\n",
              "    <path d=\"M0 0h24v24H0V0z\" fill=\"none\"/>\n",
              "    <path d=\"M18.56 5.44l.94 2.06.94-2.06 2.06-.94-2.06-.94-.94-2.06-.94 2.06-2.06.94zm-11 1L8.5 8.5l.94-2.06 2.06-.94-2.06-.94L8.5 2.5l-.94 2.06-2.06.94zm10 10l.94 2.06.94-2.06 2.06-.94-2.06-.94-.94-2.06-.94 2.06-2.06.94z\"/><path d=\"M17.41 7.96l-1.37-1.37c-.4-.4-.92-.59-1.43-.59-.52 0-1.04.2-1.43.59L10.3 9.45l-7.72 7.72c-.78.78-.78 2.05 0 2.83L4 21.41c.39.39.9.59 1.41.59.51 0 1.02-.2 1.41-.59l7.78-7.78 2.81-2.81c.8-.78.8-2.07 0-2.86zM5.41 20L4 18.59l7.72-7.72 1.47 1.35L5.41 20z\"/>\n",
              "  </svg>\n",
              "      </button>\n",
              "      \n",
              "  <style>\n",
              "    .colab-df-container {\n",
              "      display:flex;\n",
              "      flex-wrap:wrap;\n",
              "      gap: 12px;\n",
              "    }\n",
              "\n",
              "    .colab-df-convert {\n",
              "      background-color: #E8F0FE;\n",
              "      border: none;\n",
              "      border-radius: 50%;\n",
              "      cursor: pointer;\n",
              "      display: none;\n",
              "      fill: #1967D2;\n",
              "      height: 32px;\n",
              "      padding: 0 0 0 0;\n",
              "      width: 32px;\n",
              "    }\n",
              "\n",
              "    .colab-df-convert:hover {\n",
              "      background-color: #E2EBFA;\n",
              "      box-shadow: 0px 1px 2px rgba(60, 64, 67, 0.3), 0px 1px 3px 1px rgba(60, 64, 67, 0.15);\n",
              "      fill: #174EA6;\n",
              "    }\n",
              "\n",
              "    [theme=dark] .colab-df-convert {\n",
              "      background-color: #3B4455;\n",
              "      fill: #D2E3FC;\n",
              "    }\n",
              "\n",
              "    [theme=dark] .colab-df-convert:hover {\n",
              "      background-color: #434B5C;\n",
              "      box-shadow: 0px 1px 3px 1px rgba(0, 0, 0, 0.15);\n",
              "      filter: drop-shadow(0px 1px 2px rgba(0, 0, 0, 0.3));\n",
              "      fill: #FFFFFF;\n",
              "    }\n",
              "  </style>\n",
              "\n",
              "      <script>\n",
              "        const buttonEl =\n",
              "          document.querySelector('#df-4ec7a0ef-93d3-4c9d-ac96-65367be74a6b button.colab-df-convert');\n",
              "        buttonEl.style.display =\n",
              "          google.colab.kernel.accessAllowed ? 'block' : 'none';\n",
              "\n",
              "        async function convertToInteractive(key) {\n",
              "          const element = document.querySelector('#df-4ec7a0ef-93d3-4c9d-ac96-65367be74a6b');\n",
              "          const dataTable =\n",
              "            await google.colab.kernel.invokeFunction('convertToInteractive',\n",
              "                                                     [key], {});\n",
              "          if (!dataTable) return;\n",
              "\n",
              "          const docLinkHtml = 'Like what you see? Visit the ' +\n",
              "            '<a target=\"_blank\" href=https://colab.research.google.com/notebooks/data_table.ipynb>data table notebook</a>'\n",
              "            + ' to learn more about interactive tables.';\n",
              "          element.innerHTML = '';\n",
              "          dataTable['output_type'] = 'display_data';\n",
              "          await google.colab.output.renderOutput(dataTable, element);\n",
              "          const docLink = document.createElement('div');\n",
              "          docLink.innerHTML = docLinkHtml;\n",
              "          element.appendChild(docLink);\n",
              "        }\n",
              "      </script>\n",
              "    </div>\n",
              "  </div>\n",
              "  "
            ]
          },
          "metadata": {},
          "execution_count": 28
        }
      ],
      "source": [
        "# Double check the X\n",
        "X_train.head()"
      ]
    },
    {
      "cell_type": "code",
      "source": [
        "# Double check for x_train\n",
        "print('Null Values:',X_train.isnull().values.sum())"
      ],
      "metadata": {
        "colab": {
          "base_uri": "https://localhost:8080/"
        },
        "id": "_wxgdfPrnTpv",
        "outputId": "8873113f-2e18-4619-a77f-c9011ad12ec9"
      },
      "execution_count": 29,
      "outputs": [
        {
          "output_type": "stream",
          "name": "stdout",
          "text": [
            "Null Values: 0\n"
          ]
        }
      ]
    },
    {
      "cell_type": "code",
      "source": [
        "# Double check for x_test\n",
        "\n",
        "print('Null Values:',X_test.isnull().values.sum())"
      ],
      "metadata": {
        "colab": {
          "base_uri": "https://localhost:8080/"
        },
        "id": "pDt1i2a6qKRL",
        "outputId": "e0cee93c-df15-436d-cd87-bd978dd8c820"
      },
      "execution_count": 30,
      "outputs": [
        {
          "output_type": "stream",
          "name": "stdout",
          "text": [
            "Null Values: 0\n"
          ]
        }
      ]
    },
    {
      "cell_type": "code",
      "execution_count": 31,
      "metadata": {
        "id": "hF4OcMzB3D1I",
        "colab": {
          "base_uri": "https://localhost:8080/",
          "height": 52
        },
        "outputId": "55107d6f-784b-447c-8ef0-ad883bf799d8"
      },
      "outputs": [
        {
          "output_type": "execute_result",
          "data": {
            "text/plain": [
              "\"\\n#Plot train and test data\\nfig1 = plt.figure(figsize = (12, 6))\\nplt.rcParams['figure.dpi'] = 360\\nplt.plot(train_dataset.TOMORROW_CLOSE)\\nplt.plot(test_dataset.TOMORROW_CLOSE)\\nplt.xlabel('Date')\\nplt.ylabel('Close value (US$)')\\nplt.legend(['Train set', 'Test set'], loc='upper left')\\nprint('Dimension of train data: ',train_dataset.shape)\\nprint('Dimension of test data: ', test_dataset.shape)\\nfig1.savefig('train_test_split.png')\\n\""
            ],
            "application/vnd.google.colaboratory.intrinsic+json": {
              "type": "string"
            }
          },
          "metadata": {},
          "execution_count": 31
        }
      ],
      "source": [
        "'''\n",
        "#Plot train and test data\n",
        "fig1 = plt.figure(figsize = (12, 6))\n",
        "plt.rcParams['figure.dpi'] = 360\n",
        "plt.plot(train_dataset.TOMORROW_CLOSE)\n",
        "plt.plot(test_dataset.TOMORROW_CLOSE)\n",
        "plt.xlabel('Date')\n",
        "plt.ylabel('Close value (US$)')\n",
        "plt.legend(['Train set', 'Test set'], loc='upper left')\n",
        "print('Dimension of train data: ',train_dataset.shape)\n",
        "print('Dimension of test data: ', test_dataset.shape)\n",
        "fig1.savefig('train_test_split.png')\n",
        "'''"
      ]
    },
    {
      "cell_type": "markdown",
      "metadata": {
        "id": "qPYnp440XprH"
      },
      "source": [
        "As we can observe, we have chosen the starting date to be 01/01/2021 because of the dynamic change in the price has started around this date, and so if the model will be able to predict the daynamic behaviour later, it has to be trained on similiar behaviour data. While, the data before this date is relatively steady, and didn't help the model the learn anything from. Matter fact, it lead to poor results.\n",
        "Below, is a plot of the bitcoin price evolution from 2012."
      ]
    },
    {
      "cell_type": "code",
      "execution_count": 32,
      "metadata": {
        "id": "o7Nr_hz-YwGZ",
        "colab": {
          "base_uri": "https://localhost:8080/",
          "height": 87
        },
        "outputId": "57c9551f-d19d-492d-d394-ddaa03fd2a1e"
      },
      "outputs": [
        {
          "output_type": "execute_result",
          "data": {
            "text/plain": [
              "\"\\nbtc = HistoricalData('BTC-USD',86400,'2012-01-01-00-00', '2022-07-01-00-00').retrieve_data() \\n\\n# Create variable '‘TOMORROW_CLOSE’' which shifts 'Close' up by 1\\nbtc['TOMORROW_CLOSE'] = btc['close'].shift(-1,fill_value=0)\\n\\n# drop last row because we shifted value (remember this when you add your forecasting data)\\nbtc.drop(btc.tail(1).index,inplace=True) \\n\\n# Drop close column, since we created new ‘TOMORROW_CLOSE’\\nbtc = btc.drop(columns=['close'])\\n\\n# Split the data intro train data (90%) and test data (10%)\\n\\ntrain_size_1 = int(len(btc)*0.90)\\ntrain_dataset_1, test_dataset_1 = btc.iloc[:train_size_1],btc.iloc[train_size_1:]\\n\\n# Split train data to X and y\\nX_train_1 = train_dataset_1.drop('TOMORROW_CLOSE', axis = 1)\\ny_train_1 = train_dataset_1.loc[:,['TOMORROW_CLOSE']]\\n\\n# Split test data to X and y\\nX_test_1 = test_dataset_1.drop('TOMORROW_CLOSE', axis = 1)\\ny_test_1 = test_dataset_1.loc[:,['TOMORROW_CLOSE']]\\n#Plot train and test data\\nfig2 = plt.figure(figsize = (12, 6))\\nplt.rcParams['figure.dpi'] = 360\\nplt.plot(train_dataset_1.TOMORROW_CLOSE)\\nplt.plot(test_dataset_1.TOMORROW_CLOSE)\\nplt.xlabel('Date')\\nplt.ylabel('Close value (US$)')\\nplt.legend(['Train set', 'Test set'], loc='upper left')\\nprint('Dimension of train data: ',train_dataset_1.shape)\\nprint('Dimension of test data: ', test_dataset_1.shape)\\nfig2.savefig('entire_train_test_data.png')\\n\""
            ],
            "application/vnd.google.colaboratory.intrinsic+json": {
              "type": "string"
            }
          },
          "metadata": {},
          "execution_count": 32
        }
      ],
      "source": [
        "'''\n",
        "btc = HistoricalData('BTC-USD',86400,'2012-01-01-00-00', '2022-07-01-00-00').retrieve_data() \n",
        "\n",
        "# Create variable '‘TOMORROW_CLOSE’' which shifts 'Close' up by 1\n",
        "btc['TOMORROW_CLOSE'] = btc['close'].shift(-1,fill_value=0)\n",
        "\n",
        "# drop last row because we shifted value (remember this when you add your forecasting data)\n",
        "btc.drop(btc.tail(1).index,inplace=True) \n",
        "\n",
        "# Drop close column, since we created new ‘TOMORROW_CLOSE’\n",
        "btc = btc.drop(columns=['close'])\n",
        "\n",
        "# Split the data intro train data (90%) and test data (10%)\n",
        "\n",
        "train_size_1 = int(len(btc)*0.90)\n",
        "train_dataset_1, test_dataset_1 = btc.iloc[:train_size_1],btc.iloc[train_size_1:]\n",
        "\n",
        "# Split train data to X and y\n",
        "X_train_1 = train_dataset_1.drop('TOMORROW_CLOSE', axis = 1)\n",
        "y_train_1 = train_dataset_1.loc[:,['TOMORROW_CLOSE']]\n",
        "\n",
        "# Split test data to X and y\n",
        "X_test_1 = test_dataset_1.drop('TOMORROW_CLOSE', axis = 1)\n",
        "y_test_1 = test_dataset_1.loc[:,['TOMORROW_CLOSE']]\n",
        "#Plot train and test data\n",
        "fig2 = plt.figure(figsize = (12, 6))\n",
        "plt.rcParams['figure.dpi'] = 360\n",
        "plt.plot(train_dataset_1.TOMORROW_CLOSE)\n",
        "plt.plot(test_dataset_1.TOMORROW_CLOSE)\n",
        "plt.xlabel('Date')\n",
        "plt.ylabel('Close value (US$)')\n",
        "plt.legend(['Train set', 'Test set'], loc='upper left')\n",
        "print('Dimension of train data: ',train_dataset_1.shape)\n",
        "print('Dimension of test data: ', test_dataset_1.shape)\n",
        "fig2.savefig('entire_train_test_data.png')\n",
        "'''"
      ]
    },
    {
      "cell_type": "markdown",
      "metadata": {
        "id": "Mx7j3YvlaJ4n"
      },
      "source": [
        "**Data Normalization**"
      ]
    },
    {
      "cell_type": "code",
      "execution_count": 33,
      "metadata": {
        "id": "XhyiYytM3S-w"
      },
      "outputs": [],
      "source": [
        "# Different scaler for input and output ----> Normalizate the data\n",
        "scaler_x = MinMaxScaler(feature_range = (-1,1))\n",
        "scaler_y = MinMaxScaler(feature_range = (-1,1))\n",
        "\n",
        "# Fit the scaler using available training data\n",
        "input_scaler = scaler_x.fit(X_train)\n",
        "output_scaler = scaler_y.fit(y_train)\n",
        "\n",
        "# Apply the scaler to training data\n",
        "train_y_norm = output_scaler.transform(y_train)\n",
        "train_x_norm = input_scaler.transform(X_train)\n",
        "\n",
        "# Apply the scaler to test data\n",
        "test_y_norm = output_scaler.transform(y_test)\n",
        "test_x_norm = input_scaler.transform(X_test)"
      ]
    },
    {
      "cell_type": "markdown",
      "metadata": {
        "id": "aqwB5fNcaVsX"
      },
      "source": [
        "**Prepare the data to be fed into the model.\n",
        "Create 3 D tensor of data.**"
      ]
    },
    {
      "cell_type": "code",
      "execution_count": 34,
      "metadata": {
        "id": "_yxSLwrm3efn",
        "colab": {
          "base_uri": "https://localhost:8080/"
        },
        "outputId": "c456903b-9b92-4168-a0cd-e0734cd5e871"
      },
      "outputs": [
        {
          "output_type": "stream",
          "name": "stdout",
          "text": [
            "X_train.shape:  (475, 15, 4)\n",
            "y_train.shape:  (475, 1)\n",
            "X_test.shape:  (40, 15, 4)\n",
            "y_test.shape:  (40, 1)\n"
          ]
        }
      ],
      "source": [
        "# Create 3 dimensional data set \n",
        "def threeD_dataset (X, y, time_steps = 1):\n",
        "    Xs, ys = [], []\n",
        "    \n",
        "    for i in range(len(X)-time_steps):\n",
        "        v = X[i:i+time_steps, :]\n",
        "        Xs.append(v)\n",
        "        ys.append(y[i+time_steps])\n",
        "        \n",
        "    return np.array(Xs), np.array(ys)\n",
        "\n",
        "\n",
        "TIME_STEPS = 15 # which means the model will make predictions of ‘TOMORROW_CLOSE’ based on the input from the 10 previous days or future days bi-lstm or bi-gru\n",
        "\n",
        "X_test, y_test = threeD_dataset(test_x_norm, test_y_norm, TIME_STEPS)\n",
        "X_train, y_train = threeD_dataset(train_x_norm, train_y_norm, TIME_STEPS)\n",
        "print('X_train.shape: ', X_train.shape)\n",
        "print('y_train.shape: ', y_train.shape)\n",
        "print('X_test.shape: ', X_test.shape) \n",
        "print('y_test.shape: ', y_test.shape)"
      ]
    },
    {
      "cell_type": "markdown",
      "metadata": {
        "id": "cN1m5fRWbCku"
      },
      "source": [
        "**FINALLY, we can CONSTUCT the MODEL**"
      ]
    },
    {
      "cell_type": "code",
      "execution_count": 35,
      "metadata": {
        "id": "NOhFjCaC3wM4"
      },
      "outputs": [],
      "source": [
        "# Create LSTM \n",
        "def create_model(m):\n",
        "    model = Sequential()\n",
        "    # First layer of LSTM\n",
        "    model.add(Conv1D(32, 1, activation='relu',input_shape = X_train.shape[1:]),)\n",
        "    model.add(m (units = 16, activation = 'relu', return_sequences = False, input_shape = [X_train.shape[1], X_train.shape[2]])) # use 64 hidden units, relu acitvation function,\n",
        "    #model.add(Dropout(0.35))\n",
        "    model.add(Dense(units = 1))  # number of units is 1, because we will predict one output, which is tomorrow's price and compare it with the ground truth  \n",
        "    model.compile(loss = 'mse', optimizer=tf.keras.optimizers.Adam(learning_rate = 1.4e-3) ) # use loss as MSE and Adam optimizer, with learning rate 0.000001\n",
        "    return model"
      ]
    },
    {
      "cell_type": "code",
      "execution_count": 36,
      "metadata": {
        "id": "x-1Fc8hc4Nw4"
      },
      "outputs": [],
      "source": [
        "# Create the model by passing LSTM to the model.\n",
        "model_lstm = create_model(LSTM)"
      ]
    },
    {
      "cell_type": "code",
      "execution_count": 37,
      "metadata": {
        "id": "QvyWxytS4Pg3",
        "colab": {
          "base_uri": "https://localhost:8080/"
        },
        "outputId": "5c169754-e87b-48fb-a4ab-061dcca235b7"
      },
      "outputs": [
        {
          "output_type": "stream",
          "name": "stdout",
          "text": [
            "Model: \"sequential\"\n",
            "_________________________________________________________________\n",
            " Layer (type)                Output Shape              Param #   \n",
            "=================================================================\n",
            " conv1d (Conv1D)             (None, 15, 32)            160       \n",
            "                                                                 \n",
            " lstm (LSTM)                 (None, 16)                3136      \n",
            "                                                                 \n",
            " dense (Dense)               (None, 1)                 17        \n",
            "                                                                 \n",
            "=================================================================\n",
            "Total params: 3,313\n",
            "Trainable params: 3,313\n",
            "Non-trainable params: 0\n",
            "_________________________________________________________________\n"
          ]
        }
      ],
      "source": [
        "# Let's check the summary of our baby model\n",
        "model_lstm.summary()"
      ]
    },
    {
      "cell_type": "code",
      "execution_count": 38,
      "metadata": {
        "colab": {
          "base_uri": "https://localhost:8080/"
        },
        "id": "HsWs4MNL4RuI",
        "outputId": "3f129ece-ec95-4cda-9dca-0099a6881f15"
      },
      "outputs": [
        {
          "output_type": "stream",
          "name": "stdout",
          "text": [
            "Epoch 1/50\n",
            "24/24 [==============================] - 2s 23ms/step - loss: 0.1798 - val_loss: 0.0398\n",
            "Epoch 2/50\n",
            "24/24 [==============================] - 0s 7ms/step - loss: 0.0638 - val_loss: 0.0293\n",
            "Epoch 3/50\n",
            "24/24 [==============================] - 0s 7ms/step - loss: 0.0427 - val_loss: 0.0183\n",
            "Epoch 4/50\n",
            "24/24 [==============================] - 0s 7ms/step - loss: 0.0416 - val_loss: 0.0202\n",
            "Epoch 5/50\n",
            "24/24 [==============================] - 0s 9ms/step - loss: 0.0389 - val_loss: 0.0170\n",
            "Epoch 6/50\n",
            "24/24 [==============================] - 0s 7ms/step - loss: 0.0371 - val_loss: 0.0190\n",
            "Epoch 7/50\n",
            "24/24 [==============================] - 0s 7ms/step - loss: 0.0350 - val_loss: 0.0176\n",
            "Epoch 8/50\n",
            "24/24 [==============================] - 0s 7ms/step - loss: 0.0317 - val_loss: 0.0176\n",
            "Epoch 9/50\n",
            "24/24 [==============================] - 0s 12ms/step - loss: 0.0288 - val_loss: 0.0162\n",
            "Epoch 10/50\n",
            "24/24 [==============================] - 0s 11ms/step - loss: 0.0283 - val_loss: 0.0192\n",
            "Epoch 11/50\n",
            "24/24 [==============================] - 0s 11ms/step - loss: 0.0360 - val_loss: 0.0311\n",
            "Epoch 12/50\n",
            "24/24 [==============================] - 0s 12ms/step - loss: 0.0351 - val_loss: 0.0186\n",
            "Epoch 13/50\n",
            "24/24 [==============================] - 0s 12ms/step - loss: 0.0291 - val_loss: 0.0156\n",
            "Epoch 14/50\n",
            "24/24 [==============================] - 0s 11ms/step - loss: 0.0282 - val_loss: 0.0162\n",
            "Epoch 15/50\n",
            "24/24 [==============================] - 0s 12ms/step - loss: 0.0266 - val_loss: 0.0149\n",
            "Epoch 16/50\n",
            "24/24 [==============================] - 0s 12ms/step - loss: 0.0259 - val_loss: 0.0152\n",
            "Epoch 17/50\n",
            "24/24 [==============================] - 0s 15ms/step - loss: 0.0247 - val_loss: 0.0166\n",
            "Epoch 18/50\n",
            "24/24 [==============================] - 0s 11ms/step - loss: 0.0228 - val_loss: 0.0147\n",
            "Epoch 19/50\n",
            "24/24 [==============================] - 0s 14ms/step - loss: 0.0217 - val_loss: 0.0139\n",
            "Epoch 20/50\n",
            "24/24 [==============================] - 0s 11ms/step - loss: 0.0227 - val_loss: 0.0162\n",
            "Epoch 21/50\n",
            "24/24 [==============================] - 0s 12ms/step - loss: 0.0228 - val_loss: 0.0140\n",
            "Epoch 22/50\n",
            "24/24 [==============================] - 0s 10ms/step - loss: 0.0219 - val_loss: 0.0156\n",
            "Epoch 23/50\n",
            "24/24 [==============================] - 0s 11ms/step - loss: 0.0207 - val_loss: 0.0140\n",
            "Epoch 24/50\n",
            "24/24 [==============================] - 0s 13ms/step - loss: 0.0218 - val_loss: 0.0174\n",
            "Epoch 25/50\n",
            "24/24 [==============================] - 0s 12ms/step - loss: 0.0224 - val_loss: 0.0140\n",
            "Epoch 26/50\n",
            "24/24 [==============================] - 0s 15ms/step - loss: 0.0219 - val_loss: 0.0157\n",
            "Epoch 27/50\n",
            "24/24 [==============================] - 0s 18ms/step - loss: 0.0204 - val_loss: 0.0138\n",
            "Epoch 28/50\n",
            "24/24 [==============================] - 0s 17ms/step - loss: 0.0214 - val_loss: 0.0168\n",
            "Epoch 29/50\n",
            "24/24 [==============================] - 0s 18ms/step - loss: 0.0216 - val_loss: 0.0140\n",
            "Epoch 30/50\n",
            "24/24 [==============================] - 0s 13ms/step - loss: 0.0209 - val_loss: 0.0149\n",
            "Epoch 31/50\n",
            "24/24 [==============================] - 0s 14ms/step - loss: 0.0200 - val_loss: 0.0139\n",
            "Epoch 32/50\n",
            "24/24 [==============================] - 0s 15ms/step - loss: 0.0210 - val_loss: 0.0168\n",
            "Epoch 33/50\n",
            "24/24 [==============================] - 0s 12ms/step - loss: 0.0209 - val_loss: 0.0139\n",
            "Epoch 34/50\n",
            "24/24 [==============================] - 0s 14ms/step - loss: 0.0201 - val_loss: 0.0145\n",
            "Epoch 35/50\n",
            "24/24 [==============================] - 0s 12ms/step - loss: 0.0196 - val_loss: 0.0139\n",
            "Epoch 36/50\n",
            "24/24 [==============================] - 0s 15ms/step - loss: 0.0201 - val_loss: 0.0154\n",
            "Epoch 37/50\n",
            "24/24 [==============================] - 0s 15ms/step - loss: 0.0201 - val_loss: 0.0146\n",
            "Epoch 38/50\n",
            "24/24 [==============================] - 0s 13ms/step - loss: 0.0199 - val_loss: 0.0144\n",
            "Epoch 39/50\n",
            "24/24 [==============================] - 0s 16ms/step - loss: 0.0193 - val_loss: 0.0145\n",
            "Epoch 40/50\n",
            "24/24 [==============================] - 0s 18ms/step - loss: 0.0195 - val_loss: 0.0141\n",
            "Epoch 41/50\n",
            "24/24 [==============================] - 0s 16ms/step - loss: 0.0201 - val_loss: 0.0162\n",
            "Epoch 42/50\n",
            "24/24 [==============================] - 0s 15ms/step - loss: 0.0200 - val_loss: 0.0141\n",
            "Epoch 43/50\n",
            "24/24 [==============================] - 0s 16ms/step - loss: 0.0197 - val_loss: 0.0155\n",
            "Epoch 44/50\n",
            "24/24 [==============================] - 0s 12ms/step - loss: 0.0191 - val_loss: 0.0143\n",
            "Epoch 45/50\n",
            "24/24 [==============================] - 0s 13ms/step - loss: 0.0202 - val_loss: 0.0156\n",
            "Epoch 46/50\n",
            "24/24 [==============================] - 0s 13ms/step - loss: 0.0198 - val_loss: 0.0147\n",
            "Epoch 47/50\n",
            "24/24 [==============================] - 0s 14ms/step - loss: 0.0195 - val_loss: 0.0145\n",
            "Epoch 48/50\n",
            "24/24 [==============================] - 0s 12ms/step - loss: 0.0188 - val_loss: 0.0150\n",
            "Epoch 49/50\n",
            "24/24 [==============================] - 0s 12ms/step - loss: 0.0188 - val_loss: 0.0139\n",
            "Epoch 50/50\n",
            "24/24 [==============================] - 0s 11ms/step - loss: 0.0195 - val_loss: 0.0164\n"
          ]
        }
      ],
      "source": [
        "# start the  training process, with 800 epochs, (the number of times the model will look at the entire dataset), validation split is 20 % from the training data, this is\n",
        "# done autmatically by Keras, batch size of 8, meaning that, the model will take try to minimize the loss by looking at only 8 samples, shuffle is false, because this is time \n",
        "# data, so the order matters alot.\n",
        "history_lstm = model_lstm.fit(X_train, y_train, epochs = 50, validation_split = 0.2,batch_size = 16, shuffle = False) "
      ]
    },
    {
      "cell_type": "markdown",
      "metadata": {
        "id": "KJgTn_ylcQs6"
      },
      "source": [
        "As we can observe, the loss is the training loss, and val_loss is the validation loss. Both are decereasing smoothly as the number of epochs is increasing, that means, our **model is learning in a natural way**.\n",
        "\n",
        "Next, **let's plot the validation and train error**, to check for any problems that a model can suffer from, such as underfitting or overfitting."
      ]
    },
    {
      "cell_type": "code",
      "execution_count": 39,
      "metadata": {
        "colab": {
          "base_uri": "https://localhost:8080/",
          "height": 404
        },
        "id": "zkd3oqts4anP",
        "outputId": "991b4c23-fb7f-4b98-f382-04b68571ebad"
      },
      "outputs": [
        {
          "output_type": "display_data",
          "data": {
            "text/plain": [
              "<Figure size 720x432 with 1 Axes>"
            ],
            "image/png": "[encoded data removed]"
          },
          "metadata": {
            "needs_background": "light"
          }
        }
      ],
      "source": [
        "#Plot train and validation loss\n",
        "def plot_loss (history, model_name):\n",
        "    fig3 = plt.figure(figsize = (10, 6))\n",
        "    plt.rcParams['figure.dpi'] = 360\n",
        "    plt.plot(history.history['loss'])\n",
        "    plt.plot(history.history['val_loss'])\n",
        "    plt.title('Model Train vs Validation Loss for ' + model_name + ' with Histo Data Only')\n",
        "    plt.ylabel('Loss')\n",
        "    plt.xlabel('epoch')\n",
        "    plt.legend(['Train loss', 'Validation loss'], loc='upper right')\n",
        "    fig3.savefig('Model_Train_vs_Validation_Loss_for_LSTM_with_TI.png')\n",
        "plot_loss (history_lstm, 'LSTM')\n"
      ]
    },
    {
      "cell_type": "markdown",
      "metadata": {
        "id": "miVVmwS_cv3S"
      },
      "source": [
        "Before we start the testing phase, we need to inverse the normalization process that we applied to the data."
      ]
    },
    {
      "cell_type": "code",
      "execution_count": 40,
      "metadata": {
        "id": "6y6yIrED4_B_"
      },
      "outputs": [],
      "source": [
        "# inverse the y\n",
        "y_test = scaler_y.inverse_transform(y_test)\n",
        "y_train = scaler_y.inverse_transform(y_train)"
      ]
    },
    {
      "cell_type": "markdown",
      "metadata": {
        "id": "pl-nC6r_c4oP"
      },
      "source": [
        "Define a function to inverse the X"
      ]
    },
    {
      "cell_type": "code",
      "execution_count": 41,
      "metadata": {
        "id": "afyw6NSrNjKz"
      },
      "outputs": [],
      "source": [
        "def prediction(model):\n",
        "    prediction = model.predict(X_test)\n",
        "    prediction = scaler_y.inverse_transform(prediction)\n",
        "    return prediction"
      ]
    },
    {
      "cell_type": "code",
      "execution_count": 42,
      "metadata": {
        "id": "gAEBUr__NlXa"
      },
      "outputs": [],
      "source": [
        "# Do predictions\n",
        "prediction_LSTM = prediction(model_lstm)"
      ]
    },
    {
      "cell_type": "code",
      "execution_count": 43,
      "metadata": {
        "colab": {
          "base_uri": "https://localhost:8080/",
          "height": 1000
        },
        "id": "x3Z-y1JKna5d",
        "outputId": "5b7aeaeb-257c-44b4-cad0-bcb643e2a81e"
      },
      "outputs": [
        {
          "output_type": "display_data",
          "data": {
            "text/plain": [
              "<Figure size 3600x2160 with 1 Axes>"
            ],
            "image/png": "[encoded data removed]"
          },
          "metadata": {
            "needs_background": "light"
          }
        }
      ],
      "source": [
        "def plot_future(prediction, model_name, y_test):\n",
        "    fig4 = plt.figure(figsize=(10, 6))\n",
        "    plt.rcParams['figure.dpi'] = 360\n",
        "    range_future = len(prediction)\n",
        "    plt.plot(np.arange(range_future), np.array(y_test), label='True Future')\n",
        "    plt.plot(np.arange(range_future), np.array(prediction),label='Prediction')\n",
        "    plt.title('True future vs prediction for ' + model_name + ' with Histo Data Only')\n",
        "    plt.legend(loc='upper left')\n",
        "    plt.xlabel('Date')\n",
        "    plt.ylabel('Close value (USD $)')\n",
        "    fig4.savefig('True_future_vs_prediction_for_LSTM_with_TI.png')\n",
        "plot_future(prediction_LSTM, 'LSTM', y_test)"
      ]
    },
    {
      "cell_type": "code",
      "execution_count": 44,
      "metadata": {
        "colab": {
          "base_uri": "https://localhost:8080/"
        },
        "id": "2Y2O01d8n68K",
        "outputId": "78210d74-fe42-4ac5-923d-5b33610322ed"
      },
      "outputs": [
        {
          "output_type": "execute_result",
          "data": {
            "text/plain": [
              "(40, 1)"
            ]
          },
          "metadata": {},
          "execution_count": 44
        }
      ],
      "source": [
        "y_test.shape"
      ]
    },
    {
      "cell_type": "code",
      "execution_count": 45,
      "metadata": {
        "id": "MvsFAOhlNqow"
      },
      "outputs": [],
      "source": [
        "## Define a function to calculate MAE and RMSE\n",
        "def evaluate_prediction(predictions, actual, model_name):\n",
        "    errors = predictions - actual\n",
        "    mse = np.square(errors).mean()\n",
        "    rmse = np.sqrt(mse)\n",
        "    mae = np.abs(errors).mean()\n",
        "\n",
        "    print(model_name + ':')\n",
        "    print('Mean Absolute Error: {:.4f}'.format(mae))\n",
        "    print('Root Mean Square Error: {:.4f}'.format(rmse))\n",
        "    print('')"
      ]
    },
    {
      "cell_type": "code",
      "execution_count": 46,
      "metadata": {
        "colab": {
          "base_uri": "https://localhost:8080/"
        },
        "id": "xlZLERJqNtPQ",
        "outputId": "501126cd-9c68-424a-a2dc-3472e1ba4f1a"
      },
      "outputs": [
        {
          "output_type": "stream",
          "name": "stdout",
          "text": [
            "Conv-LSTM-histo-Data-only:\n",
            "Mean Absolute Error: 1388.1001\n",
            "Root Mean Square Error: 1989.8689\n",
            "\n"
          ]
        }
      ],
      "source": [
        "evaluate_prediction(prediction_LSTM, y_test, 'Conv-LSTM-histo-Data-only')"
      ]
    },
    {
      "cell_type": "code",
      "source": [
        ""
      ],
      "metadata": {
        "id": "hZI1nG1yuwvN"
      },
      "execution_count": 46,
      "outputs": []
    }
  ],
  "metadata": {
    "colab": {
      "collapsed_sections": [],
      "name": "1D_Conv_LSTM_historical_Data.ipynb",
      "provenance": []
    },
    "gpuClass": "standard",
    "kernelspec": {
      "display_name": "Python 3",
      "name": "python3"
    },
    "language_info": {
      "name": "python"
    }
  },
  "nbformat": 4,
  "nbformat_minor": 0
}