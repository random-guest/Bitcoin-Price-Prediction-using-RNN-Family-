{
  "nbformat": 4,
  "nbformat_minor": 0,
  "metadata": {
    "colab": {
      "name": "Get_RussiaUkarineWar_Tweets.ipynb",
      "provenance": [],
      "collapsed_sections": []
    },
    "kernelspec": {
      "name": "python3",
      "display_name": "Python 3"
    },
    "language_info": {
      "name": "python"
    },
    "gpuClass": "standard"
  },
  "cells": [
    {
      "cell_type": "markdown",
      "source": [
        "This notebook will aim at extracting tweets for russia ukarine war on monthly basis from 2021-01-01 to 2022-07-01m to be combined later, processed and used to train different DL models."
      ],
      "metadata": {
        "id": "KpegNlbMpkG_"
      }
    },
    {
      "cell_type": "code",
      "source": [
        "!pip install snscrape"
      ],
      "metadata": {
        "id": "pjWqc4PMldP2",
        "colab": {
          "base_uri": "https://localhost:8080/"
        },
        "outputId": "d62660cd-1cc5-43fe-82f3-f3b2783b73ad"
      },
      "execution_count": 1,
      "outputs": [
        {
          "output_type": "stream",
          "name": "stdout",
          "text": [
            "Looking in indexes: https://pypi.org/simple, https://us-python.pkg.dev/colab-wheels/public/simple/\n",
            "Requirement already satisfied: snscrape in /usr/local/lib/python3.7/dist-packages (0.3.4)\n",
            "Requirement already satisfied: beautifulsoup4 in /usr/local/lib/python3.7/dist-packages (from snscrape) (4.6.3)\n",
            "Requirement already satisfied: lxml in /usr/local/lib/python3.7/dist-packages (from snscrape) (4.2.6)\n",
            "Requirement already satisfied: requests[socks] in /usr/local/lib/python3.7/dist-packages (from snscrape) (2.23.0)\n",
            "Requirement already satisfied: certifi>=2017.4.17 in /usr/local/lib/python3.7/dist-packages (from requests[socks]->snscrape) (2022.6.15)\n",
            "Requirement already satisfied: urllib3!=1.25.0,!=1.25.1,<1.26,>=1.21.1 in /usr/local/lib/python3.7/dist-packages (from requests[socks]->snscrape) (1.24.3)\n",
            "Requirement already satisfied: idna<3,>=2.5 in /usr/local/lib/python3.7/dist-packages (from requests[socks]->snscrape) (2.10)\n",
            "Requirement already satisfied: chardet<4,>=3.0.2 in /usr/local/lib/python3.7/dist-packages (from requests[socks]->snscrape) (3.0.4)\n",
            "Requirement already satisfied: PySocks!=1.5.7,>=1.5.6 in /usr/local/lib/python3.7/dist-packages (from requests[socks]->snscrape) (1.7.1)\n"
          ]
        }
      ]
    },
    {
      "cell_type": "code",
      "source": [
        "import snscrape.modules.twitter as sntwitter\n",
        "import pandas as pd"
      ],
      "metadata": {
        "id": "nM9aJi6Bw75K"
      },
      "execution_count": 2,
      "outputs": []
    },
    {
      "cell_type": "code",
      "source": [
        "quarey  = \"(Russia OR Ukraine) min_replies:100 min_faves:100 min_retweets:100 lang:en until:2022-07-02 since:2022-06-01\""
      ],
      "metadata": {
        "id": "kWHs5bD3xbdK"
      },
      "execution_count": 3,
      "outputs": []
    },
    {
      "cell_type": "code",
      "source": [
        "tweets = [] # empty list to store the tweets"
      ],
      "metadata": {
        "id": "Br0j1RX6Uo-Z"
      },
      "execution_count": 4,
      "outputs": []
    },
    {
      "cell_type": "code",
      "source": [
        "limit = 10000 # get as much tweets as possible"
      ],
      "metadata": {
        "id": "7xnhNMOOUpEg"
      },
      "execution_count": 5,
      "outputs": []
    },
    {
      "cell_type": "code",
      "source": [
        "for tweet in sntwitter.TwitterSearchScraper(quarey).get_items():\n",
        "  \n",
        "  if len(tweets) == limit:\n",
        "    break\n",
        "  else:\n",
        "    tweets.append([tweet.date,tweet.content])\n",
        "\n",
        "df = pd.DataFrame(tweets,columns = ['Date','tweet'])"
      ],
      "metadata": {
        "id": "fc89bSQixVHQ"
      },
      "execution_count": 6,
      "outputs": []
    },
    {
      "cell_type": "code",
      "source": [
        "print(df)"
      ],
      "metadata": {
        "colab": {
          "base_uri": "https://localhost:8080/"
        },
        "id": "94KaAsQqUJQ0",
        "outputId": "028514ad-60d9-4dc9-e876-705c27846517"
      },
      "execution_count": 7,
      "outputs": [
        {
          "output_type": "stream",
          "name": "stdout",
          "text": [
            "                          Date  \\\n",
            "0    2022-07-01 23:47:12+00:00   \n",
            "1    2022-07-01 23:26:04+00:00   \n",
            "2    2022-07-01 22:38:01+00:00   \n",
            "3    2022-07-01 22:03:42+00:00   \n",
            "4    2022-07-01 21:50:54+00:00   \n",
            "...                        ...   \n",
            "1042 2022-06-01 03:59:15+00:00   \n",
            "1043 2022-06-01 03:04:40+00:00   \n",
            "1044 2022-06-01 02:54:05+00:00   \n",
            "1045 2022-06-01 02:12:28+00:00   \n",
            "1046 2022-06-01 01:10:38+00:00   \n",
            "\n",
            "                                                  tweet  \n",
            "0     While the US media fixates on whether Trump sp...  \n",
            "1     In #Germany, ~20 intellectuals in an open lett...  \n",
            "2     I have been BANNED from posting on YouTube for...  \n",
            "3     BoJo is also a honorary citizen of Odesa now!\\...  \n",
            "4     Trumpers stuck with Trump after 27 credible se...  \n",
            "...                                                 ...  \n",
            "1042  I thought it was impossible to create an even ...  \n",
            "1043  Ukraine’s 45th Artillery Brigade troops https:...  \n",
            "1044  Surprise! The Texas Shooter and the Ukraine Mi...  \n",
            "1045  Newsmax's Rob Schmitt tries to get Zelensky to...  \n",
            "1046  The big US political question should be: Why i...  \n",
            "\n",
            "[1047 rows x 2 columns]\n"
          ]
        }
      ]
    },
    {
      "cell_type": "code",
      "source": [
        "df.to_csv('Russia_Ukraine_war_raw_tweets_6_2022.csv')"
      ],
      "metadata": {
        "id": "GDWX6uLsKor5"
      },
      "execution_count": 8,
      "outputs": []
    }
  ]
}