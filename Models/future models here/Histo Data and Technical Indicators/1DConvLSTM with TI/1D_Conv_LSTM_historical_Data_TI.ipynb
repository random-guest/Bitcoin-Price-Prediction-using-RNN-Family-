{
  "cells": [
    {
      "cell_type": "markdown",
      "metadata": {
        "id": "n5-_wnY7RPiS"
      },
      "source": [
        "\n",
        "**This model will utilize the LSTM netwrok only to predicts next day closing price of the bitcoin.**\n",
        "\n",
        "\n"
      ]
    },
    {
      "cell_type": "markdown",
      "metadata": {
        "id": "5uuCidcxRhSE"
      },
      "source": [
        "The next piece of code will **import the neccassary libraries** that will be used throughout the code."
      ]
    },
    {
      "cell_type": "code",
      "execution_count": 1,
      "metadata": {
        "id": "ZIqnE-1t3LpQ"
      },
      "outputs": [],
      "source": [
        "import pandas as pd\n",
        "import numpy as np\n",
        "import matplotlib.pyplot as plt\n",
        "import seaborn as sns\n",
        "from matplotlib.dates import DateFormatter\n",
        "sns.set_style(\"white\")\n",
        "import scipy \n",
        "import tensorflow as tf\n",
        "from tensorflow import keras\n",
        "from sklearn.preprocessing import MinMaxScaler\n",
        "from sklearn.model_selection import train_test_split\n",
        "from IPython.core.pylabtools import figsize\n",
        "from pandas.plotting import register_matplotlib_converters\n",
        "register_matplotlib_converters()\n",
        "from keras.layers import *\n",
        "from keras.models import *\n",
        "from tensorflow.keras.layers import Dense, LSTM, Dropout, GRU, Bidirectional, Conv2D,Conv1D, BatchNormalization\n",
        "\n",
        "from keras import backend as K\n",
        "\n",
        "# Set random seed for reproducibility\n",
        "tf.random.set_seed(42)"
      ]
    },
    {
      "cell_type": "markdown",
      "metadata": {
        "id": "7hkvn5AySPKC"
      },
      "source": [
        "Now that we have the imported the required libraries, we need to get the data.\n",
        "We will do so by first **installing the historic crypto data api**, that will allow us to get the data of any crypto (mainly the famous ones), on any range we wish, for example, we can get the bitcoin data from a chosen date to a chosen date, per 60 seconds up to per 24 hrs."
      ]
    },
    {
      "cell_type": "code",
      "execution_count": 2,
      "metadata": {
        "colab": {
          "base_uri": "https://localhost:8080/"
        },
        "id": "DlKkrRPxurWw",
        "outputId": "57d314ad-85f4-4a9d-b1d6-fe42c45297da"
      },
      "outputs": [
        {
          "output_type": "stream",
          "name": "stdout",
          "text": [
            "Looking in indexes: https://pypi.org/simple, https://us-python.pkg.dev/colab-wheels/public/simple/\n",
            "Requirement already satisfied: Historic-Crypto in /usr/local/lib/python3.7/dist-packages (0.1.6)\n",
            "Requirement already satisfied: requests in /usr/local/lib/python3.7/dist-packages (from Historic-Crypto) (2.23.0)\n",
            "Requirement already satisfied: numpy in /usr/local/lib/python3.7/dist-packages (from Historic-Crypto) (1.21.6)\n",
            "Requirement already satisfied: idna<3,>=2.5 in /usr/local/lib/python3.7/dist-packages (from requests->Historic-Crypto) (2.10)\n",
            "Requirement already satisfied: chardet<4,>=3.0.2 in /usr/local/lib/python3.7/dist-packages (from requests->Historic-Crypto) (3.0.4)\n",
            "Requirement already satisfied: certifi>=2017.4.17 in /usr/local/lib/python3.7/dist-packages (from requests->Historic-Crypto) (2022.6.15)\n",
            "Requirement already satisfied: urllib3!=1.25.0,!=1.25.1,<1.26,>=1.21.1 in /usr/local/lib/python3.7/dist-packages (from requests->Historic-Crypto) (1.24.3)\n"
          ]
        }
      ],
      "source": [
        "!pip install Historic-Crypto"
      ]
    },
    {
      "cell_type": "code",
      "execution_count": 3,
      "metadata": {
        "id": "duP3WefmvoJd"
      },
      "outputs": [],
      "source": [
        "import warnings\n",
        "warnings.filterwarnings(\"ignore\")\n",
        "\n",
        "# From the histroic cyrpto import the historical data\n",
        "from Historic_Crypto import HistoricalData"
      ]
    },
    {
      "cell_type": "markdown",
      "metadata": {
        "id": "qmoVmkKnS3z3"
      },
      "source": [
        "Next step would be to **get the data** . The chosen data will be reterived chunk wise. Here, we will specify the name of the cryptocurrency we are interested in, for instance in our case 'BTC-USD' is the bitcoin one, then we should specify number of seconds that will seperate the data. For example, 86400 is the number of seconds in 1 day. So, we will reterive the data on a daily bases. Next, we will specify the starting date in the form of year-month-day-hour-minute and finally the ending date, in the same format.\n",
        "\n",
        "**In our case, we will reterive data between 01/01/2021 and 31/05/2022 on daily bases.**\n"
      ]
    },
    {
      "cell_type": "code",
      "execution_count": 4,
      "metadata": {
        "colab": {
          "base_uri": "https://localhost:8080/"
        },
        "id": "mXFZVRlFvxAq",
        "outputId": "74cd976a-a976-484f-bfc0-fa6b0f215f1b"
      },
      "outputs": [
        {
          "output_type": "stream",
          "name": "stdout",
          "text": [
            "Checking input parameters are in the correct format.\n",
            "Formatting Dates.\n",
            "Checking if user supplied is available on the CoinBase Pro API.\n",
            "Connected to the CoinBase Pro API.\n",
            "Ticker 'BTC-USD' found at the CoinBase Pro API, continuing to extraction.\n",
            "Provisional Start: 2021-01-01T00:00:00\n",
            "Provisional End: 2021-10-28T00:00:00\n",
            "Data for chunk 1 of 2 extracted\n",
            "Provisional Start: 2021-10-28T00:00:00\n",
            "Provisional End: 2022-08-24T00:00:00\n",
            "Data for chunk 2 of 2 extracted\n"
          ]
        }
      ],
      "source": [
        "btc_historicals = HistoricalData('BTC-USD',86400,'2021-01-01-00-00', '2022-07-01-00-00').retrieve_data() # cyrpto name, number of seconds, start date, end date\n"
      ]
    },
    {
      "cell_type": "markdown",
      "metadata": {
        "id": "eNLnmGK6Uktm"
      },
      "source": [
        "In the next few lines, we will try to have **a closer look at the data** and check whether it needs any cleaning or not."
      ]
    },
    {
      "cell_type": "code",
      "execution_count": 5,
      "metadata": {
        "colab": {
          "base_uri": "https://localhost:8080/"
        },
        "id": "bB36viuAwnr4",
        "outputId": "51521a47-769b-4c6f-fd13-416fc1214b63"
      },
      "outputs": [
        {
          "output_type": "execute_result",
          "data": {
            "text/plain": [
              "(546, 5)"
            ]
          },
          "metadata": {},
          "execution_count": 5
        }
      ],
      "source": [
        "# check the shape of the data\n",
        "btc_historicals.shape"
      ]
    },
    {
      "cell_type": "code",
      "execution_count": 6,
      "metadata": {
        "colab": {
          "base_uri": "https://localhost:8080/",
          "height": 238
        },
        "id": "-QepeTnmyIfF",
        "outputId": "e7585114-03bb-4662-a99b-78c8de980eab"
      },
      "outputs": [
        {
          "output_type": "execute_result",
          "data": {
            "text/plain": [
              "                 low      high      open     close        volume\n",
              "time                                                            \n",
              "2022-06-27  20500.00  21520.00  21024.85  20725.17  17440.942683\n",
              "2022-06-28  20164.70  21189.99  20722.95  20252.89  17658.660417\n",
              "2022-06-29  19823.43  20410.91  20253.50  20094.79  18278.451859\n",
              "2022-06-30  18603.00  20143.53  20098.00  19985.62  28361.458762\n",
              "2022-07-01  18938.33  20879.99  19985.62  19252.76  32977.000523"
            ],
            "text/html": [
              "\n",
              "  <div id=\"df-da4bd537-978c-46ec-9f46-fa3106d2e073\">\n",
              "    <div class=\"colab-df-container\">\n",
              "      <div>\n",
              "<style scoped>\n",
              "    .dataframe tbody tr th:only-of-type {\n",
              "        vertical-align: middle;\n",
              "    }\n",
              "\n",
              "    .dataframe tbody tr th {\n",
              "        vertical-align: top;\n",
              "    }\n",
              "\n",
              "    .dataframe thead th {\n",
              "        text-align: right;\n",
              "    }\n",
              "</style>\n",
              "<table border=\"1\" class=\"dataframe\">\n",
              "  <thead>\n",
              "    <tr style=\"text-align: right;\">\n",
              "      <th></th>\n",
              "      <th>low</th>\n",
              "      <th>high</th>\n",
              "      <th>open</th>\n",
              "      <th>close</th>\n",
              "      <th>volume</th>\n",
              "    </tr>\n",
              "    <tr>\n",
              "      <th>time</th>\n",
              "      <th></th>\n",
              "      <th></th>\n",
              "      <th></th>\n",
              "      <th></th>\n",
              "      <th></th>\n",
              "    </tr>\n",
              "  </thead>\n",
              "  <tbody>\n",
              "    <tr>\n",
              "      <th>2022-06-27</th>\n",
              "      <td>20500.00</td>\n",
              "      <td>21520.00</td>\n",
              "      <td>21024.85</td>\n",
              "      <td>20725.17</td>\n",
              "      <td>17440.942683</td>\n",
              "    </tr>\n",
              "    <tr>\n",
              "      <th>2022-06-28</th>\n",
              "      <td>20164.70</td>\n",
              "      <td>21189.99</td>\n",
              "      <td>20722.95</td>\n",
              "      <td>20252.89</td>\n",
              "      <td>17658.660417</td>\n",
              "    </tr>\n",
              "    <tr>\n",
              "      <th>2022-06-29</th>\n",
              "      <td>19823.43</td>\n",
              "      <td>20410.91</td>\n",
              "      <td>20253.50</td>\n",
              "      <td>20094.79</td>\n",
              "      <td>18278.451859</td>\n",
              "    </tr>\n",
              "    <tr>\n",
              "      <th>2022-06-30</th>\n",
              "      <td>18603.00</td>\n",
              "      <td>20143.53</td>\n",
              "      <td>20098.00</td>\n",
              "      <td>19985.62</td>\n",
              "      <td>28361.458762</td>\n",
              "    </tr>\n",
              "    <tr>\n",
              "      <th>2022-07-01</th>\n",
              "      <td>18938.33</td>\n",
              "      <td>20879.99</td>\n",
              "      <td>19985.62</td>\n",
              "      <td>19252.76</td>\n",
              "      <td>32977.000523</td>\n",
              "    </tr>\n",
              "  </tbody>\n",
              "</table>\n",
              "</div>\n",
              "      <button class=\"colab-df-convert\" onclick=\"convertToInteractive('df-da4bd537-978c-46ec-9f46-fa3106d2e073')\"\n",
              "              title=\"Convert this dataframe to an interactive table.\"\n",
              "              style=\"display:none;\">\n",
              "        \n",
              "  <svg xmlns=\"http://www.w3.org/2000/svg\" height=\"24px\"viewBox=\"0 0 24 24\"\n",
              "       width=\"24px\">\n",
              "    <path d=\"M0 0h24v24H0V0z\" fill=\"none\"/>\n",
              "    <path d=\"M18.56 5.44l.94 2.06.94-2.06 2.06-.94-2.06-.94-.94-2.06-.94 2.06-2.06.94zm-11 1L8.5 8.5l.94-2.06 2.06-.94-2.06-.94L8.5 2.5l-.94 2.06-2.06.94zm10 10l.94 2.06.94-2.06 2.06-.94-2.06-.94-.94-2.06-.94 2.06-2.06.94z\"/><path d=\"M17.41 7.96l-1.37-1.37c-.4-.4-.92-.59-1.43-.59-.52 0-1.04.2-1.43.59L10.3 9.45l-7.72 7.72c-.78.78-.78 2.05 0 2.83L4 21.41c.39.39.9.59 1.41.59.51 0 1.02-.2 1.41-.59l7.78-7.78 2.81-2.81c.8-.78.8-2.07 0-2.86zM5.41 20L4 18.59l7.72-7.72 1.47 1.35L5.41 20z\"/>\n",
              "  </svg>\n",
              "      </button>\n",
              "      \n",
              "  <style>\n",
              "    .colab-df-container {\n",
              "      display:flex;\n",
              "      flex-wrap:wrap;\n",
              "      gap: 12px;\n",
              "    }\n",
              "\n",
              "    .colab-df-convert {\n",
              "      background-color: #E8F0FE;\n",
              "      border: none;\n",
              "      border-radius: 50%;\n",
              "      cursor: pointer;\n",
              "      display: none;\n",
              "      fill: #1967D2;\n",
              "      height: 32px;\n",
              "      padding: 0 0 0 0;\n",
              "      width: 32px;\n",
              "    }\n",
              "\n",
              "    .colab-df-convert:hover {\n",
              "      background-color: #E2EBFA;\n",
              "      box-shadow: 0px 1px 2px rgba(60, 64, 67, 0.3), 0px 1px 3px 1px rgba(60, 64, 67, 0.15);\n",
              "      fill: #174EA6;\n",
              "    }\n",
              "\n",
              "    [theme=dark] .colab-df-convert {\n",
              "      background-color: #3B4455;\n",
              "      fill: #D2E3FC;\n",
              "    }\n",
              "\n",
              "    [theme=dark] .colab-df-convert:hover {\n",
              "      background-color: #434B5C;\n",
              "      box-shadow: 0px 1px 3px 1px rgba(0, 0, 0, 0.15);\n",
              "      filter: drop-shadow(0px 1px 2px rgba(0, 0, 0, 0.3));\n",
              "      fill: #FFFFFF;\n",
              "    }\n",
              "  </style>\n",
              "\n",
              "      <script>\n",
              "        const buttonEl =\n",
              "          document.querySelector('#df-da4bd537-978c-46ec-9f46-fa3106d2e073 button.colab-df-convert');\n",
              "        buttonEl.style.display =\n",
              "          google.colab.kernel.accessAllowed ? 'block' : 'none';\n",
              "\n",
              "        async function convertToInteractive(key) {\n",
              "          const element = document.querySelector('#df-da4bd537-978c-46ec-9f46-fa3106d2e073');\n",
              "          const dataTable =\n",
              "            await google.colab.kernel.invokeFunction('convertToInteractive',\n",
              "                                                     [key], {});\n",
              "          if (!dataTable) return;\n",
              "\n",
              "          const docLinkHtml = 'Like what you see? Visit the ' +\n",
              "            '<a target=\"_blank\" href=https://colab.research.google.com/notebooks/data_table.ipynb>data table notebook</a>'\n",
              "            + ' to learn more about interactive tables.';\n",
              "          element.innerHTML = '';\n",
              "          dataTable['output_type'] = 'display_data';\n",
              "          await google.colab.output.renderOutput(dataTable, element);\n",
              "          const docLink = document.createElement('div');\n",
              "          docLink.innerHTML = docLinkHtml;\n",
              "          element.appendChild(docLink);\n",
              "        }\n",
              "      </script>\n",
              "    </div>\n",
              "  </div>\n",
              "  "
            ]
          },
          "metadata": {},
          "execution_count": 6
        }
      ],
      "source": [
        "# few the last 5 rows of the data\n",
        "btc_historicals.tail()"
      ]
    },
    {
      "cell_type": "markdown",
      "metadata": {
        "id": "1milUq6xVYmE"
      },
      "source": [
        "As we can observe, the data is in the form of low high open close volume, that means, on te given date, the lowest price was low, the higest price was high, the openning price was open, the closing price was close, and the volume of data that was exchanges was volume."
      ]
    },
    {
      "cell_type": "code",
      "execution_count": 7,
      "metadata": {
        "colab": {
          "base_uri": "https://localhost:8080/"
        },
        "id": "wEBYs9iyygbR",
        "outputId": "ba585678-c4b2-41c9-9d69-362468d1fdbf"
      },
      "outputs": [
        {
          "output_type": "execute_result",
          "data": {
            "text/plain": [
              "low       float64\n",
              "high      float64\n",
              "open      float64\n",
              "close     float64\n",
              "volume    float64\n",
              "dtype: object"
            ]
          },
          "metadata": {},
          "execution_count": 7
        }
      ],
      "source": [
        "# Check out variables\n",
        "btc_historicals.dtypes"
      ]
    },
    {
      "cell_type": "code",
      "execution_count": 8,
      "metadata": {
        "id": "8AvL9iDB0Ajo"
      },
      "outputs": [],
      "source": [
        "# assign a dummy variable to hold the data, so that incase we need to do any\n",
        "# modifications, we wouldn't lose the orginal data.\n",
        "tst = btc_historicals"
      ]
    },
    {
      "cell_type": "code",
      "execution_count": 9,
      "metadata": {
        "colab": {
          "base_uri": "https://localhost:8080/"
        },
        "id": "8CWBQogH8Dvl",
        "outputId": "5f3db8df-e6d3-4525-f863-11d6c226e811"
      },
      "outputs": [
        {
          "output_type": "stream",
          "name": "stdout",
          "text": [
            "Null Values: 0\n",
            "If any NA values: False\n"
          ]
        }
      ],
      "source": [
        "# The data is clean already, but let us try to check for any null or NA vales.\n",
        "print('Null Values:',tst.isnull().values.sum())\n",
        "print('If any NA values:', tst.isnull().values.any())"
      ]
    },
    {
      "cell_type": "markdown",
      "metadata": {
        "id": "5toxwwEtVxCk"
      },
      "source": [
        "Next, we will need to do some modifications to the data we have. The first one will be to create a new variable called, Tomorrrow_Close which shifts the close price by 1 row and thus the last row will be deleted. This is done to add a new important feature so that our model will learn from. "
      ]
    },
    {
      "cell_type": "code",
      "execution_count": 10,
      "metadata": {
        "id": "dhxMK0DoyiIJ"
      },
      "outputs": [],
      "source": [
        "# Create variable '‘TOMORROW_CLOSE’' which shifts 'Close' up by 1\n",
        "tst['TOMORROW_CLOSE'] = tst['close'].shift(-1,fill_value=0)"
      ]
    },
    {
      "cell_type": "code",
      "execution_count": 11,
      "metadata": {
        "id": "tIyv8Sikzy_R"
      },
      "outputs": [],
      "source": [
        "# drop last row because we shifted value (remember this when you add your forecasting data)\n",
        "tst.drop(tst.tail(1).index,inplace=True) "
      ]
    },
    {
      "cell_type": "code",
      "execution_count": 12,
      "metadata": {
        "id": "Vb8CFnmzy1vh"
      },
      "outputs": [],
      "source": [
        "# Drop close column, since we created new ‘TOMORROW_CLOSE’\n",
        "tst = tst.drop(columns=['close'])"
      ]
    },
    {
      "cell_type": "code",
      "execution_count": 13,
      "metadata": {
        "colab": {
          "base_uri": "https://localhost:8080/",
          "height": 238
        },
        "id": "Ee1SrZN3y9zR",
        "outputId": "0d2fc5b1-1b31-4d89-9a59-1a4d548cedf0"
      },
      "outputs": [
        {
          "output_type": "execute_result",
          "data": {
            "text/plain": [
              "                 low      high      open        volume  TOMORROW_CLOSE\n",
              "time                                                                  \n",
              "2021-01-02  29039.00  33300.00  29413.29  46675.246521        33080.66\n",
              "2021-01-03  32008.62  34810.00  32222.88  36951.716506        32019.99\n",
              "2021-01-04  27678.00  33666.99  33082.84  46045.389685        34030.64\n",
              "2021-01-05  29891.13  34499.67  32020.22  42282.569200        36859.26\n",
              "2021-01-06  33352.54  37000.00  34043.91  45744.103200        39505.56"
            ],
            "text/html": [
              "\n",
              "  <div id=\"df-b99d27a2-b833-4f4f-8dc0-fabc03308e3f\">\n",
              "    <div class=\"colab-df-container\">\n",
              "      <div>\n",
              "<style scoped>\n",
              "    .dataframe tbody tr th:only-of-type {\n",
              "        vertical-align: middle;\n",
              "    }\n",
              "\n",
              "    .dataframe tbody tr th {\n",
              "        vertical-align: top;\n",
              "    }\n",
              "\n",
              "    .dataframe thead th {\n",
              "        text-align: right;\n",
              "    }\n",
              "</style>\n",
              "<table border=\"1\" class=\"dataframe\">\n",
              "  <thead>\n",
              "    <tr style=\"text-align: right;\">\n",
              "      <th></th>\n",
              "      <th>low</th>\n",
              "      <th>high</th>\n",
              "      <th>open</th>\n",
              "      <th>volume</th>\n",
              "      <th>TOMORROW_CLOSE</th>\n",
              "    </tr>\n",
              "    <tr>\n",
              "      <th>time</th>\n",
              "      <th></th>\n",
              "      <th></th>\n",
              "      <th></th>\n",
              "      <th></th>\n",
              "      <th></th>\n",
              "    </tr>\n",
              "  </thead>\n",
              "  <tbody>\n",
              "    <tr>\n",
              "      <th>2021-01-02</th>\n",
              "      <td>29039.00</td>\n",
              "      <td>33300.00</td>\n",
              "      <td>29413.29</td>\n",
              "      <td>46675.246521</td>\n",
              "      <td>33080.66</td>\n",
              "    </tr>\n",
              "    <tr>\n",
              "      <th>2021-01-03</th>\n",
              "      <td>32008.62</td>\n",
              "      <td>34810.00</td>\n",
              "      <td>32222.88</td>\n",
              "      <td>36951.716506</td>\n",
              "      <td>32019.99</td>\n",
              "    </tr>\n",
              "    <tr>\n",
              "      <th>2021-01-04</th>\n",
              "      <td>27678.00</td>\n",
              "      <td>33666.99</td>\n",
              "      <td>33082.84</td>\n",
              "      <td>46045.389685</td>\n",
              "      <td>34030.64</td>\n",
              "    </tr>\n",
              "    <tr>\n",
              "      <th>2021-01-05</th>\n",
              "      <td>29891.13</td>\n",
              "      <td>34499.67</td>\n",
              "      <td>32020.22</td>\n",
              "      <td>42282.569200</td>\n",
              "      <td>36859.26</td>\n",
              "    </tr>\n",
              "    <tr>\n",
              "      <th>2021-01-06</th>\n",
              "      <td>33352.54</td>\n",
              "      <td>37000.00</td>\n",
              "      <td>34043.91</td>\n",
              "      <td>45744.103200</td>\n",
              "      <td>39505.56</td>\n",
              "    </tr>\n",
              "  </tbody>\n",
              "</table>\n",
              "</div>\n",
              "      <button class=\"colab-df-convert\" onclick=\"convertToInteractive('df-b99d27a2-b833-4f4f-8dc0-fabc03308e3f')\"\n",
              "              title=\"Convert this dataframe to an interactive table.\"\n",
              "              style=\"display:none;\">\n",
              "        \n",
              "  <svg xmlns=\"http://www.w3.org/2000/svg\" height=\"24px\"viewBox=\"0 0 24 24\"\n",
              "       width=\"24px\">\n",
              "    <path d=\"M0 0h24v24H0V0z\" fill=\"none\"/>\n",
              "    <path d=\"M18.56 5.44l.94 2.06.94-2.06 2.06-.94-2.06-.94-.94-2.06-.94 2.06-2.06.94zm-11 1L8.5 8.5l.94-2.06 2.06-.94-2.06-.94L8.5 2.5l-.94 2.06-2.06.94zm10 10l.94 2.06.94-2.06 2.06-.94-2.06-.94-.94-2.06-.94 2.06-2.06.94z\"/><path d=\"M17.41 7.96l-1.37-1.37c-.4-.4-.92-.59-1.43-.59-.52 0-1.04.2-1.43.59L10.3 9.45l-7.72 7.72c-.78.78-.78 2.05 0 2.83L4 21.41c.39.39.9.59 1.41.59.51 0 1.02-.2 1.41-.59l7.78-7.78 2.81-2.81c.8-.78.8-2.07 0-2.86zM5.41 20L4 18.59l7.72-7.72 1.47 1.35L5.41 20z\"/>\n",
              "  </svg>\n",
              "      </button>\n",
              "      \n",
              "  <style>\n",
              "    .colab-df-container {\n",
              "      display:flex;\n",
              "      flex-wrap:wrap;\n",
              "      gap: 12px;\n",
              "    }\n",
              "\n",
              "    .colab-df-convert {\n",
              "      background-color: #E8F0FE;\n",
              "      border: none;\n",
              "      border-radius: 50%;\n",
              "      cursor: pointer;\n",
              "      display: none;\n",
              "      fill: #1967D2;\n",
              "      height: 32px;\n",
              "      padding: 0 0 0 0;\n",
              "      width: 32px;\n",
              "    }\n",
              "\n",
              "    .colab-df-convert:hover {\n",
              "      background-color: #E2EBFA;\n",
              "      box-shadow: 0px 1px 2px rgba(60, 64, 67, 0.3), 0px 1px 3px 1px rgba(60, 64, 67, 0.15);\n",
              "      fill: #174EA6;\n",
              "    }\n",
              "\n",
              "    [theme=dark] .colab-df-convert {\n",
              "      background-color: #3B4455;\n",
              "      fill: #D2E3FC;\n",
              "    }\n",
              "\n",
              "    [theme=dark] .colab-df-convert:hover {\n",
              "      background-color: #434B5C;\n",
              "      box-shadow: 0px 1px 3px 1px rgba(0, 0, 0, 0.15);\n",
              "      filter: drop-shadow(0px 1px 2px rgba(0, 0, 0, 0.3));\n",
              "      fill: #FFFFFF;\n",
              "    }\n",
              "  </style>\n",
              "\n",
              "      <script>\n",
              "        const buttonEl =\n",
              "          document.querySelector('#df-b99d27a2-b833-4f4f-8dc0-fabc03308e3f button.colab-df-convert');\n",
              "        buttonEl.style.display =\n",
              "          google.colab.kernel.accessAllowed ? 'block' : 'none';\n",
              "\n",
              "        async function convertToInteractive(key) {\n",
              "          const element = document.querySelector('#df-b99d27a2-b833-4f4f-8dc0-fabc03308e3f');\n",
              "          const dataTable =\n",
              "            await google.colab.kernel.invokeFunction('convertToInteractive',\n",
              "                                                     [key], {});\n",
              "          if (!dataTable) return;\n",
              "\n",
              "          const docLinkHtml = 'Like what you see? Visit the ' +\n",
              "            '<a target=\"_blank\" href=https://colab.research.google.com/notebooks/data_table.ipynb>data table notebook</a>'\n",
              "            + ' to learn more about interactive tables.';\n",
              "          element.innerHTML = '';\n",
              "          dataTable['output_type'] = 'display_data';\n",
              "          await google.colab.output.renderOutput(dataTable, element);\n",
              "          const docLink = document.createElement('div');\n",
              "          docLink.innerHTML = docLinkHtml;\n",
              "          element.appendChild(docLink);\n",
              "        }\n",
              "      </script>\n",
              "    </div>\n",
              "  </div>\n",
              "  "
            ]
          },
          "metadata": {},
          "execution_count": 13
        }
      ],
      "source": [
        "\n",
        "tst.head()"
      ]
    },
    {
      "cell_type": "code",
      "execution_count": 14,
      "metadata": {
        "colab": {
          "base_uri": "https://localhost:8080/"
        },
        "id": "bmfjRuDozBTh",
        "outputId": "96a8bea4-0a24-47b6-a3fe-faddd1e34591"
      },
      "outputs": [
        {
          "output_type": "execute_result",
          "data": {
            "text/plain": [
              "(545, 5)"
            ]
          },
          "metadata": {},
          "execution_count": 14
        }
      ],
      "source": [
        "# check the shape of data to know how many sample we have\n",
        "tst.shape"
      ]
    },
    {
      "cell_type": "code",
      "source": [
        "\n",
        "import numpy as np\n",
        "import pandas as pd\n",
        "import matplotlib.pyplot as plt\n",
        "import seaborn as sns\n",
        "import datetime \n",
        "from datetime import date\n",
        "import math\n",
        "import pandas_datareader as web\n"
      ],
      "metadata": {
        "id": "P8atecVtvkSK"
      },
      "execution_count": 15,
      "outputs": []
    },
    {
      "cell_type": "markdown",
      "source": [
        "***Technical Indicators***"
      ],
      "metadata": {
        "id": "Teyqc22CkuZx"
      }
    },
    {
      "cell_type": "code",
      "source": [
        "\n",
        "def get_technical_indicators(dataset):\n",
        "    # Create 7 and 21 days Moving Average\n",
        "    dataset['ma7'] = dataset['TOMORROW_CLOSE'].rolling(window=7).mean()\n",
        "    dataset['ma21'] = dataset['TOMORROW_CLOSE'].rolling(window=21).mean()\n",
        "    \n",
        "    # Create MACD\n",
        "    dataset['26ema'] = dataset['TOMORROW_CLOSE'].ewm(span=26).mean()\n",
        "    dataset['12ema'] = dataset['TOMORROW_CLOSE'].ewm(span=12).mean()\n",
        "    dataset['MACD'] = dataset['12ema']-dataset['26ema']\n",
        "\n",
        "    # Create Bollinger Bands\n",
        "    dataset['20sd'] = dataset['TOMORROW_CLOSE'].rolling(window = 21).std()\n",
        "    dataset['upper_band'] = dataset['ma21'] + (dataset['20sd']*2)\n",
        "    dataset['lower_band'] = dataset['ma21'] - (dataset['20sd']*2)\n",
        "    \n",
        "    # Create Exponential moving average\n",
        "    dataset['ema'] = dataset['TOMORROW_CLOSE'].ewm(com=0.5).mean()\n",
        "    \n",
        "    # Create Momentum\n",
        "    dataset['momentum'] = dataset['TOMORROW_CLOSE']-1\n",
        "    dataset['log_momentum'] = np.log(dataset['momentum'])\n",
        "    return dataset\n"
      ],
      "metadata": {
        "id": "ZLEgu4S3kxH2"
      },
      "execution_count": 16,
      "outputs": []
    },
    {
      "cell_type": "code",
      "source": [
        "df = get_technical_indicators(tst)"
      ],
      "metadata": {
        "id": "ezv-WDyHk76e"
      },
      "execution_count": 17,
      "outputs": []
    },
    {
      "cell_type": "code",
      "source": [
        "df = df.dropna()\n",
        "df.head()"
      ],
      "metadata": {
        "id": "OGhvZOa1lGK4",
        "colab": {
          "base_uri": "https://localhost:8080/",
          "height": 238
        },
        "outputId": "8d1a05ae-e18e-401b-bdd1-a9cb5ededd9a"
      },
      "execution_count": 18,
      "outputs": [
        {
          "output_type": "execute_result",
          "data": {
            "text/plain": [
              "                 low      high      open        volume  TOMORROW_CLOSE  \\\n",
              "time                                                                     \n",
              "2021-01-22  28732.00  33867.00  30855.90  48155.721617        32112.01   \n",
              "2021-01-23  31432.19  33488.79  32982.66  16139.814783        32288.56   \n",
              "2021-01-24  30931.21  33086.53  32110.00  13618.800978        32261.87   \n",
              "2021-01-25  31920.80  34888.00  32293.18  23045.662934        32510.82   \n",
              "2021-01-26  30830.00  32960.37  32260.52  23535.838917        30407.13   \n",
              "\n",
              "                     ma7          ma21         26ema         12ema  \\\n",
              "time                                                                 \n",
              "2021-01-22  34259.641429  35865.701429  35377.080031  34647.900062   \n",
              "2021-01-23  33755.150000  35827.982381  35096.733728  34275.485985   \n",
              "2021-01-24  33131.955714  35839.500476  34843.637701  33958.909800   \n",
              "2021-01-25  32645.318571  35767.128095  34638.483747  33732.009389   \n",
              "2021-01-26  31917.324286  35459.883810  34271.457772  33212.512918   \n",
              "\n",
              "                   MACD         20sd    upper_band    lower_band  \\\n",
              "time                                                               \n",
              "2021-01-22  -729.179969  2768.237573  41402.176574  30329.226283   \n",
              "2021-01-23  -821.247744  2813.115648  41454.213677  30201.751085   \n",
              "2021-01-24  -884.727901  2797.194653  41433.889782  30245.111171   \n",
              "2021-01-25  -906.474358  2865.171051  41497.470197  30036.785993   \n",
              "2021-01-26 -1058.944854  3080.085635  41620.055080  29299.712539   \n",
              "\n",
              "                     ema  momentum  log_momentum  \n",
              "time                                              \n",
              "2021-01-22  32345.742206  32111.01     10.376954  \n",
              "2021-01-23  32307.620735  32287.56     10.382437  \n",
              "2021-01-24  32277.120245  32260.87     10.381610  \n",
              "2021-01-25  32432.920082  32509.82     10.389297  \n",
              "2021-01-26  31082.393361  30406.13     10.322400  "
            ],
            "text/html": [
              "\n",
              "  <div id=\"df-30642dc3-9521-457d-8a96-a966f2df465a\">\n",
              "    <div class=\"colab-df-container\">\n",
              "      <div>\n",
              "<style scoped>\n",
              "    .dataframe tbody tr th:only-of-type {\n",
              "        vertical-align: middle;\n",
              "    }\n",
              "\n",
              "    .dataframe tbody tr th {\n",
              "        vertical-align: top;\n",
              "    }\n",
              "\n",
              "    .dataframe thead th {\n",
              "        text-align: right;\n",
              "    }\n",
              "</style>\n",
              "<table border=\"1\" class=\"dataframe\">\n",
              "  <thead>\n",
              "    <tr style=\"text-align: right;\">\n",
              "      <th></th>\n",
              "      <th>low</th>\n",
              "      <th>high</th>\n",
              "      <th>open</th>\n",
              "      <th>volume</th>\n",
              "      <th>TOMORROW_CLOSE</th>\n",
              "      <th>ma7</th>\n",
              "      <th>ma21</th>\n",
              "      <th>26ema</th>\n",
              "      <th>12ema</th>\n",
              "      <th>MACD</th>\n",
              "      <th>20sd</th>\n",
              "      <th>upper_band</th>\n",
              "      <th>lower_band</th>\n",
              "      <th>ema</th>\n",
              "      <th>momentum</th>\n",
              "      <th>log_momentum</th>\n",
              "    </tr>\n",
              "    <tr>\n",
              "      <th>time</th>\n",
              "      <th></th>\n",
              "      <th></th>\n",
              "      <th></th>\n",
              "      <th></th>\n",
              "      <th></th>\n",
              "      <th></th>\n",
              "      <th></th>\n",
              "      <th></th>\n",
              "      <th></th>\n",
              "      <th></th>\n",
              "      <th></th>\n",
              "      <th></th>\n",
              "      <th></th>\n",
              "      <th></th>\n",
              "      <th></th>\n",
              "      <th></th>\n",
              "    </tr>\n",
              "  </thead>\n",
              "  <tbody>\n",
              "    <tr>\n",
              "      <th>2021-01-22</th>\n",
              "      <td>28732.00</td>\n",
              "      <td>33867.00</td>\n",
              "      <td>30855.90</td>\n",
              "      <td>48155.721617</td>\n",
              "      <td>32112.01</td>\n",
              "      <td>34259.641429</td>\n",
              "      <td>35865.701429</td>\n",
              "      <td>35377.080031</td>\n",
              "      <td>34647.900062</td>\n",
              "      <td>-729.179969</td>\n",
              "      <td>2768.237573</td>\n",
              "      <td>41402.176574</td>\n",
              "      <td>30329.226283</td>\n",
              "      <td>32345.742206</td>\n",
              "      <td>32111.01</td>\n",
              "      <td>10.376954</td>\n",
              "    </tr>\n",
              "    <tr>\n",
              "      <th>2021-01-23</th>\n",
              "      <td>31432.19</td>\n",
              "      <td>33488.79</td>\n",
              "      <td>32982.66</td>\n",
              "      <td>16139.814783</td>\n",
              "      <td>32288.56</td>\n",
              "      <td>33755.150000</td>\n",
              "      <td>35827.982381</td>\n",
              "      <td>35096.733728</td>\n",
              "      <td>34275.485985</td>\n",
              "      <td>-821.247744</td>\n",
              "      <td>2813.115648</td>\n",
              "      <td>41454.213677</td>\n",
              "      <td>30201.751085</td>\n",
              "      <td>32307.620735</td>\n",
              "      <td>32287.56</td>\n",
              "      <td>10.382437</td>\n",
              "    </tr>\n",
              "    <tr>\n",
              "      <th>2021-01-24</th>\n",
              "      <td>30931.21</td>\n",
              "      <td>33086.53</td>\n",
              "      <td>32110.00</td>\n",
              "      <td>13618.800978</td>\n",
              "      <td>32261.87</td>\n",
              "      <td>33131.955714</td>\n",
              "      <td>35839.500476</td>\n",
              "      <td>34843.637701</td>\n",
              "      <td>33958.909800</td>\n",
              "      <td>-884.727901</td>\n",
              "      <td>2797.194653</td>\n",
              "      <td>41433.889782</td>\n",
              "      <td>30245.111171</td>\n",
              "      <td>32277.120245</td>\n",
              "      <td>32260.87</td>\n",
              "      <td>10.381610</td>\n",
              "    </tr>\n",
              "    <tr>\n",
              "      <th>2021-01-25</th>\n",
              "      <td>31920.80</td>\n",
              "      <td>34888.00</td>\n",
              "      <td>32293.18</td>\n",
              "      <td>23045.662934</td>\n",
              "      <td>32510.82</td>\n",
              "      <td>32645.318571</td>\n",
              "      <td>35767.128095</td>\n",
              "      <td>34638.483747</td>\n",
              "      <td>33732.009389</td>\n",
              "      <td>-906.474358</td>\n",
              "      <td>2865.171051</td>\n",
              "      <td>41497.470197</td>\n",
              "      <td>30036.785993</td>\n",
              "      <td>32432.920082</td>\n",
              "      <td>32509.82</td>\n",
              "      <td>10.389297</td>\n",
              "    </tr>\n",
              "    <tr>\n",
              "      <th>2021-01-26</th>\n",
              "      <td>30830.00</td>\n",
              "      <td>32960.37</td>\n",
              "      <td>32260.52</td>\n",
              "      <td>23535.838917</td>\n",
              "      <td>30407.13</td>\n",
              "      <td>31917.324286</td>\n",
              "      <td>35459.883810</td>\n",
              "      <td>34271.457772</td>\n",
              "      <td>33212.512918</td>\n",
              "      <td>-1058.944854</td>\n",
              "      <td>3080.085635</td>\n",
              "      <td>41620.055080</td>\n",
              "      <td>29299.712539</td>\n",
              "      <td>31082.393361</td>\n",
              "      <td>30406.13</td>\n",
              "      <td>10.322400</td>\n",
              "    </tr>\n",
              "  </tbody>\n",
              "</table>\n",
              "</div>\n",
              "      <button class=\"colab-df-convert\" onclick=\"convertToInteractive('df-30642dc3-9521-457d-8a96-a966f2df465a')\"\n",
              "              title=\"Convert this dataframe to an interactive table.\"\n",
              "              style=\"display:none;\">\n",
              "        \n",
              "  <svg xmlns=\"http://www.w3.org/2000/svg\" height=\"24px\"viewBox=\"0 0 24 24\"\n",
              "       width=\"24px\">\n",
              "    <path d=\"M0 0h24v24H0V0z\" fill=\"none\"/>\n",
              "    <path d=\"M18.56 5.44l.94 2.06.94-2.06 2.06-.94-2.06-.94-.94-2.06-.94 2.06-2.06.94zm-11 1L8.5 8.5l.94-2.06 2.06-.94-2.06-.94L8.5 2.5l-.94 2.06-2.06.94zm10 10l.94 2.06.94-2.06 2.06-.94-2.06-.94-.94-2.06-.94 2.06-2.06.94z\"/><path d=\"M17.41 7.96l-1.37-1.37c-.4-.4-.92-.59-1.43-.59-.52 0-1.04.2-1.43.59L10.3 9.45l-7.72 7.72c-.78.78-.78 2.05 0 2.83L4 21.41c.39.39.9.59 1.41.59.51 0 1.02-.2 1.41-.59l7.78-7.78 2.81-2.81c.8-.78.8-2.07 0-2.86zM5.41 20L4 18.59l7.72-7.72 1.47 1.35L5.41 20z\"/>\n",
              "  </svg>\n",
              "      </button>\n",
              "      \n",
              "  <style>\n",
              "    .colab-df-container {\n",
              "      display:flex;\n",
              "      flex-wrap:wrap;\n",
              "      gap: 12px;\n",
              "    }\n",
              "\n",
              "    .colab-df-convert {\n",
              "      background-color: #E8F0FE;\n",
              "      border: none;\n",
              "      border-radius: 50%;\n",
              "      cursor: pointer;\n",
              "      display: none;\n",
              "      fill: #1967D2;\n",
              "      height: 32px;\n",
              "      padding: 0 0 0 0;\n",
              "      width: 32px;\n",
              "    }\n",
              "\n",
              "    .colab-df-convert:hover {\n",
              "      background-color: #E2EBFA;\n",
              "      box-shadow: 0px 1px 2px rgba(60, 64, 67, 0.3), 0px 1px 3px 1px rgba(60, 64, 67, 0.15);\n",
              "      fill: #174EA6;\n",
              "    }\n",
              "\n",
              "    [theme=dark] .colab-df-convert {\n",
              "      background-color: #3B4455;\n",
              "      fill: #D2E3FC;\n",
              "    }\n",
              "\n",
              "    [theme=dark] .colab-df-convert:hover {\n",
              "      background-color: #434B5C;\n",
              "      box-shadow: 0px 1px 3px 1px rgba(0, 0, 0, 0.15);\n",
              "      filter: drop-shadow(0px 1px 2px rgba(0, 0, 0, 0.3));\n",
              "      fill: #FFFFFF;\n",
              "    }\n",
              "  </style>\n",
              "\n",
              "      <script>\n",
              "        const buttonEl =\n",
              "          document.querySelector('#df-30642dc3-9521-457d-8a96-a966f2df465a button.colab-df-convert');\n",
              "        buttonEl.style.display =\n",
              "          google.colab.kernel.accessAllowed ? 'block' : 'none';\n",
              "\n",
              "        async function convertToInteractive(key) {\n",
              "          const element = document.querySelector('#df-30642dc3-9521-457d-8a96-a966f2df465a');\n",
              "          const dataTable =\n",
              "            await google.colab.kernel.invokeFunction('convertToInteractive',\n",
              "                                                     [key], {});\n",
              "          if (!dataTable) return;\n",
              "\n",
              "          const docLinkHtml = 'Like what you see? Visit the ' +\n",
              "            '<a target=\"_blank\" href=https://colab.research.google.com/notebooks/data_table.ipynb>data table notebook</a>'\n",
              "            + ' to learn more about interactive tables.';\n",
              "          element.innerHTML = '';\n",
              "          dataTable['output_type'] = 'display_data';\n",
              "          await google.colab.output.renderOutput(dataTable, element);\n",
              "          const docLink = document.createElement('div');\n",
              "          docLink.innerHTML = docLinkHtml;\n",
              "          element.appendChild(docLink);\n",
              "        }\n",
              "      </script>\n",
              "    </div>\n",
              "  </div>\n",
              "  "
            ]
          },
          "metadata": {},
          "execution_count": 18
        }
      ]
    },
    {
      "cell_type": "code",
      "source": [
        "df.shape"
      ],
      "metadata": {
        "id": "1N_XuSxClc_Q",
        "colab": {
          "base_uri": "https://localhost:8080/"
        },
        "outputId": "06c86f4b-7acd-4627-f98d-23d09d4de504"
      },
      "execution_count": 19,
      "outputs": [
        {
          "output_type": "execute_result",
          "data": {
            "text/plain": [
              "(525, 16)"
            ]
          },
          "metadata": {},
          "execution_count": 19
        }
      ]
    },
    {
      "cell_type": "code",
      "source": [
        "# Double check for NANS !\n",
        "#The data is clean already, but let us try to check for any null or NA vales.\n",
        "print('Null Values:',tst.isnull().values.sum())\n",
        "print('If any NA values:', tst.isnull().values.any())"
      ],
      "metadata": {
        "id": "z-xXwsbNldFE",
        "colab": {
          "base_uri": "https://localhost:8080/"
        },
        "outputId": "8b4edb6a-1af5-4d8f-cd97-29aff3414351"
      },
      "execution_count": 20,
      "outputs": [
        {
          "output_type": "stream",
          "name": "stdout",
          "text": [
            "Null Values: 86\n",
            "If any NA values: True\n"
          ]
        }
      ]
    },
    {
      "cell_type": "code",
      "execution_count": 21,
      "metadata": {
        "id": "vaD-dLKTzJbx"
      },
      "outputs": [],
      "source": [
        "# Split the data intro train data (90%) and test data (10%)\n",
        "\n",
        "train_size = int(len(tst)*0.90)\n",
        "train_dataset, test_dataset = tst.iloc[:train_size],tst.iloc[train_size:]\n"
      ]
    },
    {
      "cell_type": "code",
      "source": [
        "print('Null Values:',train_dataset.isnull().values.sum())\n",
        "train_dataset = train_dataset.dropna()\n",
        "print('Null Values:',train_dataset.isnull().values.sum())"
      ],
      "metadata": {
        "colab": {
          "base_uri": "https://localhost:8080/"
        },
        "id": "kUpuc7voDUCC",
        "outputId": "c07b95c6-5cbb-42d7-fb42-369fd6b5cf7b"
      },
      "execution_count": 22,
      "outputs": [
        {
          "output_type": "stream",
          "name": "stdout",
          "text": [
            "Null Values: 86\n",
            "Null Values: 0\n"
          ]
        }
      ]
    },
    {
      "cell_type": "code",
      "source": [
        ""
      ],
      "metadata": {
        "id": "hCrSCc9hDUI5"
      },
      "execution_count": 22,
      "outputs": []
    },
    {
      "cell_type": "code",
      "execution_count": 23,
      "metadata": {
        "id": "yIvQhz7xpYkg",
        "colab": {
          "base_uri": "https://localhost:8080/",
          "height": 238
        },
        "outputId": "b341c65e-7dfe-4a20-e9d8-80135045a3a6"
      },
      "outputs": [
        {
          "output_type": "execute_result",
          "data": {
            "text/plain": [
              "                 low      high      open        volume  TOMORROW_CLOSE  \\\n",
              "time                                                                     \n",
              "2021-01-22  28732.00  33867.00  30855.90  48155.721617        32112.01   \n",
              "2021-01-23  31432.19  33488.79  32982.66  16139.814783        32288.56   \n",
              "2021-01-24  30931.21  33086.53  32110.00  13618.800978        32261.87   \n",
              "2021-01-25  31920.80  34888.00  32293.18  23045.662934        32510.82   \n",
              "2021-01-26  30830.00  32960.37  32260.52  23535.838917        30407.13   \n",
              "\n",
              "                     ma7          ma21         26ema         12ema  \\\n",
              "time                                                                 \n",
              "2021-01-22  34259.641429  35865.701429  35377.080031  34647.900062   \n",
              "2021-01-23  33755.150000  35827.982381  35096.733728  34275.485985   \n",
              "2021-01-24  33131.955714  35839.500476  34843.637701  33958.909800   \n",
              "2021-01-25  32645.318571  35767.128095  34638.483747  33732.009389   \n",
              "2021-01-26  31917.324286  35459.883810  34271.457772  33212.512918   \n",
              "\n",
              "                   MACD         20sd    upper_band    lower_band  \\\n",
              "time                                                               \n",
              "2021-01-22  -729.179969  2768.237573  41402.176574  30329.226283   \n",
              "2021-01-23  -821.247744  2813.115648  41454.213677  30201.751085   \n",
              "2021-01-24  -884.727901  2797.194653  41433.889782  30245.111171   \n",
              "2021-01-25  -906.474358  2865.171051  41497.470197  30036.785993   \n",
              "2021-01-26 -1058.944854  3080.085635  41620.055080  29299.712539   \n",
              "\n",
              "                     ema  momentum  log_momentum  \n",
              "time                                              \n",
              "2021-01-22  32345.742206  32111.01     10.376954  \n",
              "2021-01-23  32307.620735  32287.56     10.382437  \n",
              "2021-01-24  32277.120245  32260.87     10.381610  \n",
              "2021-01-25  32432.920082  32509.82     10.389297  \n",
              "2021-01-26  31082.393361  30406.13     10.322400  "
            ],
            "text/html": [
              "\n",
              "  <div id=\"df-4660b959-6872-4cb9-932a-334182f63bbc\">\n",
              "    <div class=\"colab-df-container\">\n",
              "      <div>\n",
              "<style scoped>\n",
              "    .dataframe tbody tr th:only-of-type {\n",
              "        vertical-align: middle;\n",
              "    }\n",
              "\n",
              "    .dataframe tbody tr th {\n",
              "        vertical-align: top;\n",
              "    }\n",
              "\n",
              "    .dataframe thead th {\n",
              "        text-align: right;\n",
              "    }\n",
              "</style>\n",
              "<table border=\"1\" class=\"dataframe\">\n",
              "  <thead>\n",
              "    <tr style=\"text-align: right;\">\n",
              "      <th></th>\n",
              "      <th>low</th>\n",
              "      <th>high</th>\n",
              "      <th>open</th>\n",
              "      <th>volume</th>\n",
              "      <th>TOMORROW_CLOSE</th>\n",
              "      <th>ma7</th>\n",
              "      <th>ma21</th>\n",
              "      <th>26ema</th>\n",
              "      <th>12ema</th>\n",
              "      <th>MACD</th>\n",
              "      <th>20sd</th>\n",
              "      <th>upper_band</th>\n",
              "      <th>lower_band</th>\n",
              "      <th>ema</th>\n",
              "      <th>momentum</th>\n",
              "      <th>log_momentum</th>\n",
              "    </tr>\n",
              "    <tr>\n",
              "      <th>time</th>\n",
              "      <th></th>\n",
              "      <th></th>\n",
              "      <th></th>\n",
              "      <th></th>\n",
              "      <th></th>\n",
              "      <th></th>\n",
              "      <th></th>\n",
              "      <th></th>\n",
              "      <th></th>\n",
              "      <th></th>\n",
              "      <th></th>\n",
              "      <th></th>\n",
              "      <th></th>\n",
              "      <th></th>\n",
              "      <th></th>\n",
              "      <th></th>\n",
              "    </tr>\n",
              "  </thead>\n",
              "  <tbody>\n",
              "    <tr>\n",
              "      <th>2021-01-22</th>\n",
              "      <td>28732.00</td>\n",
              "      <td>33867.00</td>\n",
              "      <td>30855.90</td>\n",
              "      <td>48155.721617</td>\n",
              "      <td>32112.01</td>\n",
              "      <td>34259.641429</td>\n",
              "      <td>35865.701429</td>\n",
              "      <td>35377.080031</td>\n",
              "      <td>34647.900062</td>\n",
              "      <td>-729.179969</td>\n",
              "      <td>2768.237573</td>\n",
              "      <td>41402.176574</td>\n",
              "      <td>30329.226283</td>\n",
              "      <td>32345.742206</td>\n",
              "      <td>32111.01</td>\n",
              "      <td>10.376954</td>\n",
              "    </tr>\n",
              "    <tr>\n",
              "      <th>2021-01-23</th>\n",
              "      <td>31432.19</td>\n",
              "      <td>33488.79</td>\n",
              "      <td>32982.66</td>\n",
              "      <td>16139.814783</td>\n",
              "      <td>32288.56</td>\n",
              "      <td>33755.150000</td>\n",
              "      <td>35827.982381</td>\n",
              "      <td>35096.733728</td>\n",
              "      <td>34275.485985</td>\n",
              "      <td>-821.247744</td>\n",
              "      <td>2813.115648</td>\n",
              "      <td>41454.213677</td>\n",
              "      <td>30201.751085</td>\n",
              "      <td>32307.620735</td>\n",
              "      <td>32287.56</td>\n",
              "      <td>10.382437</td>\n",
              "    </tr>\n",
              "    <tr>\n",
              "      <th>2021-01-24</th>\n",
              "      <td>30931.21</td>\n",
              "      <td>33086.53</td>\n",
              "      <td>32110.00</td>\n",
              "      <td>13618.800978</td>\n",
              "      <td>32261.87</td>\n",
              "      <td>33131.955714</td>\n",
              "      <td>35839.500476</td>\n",
              "      <td>34843.637701</td>\n",
              "      <td>33958.909800</td>\n",
              "      <td>-884.727901</td>\n",
              "      <td>2797.194653</td>\n",
              "      <td>41433.889782</td>\n",
              "      <td>30245.111171</td>\n",
              "      <td>32277.120245</td>\n",
              "      <td>32260.87</td>\n",
              "      <td>10.381610</td>\n",
              "    </tr>\n",
              "    <tr>\n",
              "      <th>2021-01-25</th>\n",
              "      <td>31920.80</td>\n",
              "      <td>34888.00</td>\n",
              "      <td>32293.18</td>\n",
              "      <td>23045.662934</td>\n",
              "      <td>32510.82</td>\n",
              "      <td>32645.318571</td>\n",
              "      <td>35767.128095</td>\n",
              "      <td>34638.483747</td>\n",
              "      <td>33732.009389</td>\n",
              "      <td>-906.474358</td>\n",
              "      <td>2865.171051</td>\n",
              "      <td>41497.470197</td>\n",
              "      <td>30036.785993</td>\n",
              "      <td>32432.920082</td>\n",
              "      <td>32509.82</td>\n",
              "      <td>10.389297</td>\n",
              "    </tr>\n",
              "    <tr>\n",
              "      <th>2021-01-26</th>\n",
              "      <td>30830.00</td>\n",
              "      <td>32960.37</td>\n",
              "      <td>32260.52</td>\n",
              "      <td>23535.838917</td>\n",
              "      <td>30407.13</td>\n",
              "      <td>31917.324286</td>\n",
              "      <td>35459.883810</td>\n",
              "      <td>34271.457772</td>\n",
              "      <td>33212.512918</td>\n",
              "      <td>-1058.944854</td>\n",
              "      <td>3080.085635</td>\n",
              "      <td>41620.055080</td>\n",
              "      <td>29299.712539</td>\n",
              "      <td>31082.393361</td>\n",
              "      <td>30406.13</td>\n",
              "      <td>10.322400</td>\n",
              "    </tr>\n",
              "  </tbody>\n",
              "</table>\n",
              "</div>\n",
              "      <button class=\"colab-df-convert\" onclick=\"convertToInteractive('df-4660b959-6872-4cb9-932a-334182f63bbc')\"\n",
              "              title=\"Convert this dataframe to an interactive table.\"\n",
              "              style=\"display:none;\">\n",
              "        \n",
              "  <svg xmlns=\"http://www.w3.org/2000/svg\" height=\"24px\"viewBox=\"0 0 24 24\"\n",
              "       width=\"24px\">\n",
              "    <path d=\"M0 0h24v24H0V0z\" fill=\"none\"/>\n",
              "    <path d=\"M18.56 5.44l.94 2.06.94-2.06 2.06-.94-2.06-.94-.94-2.06-.94 2.06-2.06.94zm-11 1L8.5 8.5l.94-2.06 2.06-.94-2.06-.94L8.5 2.5l-.94 2.06-2.06.94zm10 10l.94 2.06.94-2.06 2.06-.94-2.06-.94-.94-2.06-.94 2.06-2.06.94z\"/><path d=\"M17.41 7.96l-1.37-1.37c-.4-.4-.92-.59-1.43-.59-.52 0-1.04.2-1.43.59L10.3 9.45l-7.72 7.72c-.78.78-.78 2.05 0 2.83L4 21.41c.39.39.9.59 1.41.59.51 0 1.02-.2 1.41-.59l7.78-7.78 2.81-2.81c.8-.78.8-2.07 0-2.86zM5.41 20L4 18.59l7.72-7.72 1.47 1.35L5.41 20z\"/>\n",
              "  </svg>\n",
              "      </button>\n",
              "      \n",
              "  <style>\n",
              "    .colab-df-container {\n",
              "      display:flex;\n",
              "      flex-wrap:wrap;\n",
              "      gap: 12px;\n",
              "    }\n",
              "\n",
              "    .colab-df-convert {\n",
              "      background-color: #E8F0FE;\n",
              "      border: none;\n",
              "      border-radius: 50%;\n",
              "      cursor: pointer;\n",
              "      display: none;\n",
              "      fill: #1967D2;\n",
              "      height: 32px;\n",
              "      padding: 0 0 0 0;\n",
              "      width: 32px;\n",
              "    }\n",
              "\n",
              "    .colab-df-convert:hover {\n",
              "      background-color: #E2EBFA;\n",
              "      box-shadow: 0px 1px 2px rgba(60, 64, 67, 0.3), 0px 1px 3px 1px rgba(60, 64, 67, 0.15);\n",
              "      fill: #174EA6;\n",
              "    }\n",
              "\n",
              "    [theme=dark] .colab-df-convert {\n",
              "      background-color: #3B4455;\n",
              "      fill: #D2E3FC;\n",
              "    }\n",
              "\n",
              "    [theme=dark] .colab-df-convert:hover {\n",
              "      background-color: #434B5C;\n",
              "      box-shadow: 0px 1px 3px 1px rgba(0, 0, 0, 0.15);\n",
              "      filter: drop-shadow(0px 1px 2px rgba(0, 0, 0, 0.3));\n",
              "      fill: #FFFFFF;\n",
              "    }\n",
              "  </style>\n",
              "\n",
              "      <script>\n",
              "        const buttonEl =\n",
              "          document.querySelector('#df-4660b959-6872-4cb9-932a-334182f63bbc button.colab-df-convert');\n",
              "        buttonEl.style.display =\n",
              "          google.colab.kernel.accessAllowed ? 'block' : 'none';\n",
              "\n",
              "        async function convertToInteractive(key) {\n",
              "          const element = document.querySelector('#df-4660b959-6872-4cb9-932a-334182f63bbc');\n",
              "          const dataTable =\n",
              "            await google.colab.kernel.invokeFunction('convertToInteractive',\n",
              "                                                     [key], {});\n",
              "          if (!dataTable) return;\n",
              "\n",
              "          const docLinkHtml = 'Like what you see? Visit the ' +\n",
              "            '<a target=\"_blank\" href=https://colab.research.google.com/notebooks/data_table.ipynb>data table notebook</a>'\n",
              "            + ' to learn more about interactive tables.';\n",
              "          element.innerHTML = '';\n",
              "          dataTable['output_type'] = 'display_data';\n",
              "          await google.colab.output.renderOutput(dataTable, element);\n",
              "          const docLink = document.createElement('div');\n",
              "          docLink.innerHTML = docLinkHtml;\n",
              "          element.appendChild(docLink);\n",
              "        }\n",
              "      </script>\n",
              "    </div>\n",
              "  </div>\n",
              "  "
            ]
          },
          "metadata": {},
          "execution_count": 23
        }
      ],
      "source": [
        "# Double check the split\n",
        "train_dataset.head()"
      ]
    },
    {
      "cell_type": "code",
      "source": [
        "print('Null Values:',train_dataset.isnull().values.sum())"
      ],
      "metadata": {
        "colab": {
          "base_uri": "https://localhost:8080/"
        },
        "id": "nfUkNIVSpw6D",
        "outputId": "a3079440-ecac-4873-fdfb-140ae47122a9"
      },
      "execution_count": 24,
      "outputs": [
        {
          "output_type": "stream",
          "name": "stdout",
          "text": [
            "Null Values: 0\n"
          ]
        }
      ]
    },
    {
      "cell_type": "code",
      "execution_count": 25,
      "metadata": {
        "id": "1p1UTPx2XZmv",
        "colab": {
          "base_uri": "https://localhost:8080/",
          "height": 238
        },
        "outputId": "800ab280-8fad-4dd9-98f8-81e0bdc3a408"
      },
      "outputs": [
        {
          "output_type": "execute_result",
          "data": {
            "text/plain": [
              "                 low      high      open        volume  TOMORROW_CLOSE  \\\n",
              "time                                                                     \n",
              "2022-05-07  34785.00  36125.00  35999.10  11372.453192        34027.91   \n",
              "2022-05-08  33701.00  35499.93  35458.00  22357.511521        30078.27   \n",
              "2022-05-09  30010.00  34231.54  34033.49  55136.453328        31002.39   \n",
              "2022-05-10  29735.05  32645.49  30078.27  55818.019003        28972.34   \n",
              "2022-05-11  27682.38  32185.90  31002.39  61128.252963        28941.95   \n",
              "\n",
              "                     ma7          ma21         26ema         12ema  \\\n",
              "time                                                                 \n",
              "2022-05-07  36846.038571  38713.734286  38779.645486  37242.221661   \n",
              "2022-05-08  35641.378571  38203.005238  38135.099153  36140.075252   \n",
              "2022-05-09  34681.778571  37702.935714  37606.750327  35349.662136   \n",
              "2022-05-10  33153.604286  37112.208571  36967.164377  34368.535653   \n",
              "2022-05-11  32068.565714  36562.739048  36372.704053  33533.676322   \n",
              "\n",
              "                   MACD         20sd    upper_band    lower_band  \\\n",
              "time                                                               \n",
              "2022-05-07 -1537.423825  1962.220210  42638.174706  34789.293865   \n",
              "2022-05-08 -1995.023902  2662.068970  43527.143178  32878.867298   \n",
              "2022-05-09 -2257.088191  2978.540310  43660.016335  31745.855094   \n",
              "2022-05-10 -2598.628723  3411.934849  43936.078270  30288.338873   \n",
              "2022-05-11 -2839.027731  3754.273471  44071.285990  29054.192105   \n",
              "\n",
              "                     ema  momentum  log_momentum  \n",
              "time                                              \n",
              "2022-05-07  34616.311410  34026.91     10.434907  \n",
              "2022-05-08  31590.950470  30077.27     10.311525  \n",
              "2022-05-09  31198.576823  31001.39     10.341787  \n",
              "2022-05-10  29714.418941  28971.34     10.274062  \n",
              "2022-05-11  29199.439647  28940.95     10.273013  "
            ],
            "text/html": [
              "\n",
              "  <div id=\"df-acd601d8-c9a8-4a88-aeef-6cc201c2e581\">\n",
              "    <div class=\"colab-df-container\">\n",
              "      <div>\n",
              "<style scoped>\n",
              "    .dataframe tbody tr th:only-of-type {\n",
              "        vertical-align: middle;\n",
              "    }\n",
              "\n",
              "    .dataframe tbody tr th {\n",
              "        vertical-align: top;\n",
              "    }\n",
              "\n",
              "    .dataframe thead th {\n",
              "        text-align: right;\n",
              "    }\n",
              "</style>\n",
              "<table border=\"1\" class=\"dataframe\">\n",
              "  <thead>\n",
              "    <tr style=\"text-align: right;\">\n",
              "      <th></th>\n",
              "      <th>low</th>\n",
              "      <th>high</th>\n",
              "      <th>open</th>\n",
              "      <th>volume</th>\n",
              "      <th>TOMORROW_CLOSE</th>\n",
              "      <th>ma7</th>\n",
              "      <th>ma21</th>\n",
              "      <th>26ema</th>\n",
              "      <th>12ema</th>\n",
              "      <th>MACD</th>\n",
              "      <th>20sd</th>\n",
              "      <th>upper_band</th>\n",
              "      <th>lower_band</th>\n",
              "      <th>ema</th>\n",
              "      <th>momentum</th>\n",
              "      <th>log_momentum</th>\n",
              "    </tr>\n",
              "    <tr>\n",
              "      <th>time</th>\n",
              "      <th></th>\n",
              "      <th></th>\n",
              "      <th></th>\n",
              "      <th></th>\n",
              "      <th></th>\n",
              "      <th></th>\n",
              "      <th></th>\n",
              "      <th></th>\n",
              "      <th></th>\n",
              "      <th></th>\n",
              "      <th></th>\n",
              "      <th></th>\n",
              "      <th></th>\n",
              "      <th></th>\n",
              "      <th></th>\n",
              "      <th></th>\n",
              "    </tr>\n",
              "  </thead>\n",
              "  <tbody>\n",
              "    <tr>\n",
              "      <th>2022-05-07</th>\n",
              "      <td>34785.00</td>\n",
              "      <td>36125.00</td>\n",
              "      <td>35999.10</td>\n",
              "      <td>11372.453192</td>\n",
              "      <td>34027.91</td>\n",
              "      <td>36846.038571</td>\n",
              "      <td>38713.734286</td>\n",
              "      <td>38779.645486</td>\n",
              "      <td>37242.221661</td>\n",
              "      <td>-1537.423825</td>\n",
              "      <td>1962.220210</td>\n",
              "      <td>42638.174706</td>\n",
              "      <td>34789.293865</td>\n",
              "      <td>34616.311410</td>\n",
              "      <td>34026.91</td>\n",
              "      <td>10.434907</td>\n",
              "    </tr>\n",
              "    <tr>\n",
              "      <th>2022-05-08</th>\n",
              "      <td>33701.00</td>\n",
              "      <td>35499.93</td>\n",
              "      <td>35458.00</td>\n",
              "      <td>22357.511521</td>\n",
              "      <td>30078.27</td>\n",
              "      <td>35641.378571</td>\n",
              "      <td>38203.005238</td>\n",
              "      <td>38135.099153</td>\n",
              "      <td>36140.075252</td>\n",
              "      <td>-1995.023902</td>\n",
              "      <td>2662.068970</td>\n",
              "      <td>43527.143178</td>\n",
              "      <td>32878.867298</td>\n",
              "      <td>31590.950470</td>\n",
              "      <td>30077.27</td>\n",
              "      <td>10.311525</td>\n",
              "    </tr>\n",
              "    <tr>\n",
              "      <th>2022-05-09</th>\n",
              "      <td>30010.00</td>\n",
              "      <td>34231.54</td>\n",
              "      <td>34033.49</td>\n",
              "      <td>55136.453328</td>\n",
              "      <td>31002.39</td>\n",
              "      <td>34681.778571</td>\n",
              "      <td>37702.935714</td>\n",
              "      <td>37606.750327</td>\n",
              "      <td>35349.662136</td>\n",
              "      <td>-2257.088191</td>\n",
              "      <td>2978.540310</td>\n",
              "      <td>43660.016335</td>\n",
              "      <td>31745.855094</td>\n",
              "      <td>31198.576823</td>\n",
              "      <td>31001.39</td>\n",
              "      <td>10.341787</td>\n",
              "    </tr>\n",
              "    <tr>\n",
              "      <th>2022-05-10</th>\n",
              "      <td>29735.05</td>\n",
              "      <td>32645.49</td>\n",
              "      <td>30078.27</td>\n",
              "      <td>55818.019003</td>\n",
              "      <td>28972.34</td>\n",
              "      <td>33153.604286</td>\n",
              "      <td>37112.208571</td>\n",
              "      <td>36967.164377</td>\n",
              "      <td>34368.535653</td>\n",
              "      <td>-2598.628723</td>\n",
              "      <td>3411.934849</td>\n",
              "      <td>43936.078270</td>\n",
              "      <td>30288.338873</td>\n",
              "      <td>29714.418941</td>\n",
              "      <td>28971.34</td>\n",
              "      <td>10.274062</td>\n",
              "    </tr>\n",
              "    <tr>\n",
              "      <th>2022-05-11</th>\n",
              "      <td>27682.38</td>\n",
              "      <td>32185.90</td>\n",
              "      <td>31002.39</td>\n",
              "      <td>61128.252963</td>\n",
              "      <td>28941.95</td>\n",
              "      <td>32068.565714</td>\n",
              "      <td>36562.739048</td>\n",
              "      <td>36372.704053</td>\n",
              "      <td>33533.676322</td>\n",
              "      <td>-2839.027731</td>\n",
              "      <td>3754.273471</td>\n",
              "      <td>44071.285990</td>\n",
              "      <td>29054.192105</td>\n",
              "      <td>29199.439647</td>\n",
              "      <td>28940.95</td>\n",
              "      <td>10.273013</td>\n",
              "    </tr>\n",
              "  </tbody>\n",
              "</table>\n",
              "</div>\n",
              "      <button class=\"colab-df-convert\" onclick=\"convertToInteractive('df-acd601d8-c9a8-4a88-aeef-6cc201c2e581')\"\n",
              "              title=\"Convert this dataframe to an interactive table.\"\n",
              "              style=\"display:none;\">\n",
              "        \n",
              "  <svg xmlns=\"http://www.w3.org/2000/svg\" height=\"24px\"viewBox=\"0 0 24 24\"\n",
              "       width=\"24px\">\n",
              "    <path d=\"M0 0h24v24H0V0z\" fill=\"none\"/>\n",
              "    <path d=\"M18.56 5.44l.94 2.06.94-2.06 2.06-.94-2.06-.94-.94-2.06-.94 2.06-2.06.94zm-11 1L8.5 8.5l.94-2.06 2.06-.94-2.06-.94L8.5 2.5l-.94 2.06-2.06.94zm10 10l.94 2.06.94-2.06 2.06-.94-2.06-.94-.94-2.06-.94 2.06-2.06.94z\"/><path d=\"M17.41 7.96l-1.37-1.37c-.4-.4-.92-.59-1.43-.59-.52 0-1.04.2-1.43.59L10.3 9.45l-7.72 7.72c-.78.78-.78 2.05 0 2.83L4 21.41c.39.39.9.59 1.41.59.51 0 1.02-.2 1.41-.59l7.78-7.78 2.81-2.81c.8-.78.8-2.07 0-2.86zM5.41 20L4 18.59l7.72-7.72 1.47 1.35L5.41 20z\"/>\n",
              "  </svg>\n",
              "      </button>\n",
              "      \n",
              "  <style>\n",
              "    .colab-df-container {\n",
              "      display:flex;\n",
              "      flex-wrap:wrap;\n",
              "      gap: 12px;\n",
              "    }\n",
              "\n",
              "    .colab-df-convert {\n",
              "      background-color: #E8F0FE;\n",
              "      border: none;\n",
              "      border-radius: 50%;\n",
              "      cursor: pointer;\n",
              "      display: none;\n",
              "      fill: #1967D2;\n",
              "      height: 32px;\n",
              "      padding: 0 0 0 0;\n",
              "      width: 32px;\n",
              "    }\n",
              "\n",
              "    .colab-df-convert:hover {\n",
              "      background-color: #E2EBFA;\n",
              "      box-shadow: 0px 1px 2px rgba(60, 64, 67, 0.3), 0px 1px 3px 1px rgba(60, 64, 67, 0.15);\n",
              "      fill: #174EA6;\n",
              "    }\n",
              "\n",
              "    [theme=dark] .colab-df-convert {\n",
              "      background-color: #3B4455;\n",
              "      fill: #D2E3FC;\n",
              "    }\n",
              "\n",
              "    [theme=dark] .colab-df-convert:hover {\n",
              "      background-color: #434B5C;\n",
              "      box-shadow: 0px 1px 3px 1px rgba(0, 0, 0, 0.15);\n",
              "      filter: drop-shadow(0px 1px 2px rgba(0, 0, 0, 0.3));\n",
              "      fill: #FFFFFF;\n",
              "    }\n",
              "  </style>\n",
              "\n",
              "      <script>\n",
              "        const buttonEl =\n",
              "          document.querySelector('#df-acd601d8-c9a8-4a88-aeef-6cc201c2e581 button.colab-df-convert');\n",
              "        buttonEl.style.display =\n",
              "          google.colab.kernel.accessAllowed ? 'block' : 'none';\n",
              "\n",
              "        async function convertToInteractive(key) {\n",
              "          const element = document.querySelector('#df-acd601d8-c9a8-4a88-aeef-6cc201c2e581');\n",
              "          const dataTable =\n",
              "            await google.colab.kernel.invokeFunction('convertToInteractive',\n",
              "                                                     [key], {});\n",
              "          if (!dataTable) return;\n",
              "\n",
              "          const docLinkHtml = 'Like what you see? Visit the ' +\n",
              "            '<a target=\"_blank\" href=https://colab.research.google.com/notebooks/data_table.ipynb>data table notebook</a>'\n",
              "            + ' to learn more about interactive tables.';\n",
              "          element.innerHTML = '';\n",
              "          dataTable['output_type'] = 'display_data';\n",
              "          await google.colab.output.renderOutput(dataTable, element);\n",
              "          const docLink = document.createElement('div');\n",
              "          docLink.innerHTML = docLinkHtml;\n",
              "          element.appendChild(docLink);\n",
              "        }\n",
              "      </script>\n",
              "    </div>\n",
              "  </div>\n",
              "  "
            ]
          },
          "metadata": {},
          "execution_count": 25
        }
      ],
      "source": [
        "# Double check the split\n",
        "test_dataset.head()"
      ]
    },
    {
      "cell_type": "code",
      "source": [
        "#print('Null Values:',test_dataset.isnull().values.sum())"
      ],
      "metadata": {
        "id": "q8wfnGWnp1I8"
      },
      "execution_count": 26,
      "outputs": []
    },
    {
      "cell_type": "code",
      "execution_count": 27,
      "metadata": {
        "id": "mHMzSSQ_24Uo"
      },
      "outputs": [],
      "source": [
        "# Split train data to X and y\n",
        "X_train = train_dataset.drop('TOMORROW_CLOSE', axis = 1)\n",
        "y_train = train_dataset.loc[:,['TOMORROW_CLOSE']]\n",
        "\n",
        "# Split test data to X and y\n",
        "X_test = test_dataset.drop('TOMORROW_CLOSE', axis = 1)\n",
        "y_test = test_dataset.loc[:,['TOMORROW_CLOSE']]"
      ]
    },
    {
      "cell_type": "code",
      "execution_count": 28,
      "metadata": {
        "id": "fNUixtLJm6mv",
        "colab": {
          "base_uri": "https://localhost:8080/",
          "height": 238
        },
        "outputId": "8357edbd-c2d1-4bae-dc4d-fede9720f69d"
      },
      "outputs": [
        {
          "output_type": "execute_result",
          "data": {
            "text/plain": [
              "                 low      high      open        volume           ma7  \\\n",
              "time                                                                   \n",
              "2021-01-22  28732.00  33867.00  30855.90  48155.721617  34259.641429   \n",
              "2021-01-23  31432.19  33488.79  32982.66  16139.814783  33755.150000   \n",
              "2021-01-24  30931.21  33086.53  32110.00  13618.800978  33131.955714   \n",
              "2021-01-25  31920.80  34888.00  32293.18  23045.662934  32645.318571   \n",
              "2021-01-26  30830.00  32960.37  32260.52  23535.838917  31917.324286   \n",
              "\n",
              "                    ma21         26ema         12ema         MACD  \\\n",
              "time                                                                \n",
              "2021-01-22  35865.701429  35377.080031  34647.900062  -729.179969   \n",
              "2021-01-23  35827.982381  35096.733728  34275.485985  -821.247744   \n",
              "2021-01-24  35839.500476  34843.637701  33958.909800  -884.727901   \n",
              "2021-01-25  35767.128095  34638.483747  33732.009389  -906.474358   \n",
              "2021-01-26  35459.883810  34271.457772  33212.512918 -1058.944854   \n",
              "\n",
              "                   20sd    upper_band    lower_band           ema  momentum  \\\n",
              "time                                                                          \n",
              "2021-01-22  2768.237573  41402.176574  30329.226283  32345.742206  32111.01   \n",
              "2021-01-23  2813.115648  41454.213677  30201.751085  32307.620735  32287.56   \n",
              "2021-01-24  2797.194653  41433.889782  30245.111171  32277.120245  32260.87   \n",
              "2021-01-25  2865.171051  41497.470197  30036.785993  32432.920082  32509.82   \n",
              "2021-01-26  3080.085635  41620.055080  29299.712539  31082.393361  30406.13   \n",
              "\n",
              "            log_momentum  \n",
              "time                      \n",
              "2021-01-22     10.376954  \n",
              "2021-01-23     10.382437  \n",
              "2021-01-24     10.381610  \n",
              "2021-01-25     10.389297  \n",
              "2021-01-26     10.322400  "
            ],
            "text/html": [
              "\n",
              "  <div id=\"df-f9719c9f-21e4-4a4d-980a-3048b2ba942f\">\n",
              "    <div class=\"colab-df-container\">\n",
              "      <div>\n",
              "<style scoped>\n",
              "    .dataframe tbody tr th:only-of-type {\n",
              "        vertical-align: middle;\n",
              "    }\n",
              "\n",
              "    .dataframe tbody tr th {\n",
              "        vertical-align: top;\n",
              "    }\n",
              "\n",
              "    .dataframe thead th {\n",
              "        text-align: right;\n",
              "    }\n",
              "</style>\n",
              "<table border=\"1\" class=\"dataframe\">\n",
              "  <thead>\n",
              "    <tr style=\"text-align: right;\">\n",
              "      <th></th>\n",
              "      <th>low</th>\n",
              "      <th>high</th>\n",
              "      <th>open</th>\n",
              "      <th>volume</th>\n",
              "      <th>ma7</th>\n",
              "      <th>ma21</th>\n",
              "      <th>26ema</th>\n",
              "      <th>12ema</th>\n",
              "      <th>MACD</th>\n",
              "      <th>20sd</th>\n",
              "      <th>upper_band</th>\n",
              "      <th>lower_band</th>\n",
              "      <th>ema</th>\n",
              "      <th>momentum</th>\n",
              "      <th>log_momentum</th>\n",
              "    </tr>\n",
              "    <tr>\n",
              "      <th>time</th>\n",
              "      <th></th>\n",
              "      <th></th>\n",
              "      <th></th>\n",
              "      <th></th>\n",
              "      <th></th>\n",
              "      <th></th>\n",
              "      <th></th>\n",
              "      <th></th>\n",
              "      <th></th>\n",
              "      <th></th>\n",
              "      <th></th>\n",
              "      <th></th>\n",
              "      <th></th>\n",
              "      <th></th>\n",
              "      <th></th>\n",
              "    </tr>\n",
              "  </thead>\n",
              "  <tbody>\n",
              "    <tr>\n",
              "      <th>2021-01-22</th>\n",
              "      <td>28732.00</td>\n",
              "      <td>33867.00</td>\n",
              "      <td>30855.90</td>\n",
              "      <td>48155.721617</td>\n",
              "      <td>34259.641429</td>\n",
              "      <td>35865.701429</td>\n",
              "      <td>35377.080031</td>\n",
              "      <td>34647.900062</td>\n",
              "      <td>-729.179969</td>\n",
              "      <td>2768.237573</td>\n",
              "      <td>41402.176574</td>\n",
              "      <td>30329.226283</td>\n",
              "      <td>32345.742206</td>\n",
              "      <td>32111.01</td>\n",
              "      <td>10.376954</td>\n",
              "    </tr>\n",
              "    <tr>\n",
              "      <th>2021-01-23</th>\n",
              "      <td>31432.19</td>\n",
              "      <td>33488.79</td>\n",
              "      <td>32982.66</td>\n",
              "      <td>16139.814783</td>\n",
              "      <td>33755.150000</td>\n",
              "      <td>35827.982381</td>\n",
              "      <td>35096.733728</td>\n",
              "      <td>34275.485985</td>\n",
              "      <td>-821.247744</td>\n",
              "      <td>2813.115648</td>\n",
              "      <td>41454.213677</td>\n",
              "      <td>30201.751085</td>\n",
              "      <td>32307.620735</td>\n",
              "      <td>32287.56</td>\n",
              "      <td>10.382437</td>\n",
              "    </tr>\n",
              "    <tr>\n",
              "      <th>2021-01-24</th>\n",
              "      <td>30931.21</td>\n",
              "      <td>33086.53</td>\n",
              "      <td>32110.00</td>\n",
              "      <td>13618.800978</td>\n",
              "      <td>33131.955714</td>\n",
              "      <td>35839.500476</td>\n",
              "      <td>34843.637701</td>\n",
              "      <td>33958.909800</td>\n",
              "      <td>-884.727901</td>\n",
              "      <td>2797.194653</td>\n",
              "      <td>41433.889782</td>\n",
              "      <td>30245.111171</td>\n",
              "      <td>32277.120245</td>\n",
              "      <td>32260.87</td>\n",
              "      <td>10.381610</td>\n",
              "    </tr>\n",
              "    <tr>\n",
              "      <th>2021-01-25</th>\n",
              "      <td>31920.80</td>\n",
              "      <td>34888.00</td>\n",
              "      <td>32293.18</td>\n",
              "      <td>23045.662934</td>\n",
              "      <td>32645.318571</td>\n",
              "      <td>35767.128095</td>\n",
              "      <td>34638.483747</td>\n",
              "      <td>33732.009389</td>\n",
              "      <td>-906.474358</td>\n",
              "      <td>2865.171051</td>\n",
              "      <td>41497.470197</td>\n",
              "      <td>30036.785993</td>\n",
              "      <td>32432.920082</td>\n",
              "      <td>32509.82</td>\n",
              "      <td>10.389297</td>\n",
              "    </tr>\n",
              "    <tr>\n",
              "      <th>2021-01-26</th>\n",
              "      <td>30830.00</td>\n",
              "      <td>32960.37</td>\n",
              "      <td>32260.52</td>\n",
              "      <td>23535.838917</td>\n",
              "      <td>31917.324286</td>\n",
              "      <td>35459.883810</td>\n",
              "      <td>34271.457772</td>\n",
              "      <td>33212.512918</td>\n",
              "      <td>-1058.944854</td>\n",
              "      <td>3080.085635</td>\n",
              "      <td>41620.055080</td>\n",
              "      <td>29299.712539</td>\n",
              "      <td>31082.393361</td>\n",
              "      <td>30406.13</td>\n",
              "      <td>10.322400</td>\n",
              "    </tr>\n",
              "  </tbody>\n",
              "</table>\n",
              "</div>\n",
              "      <button class=\"colab-df-convert\" onclick=\"convertToInteractive('df-f9719c9f-21e4-4a4d-980a-3048b2ba942f')\"\n",
              "              title=\"Convert this dataframe to an interactive table.\"\n",
              "              style=\"display:none;\">\n",
              "        \n",
              "  <svg xmlns=\"http://www.w3.org/2000/svg\" height=\"24px\"viewBox=\"0 0 24 24\"\n",
              "       width=\"24px\">\n",
              "    <path d=\"M0 0h24v24H0V0z\" fill=\"none\"/>\n",
              "    <path d=\"M18.56 5.44l.94 2.06.94-2.06 2.06-.94-2.06-.94-.94-2.06-.94 2.06-2.06.94zm-11 1L8.5 8.5l.94-2.06 2.06-.94-2.06-.94L8.5 2.5l-.94 2.06-2.06.94zm10 10l.94 2.06.94-2.06 2.06-.94-2.06-.94-.94-2.06-.94 2.06-2.06.94z\"/><path d=\"M17.41 7.96l-1.37-1.37c-.4-.4-.92-.59-1.43-.59-.52 0-1.04.2-1.43.59L10.3 9.45l-7.72 7.72c-.78.78-.78 2.05 0 2.83L4 21.41c.39.39.9.59 1.41.59.51 0 1.02-.2 1.41-.59l7.78-7.78 2.81-2.81c.8-.78.8-2.07 0-2.86zM5.41 20L4 18.59l7.72-7.72 1.47 1.35L5.41 20z\"/>\n",
              "  </svg>\n",
              "      </button>\n",
              "      \n",
              "  <style>\n",
              "    .colab-df-container {\n",
              "      display:flex;\n",
              "      flex-wrap:wrap;\n",
              "      gap: 12px;\n",
              "    }\n",
              "\n",
              "    .colab-df-convert {\n",
              "      background-color: #E8F0FE;\n",
              "      border: none;\n",
              "      border-radius: 50%;\n",
              "      cursor: pointer;\n",
              "      display: none;\n",
              "      fill: #1967D2;\n",
              "      height: 32px;\n",
              "      padding: 0 0 0 0;\n",
              "      width: 32px;\n",
              "    }\n",
              "\n",
              "    .colab-df-convert:hover {\n",
              "      background-color: #E2EBFA;\n",
              "      box-shadow: 0px 1px 2px rgba(60, 64, 67, 0.3), 0px 1px 3px 1px rgba(60, 64, 67, 0.15);\n",
              "      fill: #174EA6;\n",
              "    }\n",
              "\n",
              "    [theme=dark] .colab-df-convert {\n",
              "      background-color: #3B4455;\n",
              "      fill: #D2E3FC;\n",
              "    }\n",
              "\n",
              "    [theme=dark] .colab-df-convert:hover {\n",
              "      background-color: #434B5C;\n",
              "      box-shadow: 0px 1px 3px 1px rgba(0, 0, 0, 0.15);\n",
              "      filter: drop-shadow(0px 1px 2px rgba(0, 0, 0, 0.3));\n",
              "      fill: #FFFFFF;\n",
              "    }\n",
              "  </style>\n",
              "\n",
              "      <script>\n",
              "        const buttonEl =\n",
              "          document.querySelector('#df-f9719c9f-21e4-4a4d-980a-3048b2ba942f button.colab-df-convert');\n",
              "        buttonEl.style.display =\n",
              "          google.colab.kernel.accessAllowed ? 'block' : 'none';\n",
              "\n",
              "        async function convertToInteractive(key) {\n",
              "          const element = document.querySelector('#df-f9719c9f-21e4-4a4d-980a-3048b2ba942f');\n",
              "          const dataTable =\n",
              "            await google.colab.kernel.invokeFunction('convertToInteractive',\n",
              "                                                     [key], {});\n",
              "          if (!dataTable) return;\n",
              "\n",
              "          const docLinkHtml = 'Like what you see? Visit the ' +\n",
              "            '<a target=\"_blank\" href=https://colab.research.google.com/notebooks/data_table.ipynb>data table notebook</a>'\n",
              "            + ' to learn more about interactive tables.';\n",
              "          element.innerHTML = '';\n",
              "          dataTable['output_type'] = 'display_data';\n",
              "          await google.colab.output.renderOutput(dataTable, element);\n",
              "          const docLink = document.createElement('div');\n",
              "          docLink.innerHTML = docLinkHtml;\n",
              "          element.appendChild(docLink);\n",
              "        }\n",
              "      </script>\n",
              "    </div>\n",
              "  </div>\n",
              "  "
            ]
          },
          "metadata": {},
          "execution_count": 28
        }
      ],
      "source": [
        "# Double check the X\n",
        "X_train.head()"
      ]
    },
    {
      "cell_type": "code",
      "source": [
        "# Double check for x_train\n",
        "print('Null Values:',X_train.isnull().values.sum())"
      ],
      "metadata": {
        "colab": {
          "base_uri": "https://localhost:8080/"
        },
        "id": "_wxgdfPrnTpv",
        "outputId": "cd892684-f0fc-4b92-8cd4-72e7c1dbb516"
      },
      "execution_count": 29,
      "outputs": [
        {
          "output_type": "stream",
          "name": "stdout",
          "text": [
            "Null Values: 0\n"
          ]
        }
      ]
    },
    {
      "cell_type": "code",
      "source": [
        "# Double check for x_test\n",
        "\n",
        "print('Null Values:',X_test.isnull().values.sum())"
      ],
      "metadata": {
        "colab": {
          "base_uri": "https://localhost:8080/"
        },
        "id": "pDt1i2a6qKRL",
        "outputId": "74dd8a44-d376-471b-8a63-b9bc20a3293c"
      },
      "execution_count": 30,
      "outputs": [
        {
          "output_type": "stream",
          "name": "stdout",
          "text": [
            "Null Values: 0\n"
          ]
        }
      ]
    },
    {
      "cell_type": "code",
      "execution_count": 31,
      "metadata": {
        "id": "hF4OcMzB3D1I",
        "colab": {
          "base_uri": "https://localhost:8080/",
          "height": 52
        },
        "outputId": "345f0f4b-c565-4e2c-e921-2532cb16123b"
      },
      "outputs": [
        {
          "output_type": "execute_result",
          "data": {
            "text/plain": [
              "\"\\n#Plot train and test data\\nfig1 = plt.figure(figsize = (12, 6))\\nplt.rcParams['figure.dpi'] = 360\\nplt.plot(train_dataset.TOMORROW_CLOSE)\\nplt.plot(test_dataset.TOMORROW_CLOSE)\\nplt.xlabel('Date')\\nplt.ylabel('Close value (US$)')\\nplt.legend(['Train set', 'Test set'], loc='upper left')\\nprint('Dimension of train data: ',train_dataset.shape)\\nprint('Dimension of test data: ', test_dataset.shape)\\nfig1.savefig('train_test_split.png')\\n\""
            ],
            "application/vnd.google.colaboratory.intrinsic+json": {
              "type": "string"
            }
          },
          "metadata": {},
          "execution_count": 31
        }
      ],
      "source": [
        "'''\n",
        "#Plot train and test data\n",
        "fig1 = plt.figure(figsize = (12, 6))\n",
        "plt.rcParams['figure.dpi'] = 360\n",
        "plt.plot(train_dataset.TOMORROW_CLOSE)\n",
        "plt.plot(test_dataset.TOMORROW_CLOSE)\n",
        "plt.xlabel('Date')\n",
        "plt.ylabel('Close value (US$)')\n",
        "plt.legend(['Train set', 'Test set'], loc='upper left')\n",
        "print('Dimension of train data: ',train_dataset.shape)\n",
        "print('Dimension of test data: ', test_dataset.shape)\n",
        "fig1.savefig('train_test_split.png')\n",
        "'''"
      ]
    },
    {
      "cell_type": "markdown",
      "metadata": {
        "id": "qPYnp440XprH"
      },
      "source": [
        "As we can observe, we have chosen the starting date to be 01/01/2021 because of the dynamic change in the price has started around this date, and so if the model will be able to predict the daynamic behaviour later, it has to be trained on similiar behaviour data. While, the data before this date is relatively steady, and didn't help the model the learn anything from. Matter fact, it lead to poor results.\n",
        "Below, is a plot of the bitcoin price evolution from 2012."
      ]
    },
    {
      "cell_type": "code",
      "execution_count": 32,
      "metadata": {
        "id": "o7Nr_hz-YwGZ",
        "colab": {
          "base_uri": "https://localhost:8080/",
          "height": 87
        },
        "outputId": "1cd9fdc4-f894-45f9-a0a4-54741cc87303"
      },
      "outputs": [
        {
          "output_type": "execute_result",
          "data": {
            "text/plain": [
              "\"\\nbtc = HistoricalData('BTC-USD',86400,'2012-01-01-00-00', '2022-07-01-00-00').retrieve_data() \\n\\n# Create variable '‘TOMORROW_CLOSE’' which shifts 'Close' up by 1\\nbtc['TOMORROW_CLOSE'] = btc['close'].shift(-1,fill_value=0)\\n\\n# drop last row because we shifted value (remember this when you add your forecasting data)\\nbtc.drop(btc.tail(1).index,inplace=True) \\n\\n# Drop close column, since we created new ‘TOMORROW_CLOSE’\\nbtc = btc.drop(columns=['close'])\\n\\n# Split the data intro train data (90%) and test data (10%)\\n\\ntrain_size_1 = int(len(btc)*0.90)\\ntrain_dataset_1, test_dataset_1 = btc.iloc[:train_size_1],btc.iloc[train_size_1:]\\n\\n# Split train data to X and y\\nX_train_1 = train_dataset_1.drop('TOMORROW_CLOSE', axis = 1)\\ny_train_1 = train_dataset_1.loc[:,['TOMORROW_CLOSE']]\\n\\n# Split test data to X and y\\nX_test_1 = test_dataset_1.drop('TOMORROW_CLOSE', axis = 1)\\ny_test_1 = test_dataset_1.loc[:,['TOMORROW_CLOSE']]\\n#Plot train and test data\\nfig2 = plt.figure(figsize = (12, 6))\\nplt.rcParams['figure.dpi'] = 360\\nplt.plot(train_dataset_1.TOMORROW_CLOSE)\\nplt.plot(test_dataset_1.TOMORROW_CLOSE)\\nplt.xlabel('Date')\\nplt.ylabel('Close value (US$)')\\nplt.legend(['Train set', 'Test set'], loc='upper left')\\nprint('Dimension of train data: ',train_dataset_1.shape)\\nprint('Dimension of test data: ', test_dataset_1.shape)\\nfig2.savefig('entire_train_test_data.png')\\n\""
            ],
            "application/vnd.google.colaboratory.intrinsic+json": {
              "type": "string"
            }
          },
          "metadata": {},
          "execution_count": 32
        }
      ],
      "source": [
        "'''\n",
        "btc = HistoricalData('BTC-USD',86400,'2012-01-01-00-00', '2022-07-01-00-00').retrieve_data() \n",
        "\n",
        "# Create variable '‘TOMORROW_CLOSE’' which shifts 'Close' up by 1\n",
        "btc['TOMORROW_CLOSE'] = btc['close'].shift(-1,fill_value=0)\n",
        "\n",
        "# drop last row because we shifted value (remember this when you add your forecasting data)\n",
        "btc.drop(btc.tail(1).index,inplace=True) \n",
        "\n",
        "# Drop close column, since we created new ‘TOMORROW_CLOSE’\n",
        "btc = btc.drop(columns=['close'])\n",
        "\n",
        "# Split the data intro train data (90%) and test data (10%)\n",
        "\n",
        "train_size_1 = int(len(btc)*0.90)\n",
        "train_dataset_1, test_dataset_1 = btc.iloc[:train_size_1],btc.iloc[train_size_1:]\n",
        "\n",
        "# Split train data to X and y\n",
        "X_train_1 = train_dataset_1.drop('TOMORROW_CLOSE', axis = 1)\n",
        "y_train_1 = train_dataset_1.loc[:,['TOMORROW_CLOSE']]\n",
        "\n",
        "# Split test data to X and y\n",
        "X_test_1 = test_dataset_1.drop('TOMORROW_CLOSE', axis = 1)\n",
        "y_test_1 = test_dataset_1.loc[:,['TOMORROW_CLOSE']]\n",
        "#Plot train and test data\n",
        "fig2 = plt.figure(figsize = (12, 6))\n",
        "plt.rcParams['figure.dpi'] = 360\n",
        "plt.plot(train_dataset_1.TOMORROW_CLOSE)\n",
        "plt.plot(test_dataset_1.TOMORROW_CLOSE)\n",
        "plt.xlabel('Date')\n",
        "plt.ylabel('Close value (US$)')\n",
        "plt.legend(['Train set', 'Test set'], loc='upper left')\n",
        "print('Dimension of train data: ',train_dataset_1.shape)\n",
        "print('Dimension of test data: ', test_dataset_1.shape)\n",
        "fig2.savefig('entire_train_test_data.png')\n",
        "'''"
      ]
    },
    {
      "cell_type": "markdown",
      "metadata": {
        "id": "Mx7j3YvlaJ4n"
      },
      "source": [
        "**Data Normalization**"
      ]
    },
    {
      "cell_type": "code",
      "execution_count": 33,
      "metadata": {
        "id": "XhyiYytM3S-w"
      },
      "outputs": [],
      "source": [
        "# Different scaler for input and output ----> Normalizate the data\n",
        "scaler_x = MinMaxScaler(feature_range = (-1,1))\n",
        "scaler_y = MinMaxScaler(feature_range = (-1,1))\n",
        "\n",
        "# Fit the scaler using available training data\n",
        "input_scaler = scaler_x.fit(X_train)\n",
        "output_scaler = scaler_y.fit(y_train)\n",
        "\n",
        "# Apply the scaler to training data\n",
        "train_y_norm = output_scaler.transform(y_train)\n",
        "train_x_norm = input_scaler.transform(X_train)\n",
        "\n",
        "# Apply the scaler to test data\n",
        "test_y_norm = output_scaler.transform(y_test)\n",
        "test_x_norm = input_scaler.transform(X_test)"
      ]
    },
    {
      "cell_type": "markdown",
      "metadata": {
        "id": "aqwB5fNcaVsX"
      },
      "source": [
        "**Prepare the data to be fed into the model.\n",
        "Create 3 D tensor of data.**"
      ]
    },
    {
      "cell_type": "code",
      "execution_count": 34,
      "metadata": {
        "id": "_yxSLwrm3efn",
        "colab": {
          "base_uri": "https://localhost:8080/"
        },
        "outputId": "a7d9e610-43c4-483a-816a-4da8ecd5fb3f"
      },
      "outputs": [
        {
          "output_type": "stream",
          "name": "stdout",
          "text": [
            "X_train.shape:  (455, 15, 15)\n",
            "y_train.shape:  (455, 1)\n",
            "X_test.shape:  (40, 15, 15)\n",
            "y_test.shape:  (40, 1)\n"
          ]
        }
      ],
      "source": [
        "# Create 3 dimensional data set \n",
        "def threeD_dataset (X, y, time_steps = 1):\n",
        "    Xs, ys = [], []\n",
        "    \n",
        "    for i in range(len(X)-time_steps):\n",
        "        v = X[i:i+time_steps, :]\n",
        "        Xs.append(v)\n",
        "        ys.append(y[i+time_steps])\n",
        "        \n",
        "    return np.array(Xs), np.array(ys)\n",
        "\n",
        "\n",
        "TIME_STEPS = 15 # which means the model will make predictions of ‘TOMORROW_CLOSE’ based on the input from the 10 previous days or future days bi-lstm or bi-gru\n",
        "\n",
        "X_test, y_test = threeD_dataset(test_x_norm, test_y_norm, TIME_STEPS)\n",
        "X_train, y_train = threeD_dataset(train_x_norm, train_y_norm, TIME_STEPS)\n",
        "print('X_train.shape: ', X_train.shape)\n",
        "print('y_train.shape: ', y_train.shape)\n",
        "print('X_test.shape: ', X_test.shape) \n",
        "print('y_test.shape: ', y_test.shape)"
      ]
    },
    {
      "cell_type": "markdown",
      "metadata": {
        "id": "cN1m5fRWbCku"
      },
      "source": [
        "**FINALLY, we can CONSTUCT the MODEL**"
      ]
    },
    {
      "cell_type": "code",
      "execution_count": 35,
      "metadata": {
        "id": "NOhFjCaC3wM4"
      },
      "outputs": [],
      "source": [
        "# Create LSTM \n",
        "def create_model(m):\n",
        "    model = Sequential()\n",
        "    # First layer of LSTM\n",
        "    model.add(Conv1D(32, 1, activation='relu',input_shape = X_train.shape[1:]),)\n",
        "    model.add(m (units = 16, activation = 'relu', return_sequences = False, input_shape = [X_train.shape[1], X_train.shape[2]])) # use 64 hidden units, relu acitvation function,\n",
        "   #model.add(Dropout(0.1))\n",
        "    model.add(Dense(units = 1))  # number of units is 1, because we will predict one output, which is tomorrow's price and compare it with the ground truth  \n",
        "    model.compile(loss = 'mse', optimizer=tf.keras.optimizers.Adam(learning_rate = 1e-3) ) # use loss as MSE and Adam optimizer, with learning rate 0.000001\n",
        "    return model"
      ]
    },
    {
      "cell_type": "code",
      "execution_count": 36,
      "metadata": {
        "id": "x-1Fc8hc4Nw4"
      },
      "outputs": [],
      "source": [
        "# Create the model by passing LSTM to the model.\n",
        "model_lstm = create_model(LSTM)"
      ]
    },
    {
      "cell_type": "code",
      "execution_count": 37,
      "metadata": {
        "id": "QvyWxytS4Pg3",
        "colab": {
          "base_uri": "https://localhost:8080/"
        },
        "outputId": "a3e1014f-9c11-4bc0-89cf-7ba3cda73d9f"
      },
      "outputs": [
        {
          "output_type": "stream",
          "name": "stdout",
          "text": [
            "Model: \"sequential\"\n",
            "_________________________________________________________________\n",
            " Layer (type)                Output Shape              Param #   \n",
            "=================================================================\n",
            " conv1d (Conv1D)             (None, 15, 32)            512       \n",
            "                                                                 \n",
            " lstm (LSTM)                 (None, 16)                3136      \n",
            "                                                                 \n",
            " dense (Dense)               (None, 1)                 17        \n",
            "                                                                 \n",
            "=================================================================\n",
            "Total params: 3,665\n",
            "Trainable params: 3,665\n",
            "Non-trainable params: 0\n",
            "_________________________________________________________________\n"
          ]
        }
      ],
      "source": [
        "# Let's check the summary of our baby model\n",
        "model_lstm.summary()"
      ]
    },
    {
      "cell_type": "code",
      "execution_count": 38,
      "metadata": {
        "colab": {
          "base_uri": "https://localhost:8080/"
        },
        "id": "HsWs4MNL4RuI",
        "outputId": "a0a44785-0433-4933-d5ee-cf6448574d05"
      },
      "outputs": [
        {
          "output_type": "stream",
          "name": "stdout",
          "text": [
            "Epoch 1/52\n",
            "23/23 [==============================] - 2s 20ms/step - loss: 0.1488 - val_loss: 0.0525\n",
            "Epoch 2/52\n",
            "23/23 [==============================] - 0s 8ms/step - loss: 0.0504 - val_loss: 0.0230\n",
            "Epoch 3/52\n",
            "23/23 [==============================] - 0s 8ms/step - loss: 0.0414 - val_loss: 0.0303\n",
            "Epoch 4/52\n",
            "23/23 [==============================] - 0s 8ms/step - loss: 0.0309 - val_loss: 0.0168\n",
            "Epoch 5/52\n",
            "23/23 [==============================] - 0s 11ms/step - loss: 0.0294 - val_loss: 0.0172\n",
            "Epoch 6/52\n",
            "23/23 [==============================] - 0s 8ms/step - loss: 0.0266 - val_loss: 0.0164\n",
            "Epoch 7/52\n",
            "23/23 [==============================] - 0s 9ms/step - loss: 0.0255 - val_loss: 0.0166\n",
            "Epoch 8/52\n",
            "23/23 [==============================] - 0s 7ms/step - loss: 0.0247 - val_loss: 0.0160\n",
            "Epoch 9/52\n",
            "23/23 [==============================] - 0s 8ms/step - loss: 0.0237 - val_loss: 0.0151\n",
            "Epoch 10/52\n",
            "23/23 [==============================] - 0s 7ms/step - loss: 0.0217 - val_loss: 0.0143\n",
            "Epoch 11/52\n",
            "23/23 [==============================] - 0s 7ms/step - loss: 0.0211 - val_loss: 0.0135\n",
            "Epoch 12/52\n",
            "23/23 [==============================] - 0s 10ms/step - loss: 0.0203 - val_loss: 0.0122\n",
            "Epoch 13/52\n",
            "23/23 [==============================] - 0s 14ms/step - loss: 0.0193 - val_loss: 0.0116\n",
            "Epoch 14/52\n",
            "23/23 [==============================] - 0s 13ms/step - loss: 0.0178 - val_loss: 0.0101\n",
            "Epoch 15/52\n",
            "23/23 [==============================] - 0s 15ms/step - loss: 0.0168 - val_loss: 0.0099\n",
            "Epoch 16/52\n",
            "23/23 [==============================] - 0s 13ms/step - loss: 0.0166 - val_loss: 0.0100\n",
            "Epoch 17/52\n",
            "23/23 [==============================] - 0s 11ms/step - loss: 0.0159 - val_loss: 0.0092\n",
            "Epoch 18/52\n",
            "23/23 [==============================] - 0s 12ms/step - loss: 0.0144 - val_loss: 0.0082\n",
            "Epoch 19/52\n",
            "23/23 [==============================] - 0s 17ms/step - loss: 0.0142 - val_loss: 0.0086\n",
            "Epoch 20/52\n",
            "23/23 [==============================] - 0s 17ms/step - loss: 0.0141 - val_loss: 0.0107\n",
            "Epoch 21/52\n",
            "23/23 [==============================] - 0s 13ms/step - loss: 0.0129 - val_loss: 0.0156\n",
            "Epoch 22/52\n",
            "23/23 [==============================] - 0s 21ms/step - loss: 0.0115 - val_loss: 0.0077\n",
            "Epoch 23/52\n",
            "23/23 [==============================] - 0s 15ms/step - loss: 0.0135 - val_loss: 0.0118\n",
            "Epoch 24/52\n",
            "23/23 [==============================] - 0s 14ms/step - loss: 0.0151 - val_loss: 0.0112\n",
            "Epoch 25/52\n",
            "23/23 [==============================] - 0s 16ms/step - loss: 0.0146 - val_loss: 0.0186\n",
            "Epoch 26/52\n",
            "23/23 [==============================] - 0s 14ms/step - loss: 0.0150 - val_loss: 0.0214\n",
            "Epoch 27/52\n",
            "23/23 [==============================] - 0s 17ms/step - loss: 0.0222 - val_loss: 0.0077\n",
            "Epoch 28/52\n",
            "23/23 [==============================] - 0s 16ms/step - loss: 0.0142 - val_loss: 0.0075\n",
            "Epoch 29/52\n",
            "23/23 [==============================] - 0s 16ms/step - loss: 0.0132 - val_loss: 0.0103\n",
            "Epoch 30/52\n",
            "23/23 [==============================] - 0s 19ms/step - loss: 0.0109 - val_loss: 0.0096\n",
            "Epoch 31/52\n",
            "23/23 [==============================] - 0s 12ms/step - loss: 0.0106 - val_loss: 0.0063\n",
            "Epoch 32/52\n",
            "23/23 [==============================] - 0s 16ms/step - loss: 0.0109 - val_loss: 0.0064\n",
            "Epoch 33/52\n",
            "23/23 [==============================] - 0s 13ms/step - loss: 0.0105 - val_loss: 0.0077\n",
            "Epoch 34/52\n",
            "23/23 [==============================] - 0s 15ms/step - loss: 0.0096 - val_loss: 0.0070\n",
            "Epoch 35/52\n",
            "23/23 [==============================] - 0s 14ms/step - loss: 0.0096 - val_loss: 0.0060\n",
            "Epoch 36/52\n",
            "23/23 [==============================] - 0s 15ms/step - loss: 0.0099 - val_loss: 0.0063\n",
            "Epoch 37/52\n",
            "23/23 [==============================] - 0s 11ms/step - loss: 0.0099 - val_loss: 0.0084\n",
            "Epoch 38/52\n",
            "23/23 [==============================] - 0s 13ms/step - loss: 0.0092 - val_loss: 0.0066\n",
            "Epoch 39/52\n",
            "23/23 [==============================] - 0s 14ms/step - loss: 0.0103 - val_loss: 0.0094\n",
            "Epoch 40/52\n",
            "23/23 [==============================] - 0s 12ms/step - loss: 0.0111 - val_loss: 0.0112\n",
            "Epoch 41/52\n",
            "23/23 [==============================] - 0s 13ms/step - loss: 0.0115 - val_loss: 0.0106\n",
            "Epoch 42/52\n",
            "23/23 [==============================] - 0s 15ms/step - loss: 0.0108 - val_loss: 0.0175\n",
            "Epoch 43/52\n",
            "23/23 [==============================] - 0s 13ms/step - loss: 0.0114 - val_loss: 0.0075\n",
            "Epoch 44/52\n",
            "23/23 [==============================] - 0s 14ms/step - loss: 0.0109 - val_loss: 0.0109\n",
            "Epoch 45/52\n",
            "23/23 [==============================] - 0s 15ms/step - loss: 0.0109 - val_loss: 0.0093\n",
            "Epoch 46/52\n",
            "23/23 [==============================] - 0s 15ms/step - loss: 0.0108 - val_loss: 0.0057\n",
            "Epoch 47/52\n",
            "23/23 [==============================] - 0s 18ms/step - loss: 0.0128 - val_loss: 0.0074\n",
            "Epoch 48/52\n",
            "23/23 [==============================] - 0s 13ms/step - loss: 0.0107 - val_loss: 0.0103\n",
            "Epoch 49/52\n",
            "23/23 [==============================] - 0s 12ms/step - loss: 0.0104 - val_loss: 0.0093\n",
            "Epoch 50/52\n",
            "23/23 [==============================] - 0s 15ms/step - loss: 0.0118 - val_loss: 0.0059\n",
            "Epoch 51/52\n",
            "23/23 [==============================] - 0s 16ms/step - loss: 0.0104 - val_loss: 0.0059\n",
            "Epoch 52/52\n",
            "23/23 [==============================] - 0s 14ms/step - loss: 0.0091 - val_loss: 0.0057\n"
          ]
        }
      ],
      "source": [
        "# start the  training process, with 800 epochs, (the number of times the model will look at the entire dataset), validation split is 20 % from the training data, this is\n",
        "# done autmatically by Keras, batch size of 8, meaning that, the model will take try to minimize the loss by looking at only 8 samples, shuffle is false, because this is time \n",
        "# data, so the order matters alot.\n",
        "history_lstm = model_lstm.fit(X_train, y_train, epochs = 52, validation_split = 0.2,batch_size = 16, shuffle = False) "
      ]
    },
    {
      "cell_type": "markdown",
      "metadata": {
        "id": "KJgTn_ylcQs6"
      },
      "source": [
        "As we can observe, the loss is the training loss, and val_loss is the validation loss. Both are decereasing smoothly as the number of epochs is increasing, that means, our **model is learning in a natural way**.\n",
        "\n",
        "Next, **let's plot the validation and train error**, to check for any problems that a model can suffer from, such as underfitting or overfitting."
      ]
    },
    {
      "cell_type": "code",
      "execution_count": 39,
      "metadata": {
        "colab": {
          "base_uri": "https://localhost:8080/",
          "height": 404
        },
        "id": "zkd3oqts4anP",
        "outputId": "cf42a45c-a506-4db0-bcea-089fe7ffd26d"
      },
      "outputs": [
        {
          "output_type": "display_data",
          "data": {
            "text/plain": [
              "<Figure size 720x432 with 1 Axes>"
            ],
            "image/png": "[encoded data removed]"
          },
          "metadata": {
            "needs_background": "light"
          }
        }
      ],
      "source": [
        "#Plot train and validation loss\n",
        "def plot_loss (history, model_name):\n",
        "    fig3 = plt.figure(figsize = (10, 6))\n",
        "    plt.rcParams['figure.dpi'] = 360\n",
        "    plt.plot(history.history['loss'])\n",
        "    plt.plot(history.history['val_loss'])\n",
        "    plt.title('Model Train vs Validation Loss for ' + model_name + ' with Histo Data and TI')\n",
        "    plt.ylabel('Loss')\n",
        "    plt.xlabel('epoch')\n",
        "    plt.legend(['Train loss', 'Validation loss'], loc='upper right')\n",
        "    fig3.savefig('Model_Train_vs_Validation_Loss_for_1D_Conv_LSTM_with_histo_TI.png')\n",
        "plot_loss (history_lstm, '1D-Conv-LSTM')\n"
      ]
    },
    {
      "cell_type": "markdown",
      "metadata": {
        "id": "miVVmwS_cv3S"
      },
      "source": [
        "Before we start the testing phase, we need to inverse the normalization process that we applied to the data."
      ]
    },
    {
      "cell_type": "code",
      "execution_count": 40,
      "metadata": {
        "id": "6y6yIrED4_B_"
      },
      "outputs": [],
      "source": [
        "# inverse the y\n",
        "y_test = scaler_y.inverse_transform(y_test)\n",
        "y_train = scaler_y.inverse_transform(y_train)"
      ]
    },
    {
      "cell_type": "markdown",
      "metadata": {
        "id": "pl-nC6r_c4oP"
      },
      "source": [
        "Define a function to inverse the X"
      ]
    },
    {
      "cell_type": "code",
      "execution_count": 41,
      "metadata": {
        "id": "afyw6NSrNjKz"
      },
      "outputs": [],
      "source": [
        "def prediction(model):\n",
        "    prediction = model.predict(X_test)\n",
        "    prediction = scaler_y.inverse_transform(prediction)\n",
        "    return prediction"
      ]
    },
    {
      "cell_type": "code",
      "execution_count": 42,
      "metadata": {
        "id": "gAEBUr__NlXa"
      },
      "outputs": [],
      "source": [
        "# Do predictions\n",
        "prediction_LSTM = prediction(model_lstm)"
      ]
    },
    {
      "cell_type": "code",
      "execution_count": 43,
      "metadata": {
        "colab": {
          "base_uri": "https://localhost:8080/",
          "height": 1000
        },
        "id": "x3Z-y1JKna5d",
        "outputId": "89e752bf-fa96-4438-c56d-b5847d292301"
      },
      "outputs": [
        {
          "output_type": "display_data",
          "data": {
            "text/plain": [
              "<Figure size 3600x2160 with 1 Axes>"
            ],
            "image/png": "[encoded data removed]"
          },
          "metadata": {
            "needs_background": "light"
          }
        }
      ],
      "source": [
        "def plot_future(prediction, model_name, y_test):\n",
        "    fig4 = plt.figure(figsize=(10, 6))\n",
        "    plt.rcParams['figure.dpi'] = 360\n",
        "    range_future = len(prediction)\n",
        "    plt.plot(np.arange(range_future), np.array(y_test), label='True Future')\n",
        "    plt.plot(np.arange(range_future), np.array(prediction),label='Prediction')\n",
        "    plt.title('True future vs prediction for ' + model_name + ' with Histo Data and TI')\n",
        "    plt.legend(loc='upper left')\n",
        "    plt.xlabel('Date')\n",
        "    plt.ylabel('Close value (USD $)')\n",
        "    fig4.savefig('True_future_vs_prediction_for_1D_Conv_LSTM_with_histo_TI.png')\n",
        "plot_future(prediction_LSTM, '1D-Conv-LSTM', y_test)"
      ]
    },
    {
      "cell_type": "code",
      "execution_count": 44,
      "metadata": {
        "colab": {
          "base_uri": "https://localhost:8080/"
        },
        "id": "2Y2O01d8n68K",
        "outputId": "f0bca013-3039-4591-9c20-bf14722de131"
      },
      "outputs": [
        {
          "output_type": "execute_result",
          "data": {
            "text/plain": [
              "(40, 1)"
            ]
          },
          "metadata": {},
          "execution_count": 44
        }
      ],
      "source": [
        "y_test.shape"
      ]
    },
    {
      "cell_type": "code",
      "execution_count": 45,
      "metadata": {
        "id": "MvsFAOhlNqow"
      },
      "outputs": [],
      "source": [
        "## Define a function to calculate MAE and RMSE\n",
        "def evaluate_prediction(predictions, actual, model_name):\n",
        "    errors = predictions - actual\n",
        "    mse = np.square(errors).mean()\n",
        "    rmse = np.sqrt(mse)\n",
        "    mae = np.abs(errors).mean()\n",
        "\n",
        "    print(model_name + ':')\n",
        "    print('Mean Absolute Error: {:.4f}'.format(mae))\n",
        "    print('Root Mean Square Error: {:.4f}'.format(rmse))\n",
        "    print('')"
      ]
    },
    {
      "cell_type": "code",
      "execution_count": 46,
      "metadata": {
        "colab": {
          "base_uri": "https://localhost:8080/"
        },
        "id": "xlZLERJqNtPQ",
        "outputId": "803df82b-5d93-4edc-ff5d-cb4f1baad2f0"
      },
      "outputs": [
        {
          "output_type": "stream",
          "name": "stdout",
          "text": [
            "1D-Conv-LSTM-histo-Data-TI:\n",
            "Mean Absolute Error: 1036.8668\n",
            "Root Mean Square Error: 1366.3386\n",
            "\n"
          ]
        }
      ],
      "source": [
        "evaluate_prediction(prediction_LSTM, y_test, '1D-Conv-LSTM-histo-Data-TI')"
      ]
    },
    {
      "cell_type": "code",
      "source": [
        ""
      ],
      "metadata": {
        "id": "hZI1nG1yuwvN"
      },
      "execution_count": 46,
      "outputs": []
    }
  ],
  "metadata": {
    "colab": {
      "collapsed_sections": [],
      "name": "1D_Conv_LSTM_historical_Data_TI.ipynb",
      "provenance": []
    },
    "gpuClass": "standard",
    "kernelspec": {
      "display_name": "Python 3",
      "name": "python3"
    },
    "language_info": {
      "name": "python"
    }
  },
  "nbformat": 4,
  "nbformat_minor": 0
}