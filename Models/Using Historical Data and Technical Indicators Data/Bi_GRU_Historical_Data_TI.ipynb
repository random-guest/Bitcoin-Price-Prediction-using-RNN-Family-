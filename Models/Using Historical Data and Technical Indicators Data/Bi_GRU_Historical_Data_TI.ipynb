{
  "nbformat": 4,
  "nbformat_minor": 0,
  "metadata": {
    "colab": {
      "name": "Bi_GRU_Historical_Data_TI.ipynb",
      "provenance": [],
      "collapsed_sections": []
    },
    "kernelspec": {
      "name": "python3",
      "display_name": "Python 3"
    },
    "language_info": {
      "name": "python"
    },
    "gpuClass": "standard"
  },
  "cells": [
    {
      "cell_type": "code",
      "source": [
        "import pandas as pd\n",
        "import numpy as np\n",
        "import matplotlib.pyplot as plt\n",
        "import seaborn as sns\n",
        "from matplotlib.dates import DateFormatter\n",
        "sns.set_style(\"white\")\n",
        "import scipy \n",
        "import tensorflow as tf\n",
        "from tensorflow import keras\n",
        "from tensorflow.keras import Sequential, layers, callbacks\n",
        "from tensorflow.keras.layers import Dense, LSTM, Dropout, GRU, Bidirectional, Conv2D,Conv1D, BatchNormalization\n",
        "from sklearn.preprocessing import MinMaxScaler\n",
        "from sklearn.model_selection import train_test_split\n",
        "from IPython.core.pylabtools import figsize\n",
        "from pandas.plotting import register_matplotlib_converters\n",
        "register_matplotlib_converters()\n",
        "from tensorflow.keras.callbacks import EarlyStopping, LearningRateScheduler\n",
        "from tensorflow.keras.callbacks import ModelCheckpoint\n",
        "from keras.layers import *\n",
        "from keras.models import *\n",
        "from keras import backend as K\n",
        "# Set random seed for reproducibility\n",
        "tf.random.set_seed(42)"
      ],
      "metadata": {
        "id": "ZIqnE-1t3LpQ"
      },
      "execution_count": 1,
      "outputs": []
    },
    {
      "cell_type": "code",
      "execution_count": 2,
      "metadata": {
        "colab": {
          "base_uri": "https://localhost:8080/"
        },
        "id": "DlKkrRPxurWw",
        "outputId": "f6d12253-1641-45a0-c3e4-9bc8d5cadb7a"
      },
      "outputs": [
        {
          "output_type": "stream",
          "name": "stdout",
          "text": [
            "Looking in indexes: https://pypi.org/simple, https://us-python.pkg.dev/colab-wheels/public/simple/\n",
            "Requirement already satisfied: Historic-Crypto in /usr/local/lib/python3.7/dist-packages (0.1.6)\n",
            "Requirement already satisfied: requests in /usr/local/lib/python3.7/dist-packages (from Historic-Crypto) (2.23.0)\n",
            "Requirement already satisfied: numpy in /usr/local/lib/python3.7/dist-packages (from Historic-Crypto) (1.21.6)\n",
            "Requirement already satisfied: chardet<4,>=3.0.2 in /usr/local/lib/python3.7/dist-packages (from requests->Historic-Crypto) (3.0.4)\n",
            "Requirement already satisfied: certifi>=2017.4.17 in /usr/local/lib/python3.7/dist-packages (from requests->Historic-Crypto) (2022.6.15)\n",
            "Requirement already satisfied: idna<3,>=2.5 in /usr/local/lib/python3.7/dist-packages (from requests->Historic-Crypto) (2.10)\n",
            "Requirement already satisfied: urllib3!=1.25.0,!=1.25.1,<1.26,>=1.21.1 in /usr/local/lib/python3.7/dist-packages (from requests->Historic-Crypto) (1.24.3)\n"
          ]
        }
      ],
      "source": [
        "!pip install Historic-Crypto"
      ]
    },
    {
      "cell_type": "code",
      "source": [
        "import warnings\n",
        "warnings.filterwarnings(\"ignore\")\n",
        "\n",
        "from Historic_Crypto import HistoricalData"
      ],
      "metadata": {
        "id": "duP3WefmvoJd"
      },
      "execution_count": 3,
      "outputs": []
    },
    {
      "cell_type": "code",
      "source": [
        "btc_historicals = HistoricalData('BTC-USD',86400,'2021-01-01-00-00', '2022-07-01-00-00').retrieve_data() # cyrpto name, number of seconds, start date, end date\n"
      ],
      "metadata": {
        "colab": {
          "base_uri": "https://localhost:8080/"
        },
        "id": "mXFZVRlFvxAq",
        "outputId": "149558e9-9554-4b0b-e05d-6894c98b0800"
      },
      "execution_count": 4,
      "outputs": [
        {
          "output_type": "stream",
          "name": "stdout",
          "text": [
            "Checking input parameters are in the correct format.\n",
            "Formatting Dates.\n",
            "Checking if user supplied is available on the CoinBase Pro API.\n",
            "Connected to the CoinBase Pro API.\n",
            "Ticker 'BTC-USD' found at the CoinBase Pro API, continuing to extraction.\n",
            "Provisional Start: 2021-01-01T00:00:00\n",
            "Provisional End: 2021-10-28T00:00:00\n",
            "Data for chunk 1 of 2 extracted\n",
            "Provisional Start: 2021-10-28T00:00:00\n",
            "Provisional End: 2022-08-24T00:00:00\n",
            "Data for chunk 2 of 2 extracted\n"
          ]
        }
      ]
    },
    {
      "cell_type": "code",
      "source": [
        "btc_historicals.shape"
      ],
      "metadata": {
        "colab": {
          "base_uri": "https://localhost:8080/"
        },
        "id": "bB36viuAwnr4",
        "outputId": "9a5cdd78-32f9-48ba-e99e-524d3624f1a1"
      },
      "execution_count": 5,
      "outputs": [
        {
          "output_type": "execute_result",
          "data": {
            "text/plain": [
              "(546, 5)"
            ]
          },
          "metadata": {},
          "execution_count": 5
        }
      ]
    },
    {
      "cell_type": "code",
      "source": [
        "btc_historicals.tail()"
      ],
      "metadata": {
        "colab": {
          "base_uri": "https://localhost:8080/",
          "height": 238
        },
        "id": "-QepeTnmyIfF",
        "outputId": "72648727-2e22-42fb-954b-29a440890853"
      },
      "execution_count": 6,
      "outputs": [
        {
          "output_type": "execute_result",
          "data": {
            "text/plain": [
              "                 low      high      open     close        volume\n",
              "time                                                            \n",
              "2022-06-27  20500.00  21520.00  21024.85  20725.17  17440.942683\n",
              "2022-06-28  20164.70  21189.99  20722.95  20252.89  17658.660417\n",
              "2022-06-29  19823.43  20410.91  20253.50  20094.79  18278.451859\n",
              "2022-06-30  18603.00  20143.53  20098.00  19985.62  28361.458762\n",
              "2022-07-01  18938.33  20879.99  19985.62  19252.76  32977.000523"
            ],
            "text/html": [
              "\n",
              "  <div id=\"df-551afff4-6b9e-4180-83cc-45343949918e\">\n",
              "    <div class=\"colab-df-container\">\n",
              "      <div>\n",
              "<style scoped>\n",
              "    .dataframe tbody tr th:only-of-type {\n",
              "        vertical-align: middle;\n",
              "    }\n",
              "\n",
              "    .dataframe tbody tr th {\n",
              "        vertical-align: top;\n",
              "    }\n",
              "\n",
              "    .dataframe thead th {\n",
              "        text-align: right;\n",
              "    }\n",
              "</style>\n",
              "<table border=\"1\" class=\"dataframe\">\n",
              "  <thead>\n",
              "    <tr style=\"text-align: right;\">\n",
              "      <th></th>\n",
              "      <th>low</th>\n",
              "      <th>high</th>\n",
              "      <th>open</th>\n",
              "      <th>close</th>\n",
              "      <th>volume</th>\n",
              "    </tr>\n",
              "    <tr>\n",
              "      <th>time</th>\n",
              "      <th></th>\n",
              "      <th></th>\n",
              "      <th></th>\n",
              "      <th></th>\n",
              "      <th></th>\n",
              "    </tr>\n",
              "  </thead>\n",
              "  <tbody>\n",
              "    <tr>\n",
              "      <th>2022-06-27</th>\n",
              "      <td>20500.00</td>\n",
              "      <td>21520.00</td>\n",
              "      <td>21024.85</td>\n",
              "      <td>20725.17</td>\n",
              "      <td>17440.942683</td>\n",
              "    </tr>\n",
              "    <tr>\n",
              "      <th>2022-06-28</th>\n",
              "      <td>20164.70</td>\n",
              "      <td>21189.99</td>\n",
              "      <td>20722.95</td>\n",
              "      <td>20252.89</td>\n",
              "      <td>17658.660417</td>\n",
              "    </tr>\n",
              "    <tr>\n",
              "      <th>2022-06-29</th>\n",
              "      <td>19823.43</td>\n",
              "      <td>20410.91</td>\n",
              "      <td>20253.50</td>\n",
              "      <td>20094.79</td>\n",
              "      <td>18278.451859</td>\n",
              "    </tr>\n",
              "    <tr>\n",
              "      <th>2022-06-30</th>\n",
              "      <td>18603.00</td>\n",
              "      <td>20143.53</td>\n",
              "      <td>20098.00</td>\n",
              "      <td>19985.62</td>\n",
              "      <td>28361.458762</td>\n",
              "    </tr>\n",
              "    <tr>\n",
              "      <th>2022-07-01</th>\n",
              "      <td>18938.33</td>\n",
              "      <td>20879.99</td>\n",
              "      <td>19985.62</td>\n",
              "      <td>19252.76</td>\n",
              "      <td>32977.000523</td>\n",
              "    </tr>\n",
              "  </tbody>\n",
              "</table>\n",
              "</div>\n",
              "      <button class=\"colab-df-convert\" onclick=\"convertToInteractive('df-551afff4-6b9e-4180-83cc-45343949918e')\"\n",
              "              title=\"Convert this dataframe to an interactive table.\"\n",
              "              style=\"display:none;\">\n",
              "        \n",
              "  <svg xmlns=\"http://www.w3.org/2000/svg\" height=\"24px\"viewBox=\"0 0 24 24\"\n",
              "       width=\"24px\">\n",
              "    <path d=\"M0 0h24v24H0V0z\" fill=\"none\"/>\n",
              "    <path d=\"M18.56 5.44l.94 2.06.94-2.06 2.06-.94-2.06-.94-.94-2.06-.94 2.06-2.06.94zm-11 1L8.5 8.5l.94-2.06 2.06-.94-2.06-.94L8.5 2.5l-.94 2.06-2.06.94zm10 10l.94 2.06.94-2.06 2.06-.94-2.06-.94-.94-2.06-.94 2.06-2.06.94z\"/><path d=\"M17.41 7.96l-1.37-1.37c-.4-.4-.92-.59-1.43-.59-.52 0-1.04.2-1.43.59L10.3 9.45l-7.72 7.72c-.78.78-.78 2.05 0 2.83L4 21.41c.39.39.9.59 1.41.59.51 0 1.02-.2 1.41-.59l7.78-7.78 2.81-2.81c.8-.78.8-2.07 0-2.86zM5.41 20L4 18.59l7.72-7.72 1.47 1.35L5.41 20z\"/>\n",
              "  </svg>\n",
              "      </button>\n",
              "      \n",
              "  <style>\n",
              "    .colab-df-container {\n",
              "      display:flex;\n",
              "      flex-wrap:wrap;\n",
              "      gap: 12px;\n",
              "    }\n",
              "\n",
              "    .colab-df-convert {\n",
              "      background-color: #E8F0FE;\n",
              "      border: none;\n",
              "      border-radius: 50%;\n",
              "      cursor: pointer;\n",
              "      display: none;\n",
              "      fill: #1967D2;\n",
              "      height: 32px;\n",
              "      padding: 0 0 0 0;\n",
              "      width: 32px;\n",
              "    }\n",
              "\n",
              "    .colab-df-convert:hover {\n",
              "      background-color: #E2EBFA;\n",
              "      box-shadow: 0px 1px 2px rgba(60, 64, 67, 0.3), 0px 1px 3px 1px rgba(60, 64, 67, 0.15);\n",
              "      fill: #174EA6;\n",
              "    }\n",
              "\n",
              "    [theme=dark] .colab-df-convert {\n",
              "      background-color: #3B4455;\n",
              "      fill: #D2E3FC;\n",
              "    }\n",
              "\n",
              "    [theme=dark] .colab-df-convert:hover {\n",
              "      background-color: #434B5C;\n",
              "      box-shadow: 0px 1px 3px 1px rgba(0, 0, 0, 0.15);\n",
              "      filter: drop-shadow(0px 1px 2px rgba(0, 0, 0, 0.3));\n",
              "      fill: #FFFFFF;\n",
              "    }\n",
              "  </style>\n",
              "\n",
              "      <script>\n",
              "        const buttonEl =\n",
              "          document.querySelector('#df-551afff4-6b9e-4180-83cc-45343949918e button.colab-df-convert');\n",
              "        buttonEl.style.display =\n",
              "          google.colab.kernel.accessAllowed ? 'block' : 'none';\n",
              "\n",
              "        async function convertToInteractive(key) {\n",
              "          const element = document.querySelector('#df-551afff4-6b9e-4180-83cc-45343949918e');\n",
              "          const dataTable =\n",
              "            await google.colab.kernel.invokeFunction('convertToInteractive',\n",
              "                                                     [key], {});\n",
              "          if (!dataTable) return;\n",
              "\n",
              "          const docLinkHtml = 'Like what you see? Visit the ' +\n",
              "            '<a target=\"_blank\" href=https://colab.research.google.com/notebooks/data_table.ipynb>data table notebook</a>'\n",
              "            + ' to learn more about interactive tables.';\n",
              "          element.innerHTML = '';\n",
              "          dataTable['output_type'] = 'display_data';\n",
              "          await google.colab.output.renderOutput(dataTable, element);\n",
              "          const docLink = document.createElement('div');\n",
              "          docLink.innerHTML = docLinkHtml;\n",
              "          element.appendChild(docLink);\n",
              "        }\n",
              "      </script>\n",
              "    </div>\n",
              "  </div>\n",
              "  "
            ]
          },
          "metadata": {},
          "execution_count": 6
        }
      ]
    },
    {
      "cell_type": "code",
      "source": [
        "# Check out variables\n",
        "btc_historicals.dtypes"
      ],
      "metadata": {
        "colab": {
          "base_uri": "https://localhost:8080/"
        },
        "id": "wEBYs9iyygbR",
        "outputId": "cfd4b327-d345-412a-d658-21a9d4455161"
      },
      "execution_count": 7,
      "outputs": [
        {
          "output_type": "execute_result",
          "data": {
            "text/plain": [
              "low       float64\n",
              "high      float64\n",
              "open      float64\n",
              "close     float64\n",
              "volume    float64\n",
              "dtype: object"
            ]
          },
          "metadata": {},
          "execution_count": 7
        }
      ]
    },
    {
      "cell_type": "code",
      "source": [
        "tst = btc_historicals"
      ],
      "metadata": {
        "id": "8AvL9iDB0Ajo"
      },
      "execution_count": 8,
      "outputs": []
    },
    {
      "cell_type": "code",
      "source": [
        "print('Null Values:',tst.isnull().values.sum())\n",
        "print('If any NA values:', tst.isnull().values.any())"
      ],
      "metadata": {
        "colab": {
          "base_uri": "https://localhost:8080/"
        },
        "id": "8CWBQogH8Dvl",
        "outputId": "5fdd208c-6eb2-4725-8381-a9eb48e7c16e"
      },
      "execution_count": 9,
      "outputs": [
        {
          "output_type": "stream",
          "name": "stdout",
          "text": [
            "Null Values: 0\n",
            "If any NA values: False\n"
          ]
        }
      ]
    },
    {
      "cell_type": "code",
      "source": [
        "# Create variable '‘TOMORROW_CLOSE’' which shifts 'Close' up by 1\n",
        "tst['TOMORROW_CLOSE'] = tst['close'].shift(-1,fill_value=0)"
      ],
      "metadata": {
        "id": "dhxMK0DoyiIJ"
      },
      "execution_count": 10,
      "outputs": []
    },
    {
      "cell_type": "code",
      "source": [
        "# drop last row because we shifted value (remember this when you add your forecasting data)\n",
        "tst.drop(tst.tail(1).index,inplace=True) "
      ],
      "metadata": {
        "id": "tIyv8Sikzy_R"
      },
      "execution_count": 11,
      "outputs": []
    },
    {
      "cell_type": "code",
      "source": [
        "# Drop close column, since we created new ‘TOMORROW_CLOSE’\n",
        "tst = tst.drop(columns=['close'])"
      ],
      "metadata": {
        "id": "Vb8CFnmzy1vh"
      },
      "execution_count": 12,
      "outputs": []
    },
    {
      "cell_type": "code",
      "source": [
        "tst.head()"
      ],
      "metadata": {
        "colab": {
          "base_uri": "https://localhost:8080/",
          "height": 238
        },
        "id": "Ee1SrZN3y9zR",
        "outputId": "d22bb14e-ab94-415a-b099-12f97744c255"
      },
      "execution_count": 13,
      "outputs": [
        {
          "output_type": "execute_result",
          "data": {
            "text/plain": [
              "                 low      high      open        volume  TOMORROW_CLOSE\n",
              "time                                                                  \n",
              "2021-01-02  29039.00  33300.00  29413.29  46675.246521        33080.66\n",
              "2021-01-03  32008.62  34810.00  32222.88  36951.716506        32019.99\n",
              "2021-01-04  27678.00  33666.99  33082.84  46045.389685        34030.64\n",
              "2021-01-05  29891.13  34499.67  32020.22  42282.569200        36859.26\n",
              "2021-01-06  33352.54  37000.00  34043.91  45744.103200        39505.56"
            ],
            "text/html": [
              "\n",
              "  <div id=\"df-4ea06c01-ab93-404b-a5da-50c3f8b05bed\">\n",
              "    <div class=\"colab-df-container\">\n",
              "      <div>\n",
              "<style scoped>\n",
              "    .dataframe tbody tr th:only-of-type {\n",
              "        vertical-align: middle;\n",
              "    }\n",
              "\n",
              "    .dataframe tbody tr th {\n",
              "        vertical-align: top;\n",
              "    }\n",
              "\n",
              "    .dataframe thead th {\n",
              "        text-align: right;\n",
              "    }\n",
              "</style>\n",
              "<table border=\"1\" class=\"dataframe\">\n",
              "  <thead>\n",
              "    <tr style=\"text-align: right;\">\n",
              "      <th></th>\n",
              "      <th>low</th>\n",
              "      <th>high</th>\n",
              "      <th>open</th>\n",
              "      <th>volume</th>\n",
              "      <th>TOMORROW_CLOSE</th>\n",
              "    </tr>\n",
              "    <tr>\n",
              "      <th>time</th>\n",
              "      <th></th>\n",
              "      <th></th>\n",
              "      <th></th>\n",
              "      <th></th>\n",
              "      <th></th>\n",
              "    </tr>\n",
              "  </thead>\n",
              "  <tbody>\n",
              "    <tr>\n",
              "      <th>2021-01-02</th>\n",
              "      <td>29039.00</td>\n",
              "      <td>33300.00</td>\n",
              "      <td>29413.29</td>\n",
              "      <td>46675.246521</td>\n",
              "      <td>33080.66</td>\n",
              "    </tr>\n",
              "    <tr>\n",
              "      <th>2021-01-03</th>\n",
              "      <td>32008.62</td>\n",
              "      <td>34810.00</td>\n",
              "      <td>32222.88</td>\n",
              "      <td>36951.716506</td>\n",
              "      <td>32019.99</td>\n",
              "    </tr>\n",
              "    <tr>\n",
              "      <th>2021-01-04</th>\n",
              "      <td>27678.00</td>\n",
              "      <td>33666.99</td>\n",
              "      <td>33082.84</td>\n",
              "      <td>46045.389685</td>\n",
              "      <td>34030.64</td>\n",
              "    </tr>\n",
              "    <tr>\n",
              "      <th>2021-01-05</th>\n",
              "      <td>29891.13</td>\n",
              "      <td>34499.67</td>\n",
              "      <td>32020.22</td>\n",
              "      <td>42282.569200</td>\n",
              "      <td>36859.26</td>\n",
              "    </tr>\n",
              "    <tr>\n",
              "      <th>2021-01-06</th>\n",
              "      <td>33352.54</td>\n",
              "      <td>37000.00</td>\n",
              "      <td>34043.91</td>\n",
              "      <td>45744.103200</td>\n",
              "      <td>39505.56</td>\n",
              "    </tr>\n",
              "  </tbody>\n",
              "</table>\n",
              "</div>\n",
              "      <button class=\"colab-df-convert\" onclick=\"convertToInteractive('df-4ea06c01-ab93-404b-a5da-50c3f8b05bed')\"\n",
              "              title=\"Convert this dataframe to an interactive table.\"\n",
              "              style=\"display:none;\">\n",
              "        \n",
              "  <svg xmlns=\"http://www.w3.org/2000/svg\" height=\"24px\"viewBox=\"0 0 24 24\"\n",
              "       width=\"24px\">\n",
              "    <path d=\"M0 0h24v24H0V0z\" fill=\"none\"/>\n",
              "    <path d=\"M18.56 5.44l.94 2.06.94-2.06 2.06-.94-2.06-.94-.94-2.06-.94 2.06-2.06.94zm-11 1L8.5 8.5l.94-2.06 2.06-.94-2.06-.94L8.5 2.5l-.94 2.06-2.06.94zm10 10l.94 2.06.94-2.06 2.06-.94-2.06-.94-.94-2.06-.94 2.06-2.06.94z\"/><path d=\"M17.41 7.96l-1.37-1.37c-.4-.4-.92-.59-1.43-.59-.52 0-1.04.2-1.43.59L10.3 9.45l-7.72 7.72c-.78.78-.78 2.05 0 2.83L4 21.41c.39.39.9.59 1.41.59.51 0 1.02-.2 1.41-.59l7.78-7.78 2.81-2.81c.8-.78.8-2.07 0-2.86zM5.41 20L4 18.59l7.72-7.72 1.47 1.35L5.41 20z\"/>\n",
              "  </svg>\n",
              "      </button>\n",
              "      \n",
              "  <style>\n",
              "    .colab-df-container {\n",
              "      display:flex;\n",
              "      flex-wrap:wrap;\n",
              "      gap: 12px;\n",
              "    }\n",
              "\n",
              "    .colab-df-convert {\n",
              "      background-color: #E8F0FE;\n",
              "      border: none;\n",
              "      border-radius: 50%;\n",
              "      cursor: pointer;\n",
              "      display: none;\n",
              "      fill: #1967D2;\n",
              "      height: 32px;\n",
              "      padding: 0 0 0 0;\n",
              "      width: 32px;\n",
              "    }\n",
              "\n",
              "    .colab-df-convert:hover {\n",
              "      background-color: #E2EBFA;\n",
              "      box-shadow: 0px 1px 2px rgba(60, 64, 67, 0.3), 0px 1px 3px 1px rgba(60, 64, 67, 0.15);\n",
              "      fill: #174EA6;\n",
              "    }\n",
              "\n",
              "    [theme=dark] .colab-df-convert {\n",
              "      background-color: #3B4455;\n",
              "      fill: #D2E3FC;\n",
              "    }\n",
              "\n",
              "    [theme=dark] .colab-df-convert:hover {\n",
              "      background-color: #434B5C;\n",
              "      box-shadow: 0px 1px 3px 1px rgba(0, 0, 0, 0.15);\n",
              "      filter: drop-shadow(0px 1px 2px rgba(0, 0, 0, 0.3));\n",
              "      fill: #FFFFFF;\n",
              "    }\n",
              "  </style>\n",
              "\n",
              "      <script>\n",
              "        const buttonEl =\n",
              "          document.querySelector('#df-4ea06c01-ab93-404b-a5da-50c3f8b05bed button.colab-df-convert');\n",
              "        buttonEl.style.display =\n",
              "          google.colab.kernel.accessAllowed ? 'block' : 'none';\n",
              "\n",
              "        async function convertToInteractive(key) {\n",
              "          const element = document.querySelector('#df-4ea06c01-ab93-404b-a5da-50c3f8b05bed');\n",
              "          const dataTable =\n",
              "            await google.colab.kernel.invokeFunction('convertToInteractive',\n",
              "                                                     [key], {});\n",
              "          if (!dataTable) return;\n",
              "\n",
              "          const docLinkHtml = 'Like what you see? Visit the ' +\n",
              "            '<a target=\"_blank\" href=https://colab.research.google.com/notebooks/data_table.ipynb>data table notebook</a>'\n",
              "            + ' to learn more about interactive tables.';\n",
              "          element.innerHTML = '';\n",
              "          dataTable['output_type'] = 'display_data';\n",
              "          await google.colab.output.renderOutput(dataTable, element);\n",
              "          const docLink = document.createElement('div');\n",
              "          docLink.innerHTML = docLinkHtml;\n",
              "          element.appendChild(docLink);\n",
              "        }\n",
              "      </script>\n",
              "    </div>\n",
              "  </div>\n",
              "  "
            ]
          },
          "metadata": {},
          "execution_count": 13
        }
      ]
    },
    {
      "cell_type": "code",
      "source": [
        "tst.shape\n",
        "print('Null Values:',tst.isnull().values.sum())\n",
        "tst = tst.dropna()\n",
        "print('Null Values:',tst.isnull().values.sum())"
      ],
      "metadata": {
        "colab": {
          "base_uri": "https://localhost:8080/"
        },
        "id": "bmfjRuDozBTh",
        "outputId": "d4e572c5-42ff-497f-dca7-2aa257886891"
      },
      "execution_count": 14,
      "outputs": [
        {
          "output_type": "stream",
          "name": "stdout",
          "text": [
            "Null Values: 0\n",
            "Null Values: 0\n"
          ]
        }
      ]
    },
    {
      "cell_type": "code",
      "source": [
        "import numpy as np\n",
        "import pandas as pd\n",
        "import matplotlib.pyplot as plt\n",
        "import seaborn as sns\n",
        "import datetime \n",
        "from datetime import date\n",
        "import math\n",
        "import pandas_datareader as web"
      ],
      "metadata": {
        "id": "f51vmNns7jMU"
      },
      "execution_count": 15,
      "outputs": []
    },
    {
      "cell_type": "code",
      "source": [
        "def get_technical_indicators(dataset):\n",
        "    # Create 7 and 21 days Moving Average\n",
        "    dataset['ma7'] = dataset['TOMORROW_CLOSE'].rolling(window=7).mean()\n",
        "    dataset['ma21'] = dataset['TOMORROW_CLOSE'].rolling(window=21).mean()\n",
        "    \n",
        "    # Create MACD\n",
        "    dataset['26ema'] = dataset['TOMORROW_CLOSE'].ewm(span=26).mean()\n",
        "    dataset['12ema'] = dataset['TOMORROW_CLOSE'].ewm(span=12).mean()\n",
        "    dataset['MACD'] = dataset['12ema']-dataset['26ema']\n",
        "\n",
        "    # Create Bollinger Bands\n",
        "    dataset['20sd'] = dataset['TOMORROW_CLOSE'].rolling(window = 21).std()\n",
        "    dataset['upper_band'] = dataset['ma21'] + (dataset['20sd']*2)\n",
        "    dataset['lower_band'] = dataset['ma21'] - (dataset['20sd']*2)\n",
        "    \n",
        "    # Create Exponential moving average\n",
        "    dataset['ema'] = dataset['TOMORROW_CLOSE'].ewm(com=0.5).mean()\n",
        "    \n",
        "    # Create Momentum\n",
        "    dataset['momentum'] = dataset['TOMORROW_CLOSE']-1\n",
        "    dataset['log_momentum'] = np.log(dataset['momentum'])\n",
        "    return dataset"
      ],
      "metadata": {
        "id": "aJljztSZ7jTH"
      },
      "execution_count": 16,
      "outputs": []
    },
    {
      "cell_type": "code",
      "source": [
        "df = get_technical_indicators(tst)"
      ],
      "metadata": {
        "id": "uO_dS6ZF7jaX"
      },
      "execution_count": 17,
      "outputs": []
    },
    {
      "cell_type": "code",
      "source": [
        "df = df.dropna()\n",
        "df.head()"
      ],
      "metadata": {
        "colab": {
          "base_uri": "https://localhost:8080/",
          "height": 238
        },
        "id": "IqVhYx2o7jk_",
        "outputId": "66147386-f360-4f4c-cf43-8957aec55eef"
      },
      "execution_count": 18,
      "outputs": [
        {
          "output_type": "execute_result",
          "data": {
            "text/plain": [
              "                 low      high      open        volume  TOMORROW_CLOSE  \\\n",
              "time                                                                     \n",
              "2021-01-22  28732.00  33867.00  30855.90  48155.721617        32112.01   \n",
              "2021-01-23  31432.19  33488.79  32982.66  16139.814783        32288.56   \n",
              "2021-01-24  30931.21  33086.53  32110.00  13618.800978        32261.87   \n",
              "2021-01-25  31920.80  34888.00  32293.18  23045.662934        32510.82   \n",
              "2021-01-26  30830.00  32960.37  32260.52  23535.838917        30407.13   \n",
              "\n",
              "                     ma7          ma21         26ema         12ema  \\\n",
              "time                                                                 \n",
              "2021-01-22  34259.641429  35865.701429  35377.080031  34647.900062   \n",
              "2021-01-23  33755.150000  35827.982381  35096.733728  34275.485985   \n",
              "2021-01-24  33131.955714  35839.500476  34843.637701  33958.909800   \n",
              "2021-01-25  32645.318571  35767.128095  34638.483747  33732.009389   \n",
              "2021-01-26  31917.324286  35459.883810  34271.457772  33212.512918   \n",
              "\n",
              "                   MACD         20sd    upper_band    lower_band  \\\n",
              "time                                                               \n",
              "2021-01-22  -729.179969  2768.237573  41402.176574  30329.226283   \n",
              "2021-01-23  -821.247744  2813.115648  41454.213677  30201.751085   \n",
              "2021-01-24  -884.727901  2797.194653  41433.889782  30245.111171   \n",
              "2021-01-25  -906.474358  2865.171051  41497.470197  30036.785993   \n",
              "2021-01-26 -1058.944854  3080.085635  41620.055080  29299.712539   \n",
              "\n",
              "                     ema  momentum  log_momentum  \n",
              "time                                              \n",
              "2021-01-22  32345.742206  32111.01     10.376954  \n",
              "2021-01-23  32307.620735  32287.56     10.382437  \n",
              "2021-01-24  32277.120245  32260.87     10.381610  \n",
              "2021-01-25  32432.920082  32509.82     10.389297  \n",
              "2021-01-26  31082.393361  30406.13     10.322400  "
            ],
            "text/html": [
              "\n",
              "  <div id=\"df-183930be-e8e2-4383-a531-a434df21551f\">\n",
              "    <div class=\"colab-df-container\">\n",
              "      <div>\n",
              "<style scoped>\n",
              "    .dataframe tbody tr th:only-of-type {\n",
              "        vertical-align: middle;\n",
              "    }\n",
              "\n",
              "    .dataframe tbody tr th {\n",
              "        vertical-align: top;\n",
              "    }\n",
              "\n",
              "    .dataframe thead th {\n",
              "        text-align: right;\n",
              "    }\n",
              "</style>\n",
              "<table border=\"1\" class=\"dataframe\">\n",
              "  <thead>\n",
              "    <tr style=\"text-align: right;\">\n",
              "      <th></th>\n",
              "      <th>low</th>\n",
              "      <th>high</th>\n",
              "      <th>open</th>\n",
              "      <th>volume</th>\n",
              "      <th>TOMORROW_CLOSE</th>\n",
              "      <th>ma7</th>\n",
              "      <th>ma21</th>\n",
              "      <th>26ema</th>\n",
              "      <th>12ema</th>\n",
              "      <th>MACD</th>\n",
              "      <th>20sd</th>\n",
              "      <th>upper_band</th>\n",
              "      <th>lower_band</th>\n",
              "      <th>ema</th>\n",
              "      <th>momentum</th>\n",
              "      <th>log_momentum</th>\n",
              "    </tr>\n",
              "    <tr>\n",
              "      <th>time</th>\n",
              "      <th></th>\n",
              "      <th></th>\n",
              "      <th></th>\n",
              "      <th></th>\n",
              "      <th></th>\n",
              "      <th></th>\n",
              "      <th></th>\n",
              "      <th></th>\n",
              "      <th></th>\n",
              "      <th></th>\n",
              "      <th></th>\n",
              "      <th></th>\n",
              "      <th></th>\n",
              "      <th></th>\n",
              "      <th></th>\n",
              "      <th></th>\n",
              "    </tr>\n",
              "  </thead>\n",
              "  <tbody>\n",
              "    <tr>\n",
              "      <th>2021-01-22</th>\n",
              "      <td>28732.00</td>\n",
              "      <td>33867.00</td>\n",
              "      <td>30855.90</td>\n",
              "      <td>48155.721617</td>\n",
              "      <td>32112.01</td>\n",
              "      <td>34259.641429</td>\n",
              "      <td>35865.701429</td>\n",
              "      <td>35377.080031</td>\n",
              "      <td>34647.900062</td>\n",
              "      <td>-729.179969</td>\n",
              "      <td>2768.237573</td>\n",
              "      <td>41402.176574</td>\n",
              "      <td>30329.226283</td>\n",
              "      <td>32345.742206</td>\n",
              "      <td>32111.01</td>\n",
              "      <td>10.376954</td>\n",
              "    </tr>\n",
              "    <tr>\n",
              "      <th>2021-01-23</th>\n",
              "      <td>31432.19</td>\n",
              "      <td>33488.79</td>\n",
              "      <td>32982.66</td>\n",
              "      <td>16139.814783</td>\n",
              "      <td>32288.56</td>\n",
              "      <td>33755.150000</td>\n",
              "      <td>35827.982381</td>\n",
              "      <td>35096.733728</td>\n",
              "      <td>34275.485985</td>\n",
              "      <td>-821.247744</td>\n",
              "      <td>2813.115648</td>\n",
              "      <td>41454.213677</td>\n",
              "      <td>30201.751085</td>\n",
              "      <td>32307.620735</td>\n",
              "      <td>32287.56</td>\n",
              "      <td>10.382437</td>\n",
              "    </tr>\n",
              "    <tr>\n",
              "      <th>2021-01-24</th>\n",
              "      <td>30931.21</td>\n",
              "      <td>33086.53</td>\n",
              "      <td>32110.00</td>\n",
              "      <td>13618.800978</td>\n",
              "      <td>32261.87</td>\n",
              "      <td>33131.955714</td>\n",
              "      <td>35839.500476</td>\n",
              "      <td>34843.637701</td>\n",
              "      <td>33958.909800</td>\n",
              "      <td>-884.727901</td>\n",
              "      <td>2797.194653</td>\n",
              "      <td>41433.889782</td>\n",
              "      <td>30245.111171</td>\n",
              "      <td>32277.120245</td>\n",
              "      <td>32260.87</td>\n",
              "      <td>10.381610</td>\n",
              "    </tr>\n",
              "    <tr>\n",
              "      <th>2021-01-25</th>\n",
              "      <td>31920.80</td>\n",
              "      <td>34888.00</td>\n",
              "      <td>32293.18</td>\n",
              "      <td>23045.662934</td>\n",
              "      <td>32510.82</td>\n",
              "      <td>32645.318571</td>\n",
              "      <td>35767.128095</td>\n",
              "      <td>34638.483747</td>\n",
              "      <td>33732.009389</td>\n",
              "      <td>-906.474358</td>\n",
              "      <td>2865.171051</td>\n",
              "      <td>41497.470197</td>\n",
              "      <td>30036.785993</td>\n",
              "      <td>32432.920082</td>\n",
              "      <td>32509.82</td>\n",
              "      <td>10.389297</td>\n",
              "    </tr>\n",
              "    <tr>\n",
              "      <th>2021-01-26</th>\n",
              "      <td>30830.00</td>\n",
              "      <td>32960.37</td>\n",
              "      <td>32260.52</td>\n",
              "      <td>23535.838917</td>\n",
              "      <td>30407.13</td>\n",
              "      <td>31917.324286</td>\n",
              "      <td>35459.883810</td>\n",
              "      <td>34271.457772</td>\n",
              "      <td>33212.512918</td>\n",
              "      <td>-1058.944854</td>\n",
              "      <td>3080.085635</td>\n",
              "      <td>41620.055080</td>\n",
              "      <td>29299.712539</td>\n",
              "      <td>31082.393361</td>\n",
              "      <td>30406.13</td>\n",
              "      <td>10.322400</td>\n",
              "    </tr>\n",
              "  </tbody>\n",
              "</table>\n",
              "</div>\n",
              "      <button class=\"colab-df-convert\" onclick=\"convertToInteractive('df-183930be-e8e2-4383-a531-a434df21551f')\"\n",
              "              title=\"Convert this dataframe to an interactive table.\"\n",
              "              style=\"display:none;\">\n",
              "        \n",
              "  <svg xmlns=\"http://www.w3.org/2000/svg\" height=\"24px\"viewBox=\"0 0 24 24\"\n",
              "       width=\"24px\">\n",
              "    <path d=\"M0 0h24v24H0V0z\" fill=\"none\"/>\n",
              "    <path d=\"M18.56 5.44l.94 2.06.94-2.06 2.06-.94-2.06-.94-.94-2.06-.94 2.06-2.06.94zm-11 1L8.5 8.5l.94-2.06 2.06-.94-2.06-.94L8.5 2.5l-.94 2.06-2.06.94zm10 10l.94 2.06.94-2.06 2.06-.94-2.06-.94-.94-2.06-.94 2.06-2.06.94z\"/><path d=\"M17.41 7.96l-1.37-1.37c-.4-.4-.92-.59-1.43-.59-.52 0-1.04.2-1.43.59L10.3 9.45l-7.72 7.72c-.78.78-.78 2.05 0 2.83L4 21.41c.39.39.9.59 1.41.59.51 0 1.02-.2 1.41-.59l7.78-7.78 2.81-2.81c.8-.78.8-2.07 0-2.86zM5.41 20L4 18.59l7.72-7.72 1.47 1.35L5.41 20z\"/>\n",
              "  </svg>\n",
              "      </button>\n",
              "      \n",
              "  <style>\n",
              "    .colab-df-container {\n",
              "      display:flex;\n",
              "      flex-wrap:wrap;\n",
              "      gap: 12px;\n",
              "    }\n",
              "\n",
              "    .colab-df-convert {\n",
              "      background-color: #E8F0FE;\n",
              "      border: none;\n",
              "      border-radius: 50%;\n",
              "      cursor: pointer;\n",
              "      display: none;\n",
              "      fill: #1967D2;\n",
              "      height: 32px;\n",
              "      padding: 0 0 0 0;\n",
              "      width: 32px;\n",
              "    }\n",
              "\n",
              "    .colab-df-convert:hover {\n",
              "      background-color: #E2EBFA;\n",
              "      box-shadow: 0px 1px 2px rgba(60, 64, 67, 0.3), 0px 1px 3px 1px rgba(60, 64, 67, 0.15);\n",
              "      fill: #174EA6;\n",
              "    }\n",
              "\n",
              "    [theme=dark] .colab-df-convert {\n",
              "      background-color: #3B4455;\n",
              "      fill: #D2E3FC;\n",
              "    }\n",
              "\n",
              "    [theme=dark] .colab-df-convert:hover {\n",
              "      background-color: #434B5C;\n",
              "      box-shadow: 0px 1px 3px 1px rgba(0, 0, 0, 0.15);\n",
              "      filter: drop-shadow(0px 1px 2px rgba(0, 0, 0, 0.3));\n",
              "      fill: #FFFFFF;\n",
              "    }\n",
              "  </style>\n",
              "\n",
              "      <script>\n",
              "        const buttonEl =\n",
              "          document.querySelector('#df-183930be-e8e2-4383-a531-a434df21551f button.colab-df-convert');\n",
              "        buttonEl.style.display =\n",
              "          google.colab.kernel.accessAllowed ? 'block' : 'none';\n",
              "\n",
              "        async function convertToInteractive(key) {\n",
              "          const element = document.querySelector('#df-183930be-e8e2-4383-a531-a434df21551f');\n",
              "          const dataTable =\n",
              "            await google.colab.kernel.invokeFunction('convertToInteractive',\n",
              "                                                     [key], {});\n",
              "          if (!dataTable) return;\n",
              "\n",
              "          const docLinkHtml = 'Like what you see? Visit the ' +\n",
              "            '<a target=\"_blank\" href=https://colab.research.google.com/notebooks/data_table.ipynb>data table notebook</a>'\n",
              "            + ' to learn more about interactive tables.';\n",
              "          element.innerHTML = '';\n",
              "          dataTable['output_type'] = 'display_data';\n",
              "          await google.colab.output.renderOutput(dataTable, element);\n",
              "          const docLink = document.createElement('div');\n",
              "          docLink.innerHTML = docLinkHtml;\n",
              "          element.appendChild(docLink);\n",
              "        }\n",
              "      </script>\n",
              "    </div>\n",
              "  </div>\n",
              "  "
            ]
          },
          "metadata": {},
          "execution_count": 18
        }
      ]
    },
    {
      "cell_type": "code",
      "source": [
        ""
      ],
      "metadata": {
        "id": "rmItBv8e7qXt"
      },
      "execution_count": 18,
      "outputs": []
    },
    {
      "cell_type": "code",
      "source": [
        "tst.shape"
      ],
      "metadata": {
        "colab": {
          "base_uri": "https://localhost:8080/"
        },
        "id": "CuyMJ1PQ7qoa",
        "outputId": "b5473208-c487-4e12-a90d-8a7992044722"
      },
      "execution_count": 19,
      "outputs": [
        {
          "output_type": "execute_result",
          "data": {
            "text/plain": [
              "(545, 16)"
            ]
          },
          "metadata": {},
          "execution_count": 19
        }
      ]
    },
    {
      "cell_type": "code",
      "source": [
        "# Split train data (90%) and test data (10%)\n",
        "\n",
        "train_size = int(len(tst)*0.90)\n",
        "train_dataset, test_dataset = tst.iloc[:train_size],tst.iloc[train_size:]\n"
      ],
      "metadata": {
        "id": "vaD-dLKTzJbx"
      },
      "execution_count": 20,
      "outputs": []
    },
    {
      "cell_type": "code",
      "source": [
        "print('Null Values:',train_dataset.isnull().values.sum())\n",
        "train_dataset = train_dataset.dropna()\n",
        "print('Null Values:',train_dataset.isnull().values.sum())"
      ],
      "metadata": {
        "colab": {
          "base_uri": "https://localhost:8080/"
        },
        "id": "xNZ8gK8E7tqi",
        "outputId": "4165f1c0-270c-4368-cb05-66ee7c14abd5"
      },
      "execution_count": 21,
      "outputs": [
        {
          "output_type": "stream",
          "name": "stdout",
          "text": [
            "Null Values: 86\n",
            "Null Values: 0\n"
          ]
        }
      ]
    },
    {
      "cell_type": "code",
      "source": [
        "train_dataset.head()"
      ],
      "metadata": {
        "colab": {
          "base_uri": "https://localhost:8080/",
          "height": 238
        },
        "id": "yIvQhz7xpYkg",
        "outputId": "3000d1df-3a59-468a-a729-2c111028e656"
      },
      "execution_count": 22,
      "outputs": [
        {
          "output_type": "execute_result",
          "data": {
            "text/plain": [
              "                 low      high      open        volume  TOMORROW_CLOSE  \\\n",
              "time                                                                     \n",
              "2021-01-22  28732.00  33867.00  30855.90  48155.721617        32112.01   \n",
              "2021-01-23  31432.19  33488.79  32982.66  16139.814783        32288.56   \n",
              "2021-01-24  30931.21  33086.53  32110.00  13618.800978        32261.87   \n",
              "2021-01-25  31920.80  34888.00  32293.18  23045.662934        32510.82   \n",
              "2021-01-26  30830.00  32960.37  32260.52  23535.838917        30407.13   \n",
              "\n",
              "                     ma7          ma21         26ema         12ema  \\\n",
              "time                                                                 \n",
              "2021-01-22  34259.641429  35865.701429  35377.080031  34647.900062   \n",
              "2021-01-23  33755.150000  35827.982381  35096.733728  34275.485985   \n",
              "2021-01-24  33131.955714  35839.500476  34843.637701  33958.909800   \n",
              "2021-01-25  32645.318571  35767.128095  34638.483747  33732.009389   \n",
              "2021-01-26  31917.324286  35459.883810  34271.457772  33212.512918   \n",
              "\n",
              "                   MACD         20sd    upper_band    lower_band  \\\n",
              "time                                                               \n",
              "2021-01-22  -729.179969  2768.237573  41402.176574  30329.226283   \n",
              "2021-01-23  -821.247744  2813.115648  41454.213677  30201.751085   \n",
              "2021-01-24  -884.727901  2797.194653  41433.889782  30245.111171   \n",
              "2021-01-25  -906.474358  2865.171051  41497.470197  30036.785993   \n",
              "2021-01-26 -1058.944854  3080.085635  41620.055080  29299.712539   \n",
              "\n",
              "                     ema  momentum  log_momentum  \n",
              "time                                              \n",
              "2021-01-22  32345.742206  32111.01     10.376954  \n",
              "2021-01-23  32307.620735  32287.56     10.382437  \n",
              "2021-01-24  32277.120245  32260.87     10.381610  \n",
              "2021-01-25  32432.920082  32509.82     10.389297  \n",
              "2021-01-26  31082.393361  30406.13     10.322400  "
            ],
            "text/html": [
              "\n",
              "  <div id=\"df-27e0653d-9426-4849-97d4-55bd824743de\">\n",
              "    <div class=\"colab-df-container\">\n",
              "      <div>\n",
              "<style scoped>\n",
              "    .dataframe tbody tr th:only-of-type {\n",
              "        vertical-align: middle;\n",
              "    }\n",
              "\n",
              "    .dataframe tbody tr th {\n",
              "        vertical-align: top;\n",
              "    }\n",
              "\n",
              "    .dataframe thead th {\n",
              "        text-align: right;\n",
              "    }\n",
              "</style>\n",
              "<table border=\"1\" class=\"dataframe\">\n",
              "  <thead>\n",
              "    <tr style=\"text-align: right;\">\n",
              "      <th></th>\n",
              "      <th>low</th>\n",
              "      <th>high</th>\n",
              "      <th>open</th>\n",
              "      <th>volume</th>\n",
              "      <th>TOMORROW_CLOSE</th>\n",
              "      <th>ma7</th>\n",
              "      <th>ma21</th>\n",
              "      <th>26ema</th>\n",
              "      <th>12ema</th>\n",
              "      <th>MACD</th>\n",
              "      <th>20sd</th>\n",
              "      <th>upper_band</th>\n",
              "      <th>lower_band</th>\n",
              "      <th>ema</th>\n",
              "      <th>momentum</th>\n",
              "      <th>log_momentum</th>\n",
              "    </tr>\n",
              "    <tr>\n",
              "      <th>time</th>\n",
              "      <th></th>\n",
              "      <th></th>\n",
              "      <th></th>\n",
              "      <th></th>\n",
              "      <th></th>\n",
              "      <th></th>\n",
              "      <th></th>\n",
              "      <th></th>\n",
              "      <th></th>\n",
              "      <th></th>\n",
              "      <th></th>\n",
              "      <th></th>\n",
              "      <th></th>\n",
              "      <th></th>\n",
              "      <th></th>\n",
              "      <th></th>\n",
              "    </tr>\n",
              "  </thead>\n",
              "  <tbody>\n",
              "    <tr>\n",
              "      <th>2021-01-22</th>\n",
              "      <td>28732.00</td>\n",
              "      <td>33867.00</td>\n",
              "      <td>30855.90</td>\n",
              "      <td>48155.721617</td>\n",
              "      <td>32112.01</td>\n",
              "      <td>34259.641429</td>\n",
              "      <td>35865.701429</td>\n",
              "      <td>35377.080031</td>\n",
              "      <td>34647.900062</td>\n",
              "      <td>-729.179969</td>\n",
              "      <td>2768.237573</td>\n",
              "      <td>41402.176574</td>\n",
              "      <td>30329.226283</td>\n",
              "      <td>32345.742206</td>\n",
              "      <td>32111.01</td>\n",
              "      <td>10.376954</td>\n",
              "    </tr>\n",
              "    <tr>\n",
              "      <th>2021-01-23</th>\n",
              "      <td>31432.19</td>\n",
              "      <td>33488.79</td>\n",
              "      <td>32982.66</td>\n",
              "      <td>16139.814783</td>\n",
              "      <td>32288.56</td>\n",
              "      <td>33755.150000</td>\n",
              "      <td>35827.982381</td>\n",
              "      <td>35096.733728</td>\n",
              "      <td>34275.485985</td>\n",
              "      <td>-821.247744</td>\n",
              "      <td>2813.115648</td>\n",
              "      <td>41454.213677</td>\n",
              "      <td>30201.751085</td>\n",
              "      <td>32307.620735</td>\n",
              "      <td>32287.56</td>\n",
              "      <td>10.382437</td>\n",
              "    </tr>\n",
              "    <tr>\n",
              "      <th>2021-01-24</th>\n",
              "      <td>30931.21</td>\n",
              "      <td>33086.53</td>\n",
              "      <td>32110.00</td>\n",
              "      <td>13618.800978</td>\n",
              "      <td>32261.87</td>\n",
              "      <td>33131.955714</td>\n",
              "      <td>35839.500476</td>\n",
              "      <td>34843.637701</td>\n",
              "      <td>33958.909800</td>\n",
              "      <td>-884.727901</td>\n",
              "      <td>2797.194653</td>\n",
              "      <td>41433.889782</td>\n",
              "      <td>30245.111171</td>\n",
              "      <td>32277.120245</td>\n",
              "      <td>32260.87</td>\n",
              "      <td>10.381610</td>\n",
              "    </tr>\n",
              "    <tr>\n",
              "      <th>2021-01-25</th>\n",
              "      <td>31920.80</td>\n",
              "      <td>34888.00</td>\n",
              "      <td>32293.18</td>\n",
              "      <td>23045.662934</td>\n",
              "      <td>32510.82</td>\n",
              "      <td>32645.318571</td>\n",
              "      <td>35767.128095</td>\n",
              "      <td>34638.483747</td>\n",
              "      <td>33732.009389</td>\n",
              "      <td>-906.474358</td>\n",
              "      <td>2865.171051</td>\n",
              "      <td>41497.470197</td>\n",
              "      <td>30036.785993</td>\n",
              "      <td>32432.920082</td>\n",
              "      <td>32509.82</td>\n",
              "      <td>10.389297</td>\n",
              "    </tr>\n",
              "    <tr>\n",
              "      <th>2021-01-26</th>\n",
              "      <td>30830.00</td>\n",
              "      <td>32960.37</td>\n",
              "      <td>32260.52</td>\n",
              "      <td>23535.838917</td>\n",
              "      <td>30407.13</td>\n",
              "      <td>31917.324286</td>\n",
              "      <td>35459.883810</td>\n",
              "      <td>34271.457772</td>\n",
              "      <td>33212.512918</td>\n",
              "      <td>-1058.944854</td>\n",
              "      <td>3080.085635</td>\n",
              "      <td>41620.055080</td>\n",
              "      <td>29299.712539</td>\n",
              "      <td>31082.393361</td>\n",
              "      <td>30406.13</td>\n",
              "      <td>10.322400</td>\n",
              "    </tr>\n",
              "  </tbody>\n",
              "</table>\n",
              "</div>\n",
              "      <button class=\"colab-df-convert\" onclick=\"convertToInteractive('df-27e0653d-9426-4849-97d4-55bd824743de')\"\n",
              "              title=\"Convert this dataframe to an interactive table.\"\n",
              "              style=\"display:none;\">\n",
              "        \n",
              "  <svg xmlns=\"http://www.w3.org/2000/svg\" height=\"24px\"viewBox=\"0 0 24 24\"\n",
              "       width=\"24px\">\n",
              "    <path d=\"M0 0h24v24H0V0z\" fill=\"none\"/>\n",
              "    <path d=\"M18.56 5.44l.94 2.06.94-2.06 2.06-.94-2.06-.94-.94-2.06-.94 2.06-2.06.94zm-11 1L8.5 8.5l.94-2.06 2.06-.94-2.06-.94L8.5 2.5l-.94 2.06-2.06.94zm10 10l.94 2.06.94-2.06 2.06-.94-2.06-.94-.94-2.06-.94 2.06-2.06.94z\"/><path d=\"M17.41 7.96l-1.37-1.37c-.4-.4-.92-.59-1.43-.59-.52 0-1.04.2-1.43.59L10.3 9.45l-7.72 7.72c-.78.78-.78 2.05 0 2.83L4 21.41c.39.39.9.59 1.41.59.51 0 1.02-.2 1.41-.59l7.78-7.78 2.81-2.81c.8-.78.8-2.07 0-2.86zM5.41 20L4 18.59l7.72-7.72 1.47 1.35L5.41 20z\"/>\n",
              "  </svg>\n",
              "      </button>\n",
              "      \n",
              "  <style>\n",
              "    .colab-df-container {\n",
              "      display:flex;\n",
              "      flex-wrap:wrap;\n",
              "      gap: 12px;\n",
              "    }\n",
              "\n",
              "    .colab-df-convert {\n",
              "      background-color: #E8F0FE;\n",
              "      border: none;\n",
              "      border-radius: 50%;\n",
              "      cursor: pointer;\n",
              "      display: none;\n",
              "      fill: #1967D2;\n",
              "      height: 32px;\n",
              "      padding: 0 0 0 0;\n",
              "      width: 32px;\n",
              "    }\n",
              "\n",
              "    .colab-df-convert:hover {\n",
              "      background-color: #E2EBFA;\n",
              "      box-shadow: 0px 1px 2px rgba(60, 64, 67, 0.3), 0px 1px 3px 1px rgba(60, 64, 67, 0.15);\n",
              "      fill: #174EA6;\n",
              "    }\n",
              "\n",
              "    [theme=dark] .colab-df-convert {\n",
              "      background-color: #3B4455;\n",
              "      fill: #D2E3FC;\n",
              "    }\n",
              "\n",
              "    [theme=dark] .colab-df-convert:hover {\n",
              "      background-color: #434B5C;\n",
              "      box-shadow: 0px 1px 3px 1px rgba(0, 0, 0, 0.15);\n",
              "      filter: drop-shadow(0px 1px 2px rgba(0, 0, 0, 0.3));\n",
              "      fill: #FFFFFF;\n",
              "    }\n",
              "  </style>\n",
              "\n",
              "      <script>\n",
              "        const buttonEl =\n",
              "          document.querySelector('#df-27e0653d-9426-4849-97d4-55bd824743de button.colab-df-convert');\n",
              "        buttonEl.style.display =\n",
              "          google.colab.kernel.accessAllowed ? 'block' : 'none';\n",
              "\n",
              "        async function convertToInteractive(key) {\n",
              "          const element = document.querySelector('#df-27e0653d-9426-4849-97d4-55bd824743de');\n",
              "          const dataTable =\n",
              "            await google.colab.kernel.invokeFunction('convertToInteractive',\n",
              "                                                     [key], {});\n",
              "          if (!dataTable) return;\n",
              "\n",
              "          const docLinkHtml = 'Like what you see? Visit the ' +\n",
              "            '<a target=\"_blank\" href=https://colab.research.google.com/notebooks/data_table.ipynb>data table notebook</a>'\n",
              "            + ' to learn more about interactive tables.';\n",
              "          element.innerHTML = '';\n",
              "          dataTable['output_type'] = 'display_data';\n",
              "          await google.colab.output.renderOutput(dataTable, element);\n",
              "          const docLink = document.createElement('div');\n",
              "          docLink.innerHTML = docLinkHtml;\n",
              "          element.appendChild(docLink);\n",
              "        }\n",
              "      </script>\n",
              "    </div>\n",
              "  </div>\n",
              "  "
            ]
          },
          "metadata": {},
          "execution_count": 22
        }
      ]
    },
    {
      "cell_type": "code",
      "source": [
        "# Split train data to X and y\n",
        "X_train = train_dataset.drop('TOMORROW_CLOSE', axis = 1)\n",
        "y_train = train_dataset.loc[:,['TOMORROW_CLOSE']]\n",
        "\n",
        "# Split test data to X and y\n",
        "X_test = test_dataset.drop('TOMORROW_CLOSE', axis = 1)\n",
        "y_test = test_dataset.loc[:,['TOMORROW_CLOSE']]"
      ],
      "metadata": {
        "id": "mHMzSSQ_24Uo"
      },
      "execution_count": 23,
      "outputs": []
    },
    {
      "cell_type": "code",
      "source": [
        "X_train.head()"
      ],
      "metadata": {
        "colab": {
          "base_uri": "https://localhost:8080/",
          "height": 238
        },
        "id": "fNUixtLJm6mv",
        "outputId": "48e2b8c7-4743-425b-8cdd-12539bc3437f"
      },
      "execution_count": 24,
      "outputs": [
        {
          "output_type": "execute_result",
          "data": {
            "text/plain": [
              "                 low      high      open        volume           ma7  \\\n",
              "time                                                                   \n",
              "2021-01-22  28732.00  33867.00  30855.90  48155.721617  34259.641429   \n",
              "2021-01-23  31432.19  33488.79  32982.66  16139.814783  33755.150000   \n",
              "2021-01-24  30931.21  33086.53  32110.00  13618.800978  33131.955714   \n",
              "2021-01-25  31920.80  34888.00  32293.18  23045.662934  32645.318571   \n",
              "2021-01-26  30830.00  32960.37  32260.52  23535.838917  31917.324286   \n",
              "\n",
              "                    ma21         26ema         12ema         MACD  \\\n",
              "time                                                                \n",
              "2021-01-22  35865.701429  35377.080031  34647.900062  -729.179969   \n",
              "2021-01-23  35827.982381  35096.733728  34275.485985  -821.247744   \n",
              "2021-01-24  35839.500476  34843.637701  33958.909800  -884.727901   \n",
              "2021-01-25  35767.128095  34638.483747  33732.009389  -906.474358   \n",
              "2021-01-26  35459.883810  34271.457772  33212.512918 -1058.944854   \n",
              "\n",
              "                   20sd    upper_band    lower_band           ema  momentum  \\\n",
              "time                                                                          \n",
              "2021-01-22  2768.237573  41402.176574  30329.226283  32345.742206  32111.01   \n",
              "2021-01-23  2813.115648  41454.213677  30201.751085  32307.620735  32287.56   \n",
              "2021-01-24  2797.194653  41433.889782  30245.111171  32277.120245  32260.87   \n",
              "2021-01-25  2865.171051  41497.470197  30036.785993  32432.920082  32509.82   \n",
              "2021-01-26  3080.085635  41620.055080  29299.712539  31082.393361  30406.13   \n",
              "\n",
              "            log_momentum  \n",
              "time                      \n",
              "2021-01-22     10.376954  \n",
              "2021-01-23     10.382437  \n",
              "2021-01-24     10.381610  \n",
              "2021-01-25     10.389297  \n",
              "2021-01-26     10.322400  "
            ],
            "text/html": [
              "\n",
              "  <div id=\"df-db94d045-d03d-470d-ba95-fbbf81337ff3\">\n",
              "    <div class=\"colab-df-container\">\n",
              "      <div>\n",
              "<style scoped>\n",
              "    .dataframe tbody tr th:only-of-type {\n",
              "        vertical-align: middle;\n",
              "    }\n",
              "\n",
              "    .dataframe tbody tr th {\n",
              "        vertical-align: top;\n",
              "    }\n",
              "\n",
              "    .dataframe thead th {\n",
              "        text-align: right;\n",
              "    }\n",
              "</style>\n",
              "<table border=\"1\" class=\"dataframe\">\n",
              "  <thead>\n",
              "    <tr style=\"text-align: right;\">\n",
              "      <th></th>\n",
              "      <th>low</th>\n",
              "      <th>high</th>\n",
              "      <th>open</th>\n",
              "      <th>volume</th>\n",
              "      <th>ma7</th>\n",
              "      <th>ma21</th>\n",
              "      <th>26ema</th>\n",
              "      <th>12ema</th>\n",
              "      <th>MACD</th>\n",
              "      <th>20sd</th>\n",
              "      <th>upper_band</th>\n",
              "      <th>lower_band</th>\n",
              "      <th>ema</th>\n",
              "      <th>momentum</th>\n",
              "      <th>log_momentum</th>\n",
              "    </tr>\n",
              "    <tr>\n",
              "      <th>time</th>\n",
              "      <th></th>\n",
              "      <th></th>\n",
              "      <th></th>\n",
              "      <th></th>\n",
              "      <th></th>\n",
              "      <th></th>\n",
              "      <th></th>\n",
              "      <th></th>\n",
              "      <th></th>\n",
              "      <th></th>\n",
              "      <th></th>\n",
              "      <th></th>\n",
              "      <th></th>\n",
              "      <th></th>\n",
              "      <th></th>\n",
              "    </tr>\n",
              "  </thead>\n",
              "  <tbody>\n",
              "    <tr>\n",
              "      <th>2021-01-22</th>\n",
              "      <td>28732.00</td>\n",
              "      <td>33867.00</td>\n",
              "      <td>30855.90</td>\n",
              "      <td>48155.721617</td>\n",
              "      <td>34259.641429</td>\n",
              "      <td>35865.701429</td>\n",
              "      <td>35377.080031</td>\n",
              "      <td>34647.900062</td>\n",
              "      <td>-729.179969</td>\n",
              "      <td>2768.237573</td>\n",
              "      <td>41402.176574</td>\n",
              "      <td>30329.226283</td>\n",
              "      <td>32345.742206</td>\n",
              "      <td>32111.01</td>\n",
              "      <td>10.376954</td>\n",
              "    </tr>\n",
              "    <tr>\n",
              "      <th>2021-01-23</th>\n",
              "      <td>31432.19</td>\n",
              "      <td>33488.79</td>\n",
              "      <td>32982.66</td>\n",
              "      <td>16139.814783</td>\n",
              "      <td>33755.150000</td>\n",
              "      <td>35827.982381</td>\n",
              "      <td>35096.733728</td>\n",
              "      <td>34275.485985</td>\n",
              "      <td>-821.247744</td>\n",
              "      <td>2813.115648</td>\n",
              "      <td>41454.213677</td>\n",
              "      <td>30201.751085</td>\n",
              "      <td>32307.620735</td>\n",
              "      <td>32287.56</td>\n",
              "      <td>10.382437</td>\n",
              "    </tr>\n",
              "    <tr>\n",
              "      <th>2021-01-24</th>\n",
              "      <td>30931.21</td>\n",
              "      <td>33086.53</td>\n",
              "      <td>32110.00</td>\n",
              "      <td>13618.800978</td>\n",
              "      <td>33131.955714</td>\n",
              "      <td>35839.500476</td>\n",
              "      <td>34843.637701</td>\n",
              "      <td>33958.909800</td>\n",
              "      <td>-884.727901</td>\n",
              "      <td>2797.194653</td>\n",
              "      <td>41433.889782</td>\n",
              "      <td>30245.111171</td>\n",
              "      <td>32277.120245</td>\n",
              "      <td>32260.87</td>\n",
              "      <td>10.381610</td>\n",
              "    </tr>\n",
              "    <tr>\n",
              "      <th>2021-01-25</th>\n",
              "      <td>31920.80</td>\n",
              "      <td>34888.00</td>\n",
              "      <td>32293.18</td>\n",
              "      <td>23045.662934</td>\n",
              "      <td>32645.318571</td>\n",
              "      <td>35767.128095</td>\n",
              "      <td>34638.483747</td>\n",
              "      <td>33732.009389</td>\n",
              "      <td>-906.474358</td>\n",
              "      <td>2865.171051</td>\n",
              "      <td>41497.470197</td>\n",
              "      <td>30036.785993</td>\n",
              "      <td>32432.920082</td>\n",
              "      <td>32509.82</td>\n",
              "      <td>10.389297</td>\n",
              "    </tr>\n",
              "    <tr>\n",
              "      <th>2021-01-26</th>\n",
              "      <td>30830.00</td>\n",
              "      <td>32960.37</td>\n",
              "      <td>32260.52</td>\n",
              "      <td>23535.838917</td>\n",
              "      <td>31917.324286</td>\n",
              "      <td>35459.883810</td>\n",
              "      <td>34271.457772</td>\n",
              "      <td>33212.512918</td>\n",
              "      <td>-1058.944854</td>\n",
              "      <td>3080.085635</td>\n",
              "      <td>41620.055080</td>\n",
              "      <td>29299.712539</td>\n",
              "      <td>31082.393361</td>\n",
              "      <td>30406.13</td>\n",
              "      <td>10.322400</td>\n",
              "    </tr>\n",
              "  </tbody>\n",
              "</table>\n",
              "</div>\n",
              "      <button class=\"colab-df-convert\" onclick=\"convertToInteractive('df-db94d045-d03d-470d-ba95-fbbf81337ff3')\"\n",
              "              title=\"Convert this dataframe to an interactive table.\"\n",
              "              style=\"display:none;\">\n",
              "        \n",
              "  <svg xmlns=\"http://www.w3.org/2000/svg\" height=\"24px\"viewBox=\"0 0 24 24\"\n",
              "       width=\"24px\">\n",
              "    <path d=\"M0 0h24v24H0V0z\" fill=\"none\"/>\n",
              "    <path d=\"M18.56 5.44l.94 2.06.94-2.06 2.06-.94-2.06-.94-.94-2.06-.94 2.06-2.06.94zm-11 1L8.5 8.5l.94-2.06 2.06-.94-2.06-.94L8.5 2.5l-.94 2.06-2.06.94zm10 10l.94 2.06.94-2.06 2.06-.94-2.06-.94-.94-2.06-.94 2.06-2.06.94z\"/><path d=\"M17.41 7.96l-1.37-1.37c-.4-.4-.92-.59-1.43-.59-.52 0-1.04.2-1.43.59L10.3 9.45l-7.72 7.72c-.78.78-.78 2.05 0 2.83L4 21.41c.39.39.9.59 1.41.59.51 0 1.02-.2 1.41-.59l7.78-7.78 2.81-2.81c.8-.78.8-2.07 0-2.86zM5.41 20L4 18.59l7.72-7.72 1.47 1.35L5.41 20z\"/>\n",
              "  </svg>\n",
              "      </button>\n",
              "      \n",
              "  <style>\n",
              "    .colab-df-container {\n",
              "      display:flex;\n",
              "      flex-wrap:wrap;\n",
              "      gap: 12px;\n",
              "    }\n",
              "\n",
              "    .colab-df-convert {\n",
              "      background-color: #E8F0FE;\n",
              "      border: none;\n",
              "      border-radius: 50%;\n",
              "      cursor: pointer;\n",
              "      display: none;\n",
              "      fill: #1967D2;\n",
              "      height: 32px;\n",
              "      padding: 0 0 0 0;\n",
              "      width: 32px;\n",
              "    }\n",
              "\n",
              "    .colab-df-convert:hover {\n",
              "      background-color: #E2EBFA;\n",
              "      box-shadow: 0px 1px 2px rgba(60, 64, 67, 0.3), 0px 1px 3px 1px rgba(60, 64, 67, 0.15);\n",
              "      fill: #174EA6;\n",
              "    }\n",
              "\n",
              "    [theme=dark] .colab-df-convert {\n",
              "      background-color: #3B4455;\n",
              "      fill: #D2E3FC;\n",
              "    }\n",
              "\n",
              "    [theme=dark] .colab-df-convert:hover {\n",
              "      background-color: #434B5C;\n",
              "      box-shadow: 0px 1px 3px 1px rgba(0, 0, 0, 0.15);\n",
              "      filter: drop-shadow(0px 1px 2px rgba(0, 0, 0, 0.3));\n",
              "      fill: #FFFFFF;\n",
              "    }\n",
              "  </style>\n",
              "\n",
              "      <script>\n",
              "        const buttonEl =\n",
              "          document.querySelector('#df-db94d045-d03d-470d-ba95-fbbf81337ff3 button.colab-df-convert');\n",
              "        buttonEl.style.display =\n",
              "          google.colab.kernel.accessAllowed ? 'block' : 'none';\n",
              "\n",
              "        async function convertToInteractive(key) {\n",
              "          const element = document.querySelector('#df-db94d045-d03d-470d-ba95-fbbf81337ff3');\n",
              "          const dataTable =\n",
              "            await google.colab.kernel.invokeFunction('convertToInteractive',\n",
              "                                                     [key], {});\n",
              "          if (!dataTable) return;\n",
              "\n",
              "          const docLinkHtml = 'Like what you see? Visit the ' +\n",
              "            '<a target=\"_blank\" href=https://colab.research.google.com/notebooks/data_table.ipynb>data table notebook</a>'\n",
              "            + ' to learn more about interactive tables.';\n",
              "          element.innerHTML = '';\n",
              "          dataTable['output_type'] = 'display_data';\n",
              "          await google.colab.output.renderOutput(dataTable, element);\n",
              "          const docLink = document.createElement('div');\n",
              "          docLink.innerHTML = docLinkHtml;\n",
              "          element.appendChild(docLink);\n",
              "        }\n",
              "      </script>\n",
              "    </div>\n",
              "  </div>\n",
              "  "
            ]
          },
          "metadata": {},
          "execution_count": 24
        }
      ]
    },
    {
      "cell_type": "code",
      "source": [
        "'''\n",
        "#Plot train and test data\n",
        "plt.figure(figsize = (12, 6))\n",
        "plt.rcParams['figure.dpi'] = 360\n",
        "plt.plot(train_dataset.TOMORROW_CLOSE)\n",
        "plt.plot(test_dataset.TOMORROW_CLOSE)\n",
        "plt.xlabel('Date')\n",
        "plt.ylabel('Close value (US$)')\n",
        "plt.legend(['Train set', 'Test set'], loc='upper left')\n",
        "print('Dimension of train data: ',train_dataset.shape)\n",
        "print('Dimension of test data: ', test_dataset.shape)\n",
        "'''"
      ],
      "metadata": {
        "colab": {
          "base_uri": "https://localhost:8080/",
          "height": 52
        },
        "id": "hF4OcMzB3D1I",
        "outputId": "7790fad0-cc0b-472e-fa76-37f6c0a0e9ea"
      },
      "execution_count": 25,
      "outputs": [
        {
          "output_type": "execute_result",
          "data": {
            "text/plain": [
              "\"\\n#Plot train and test data\\nplt.figure(figsize = (12, 6))\\nplt.rcParams['figure.dpi'] = 360\\nplt.plot(train_dataset.TOMORROW_CLOSE)\\nplt.plot(test_dataset.TOMORROW_CLOSE)\\nplt.xlabel('Date')\\nplt.ylabel('Close value (US$)')\\nplt.legend(['Train set', 'Test set'], loc='upper left')\\nprint('Dimension of train data: ',train_dataset.shape)\\nprint('Dimension of test data: ', test_dataset.shape)\\n\""
            ],
            "application/vnd.google.colaboratory.intrinsic+json": {
              "type": "string"
            }
          },
          "metadata": {},
          "execution_count": 25
        }
      ]
    },
    {
      "cell_type": "code",
      "source": [
        "# Different scaler for input and output ----> Normalizate the data\n",
        "scaler_x = MinMaxScaler(feature_range = (-1,1))\n",
        "scaler_y = MinMaxScaler(feature_range = (-1,1))\n",
        "\n",
        "# Fit the scaler using available training data\n",
        "input_scaler = scaler_x.fit(X_train)\n",
        "output_scaler = scaler_y.fit(y_train)\n",
        "\n",
        "# Apply the scaler to training data\n",
        "train_y_norm = output_scaler.transform(y_train)\n",
        "train_x_norm = input_scaler.transform(X_train)\n",
        "\n",
        "# Apply the scaler to test data\n",
        "test_y_norm = output_scaler.transform(y_test)\n",
        "test_x_norm = input_scaler.transform(X_test)"
      ],
      "metadata": {
        "id": "XhyiYytM3S-w"
      },
      "execution_count": 26,
      "outputs": []
    },
    {
      "cell_type": "code",
      "source": [
        "# Create 3 dimensional data set \n",
        "def threeD_dataset (X, y, time_steps = 1):\n",
        "    Xs, ys = [], []\n",
        "    \n",
        "    for i in range(len(X)-time_steps):\n",
        "        v = X[i:i+time_steps, :]\n",
        "        Xs.append(v)\n",
        "        ys.append(y[i+time_steps])\n",
        "        \n",
        "    return np.array(Xs), np.array(ys)\n",
        "\n",
        "\n",
        "TIME_STEPS = 15 # which means the model will make predictions of ‘TOMORROW_CLOSE’ based on the input from the 10 previous days or future days bi-lstm or bi-gru\n",
        "\n",
        "X_test, y_test = threeD_dataset(test_x_norm, test_y_norm, TIME_STEPS)\n",
        "X_train, y_train = threeD_dataset(train_x_norm, train_y_norm, TIME_STEPS)\n",
        "print('X_train.shape: ', X_train.shape)\n",
        "print('y_train.shape: ', y_train.shape)\n",
        "print('X_test.shape: ', X_test.shape) \n",
        "print('y_test.shape: ', y_test.shape)"
      ],
      "metadata": {
        "colab": {
          "base_uri": "https://localhost:8080/"
        },
        "id": "_yxSLwrm3efn",
        "outputId": "0ae48bb9-5602-4ae4-a922-5731996461bf"
      },
      "execution_count": 27,
      "outputs": [
        {
          "output_type": "stream",
          "name": "stdout",
          "text": [
            "X_train.shape:  (455, 15, 15)\n",
            "y_train.shape:  (455, 1)\n",
            "X_test.shape:  (40, 15, 15)\n",
            "y_test.shape:  (40, 1)\n"
          ]
        }
      ]
    },
    {
      "cell_type": "code",
      "source": [
        "# Create Bi-GRU model\n",
        "model_Bi_GRU = tf.keras.models.Sequential([\n",
        "    # First Layer Bi-GRU\n",
        "    Bidirectional(tf.keras.layers.GRU(128, activation='relu', return_sequences=True ),input_shape=[X_train.shape[1], X_train.shape[2]]),\n",
        "    tf.keras.layers.Dropout(0.35),\n",
        "    Bidirectional(tf.keras.layers.GRU(128, activation='relu', return_sequences=False ),input_shape=[X_train.shape[1], X_train.shape[2]]),\n",
        "    tf.keras.layers.Dropout(0.35),\n",
        "    tf.keras.layers.Dense(1)\n",
        "])\n",
        "model_Bi_GRU.compile(optimizer = tf.keras.optimizers.Adam(learning_rate = 1e-3),loss='mse')"
      ],
      "metadata": {
        "id": "NOhFjCaC3wM4"
      },
      "execution_count": 28,
      "outputs": []
    },
    {
      "cell_type": "code",
      "source": [
        "#model_bi_lstm = create_model_bilstm()"
      ],
      "metadata": {
        "id": "x-1Fc8hc4Nw4"
      },
      "execution_count": 29,
      "outputs": []
    },
    {
      "cell_type": "code",
      "source": [
        "# Let's check the summary of our baby model\n",
        "model_Bi_GRU.summary()"
      ],
      "metadata": {
        "colab": {
          "base_uri": "https://localhost:8080/"
        },
        "id": "QvyWxytS4Pg3",
        "outputId": "9a782ad2-7fee-4ea2-90ee-38049f880a5d"
      },
      "execution_count": 30,
      "outputs": [
        {
          "output_type": "stream",
          "name": "stdout",
          "text": [
            "Model: \"sequential\"\n",
            "_________________________________________________________________\n",
            " Layer (type)                Output Shape              Param #   \n",
            "=================================================================\n",
            " bidirectional (Bidirectiona  (None, 15, 256)          111360    \n",
            " l)                                                              \n",
            "                                                                 \n",
            " dropout (Dropout)           (None, 15, 256)           0         \n",
            "                                                                 \n",
            " bidirectional_1 (Bidirectio  (None, 256)              296448    \n",
            " nal)                                                            \n",
            "                                                                 \n",
            " dropout_1 (Dropout)         (None, 256)               0         \n",
            "                                                                 \n",
            " dense (Dense)               (None, 1)                 257       \n",
            "                                                                 \n",
            "=================================================================\n",
            "Total params: 408,065\n",
            "Trainable params: 408,065\n",
            "Non-trainable params: 0\n",
            "_________________________________________________________________\n"
          ]
        }
      ]
    },
    {
      "cell_type": "code",
      "source": [
        "history_bi_gru = model_Bi_GRU.fit(X_train, y_train, epochs = 30, validation_split = 0.2,batch_size = 32, shuffle = False) # no shuffer , as its time series data"
      ],
      "metadata": {
        "colab": {
          "base_uri": "https://localhost:8080/"
        },
        "id": "HsWs4MNL4RuI",
        "outputId": "a3b967a9-a328-44bd-e3f0-663a42f7daa6"
      },
      "execution_count": 31,
      "outputs": [
        {
          "output_type": "stream",
          "name": "stdout",
          "text": [
            "Epoch 1/30\n",
            "12/12 [==============================] - 13s 291ms/step - loss: 0.2268 - val_loss: 0.0619\n",
            "Epoch 2/30\n",
            "12/12 [==============================] - 2s 173ms/step - loss: 0.0815 - val_loss: 0.0283\n",
            "Epoch 3/30\n",
            "12/12 [==============================] - 2s 156ms/step - loss: 0.0416 - val_loss: 0.0325\n",
            "Epoch 4/30\n",
            "12/12 [==============================] - 2s 162ms/step - loss: 0.0356 - val_loss: 0.0147\n",
            "Epoch 5/30\n",
            "12/12 [==============================] - 2s 188ms/step - loss: 0.0268 - val_loss: 0.0128\n",
            "Epoch 6/30\n",
            "12/12 [==============================] - 2s 200ms/step - loss: 0.0290 - val_loss: 0.0150\n",
            "Epoch 7/30\n",
            "12/12 [==============================] - 2s 205ms/step - loss: 0.0256 - val_loss: 0.0134\n",
            "Epoch 8/30\n",
            "12/12 [==============================] - 2s 183ms/step - loss: 0.0226 - val_loss: 0.0119\n",
            "Epoch 9/30\n",
            "12/12 [==============================] - 2s 172ms/step - loss: 0.0193 - val_loss: 0.0109\n",
            "Epoch 10/30\n",
            "12/12 [==============================] - 2s 169ms/step - loss: 0.0222 - val_loss: 0.0125\n",
            "Epoch 11/30\n",
            "12/12 [==============================] - 2s 149ms/step - loss: 0.0207 - val_loss: 0.0128\n",
            "Epoch 12/30\n",
            "12/12 [==============================] - 2s 161ms/step - loss: 0.0208 - val_loss: 0.0098\n",
            "Epoch 13/30\n",
            "12/12 [==============================] - 2s 166ms/step - loss: 0.0205 - val_loss: 0.0148\n",
            "Epoch 14/30\n",
            "12/12 [==============================] - 2s 123ms/step - loss: 0.0217 - val_loss: 0.0099\n",
            "Epoch 15/30\n",
            "12/12 [==============================] - 1s 88ms/step - loss: 0.0194 - val_loss: 0.0173\n",
            "Epoch 16/30\n",
            "12/12 [==============================] - 1s 86ms/step - loss: 0.0173 - val_loss: 0.0091\n",
            "Epoch 17/30\n",
            "12/12 [==============================] - 1s 90ms/step - loss: 0.0182 - val_loss: 0.0190\n",
            "Epoch 18/30\n",
            "12/12 [==============================] - 1s 89ms/step - loss: 0.0187 - val_loss: 0.0095\n",
            "Epoch 19/30\n",
            "12/12 [==============================] - 1s 86ms/step - loss: 0.0183 - val_loss: 0.0165\n",
            "Epoch 20/30\n",
            "12/12 [==============================] - 1s 89ms/step - loss: 0.0176 - val_loss: 0.0085\n",
            "Epoch 21/30\n",
            "12/12 [==============================] - 1s 90ms/step - loss: 0.0165 - val_loss: 0.0167\n",
            "Epoch 22/30\n",
            "12/12 [==============================] - 1s 87ms/step - loss: 0.0175 - val_loss: 0.0085\n",
            "Epoch 23/30\n",
            "12/12 [==============================] - 1s 92ms/step - loss: 0.0153 - val_loss: 0.0171\n",
            "Epoch 24/30\n",
            "12/12 [==============================] - 1s 87ms/step - loss: 0.0171 - val_loss: 0.0078\n",
            "Epoch 25/30\n",
            "12/12 [==============================] - 1s 86ms/step - loss: 0.0169 - val_loss: 0.0121\n",
            "Epoch 26/30\n",
            "12/12 [==============================] - 1s 88ms/step - loss: 0.0160 - val_loss: 0.0074\n",
            "Epoch 27/30\n",
            "12/12 [==============================] - 1s 89ms/step - loss: 0.0166 - val_loss: 0.0112\n",
            "Epoch 28/30\n",
            "12/12 [==============================] - 1s 86ms/step - loss: 0.0184 - val_loss: 0.0070\n",
            "Epoch 29/30\n",
            "12/12 [==============================] - 1s 87ms/step - loss: 0.0138 - val_loss: 0.0092\n",
            "Epoch 30/30\n",
            "12/12 [==============================] - 1s 86ms/step - loss: 0.0142 - val_loss: 0.0069\n"
          ]
        }
      ]
    },
    {
      "cell_type": "code",
      "source": [
        "#Plot train and validation loss\n",
        "def plot_loss (history, model_name):\n",
        "    fig1 = plt.figure(figsize = (10, 6))\n",
        "    plt.rcParams['figure.dpi'] = 360\n",
        "    plt.plot(history.history['loss'])\n",
        "    plt.plot(history.history['val_loss'])\n",
        "    plt.title('Model Train vs Validation Loss for ' + model_name + ' with TI')\n",
        "    plt.ylabel('Loss')\n",
        "    plt.xlabel('epoch')\n",
        "    plt.legend(['Train loss', 'Validation loss'], loc='upper right')\n",
        "    fig1.savefig('model_train_vs_validation_loss_for_BiGRU_with_TI.png')\n",
        "plot_loss (history_bi_gru, 'Bi-GRU')"
      ],
      "metadata": {
        "id": "zkd3oqts4anP",
        "colab": {
          "base_uri": "https://localhost:8080/",
          "height": 404
        },
        "outputId": "ae750372-d699-4148-a139-dcf5840535eb"
      },
      "execution_count": 32,
      "outputs": [
        {
          "output_type": "display_data",
          "data": {
            "text/plain": [
              "<Figure size 720x432 with 1 Axes>"
            ],
            "image/png": "[encoded data removed]"
          },
          "metadata": {
            "needs_background": "light"
          }
        }
      ]
    },
    {
      "cell_type": "markdown",
      "source": [
        "**Afte 30 epochs, the validation errors starts to rise, which is a sign of over fitting, therefore, one has to stop the training process at 30 epochs.**"
      ],
      "metadata": {
        "id": "8c3y71jpqXIf"
      }
    },
    {
      "cell_type": "code",
      "source": [
        "y_test = scaler_y.inverse_transform(y_test)\n",
        "y_train = scaler_y.inverse_transform(y_train)"
      ],
      "metadata": {
        "id": "6y6yIrED4_B_"
      },
      "execution_count": 33,
      "outputs": []
    },
    {
      "cell_type": "code",
      "source": [
        "def prediction(model):\n",
        "    prediction = model.predict(X_test)\n",
        "    prediction = scaler_y.inverse_transform(prediction)\n",
        "    return prediction"
      ],
      "metadata": {
        "id": "afyw6NSrNjKz"
      },
      "execution_count": 34,
      "outputs": []
    },
    {
      "cell_type": "code",
      "source": [
        "prediction_bi_gru = prediction(model_Bi_GRU)"
      ],
      "metadata": {
        "id": "gAEBUr__NlXa"
      },
      "execution_count": 35,
      "outputs": []
    },
    {
      "cell_type": "code",
      "source": [
        "def plot_future(prediction, model_name, y_test):\n",
        "    \n",
        "    fig4 = plt.figure(figsize=(10, 6))\n",
        "    plt.rcParams['figure.dpi'] = 360\n",
        "    range_future = len(prediction)\n",
        "\n",
        "    plt.plot(np.arange(range_future), np.array(y_test), label='True Future')\n",
        "    plt.plot(np.arange(range_future), np.array(prediction),label='Prediction')\n",
        "\n",
        "    plt.title('True future vs prediction for ' + model_name + ' with TI')\n",
        "    plt.legend(loc='upper left')\n",
        "    plt.xlabel('Date')\n",
        "    plt.ylabel('Close value (USD $)')\n",
        "    fig4.savefig('True_future_vs_prediction_for_BiGRU_with_TI.png')\n",
        "plot_future(prediction_bi_gru, 'Bi-GRU', y_test)"
      ],
      "metadata": {
        "colab": {
          "base_uri": "https://localhost:8080/",
          "height": 1000
        },
        "id": "KHEcbT7Xxrnd",
        "outputId": "6e73fca7-94f4-4ac4-eb55-1d5c3d0fd9ad"
      },
      "execution_count": 36,
      "outputs": [
        {
          "output_type": "display_data",
          "data": {
            "text/plain": [
              "<Figure size 3600x2160 with 1 Axes>"
            ],
            "image/png": "[encoded data removed]"
          },
          "metadata": {
            "needs_background": "light"
          }
        }
      ]
    },
    {
      "cell_type": "code",
      "source": [
        "## Define a function to calculate MAE and RMSE\n",
        "def evaluate_prediction(predictions, actual, model_name):\n",
        "    errors = predictions - actual\n",
        "    mse = np.square(errors).mean()\n",
        "    rmse = np.sqrt(mse)\n",
        "    mae = np.abs(errors).mean()\n",
        "\n",
        "    print(model_name + ':')\n",
        "    print('Mean Absolute Error: {:.4f}'.format(mae))\n",
        "    print('Root Mean Square Error: {:.4f}'.format(rmse))\n",
        "    print('')"
      ],
      "metadata": {
        "id": "MvsFAOhlNqow"
      },
      "execution_count": 37,
      "outputs": []
    },
    {
      "cell_type": "code",
      "source": [
        "evaluate_prediction(prediction_bi_gru, y_test, 'Bi-gru-with-TI')"
      ],
      "metadata": {
        "id": "xlZLERJqNtPQ",
        "colab": {
          "base_uri": "https://localhost:8080/"
        },
        "outputId": "d6388b1c-0079-43ef-851b-48b6615997d3"
      },
      "execution_count": 38,
      "outputs": [
        {
          "output_type": "stream",
          "name": "stdout",
          "text": [
            "Bi-gru-with-TI:\n",
            "Mean Absolute Error: 985.2597\n",
            "Root Mean Square Error: 1286.3109\n",
            "\n"
          ]
        }
      ]
    }
  ]
}