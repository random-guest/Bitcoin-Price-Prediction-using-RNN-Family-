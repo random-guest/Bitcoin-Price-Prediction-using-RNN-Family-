{
  "nbformat": 4,
  "nbformat_minor": 0,
  "metadata": {
    "colab": {
      "name": "GRU_historical_Data_TI.ipynb",
      "provenance": [],
      "collapsed_sections": []
    },
    "kernelspec": {
      "name": "python3",
      "display_name": "Python 3"
    },
    "language_info": {
      "name": "python"
    },
    "gpuClass": "standard"
  },
  "cells": [
    {
      "cell_type": "code",
      "source": [
        "import pandas as pd\n",
        "import numpy as np\n",
        "import matplotlib.pyplot as plt\n",
        "import seaborn as sns\n",
        "from matplotlib.dates import DateFormatter\n",
        "sns.set_style(\"white\")\n",
        "import scipy \n",
        "import tensorflow as tf\n",
        "from tensorflow import keras\n",
        "from sklearn.preprocessing import MinMaxScaler\n",
        "from sklearn.model_selection import train_test_split\n",
        "from IPython.core.pylabtools import figsize\n",
        "from pandas.plotting import register_matplotlib_converters\n",
        "register_matplotlib_converters()\n",
        "from keras.layers import *\n",
        "from keras.models import *\n",
        "from keras import backend as K\n",
        "# Set random seed for reproducibility\n",
        "tf.random.set_seed(42)"
      ],
      "metadata": {
        "id": "ZIqnE-1t3LpQ"
      },
      "execution_count": 1,
      "outputs": []
    },
    {
      "cell_type": "code",
      "execution_count": 2,
      "metadata": {
        "colab": {
          "base_uri": "https://localhost:8080/"
        },
        "id": "DlKkrRPxurWw",
        "outputId": "ef3b41a2-3d7c-40dc-dac8-3a7b558b701c"
      },
      "outputs": [
        {
          "output_type": "stream",
          "name": "stdout",
          "text": [
            "Looking in indexes: https://pypi.org/simple, https://us-python.pkg.dev/colab-wheels/public/simple/\n",
            "Requirement already satisfied: Historic-Crypto in /usr/local/lib/python3.7/dist-packages (0.1.6)\n",
            "Requirement already satisfied: numpy in /usr/local/lib/python3.7/dist-packages (from Historic-Crypto) (1.21.6)\n",
            "Requirement already satisfied: requests in /usr/local/lib/python3.7/dist-packages (from Historic-Crypto) (2.23.0)\n",
            "Requirement already satisfied: chardet<4,>=3.0.2 in /usr/local/lib/python3.7/dist-packages (from requests->Historic-Crypto) (3.0.4)\n",
            "Requirement already satisfied: urllib3!=1.25.0,!=1.25.1,<1.26,>=1.21.1 in /usr/local/lib/python3.7/dist-packages (from requests->Historic-Crypto) (1.24.3)\n",
            "Requirement already satisfied: certifi>=2017.4.17 in /usr/local/lib/python3.7/dist-packages (from requests->Historic-Crypto) (2022.6.15)\n",
            "Requirement already satisfied: idna<3,>=2.5 in /usr/local/lib/python3.7/dist-packages (from requests->Historic-Crypto) (2.10)\n"
          ]
        }
      ],
      "source": [
        "!pip install Historic-Crypto"
      ]
    },
    {
      "cell_type": "code",
      "source": [
        "import warnings\n",
        "warnings.filterwarnings(\"ignore\")\n",
        "\n",
        "from Historic_Crypto import HistoricalData"
      ],
      "metadata": {
        "id": "duP3WefmvoJd"
      },
      "execution_count": 3,
      "outputs": []
    },
    {
      "cell_type": "code",
      "source": [
        "btc_historicals = HistoricalData('BTC-USD',86400,'2021-01-01-00-00', '2022-07-01-00-00').retrieve_data() # cyrpto name, number of seconds, start date, end date\n"
      ],
      "metadata": {
        "colab": {
          "base_uri": "https://localhost:8080/"
        },
        "id": "mXFZVRlFvxAq",
        "outputId": "181efe9a-1071-4d6f-e71b-8e2153b53d74"
      },
      "execution_count": 4,
      "outputs": [
        {
          "output_type": "stream",
          "name": "stdout",
          "text": [
            "Checking input parameters are in the correct format.\n",
            "Formatting Dates.\n",
            "Checking if user supplied is available on the CoinBase Pro API.\n",
            "Connected to the CoinBase Pro API.\n",
            "Ticker 'BTC-USD' found at the CoinBase Pro API, continuing to extraction.\n",
            "Provisional Start: 2021-01-01T00:00:00\n",
            "Provisional End: 2021-10-28T00:00:00\n",
            "Data for chunk 1 of 2 extracted\n",
            "Provisional Start: 2021-10-28T00:00:00\n",
            "Provisional End: 2022-08-24T00:00:00\n",
            "Data for chunk 2 of 2 extracted\n"
          ]
        }
      ]
    },
    {
      "cell_type": "code",
      "source": [
        "btc_historicals.shape"
      ],
      "metadata": {
        "colab": {
          "base_uri": "https://localhost:8080/"
        },
        "id": "bB36viuAwnr4",
        "outputId": "2194f465-61fa-47ec-e5b8-e4d5f6265998"
      },
      "execution_count": 5,
      "outputs": [
        {
          "output_type": "execute_result",
          "data": {
            "text/plain": [
              "(546, 5)"
            ]
          },
          "metadata": {},
          "execution_count": 5
        }
      ]
    },
    {
      "cell_type": "code",
      "source": [
        "btc_historicals.tail()"
      ],
      "metadata": {
        "colab": {
          "base_uri": "https://localhost:8080/",
          "height": 238
        },
        "id": "-QepeTnmyIfF",
        "outputId": "a22e232f-0428-42d6-f8f0-22b3aaa41f96"
      },
      "execution_count": 6,
      "outputs": [
        {
          "output_type": "execute_result",
          "data": {
            "text/plain": [
              "                 low      high      open     close        volume\n",
              "time                                                            \n",
              "2022-06-27  20500.00  21520.00  21024.85  20725.17  17440.942683\n",
              "2022-06-28  20164.70  21189.99  20722.95  20252.89  17658.660417\n",
              "2022-06-29  19823.43  20410.91  20253.50  20094.79  18278.451859\n",
              "2022-06-30  18603.00  20143.53  20098.00  19985.62  28361.458762\n",
              "2022-07-01  18938.33  20879.99  19985.62  19252.76  32977.000523"
            ],
            "text/html": [
              "\n",
              "  <div id=\"df-f895938a-5b91-4843-b442-811fcfdc4b11\">\n",
              "    <div class=\"colab-df-container\">\n",
              "      <div>\n",
              "<style scoped>\n",
              "    .dataframe tbody tr th:only-of-type {\n",
              "        vertical-align: middle;\n",
              "    }\n",
              "\n",
              "    .dataframe tbody tr th {\n",
              "        vertical-align: top;\n",
              "    }\n",
              "\n",
              "    .dataframe thead th {\n",
              "        text-align: right;\n",
              "    }\n",
              "</style>\n",
              "<table border=\"1\" class=\"dataframe\">\n",
              "  <thead>\n",
              "    <tr style=\"text-align: right;\">\n",
              "      <th></th>\n",
              "      <th>low</th>\n",
              "      <th>high</th>\n",
              "      <th>open</th>\n",
              "      <th>close</th>\n",
              "      <th>volume</th>\n",
              "    </tr>\n",
              "    <tr>\n",
              "      <th>time</th>\n",
              "      <th></th>\n",
              "      <th></th>\n",
              "      <th></th>\n",
              "      <th></th>\n",
              "      <th></th>\n",
              "    </tr>\n",
              "  </thead>\n",
              "  <tbody>\n",
              "    <tr>\n",
              "      <th>2022-06-27</th>\n",
              "      <td>20500.00</td>\n",
              "      <td>21520.00</td>\n",
              "      <td>21024.85</td>\n",
              "      <td>20725.17</td>\n",
              "      <td>17440.942683</td>\n",
              "    </tr>\n",
              "    <tr>\n",
              "      <th>2022-06-28</th>\n",
              "      <td>20164.70</td>\n",
              "      <td>21189.99</td>\n",
              "      <td>20722.95</td>\n",
              "      <td>20252.89</td>\n",
              "      <td>17658.660417</td>\n",
              "    </tr>\n",
              "    <tr>\n",
              "      <th>2022-06-29</th>\n",
              "      <td>19823.43</td>\n",
              "      <td>20410.91</td>\n",
              "      <td>20253.50</td>\n",
              "      <td>20094.79</td>\n",
              "      <td>18278.451859</td>\n",
              "    </tr>\n",
              "    <tr>\n",
              "      <th>2022-06-30</th>\n",
              "      <td>18603.00</td>\n",
              "      <td>20143.53</td>\n",
              "      <td>20098.00</td>\n",
              "      <td>19985.62</td>\n",
              "      <td>28361.458762</td>\n",
              "    </tr>\n",
              "    <tr>\n",
              "      <th>2022-07-01</th>\n",
              "      <td>18938.33</td>\n",
              "      <td>20879.99</td>\n",
              "      <td>19985.62</td>\n",
              "      <td>19252.76</td>\n",
              "      <td>32977.000523</td>\n",
              "    </tr>\n",
              "  </tbody>\n",
              "</table>\n",
              "</div>\n",
              "      <button class=\"colab-df-convert\" onclick=\"convertToInteractive('df-f895938a-5b91-4843-b442-811fcfdc4b11')\"\n",
              "              title=\"Convert this dataframe to an interactive table.\"\n",
              "              style=\"display:none;\">\n",
              "        \n",
              "  <svg xmlns=\"http://www.w3.org/2000/svg\" height=\"24px\"viewBox=\"0 0 24 24\"\n",
              "       width=\"24px\">\n",
              "    <path d=\"M0 0h24v24H0V0z\" fill=\"none\"/>\n",
              "    <path d=\"M18.56 5.44l.94 2.06.94-2.06 2.06-.94-2.06-.94-.94-2.06-.94 2.06-2.06.94zm-11 1L8.5 8.5l.94-2.06 2.06-.94-2.06-.94L8.5 2.5l-.94 2.06-2.06.94zm10 10l.94 2.06.94-2.06 2.06-.94-2.06-.94-.94-2.06-.94 2.06-2.06.94z\"/><path d=\"M17.41 7.96l-1.37-1.37c-.4-.4-.92-.59-1.43-.59-.52 0-1.04.2-1.43.59L10.3 9.45l-7.72 7.72c-.78.78-.78 2.05 0 2.83L4 21.41c.39.39.9.59 1.41.59.51 0 1.02-.2 1.41-.59l7.78-7.78 2.81-2.81c.8-.78.8-2.07 0-2.86zM5.41 20L4 18.59l7.72-7.72 1.47 1.35L5.41 20z\"/>\n",
              "  </svg>\n",
              "      </button>\n",
              "      \n",
              "  <style>\n",
              "    .colab-df-container {\n",
              "      display:flex;\n",
              "      flex-wrap:wrap;\n",
              "      gap: 12px;\n",
              "    }\n",
              "\n",
              "    .colab-df-convert {\n",
              "      background-color: #E8F0FE;\n",
              "      border: none;\n",
              "      border-radius: 50%;\n",
              "      cursor: pointer;\n",
              "      display: none;\n",
              "      fill: #1967D2;\n",
              "      height: 32px;\n",
              "      padding: 0 0 0 0;\n",
              "      width: 32px;\n",
              "    }\n",
              "\n",
              "    .colab-df-convert:hover {\n",
              "      background-color: #E2EBFA;\n",
              "      box-shadow: 0px 1px 2px rgba(60, 64, 67, 0.3), 0px 1px 3px 1px rgba(60, 64, 67, 0.15);\n",
              "      fill: #174EA6;\n",
              "    }\n",
              "\n",
              "    [theme=dark] .colab-df-convert {\n",
              "      background-color: #3B4455;\n",
              "      fill: #D2E3FC;\n",
              "    }\n",
              "\n",
              "    [theme=dark] .colab-df-convert:hover {\n",
              "      background-color: #434B5C;\n",
              "      box-shadow: 0px 1px 3px 1px rgba(0, 0, 0, 0.15);\n",
              "      filter: drop-shadow(0px 1px 2px rgba(0, 0, 0, 0.3));\n",
              "      fill: #FFFFFF;\n",
              "    }\n",
              "  </style>\n",
              "\n",
              "      <script>\n",
              "        const buttonEl =\n",
              "          document.querySelector('#df-f895938a-5b91-4843-b442-811fcfdc4b11 button.colab-df-convert');\n",
              "        buttonEl.style.display =\n",
              "          google.colab.kernel.accessAllowed ? 'block' : 'none';\n",
              "\n",
              "        async function convertToInteractive(key) {\n",
              "          const element = document.querySelector('#df-f895938a-5b91-4843-b442-811fcfdc4b11');\n",
              "          const dataTable =\n",
              "            await google.colab.kernel.invokeFunction('convertToInteractive',\n",
              "                                                     [key], {});\n",
              "          if (!dataTable) return;\n",
              "\n",
              "          const docLinkHtml = 'Like what you see? Visit the ' +\n",
              "            '<a target=\"_blank\" href=https://colab.research.google.com/notebooks/data_table.ipynb>data table notebook</a>'\n",
              "            + ' to learn more about interactive tables.';\n",
              "          element.innerHTML = '';\n",
              "          dataTable['output_type'] = 'display_data';\n",
              "          await google.colab.output.renderOutput(dataTable, element);\n",
              "          const docLink = document.createElement('div');\n",
              "          docLink.innerHTML = docLinkHtml;\n",
              "          element.appendChild(docLink);\n",
              "        }\n",
              "      </script>\n",
              "    </div>\n",
              "  </div>\n",
              "  "
            ]
          },
          "metadata": {},
          "execution_count": 6
        }
      ]
    },
    {
      "cell_type": "code",
      "source": [
        "# Check out variables\n",
        "btc_historicals.dtypes"
      ],
      "metadata": {
        "colab": {
          "base_uri": "https://localhost:8080/"
        },
        "id": "wEBYs9iyygbR",
        "outputId": "6092a48d-6b5e-4d46-b407-15dbaec350b4"
      },
      "execution_count": 7,
      "outputs": [
        {
          "output_type": "execute_result",
          "data": {
            "text/plain": [
              "low       float64\n",
              "high      float64\n",
              "open      float64\n",
              "close     float64\n",
              "volume    float64\n",
              "dtype: object"
            ]
          },
          "metadata": {},
          "execution_count": 7
        }
      ]
    },
    {
      "cell_type": "code",
      "source": [
        "tst = btc_historicals"
      ],
      "metadata": {
        "id": "8AvL9iDB0Ajo"
      },
      "execution_count": 8,
      "outputs": []
    },
    {
      "cell_type": "code",
      "source": [
        "print('Null Values:',tst.isnull().values.sum())\n",
        "print('If any NA values:', tst.isnull().values.any())"
      ],
      "metadata": {
        "colab": {
          "base_uri": "https://localhost:8080/"
        },
        "id": "8CWBQogH8Dvl",
        "outputId": "ac8e2cb0-f8f5-43bc-ea55-d023e818ff35"
      },
      "execution_count": 9,
      "outputs": [
        {
          "output_type": "stream",
          "name": "stdout",
          "text": [
            "Null Values: 0\n",
            "If any NA values: False\n"
          ]
        }
      ]
    },
    {
      "cell_type": "code",
      "source": [
        "# Create variable '‘TOMORROW_CLOSE’' which shifts 'Close' up by 1\n",
        "tst['TOMORROW_CLOSE'] = tst['close'].shift(-1,fill_value=0)"
      ],
      "metadata": {
        "id": "dhxMK0DoyiIJ"
      },
      "execution_count": 10,
      "outputs": []
    },
    {
      "cell_type": "code",
      "source": [
        "# drop last row because we shifted value (remember this when you add your forecasting data)\n",
        "tst.drop(tst.tail(1).index,inplace=True) "
      ],
      "metadata": {
        "id": "tIyv8Sikzy_R"
      },
      "execution_count": 11,
      "outputs": []
    },
    {
      "cell_type": "code",
      "source": [
        "# Drop close column, since we created new ‘TOMORROW_CLOSE’\n",
        "tst = tst.drop(columns=['close'])"
      ],
      "metadata": {
        "id": "Vb8CFnmzy1vh"
      },
      "execution_count": 12,
      "outputs": []
    },
    {
      "cell_type": "code",
      "source": [
        "tst.head()"
      ],
      "metadata": {
        "colab": {
          "base_uri": "https://localhost:8080/",
          "height": 238
        },
        "id": "Ee1SrZN3y9zR",
        "outputId": "15616b81-da37-4be7-bfcc-b8ec337074c1"
      },
      "execution_count": 13,
      "outputs": [
        {
          "output_type": "execute_result",
          "data": {
            "text/plain": [
              "                 low      high      open        volume  TOMORROW_CLOSE\n",
              "time                                                                  \n",
              "2021-01-02  29039.00  33300.00  29413.29  46675.246521        33080.66\n",
              "2021-01-03  32008.62  34810.00  32222.88  36951.716506        32019.99\n",
              "2021-01-04  27678.00  33666.99  33082.84  46045.389685        34030.64\n",
              "2021-01-05  29891.13  34499.67  32020.22  42282.569200        36859.26\n",
              "2021-01-06  33352.54  37000.00  34043.91  45744.103200        39505.56"
            ],
            "text/html": [
              "\n",
              "  <div id=\"df-604c7249-d38b-4833-85a7-9377f0ea14d7\">\n",
              "    <div class=\"colab-df-container\">\n",
              "      <div>\n",
              "<style scoped>\n",
              "    .dataframe tbody tr th:only-of-type {\n",
              "        vertical-align: middle;\n",
              "    }\n",
              "\n",
              "    .dataframe tbody tr th {\n",
              "        vertical-align: top;\n",
              "    }\n",
              "\n",
              "    .dataframe thead th {\n",
              "        text-align: right;\n",
              "    }\n",
              "</style>\n",
              "<table border=\"1\" class=\"dataframe\">\n",
              "  <thead>\n",
              "    <tr style=\"text-align: right;\">\n",
              "      <th></th>\n",
              "      <th>low</th>\n",
              "      <th>high</th>\n",
              "      <th>open</th>\n",
              "      <th>volume</th>\n",
              "      <th>TOMORROW_CLOSE</th>\n",
              "    </tr>\n",
              "    <tr>\n",
              "      <th>time</th>\n",
              "      <th></th>\n",
              "      <th></th>\n",
              "      <th></th>\n",
              "      <th></th>\n",
              "      <th></th>\n",
              "    </tr>\n",
              "  </thead>\n",
              "  <tbody>\n",
              "    <tr>\n",
              "      <th>2021-01-02</th>\n",
              "      <td>29039.00</td>\n",
              "      <td>33300.00</td>\n",
              "      <td>29413.29</td>\n",
              "      <td>46675.246521</td>\n",
              "      <td>33080.66</td>\n",
              "    </tr>\n",
              "    <tr>\n",
              "      <th>2021-01-03</th>\n",
              "      <td>32008.62</td>\n",
              "      <td>34810.00</td>\n",
              "      <td>32222.88</td>\n",
              "      <td>36951.716506</td>\n",
              "      <td>32019.99</td>\n",
              "    </tr>\n",
              "    <tr>\n",
              "      <th>2021-01-04</th>\n",
              "      <td>27678.00</td>\n",
              "      <td>33666.99</td>\n",
              "      <td>33082.84</td>\n",
              "      <td>46045.389685</td>\n",
              "      <td>34030.64</td>\n",
              "    </tr>\n",
              "    <tr>\n",
              "      <th>2021-01-05</th>\n",
              "      <td>29891.13</td>\n",
              "      <td>34499.67</td>\n",
              "      <td>32020.22</td>\n",
              "      <td>42282.569200</td>\n",
              "      <td>36859.26</td>\n",
              "    </tr>\n",
              "    <tr>\n",
              "      <th>2021-01-06</th>\n",
              "      <td>33352.54</td>\n",
              "      <td>37000.00</td>\n",
              "      <td>34043.91</td>\n",
              "      <td>45744.103200</td>\n",
              "      <td>39505.56</td>\n",
              "    </tr>\n",
              "  </tbody>\n",
              "</table>\n",
              "</div>\n",
              "      <button class=\"colab-df-convert\" onclick=\"convertToInteractive('df-604c7249-d38b-4833-85a7-9377f0ea14d7')\"\n",
              "              title=\"Convert this dataframe to an interactive table.\"\n",
              "              style=\"display:none;\">\n",
              "        \n",
              "  <svg xmlns=\"http://www.w3.org/2000/svg\" height=\"24px\"viewBox=\"0 0 24 24\"\n",
              "       width=\"24px\">\n",
              "    <path d=\"M0 0h24v24H0V0z\" fill=\"none\"/>\n",
              "    <path d=\"M18.56 5.44l.94 2.06.94-2.06 2.06-.94-2.06-.94-.94-2.06-.94 2.06-2.06.94zm-11 1L8.5 8.5l.94-2.06 2.06-.94-2.06-.94L8.5 2.5l-.94 2.06-2.06.94zm10 10l.94 2.06.94-2.06 2.06-.94-2.06-.94-.94-2.06-.94 2.06-2.06.94z\"/><path d=\"M17.41 7.96l-1.37-1.37c-.4-.4-.92-.59-1.43-.59-.52 0-1.04.2-1.43.59L10.3 9.45l-7.72 7.72c-.78.78-.78 2.05 0 2.83L4 21.41c.39.39.9.59 1.41.59.51 0 1.02-.2 1.41-.59l7.78-7.78 2.81-2.81c.8-.78.8-2.07 0-2.86zM5.41 20L4 18.59l7.72-7.72 1.47 1.35L5.41 20z\"/>\n",
              "  </svg>\n",
              "      </button>\n",
              "      \n",
              "  <style>\n",
              "    .colab-df-container {\n",
              "      display:flex;\n",
              "      flex-wrap:wrap;\n",
              "      gap: 12px;\n",
              "    }\n",
              "\n",
              "    .colab-df-convert {\n",
              "      background-color: #E8F0FE;\n",
              "      border: none;\n",
              "      border-radius: 50%;\n",
              "      cursor: pointer;\n",
              "      display: none;\n",
              "      fill: #1967D2;\n",
              "      height: 32px;\n",
              "      padding: 0 0 0 0;\n",
              "      width: 32px;\n",
              "    }\n",
              "\n",
              "    .colab-df-convert:hover {\n",
              "      background-color: #E2EBFA;\n",
              "      box-shadow: 0px 1px 2px rgba(60, 64, 67, 0.3), 0px 1px 3px 1px rgba(60, 64, 67, 0.15);\n",
              "      fill: #174EA6;\n",
              "    }\n",
              "\n",
              "    [theme=dark] .colab-df-convert {\n",
              "      background-color: #3B4455;\n",
              "      fill: #D2E3FC;\n",
              "    }\n",
              "\n",
              "    [theme=dark] .colab-df-convert:hover {\n",
              "      background-color: #434B5C;\n",
              "      box-shadow: 0px 1px 3px 1px rgba(0, 0, 0, 0.15);\n",
              "      filter: drop-shadow(0px 1px 2px rgba(0, 0, 0, 0.3));\n",
              "      fill: #FFFFFF;\n",
              "    }\n",
              "  </style>\n",
              "\n",
              "      <script>\n",
              "        const buttonEl =\n",
              "          document.querySelector('#df-604c7249-d38b-4833-85a7-9377f0ea14d7 button.colab-df-convert');\n",
              "        buttonEl.style.display =\n",
              "          google.colab.kernel.accessAllowed ? 'block' : 'none';\n",
              "\n",
              "        async function convertToInteractive(key) {\n",
              "          const element = document.querySelector('#df-604c7249-d38b-4833-85a7-9377f0ea14d7');\n",
              "          const dataTable =\n",
              "            await google.colab.kernel.invokeFunction('convertToInteractive',\n",
              "                                                     [key], {});\n",
              "          if (!dataTable) return;\n",
              "\n",
              "          const docLinkHtml = 'Like what you see? Visit the ' +\n",
              "            '<a target=\"_blank\" href=https://colab.research.google.com/notebooks/data_table.ipynb>data table notebook</a>'\n",
              "            + ' to learn more about interactive tables.';\n",
              "          element.innerHTML = '';\n",
              "          dataTable['output_type'] = 'display_data';\n",
              "          await google.colab.output.renderOutput(dataTable, element);\n",
              "          const docLink = document.createElement('div');\n",
              "          docLink.innerHTML = docLinkHtml;\n",
              "          element.appendChild(docLink);\n",
              "        }\n",
              "      </script>\n",
              "    </div>\n",
              "  </div>\n",
              "  "
            ]
          },
          "metadata": {},
          "execution_count": 13
        }
      ]
    },
    {
      "cell_type": "code",
      "source": [
        "tst.shape"
      ],
      "metadata": {
        "colab": {
          "base_uri": "https://localhost:8080/"
        },
        "id": "bmfjRuDozBTh",
        "outputId": "ef605e60-f304-4cae-e0a9-03fbbe11ed44"
      },
      "execution_count": 14,
      "outputs": [
        {
          "output_type": "execute_result",
          "data": {
            "text/plain": [
              "(545, 5)"
            ]
          },
          "metadata": {},
          "execution_count": 14
        }
      ]
    },
    {
      "cell_type": "code",
      "source": [
        "import numpy as np\n",
        "import pandas as pd\n",
        "import matplotlib.pyplot as plt\n",
        "import seaborn as sns\n",
        "import datetime \n",
        "from datetime import date\n",
        "import math\n",
        "import pandas_datareader as web"
      ],
      "metadata": {
        "id": "WhKqsJ7X2mKc"
      },
      "execution_count": 15,
      "outputs": []
    },
    {
      "cell_type": "code",
      "source": [
        "def get_technical_indicators(dataset):\n",
        "    # Create 7 and 21 days Moving Average\n",
        "    dataset['ma7'] = dataset['TOMORROW_CLOSE'].rolling(window=7).mean()\n",
        "    dataset['ma21'] = dataset['TOMORROW_CLOSE'].rolling(window=21).mean()\n",
        "    \n",
        "    # Create MACD\n",
        "    dataset['26ema'] = dataset['TOMORROW_CLOSE'].ewm(span=26).mean()\n",
        "    dataset['12ema'] = dataset['TOMORROW_CLOSE'].ewm(span=12).mean()\n",
        "    dataset['MACD'] = dataset['12ema']-dataset['26ema']\n",
        "\n",
        "    # Create Bollinger Bands\n",
        "    dataset['20sd'] = dataset['TOMORROW_CLOSE'].rolling(window = 21).std()\n",
        "    dataset['upper_band'] = dataset['ma21'] + (dataset['20sd']*2)\n",
        "    dataset['lower_band'] = dataset['ma21'] - (dataset['20sd']*2)\n",
        "    \n",
        "    # Create Exponential moving average\n",
        "    dataset['ema'] = dataset['TOMORROW_CLOSE'].ewm(com=0.5).mean()\n",
        "    \n",
        "    # Create Momentum\n",
        "    dataset['momentum'] = dataset['TOMORROW_CLOSE']-1\n",
        "    dataset['log_momentum'] = np.log(dataset['momentum'])\n",
        "    return dataset"
      ],
      "metadata": {
        "id": "Wsf1gz5f2q1u"
      },
      "execution_count": 16,
      "outputs": []
    },
    {
      "cell_type": "code",
      "source": [
        "df = get_technical_indicators(tst)"
      ],
      "metadata": {
        "id": "UOrEw6CY2tKG"
      },
      "execution_count": 17,
      "outputs": []
    },
    {
      "cell_type": "code",
      "source": [
        "df = df.dropna()\n",
        "df.head()"
      ],
      "metadata": {
        "colab": {
          "base_uri": "https://localhost:8080/",
          "height": 238
        },
        "id": "qZQzOL5j2vZX",
        "outputId": "2c1dc8e4-2ce4-4e6e-8d63-3d12d3cac3dd"
      },
      "execution_count": 18,
      "outputs": [
        {
          "output_type": "execute_result",
          "data": {
            "text/plain": [
              "                 low      high      open        volume  TOMORROW_CLOSE  \\\n",
              "time                                                                     \n",
              "2021-01-22  28732.00  33867.00  30855.90  48155.721617        32112.01   \n",
              "2021-01-23  31432.19  33488.79  32982.66  16139.814783        32288.56   \n",
              "2021-01-24  30931.21  33086.53  32110.00  13618.800978        32261.87   \n",
              "2021-01-25  31920.80  34888.00  32293.18  23045.662934        32510.82   \n",
              "2021-01-26  30830.00  32960.37  32260.52  23535.838917        30407.13   \n",
              "\n",
              "                     ma7          ma21         26ema         12ema  \\\n",
              "time                                                                 \n",
              "2021-01-22  34259.641429  35865.701429  35377.080031  34647.900062   \n",
              "2021-01-23  33755.150000  35827.982381  35096.733728  34275.485985   \n",
              "2021-01-24  33131.955714  35839.500476  34843.637701  33958.909800   \n",
              "2021-01-25  32645.318571  35767.128095  34638.483747  33732.009389   \n",
              "2021-01-26  31917.324286  35459.883810  34271.457772  33212.512918   \n",
              "\n",
              "                   MACD         20sd    upper_band    lower_band  \\\n",
              "time                                                               \n",
              "2021-01-22  -729.179969  2768.237573  41402.176574  30329.226283   \n",
              "2021-01-23  -821.247744  2813.115648  41454.213677  30201.751085   \n",
              "2021-01-24  -884.727901  2797.194653  41433.889782  30245.111171   \n",
              "2021-01-25  -906.474358  2865.171051  41497.470197  30036.785993   \n",
              "2021-01-26 -1058.944854  3080.085635  41620.055080  29299.712539   \n",
              "\n",
              "                     ema  momentum  log_momentum  \n",
              "time                                              \n",
              "2021-01-22  32345.742206  32111.01     10.376954  \n",
              "2021-01-23  32307.620735  32287.56     10.382437  \n",
              "2021-01-24  32277.120245  32260.87     10.381610  \n",
              "2021-01-25  32432.920082  32509.82     10.389297  \n",
              "2021-01-26  31082.393361  30406.13     10.322400  "
            ],
            "text/html": [
              "\n",
              "  <div id=\"df-3386cf07-6fa9-4e1a-b0b5-d1848bbe44f9\">\n",
              "    <div class=\"colab-df-container\">\n",
              "      <div>\n",
              "<style scoped>\n",
              "    .dataframe tbody tr th:only-of-type {\n",
              "        vertical-align: middle;\n",
              "    }\n",
              "\n",
              "    .dataframe tbody tr th {\n",
              "        vertical-align: top;\n",
              "    }\n",
              "\n",
              "    .dataframe thead th {\n",
              "        text-align: right;\n",
              "    }\n",
              "</style>\n",
              "<table border=\"1\" class=\"dataframe\">\n",
              "  <thead>\n",
              "    <tr style=\"text-align: right;\">\n",
              "      <th></th>\n",
              "      <th>low</th>\n",
              "      <th>high</th>\n",
              "      <th>open</th>\n",
              "      <th>volume</th>\n",
              "      <th>TOMORROW_CLOSE</th>\n",
              "      <th>ma7</th>\n",
              "      <th>ma21</th>\n",
              "      <th>26ema</th>\n",
              "      <th>12ema</th>\n",
              "      <th>MACD</th>\n",
              "      <th>20sd</th>\n",
              "      <th>upper_band</th>\n",
              "      <th>lower_band</th>\n",
              "      <th>ema</th>\n",
              "      <th>momentum</th>\n",
              "      <th>log_momentum</th>\n",
              "    </tr>\n",
              "    <tr>\n",
              "      <th>time</th>\n",
              "      <th></th>\n",
              "      <th></th>\n",
              "      <th></th>\n",
              "      <th></th>\n",
              "      <th></th>\n",
              "      <th></th>\n",
              "      <th></th>\n",
              "      <th></th>\n",
              "      <th></th>\n",
              "      <th></th>\n",
              "      <th></th>\n",
              "      <th></th>\n",
              "      <th></th>\n",
              "      <th></th>\n",
              "      <th></th>\n",
              "      <th></th>\n",
              "    </tr>\n",
              "  </thead>\n",
              "  <tbody>\n",
              "    <tr>\n",
              "      <th>2021-01-22</th>\n",
              "      <td>28732.00</td>\n",
              "      <td>33867.00</td>\n",
              "      <td>30855.90</td>\n",
              "      <td>48155.721617</td>\n",
              "      <td>32112.01</td>\n",
              "      <td>34259.641429</td>\n",
              "      <td>35865.701429</td>\n",
              "      <td>35377.080031</td>\n",
              "      <td>34647.900062</td>\n",
              "      <td>-729.179969</td>\n",
              "      <td>2768.237573</td>\n",
              "      <td>41402.176574</td>\n",
              "      <td>30329.226283</td>\n",
              "      <td>32345.742206</td>\n",
              "      <td>32111.01</td>\n",
              "      <td>10.376954</td>\n",
              "    </tr>\n",
              "    <tr>\n",
              "      <th>2021-01-23</th>\n",
              "      <td>31432.19</td>\n",
              "      <td>33488.79</td>\n",
              "      <td>32982.66</td>\n",
              "      <td>16139.814783</td>\n",
              "      <td>32288.56</td>\n",
              "      <td>33755.150000</td>\n",
              "      <td>35827.982381</td>\n",
              "      <td>35096.733728</td>\n",
              "      <td>34275.485985</td>\n",
              "      <td>-821.247744</td>\n",
              "      <td>2813.115648</td>\n",
              "      <td>41454.213677</td>\n",
              "      <td>30201.751085</td>\n",
              "      <td>32307.620735</td>\n",
              "      <td>32287.56</td>\n",
              "      <td>10.382437</td>\n",
              "    </tr>\n",
              "    <tr>\n",
              "      <th>2021-01-24</th>\n",
              "      <td>30931.21</td>\n",
              "      <td>33086.53</td>\n",
              "      <td>32110.00</td>\n",
              "      <td>13618.800978</td>\n",
              "      <td>32261.87</td>\n",
              "      <td>33131.955714</td>\n",
              "      <td>35839.500476</td>\n",
              "      <td>34843.637701</td>\n",
              "      <td>33958.909800</td>\n",
              "      <td>-884.727901</td>\n",
              "      <td>2797.194653</td>\n",
              "      <td>41433.889782</td>\n",
              "      <td>30245.111171</td>\n",
              "      <td>32277.120245</td>\n",
              "      <td>32260.87</td>\n",
              "      <td>10.381610</td>\n",
              "    </tr>\n",
              "    <tr>\n",
              "      <th>2021-01-25</th>\n",
              "      <td>31920.80</td>\n",
              "      <td>34888.00</td>\n",
              "      <td>32293.18</td>\n",
              "      <td>23045.662934</td>\n",
              "      <td>32510.82</td>\n",
              "      <td>32645.318571</td>\n",
              "      <td>35767.128095</td>\n",
              "      <td>34638.483747</td>\n",
              "      <td>33732.009389</td>\n",
              "      <td>-906.474358</td>\n",
              "      <td>2865.171051</td>\n",
              "      <td>41497.470197</td>\n",
              "      <td>30036.785993</td>\n",
              "      <td>32432.920082</td>\n",
              "      <td>32509.82</td>\n",
              "      <td>10.389297</td>\n",
              "    </tr>\n",
              "    <tr>\n",
              "      <th>2021-01-26</th>\n",
              "      <td>30830.00</td>\n",
              "      <td>32960.37</td>\n",
              "      <td>32260.52</td>\n",
              "      <td>23535.838917</td>\n",
              "      <td>30407.13</td>\n",
              "      <td>31917.324286</td>\n",
              "      <td>35459.883810</td>\n",
              "      <td>34271.457772</td>\n",
              "      <td>33212.512918</td>\n",
              "      <td>-1058.944854</td>\n",
              "      <td>3080.085635</td>\n",
              "      <td>41620.055080</td>\n",
              "      <td>29299.712539</td>\n",
              "      <td>31082.393361</td>\n",
              "      <td>30406.13</td>\n",
              "      <td>10.322400</td>\n",
              "    </tr>\n",
              "  </tbody>\n",
              "</table>\n",
              "</div>\n",
              "      <button class=\"colab-df-convert\" onclick=\"convertToInteractive('df-3386cf07-6fa9-4e1a-b0b5-d1848bbe44f9')\"\n",
              "              title=\"Convert this dataframe to an interactive table.\"\n",
              "              style=\"display:none;\">\n",
              "        \n",
              "  <svg xmlns=\"http://www.w3.org/2000/svg\" height=\"24px\"viewBox=\"0 0 24 24\"\n",
              "       width=\"24px\">\n",
              "    <path d=\"M0 0h24v24H0V0z\" fill=\"none\"/>\n",
              "    <path d=\"M18.56 5.44l.94 2.06.94-2.06 2.06-.94-2.06-.94-.94-2.06-.94 2.06-2.06.94zm-11 1L8.5 8.5l.94-2.06 2.06-.94-2.06-.94L8.5 2.5l-.94 2.06-2.06.94zm10 10l.94 2.06.94-2.06 2.06-.94-2.06-.94-.94-2.06-.94 2.06-2.06.94z\"/><path d=\"M17.41 7.96l-1.37-1.37c-.4-.4-.92-.59-1.43-.59-.52 0-1.04.2-1.43.59L10.3 9.45l-7.72 7.72c-.78.78-.78 2.05 0 2.83L4 21.41c.39.39.9.59 1.41.59.51 0 1.02-.2 1.41-.59l7.78-7.78 2.81-2.81c.8-.78.8-2.07 0-2.86zM5.41 20L4 18.59l7.72-7.72 1.47 1.35L5.41 20z\"/>\n",
              "  </svg>\n",
              "      </button>\n",
              "      \n",
              "  <style>\n",
              "    .colab-df-container {\n",
              "      display:flex;\n",
              "      flex-wrap:wrap;\n",
              "      gap: 12px;\n",
              "    }\n",
              "\n",
              "    .colab-df-convert {\n",
              "      background-color: #E8F0FE;\n",
              "      border: none;\n",
              "      border-radius: 50%;\n",
              "      cursor: pointer;\n",
              "      display: none;\n",
              "      fill: #1967D2;\n",
              "      height: 32px;\n",
              "      padding: 0 0 0 0;\n",
              "      width: 32px;\n",
              "    }\n",
              "\n",
              "    .colab-df-convert:hover {\n",
              "      background-color: #E2EBFA;\n",
              "      box-shadow: 0px 1px 2px rgba(60, 64, 67, 0.3), 0px 1px 3px 1px rgba(60, 64, 67, 0.15);\n",
              "      fill: #174EA6;\n",
              "    }\n",
              "\n",
              "    [theme=dark] .colab-df-convert {\n",
              "      background-color: #3B4455;\n",
              "      fill: #D2E3FC;\n",
              "    }\n",
              "\n",
              "    [theme=dark] .colab-df-convert:hover {\n",
              "      background-color: #434B5C;\n",
              "      box-shadow: 0px 1px 3px 1px rgba(0, 0, 0, 0.15);\n",
              "      filter: drop-shadow(0px 1px 2px rgba(0, 0, 0, 0.3));\n",
              "      fill: #FFFFFF;\n",
              "    }\n",
              "  </style>\n",
              "\n",
              "      <script>\n",
              "        const buttonEl =\n",
              "          document.querySelector('#df-3386cf07-6fa9-4e1a-b0b5-d1848bbe44f9 button.colab-df-convert');\n",
              "        buttonEl.style.display =\n",
              "          google.colab.kernel.accessAllowed ? 'block' : 'none';\n",
              "\n",
              "        async function convertToInteractive(key) {\n",
              "          const element = document.querySelector('#df-3386cf07-6fa9-4e1a-b0b5-d1848bbe44f9');\n",
              "          const dataTable =\n",
              "            await google.colab.kernel.invokeFunction('convertToInteractive',\n",
              "                                                     [key], {});\n",
              "          if (!dataTable) return;\n",
              "\n",
              "          const docLinkHtml = 'Like what you see? Visit the ' +\n",
              "            '<a target=\"_blank\" href=https://colab.research.google.com/notebooks/data_table.ipynb>data table notebook</a>'\n",
              "            + ' to learn more about interactive tables.';\n",
              "          element.innerHTML = '';\n",
              "          dataTable['output_type'] = 'display_data';\n",
              "          await google.colab.output.renderOutput(dataTable, element);\n",
              "          const docLink = document.createElement('div');\n",
              "          docLink.innerHTML = docLinkHtml;\n",
              "          element.appendChild(docLink);\n",
              "        }\n",
              "      </script>\n",
              "    </div>\n",
              "  </div>\n",
              "  "
            ]
          },
          "metadata": {},
          "execution_count": 18
        }
      ]
    },
    {
      "cell_type": "code",
      "source": [
        "# Split train data (90%) and test data (10%)\n",
        "\n",
        "train_size = int(len(tst)*0.90)\n",
        "train_dataset, test_dataset = tst.iloc[:train_size],tst.iloc[train_size:]\n"
      ],
      "metadata": {
        "id": "vaD-dLKTzJbx"
      },
      "execution_count": 19,
      "outputs": []
    },
    {
      "cell_type": "code",
      "source": [
        ""
      ],
      "metadata": {
        "id": "crWgw113NFqu"
      },
      "execution_count": 19,
      "outputs": []
    },
    {
      "cell_type": "code",
      "source": [
        "print('Null Values:',train_dataset.isnull().values.sum())\n",
        "train_dataset = train_dataset.dropna()\n",
        "print('Null Values:',train_dataset.isnull().values.sum())\n"
      ],
      "metadata": {
        "colab": {
          "base_uri": "https://localhost:8080/"
        },
        "id": "UINiXpsh3VYt",
        "outputId": "ca467dbb-9e78-4506-cdf2-ad0bbb96e591"
      },
      "execution_count": 20,
      "outputs": [
        {
          "output_type": "stream",
          "name": "stdout",
          "text": [
            "Null Values: 86\n",
            "Null Values: 0\n"
          ]
        }
      ]
    },
    {
      "cell_type": "code",
      "source": [
        "print('Null Values:',test_dataset.isnull().values.sum())\n"
      ],
      "metadata": {
        "colab": {
          "base_uri": "https://localhost:8080/"
        },
        "id": "Iskx4hEa3qj0",
        "outputId": "19ff53cb-d346-449c-c5f5-b7f576ff9403"
      },
      "execution_count": 21,
      "outputs": [
        {
          "output_type": "stream",
          "name": "stdout",
          "text": [
            "Null Values: 0\n"
          ]
        }
      ]
    },
    {
      "cell_type": "code",
      "source": [
        "train_dataset.head()\n"
      ],
      "metadata": {
        "colab": {
          "base_uri": "https://localhost:8080/",
          "height": 238
        },
        "id": "yIvQhz7xpYkg",
        "outputId": "e43bbe6f-489d-4a29-b3a9-c8f5f3898050"
      },
      "execution_count": 22,
      "outputs": [
        {
          "output_type": "execute_result",
          "data": {
            "text/plain": [
              "                 low      high      open        volume  TOMORROW_CLOSE  \\\n",
              "time                                                                     \n",
              "2021-01-22  28732.00  33867.00  30855.90  48155.721617        32112.01   \n",
              "2021-01-23  31432.19  33488.79  32982.66  16139.814783        32288.56   \n",
              "2021-01-24  30931.21  33086.53  32110.00  13618.800978        32261.87   \n",
              "2021-01-25  31920.80  34888.00  32293.18  23045.662934        32510.82   \n",
              "2021-01-26  30830.00  32960.37  32260.52  23535.838917        30407.13   \n",
              "\n",
              "                     ma7          ma21         26ema         12ema  \\\n",
              "time                                                                 \n",
              "2021-01-22  34259.641429  35865.701429  35377.080031  34647.900062   \n",
              "2021-01-23  33755.150000  35827.982381  35096.733728  34275.485985   \n",
              "2021-01-24  33131.955714  35839.500476  34843.637701  33958.909800   \n",
              "2021-01-25  32645.318571  35767.128095  34638.483747  33732.009389   \n",
              "2021-01-26  31917.324286  35459.883810  34271.457772  33212.512918   \n",
              "\n",
              "                   MACD         20sd    upper_band    lower_band  \\\n",
              "time                                                               \n",
              "2021-01-22  -729.179969  2768.237573  41402.176574  30329.226283   \n",
              "2021-01-23  -821.247744  2813.115648  41454.213677  30201.751085   \n",
              "2021-01-24  -884.727901  2797.194653  41433.889782  30245.111171   \n",
              "2021-01-25  -906.474358  2865.171051  41497.470197  30036.785993   \n",
              "2021-01-26 -1058.944854  3080.085635  41620.055080  29299.712539   \n",
              "\n",
              "                     ema  momentum  log_momentum  \n",
              "time                                              \n",
              "2021-01-22  32345.742206  32111.01     10.376954  \n",
              "2021-01-23  32307.620735  32287.56     10.382437  \n",
              "2021-01-24  32277.120245  32260.87     10.381610  \n",
              "2021-01-25  32432.920082  32509.82     10.389297  \n",
              "2021-01-26  31082.393361  30406.13     10.322400  "
            ],
            "text/html": [
              "\n",
              "  <div id=\"df-d8ef1905-e7bb-4d51-9c6c-93efa0d5525a\">\n",
              "    <div class=\"colab-df-container\">\n",
              "      <div>\n",
              "<style scoped>\n",
              "    .dataframe tbody tr th:only-of-type {\n",
              "        vertical-align: middle;\n",
              "    }\n",
              "\n",
              "    .dataframe tbody tr th {\n",
              "        vertical-align: top;\n",
              "    }\n",
              "\n",
              "    .dataframe thead th {\n",
              "        text-align: right;\n",
              "    }\n",
              "</style>\n",
              "<table border=\"1\" class=\"dataframe\">\n",
              "  <thead>\n",
              "    <tr style=\"text-align: right;\">\n",
              "      <th></th>\n",
              "      <th>low</th>\n",
              "      <th>high</th>\n",
              "      <th>open</th>\n",
              "      <th>volume</th>\n",
              "      <th>TOMORROW_CLOSE</th>\n",
              "      <th>ma7</th>\n",
              "      <th>ma21</th>\n",
              "      <th>26ema</th>\n",
              "      <th>12ema</th>\n",
              "      <th>MACD</th>\n",
              "      <th>20sd</th>\n",
              "      <th>upper_band</th>\n",
              "      <th>lower_band</th>\n",
              "      <th>ema</th>\n",
              "      <th>momentum</th>\n",
              "      <th>log_momentum</th>\n",
              "    </tr>\n",
              "    <tr>\n",
              "      <th>time</th>\n",
              "      <th></th>\n",
              "      <th></th>\n",
              "      <th></th>\n",
              "      <th></th>\n",
              "      <th></th>\n",
              "      <th></th>\n",
              "      <th></th>\n",
              "      <th></th>\n",
              "      <th></th>\n",
              "      <th></th>\n",
              "      <th></th>\n",
              "      <th></th>\n",
              "      <th></th>\n",
              "      <th></th>\n",
              "      <th></th>\n",
              "      <th></th>\n",
              "    </tr>\n",
              "  </thead>\n",
              "  <tbody>\n",
              "    <tr>\n",
              "      <th>2021-01-22</th>\n",
              "      <td>28732.00</td>\n",
              "      <td>33867.00</td>\n",
              "      <td>30855.90</td>\n",
              "      <td>48155.721617</td>\n",
              "      <td>32112.01</td>\n",
              "      <td>34259.641429</td>\n",
              "      <td>35865.701429</td>\n",
              "      <td>35377.080031</td>\n",
              "      <td>34647.900062</td>\n",
              "      <td>-729.179969</td>\n",
              "      <td>2768.237573</td>\n",
              "      <td>41402.176574</td>\n",
              "      <td>30329.226283</td>\n",
              "      <td>32345.742206</td>\n",
              "      <td>32111.01</td>\n",
              "      <td>10.376954</td>\n",
              "    </tr>\n",
              "    <tr>\n",
              "      <th>2021-01-23</th>\n",
              "      <td>31432.19</td>\n",
              "      <td>33488.79</td>\n",
              "      <td>32982.66</td>\n",
              "      <td>16139.814783</td>\n",
              "      <td>32288.56</td>\n",
              "      <td>33755.150000</td>\n",
              "      <td>35827.982381</td>\n",
              "      <td>35096.733728</td>\n",
              "      <td>34275.485985</td>\n",
              "      <td>-821.247744</td>\n",
              "      <td>2813.115648</td>\n",
              "      <td>41454.213677</td>\n",
              "      <td>30201.751085</td>\n",
              "      <td>32307.620735</td>\n",
              "      <td>32287.56</td>\n",
              "      <td>10.382437</td>\n",
              "    </tr>\n",
              "    <tr>\n",
              "      <th>2021-01-24</th>\n",
              "      <td>30931.21</td>\n",
              "      <td>33086.53</td>\n",
              "      <td>32110.00</td>\n",
              "      <td>13618.800978</td>\n",
              "      <td>32261.87</td>\n",
              "      <td>33131.955714</td>\n",
              "      <td>35839.500476</td>\n",
              "      <td>34843.637701</td>\n",
              "      <td>33958.909800</td>\n",
              "      <td>-884.727901</td>\n",
              "      <td>2797.194653</td>\n",
              "      <td>41433.889782</td>\n",
              "      <td>30245.111171</td>\n",
              "      <td>32277.120245</td>\n",
              "      <td>32260.87</td>\n",
              "      <td>10.381610</td>\n",
              "    </tr>\n",
              "    <tr>\n",
              "      <th>2021-01-25</th>\n",
              "      <td>31920.80</td>\n",
              "      <td>34888.00</td>\n",
              "      <td>32293.18</td>\n",
              "      <td>23045.662934</td>\n",
              "      <td>32510.82</td>\n",
              "      <td>32645.318571</td>\n",
              "      <td>35767.128095</td>\n",
              "      <td>34638.483747</td>\n",
              "      <td>33732.009389</td>\n",
              "      <td>-906.474358</td>\n",
              "      <td>2865.171051</td>\n",
              "      <td>41497.470197</td>\n",
              "      <td>30036.785993</td>\n",
              "      <td>32432.920082</td>\n",
              "      <td>32509.82</td>\n",
              "      <td>10.389297</td>\n",
              "    </tr>\n",
              "    <tr>\n",
              "      <th>2021-01-26</th>\n",
              "      <td>30830.00</td>\n",
              "      <td>32960.37</td>\n",
              "      <td>32260.52</td>\n",
              "      <td>23535.838917</td>\n",
              "      <td>30407.13</td>\n",
              "      <td>31917.324286</td>\n",
              "      <td>35459.883810</td>\n",
              "      <td>34271.457772</td>\n",
              "      <td>33212.512918</td>\n",
              "      <td>-1058.944854</td>\n",
              "      <td>3080.085635</td>\n",
              "      <td>41620.055080</td>\n",
              "      <td>29299.712539</td>\n",
              "      <td>31082.393361</td>\n",
              "      <td>30406.13</td>\n",
              "      <td>10.322400</td>\n",
              "    </tr>\n",
              "  </tbody>\n",
              "</table>\n",
              "</div>\n",
              "      <button class=\"colab-df-convert\" onclick=\"convertToInteractive('df-d8ef1905-e7bb-4d51-9c6c-93efa0d5525a')\"\n",
              "              title=\"Convert this dataframe to an interactive table.\"\n",
              "              style=\"display:none;\">\n",
              "        \n",
              "  <svg xmlns=\"http://www.w3.org/2000/svg\" height=\"24px\"viewBox=\"0 0 24 24\"\n",
              "       width=\"24px\">\n",
              "    <path d=\"M0 0h24v24H0V0z\" fill=\"none\"/>\n",
              "    <path d=\"M18.56 5.44l.94 2.06.94-2.06 2.06-.94-2.06-.94-.94-2.06-.94 2.06-2.06.94zm-11 1L8.5 8.5l.94-2.06 2.06-.94-2.06-.94L8.5 2.5l-.94 2.06-2.06.94zm10 10l.94 2.06.94-2.06 2.06-.94-2.06-.94-.94-2.06-.94 2.06-2.06.94z\"/><path d=\"M17.41 7.96l-1.37-1.37c-.4-.4-.92-.59-1.43-.59-.52 0-1.04.2-1.43.59L10.3 9.45l-7.72 7.72c-.78.78-.78 2.05 0 2.83L4 21.41c.39.39.9.59 1.41.59.51 0 1.02-.2 1.41-.59l7.78-7.78 2.81-2.81c.8-.78.8-2.07 0-2.86zM5.41 20L4 18.59l7.72-7.72 1.47 1.35L5.41 20z\"/>\n",
              "  </svg>\n",
              "      </button>\n",
              "      \n",
              "  <style>\n",
              "    .colab-df-container {\n",
              "      display:flex;\n",
              "      flex-wrap:wrap;\n",
              "      gap: 12px;\n",
              "    }\n",
              "\n",
              "    .colab-df-convert {\n",
              "      background-color: #E8F0FE;\n",
              "      border: none;\n",
              "      border-radius: 50%;\n",
              "      cursor: pointer;\n",
              "      display: none;\n",
              "      fill: #1967D2;\n",
              "      height: 32px;\n",
              "      padding: 0 0 0 0;\n",
              "      width: 32px;\n",
              "    }\n",
              "\n",
              "    .colab-df-convert:hover {\n",
              "      background-color: #E2EBFA;\n",
              "      box-shadow: 0px 1px 2px rgba(60, 64, 67, 0.3), 0px 1px 3px 1px rgba(60, 64, 67, 0.15);\n",
              "      fill: #174EA6;\n",
              "    }\n",
              "\n",
              "    [theme=dark] .colab-df-convert {\n",
              "      background-color: #3B4455;\n",
              "      fill: #D2E3FC;\n",
              "    }\n",
              "\n",
              "    [theme=dark] .colab-df-convert:hover {\n",
              "      background-color: #434B5C;\n",
              "      box-shadow: 0px 1px 3px 1px rgba(0, 0, 0, 0.15);\n",
              "      filter: drop-shadow(0px 1px 2px rgba(0, 0, 0, 0.3));\n",
              "      fill: #FFFFFF;\n",
              "    }\n",
              "  </style>\n",
              "\n",
              "      <script>\n",
              "        const buttonEl =\n",
              "          document.querySelector('#df-d8ef1905-e7bb-4d51-9c6c-93efa0d5525a button.colab-df-convert');\n",
              "        buttonEl.style.display =\n",
              "          google.colab.kernel.accessAllowed ? 'block' : 'none';\n",
              "\n",
              "        async function convertToInteractive(key) {\n",
              "          const element = document.querySelector('#df-d8ef1905-e7bb-4d51-9c6c-93efa0d5525a');\n",
              "          const dataTable =\n",
              "            await google.colab.kernel.invokeFunction('convertToInteractive',\n",
              "                                                     [key], {});\n",
              "          if (!dataTable) return;\n",
              "\n",
              "          const docLinkHtml = 'Like what you see? Visit the ' +\n",
              "            '<a target=\"_blank\" href=https://colab.research.google.com/notebooks/data_table.ipynb>data table notebook</a>'\n",
              "            + ' to learn more about interactive tables.';\n",
              "          element.innerHTML = '';\n",
              "          dataTable['output_type'] = 'display_data';\n",
              "          await google.colab.output.renderOutput(dataTable, element);\n",
              "          const docLink = document.createElement('div');\n",
              "          docLink.innerHTML = docLinkHtml;\n",
              "          element.appendChild(docLink);\n",
              "        }\n",
              "      </script>\n",
              "    </div>\n",
              "  </div>\n",
              "  "
            ]
          },
          "metadata": {},
          "execution_count": 22
        }
      ]
    },
    {
      "cell_type": "code",
      "source": [
        "# Split train data to X and y\n",
        "X_train = train_dataset.drop('TOMORROW_CLOSE', axis = 1)\n",
        "y_train = train_dataset.loc[:,['TOMORROW_CLOSE']]\n",
        "\n",
        "# Split test data to X and y\n",
        "X_test = test_dataset.drop('TOMORROW_CLOSE', axis = 1)\n",
        "y_test = test_dataset.loc[:,['TOMORROW_CLOSE']]"
      ],
      "metadata": {
        "id": "mHMzSSQ_24Uo"
      },
      "execution_count": 23,
      "outputs": []
    },
    {
      "cell_type": "code",
      "source": [
        "X_train.head()"
      ],
      "metadata": {
        "colab": {
          "base_uri": "https://localhost:8080/",
          "height": 238
        },
        "id": "fNUixtLJm6mv",
        "outputId": "0b569803-9fe6-4ca0-e8d7-e250dcc0e7ca"
      },
      "execution_count": 24,
      "outputs": [
        {
          "output_type": "execute_result",
          "data": {
            "text/plain": [
              "                 low      high      open        volume           ma7  \\\n",
              "time                                                                   \n",
              "2021-01-22  28732.00  33867.00  30855.90  48155.721617  34259.641429   \n",
              "2021-01-23  31432.19  33488.79  32982.66  16139.814783  33755.150000   \n",
              "2021-01-24  30931.21  33086.53  32110.00  13618.800978  33131.955714   \n",
              "2021-01-25  31920.80  34888.00  32293.18  23045.662934  32645.318571   \n",
              "2021-01-26  30830.00  32960.37  32260.52  23535.838917  31917.324286   \n",
              "\n",
              "                    ma21         26ema         12ema         MACD  \\\n",
              "time                                                                \n",
              "2021-01-22  35865.701429  35377.080031  34647.900062  -729.179969   \n",
              "2021-01-23  35827.982381  35096.733728  34275.485985  -821.247744   \n",
              "2021-01-24  35839.500476  34843.637701  33958.909800  -884.727901   \n",
              "2021-01-25  35767.128095  34638.483747  33732.009389  -906.474358   \n",
              "2021-01-26  35459.883810  34271.457772  33212.512918 -1058.944854   \n",
              "\n",
              "                   20sd    upper_band    lower_band           ema  momentum  \\\n",
              "time                                                                          \n",
              "2021-01-22  2768.237573  41402.176574  30329.226283  32345.742206  32111.01   \n",
              "2021-01-23  2813.115648  41454.213677  30201.751085  32307.620735  32287.56   \n",
              "2021-01-24  2797.194653  41433.889782  30245.111171  32277.120245  32260.87   \n",
              "2021-01-25  2865.171051  41497.470197  30036.785993  32432.920082  32509.82   \n",
              "2021-01-26  3080.085635  41620.055080  29299.712539  31082.393361  30406.13   \n",
              "\n",
              "            log_momentum  \n",
              "time                      \n",
              "2021-01-22     10.376954  \n",
              "2021-01-23     10.382437  \n",
              "2021-01-24     10.381610  \n",
              "2021-01-25     10.389297  \n",
              "2021-01-26     10.322400  "
            ],
            "text/html": [
              "\n",
              "  <div id=\"df-89e4537a-1249-4c3f-9839-44a8e2382f1a\">\n",
              "    <div class=\"colab-df-container\">\n",
              "      <div>\n",
              "<style scoped>\n",
              "    .dataframe tbody tr th:only-of-type {\n",
              "        vertical-align: middle;\n",
              "    }\n",
              "\n",
              "    .dataframe tbody tr th {\n",
              "        vertical-align: top;\n",
              "    }\n",
              "\n",
              "    .dataframe thead th {\n",
              "        text-align: right;\n",
              "    }\n",
              "</style>\n",
              "<table border=\"1\" class=\"dataframe\">\n",
              "  <thead>\n",
              "    <tr style=\"text-align: right;\">\n",
              "      <th></th>\n",
              "      <th>low</th>\n",
              "      <th>high</th>\n",
              "      <th>open</th>\n",
              "      <th>volume</th>\n",
              "      <th>ma7</th>\n",
              "      <th>ma21</th>\n",
              "      <th>26ema</th>\n",
              "      <th>12ema</th>\n",
              "      <th>MACD</th>\n",
              "      <th>20sd</th>\n",
              "      <th>upper_band</th>\n",
              "      <th>lower_band</th>\n",
              "      <th>ema</th>\n",
              "      <th>momentum</th>\n",
              "      <th>log_momentum</th>\n",
              "    </tr>\n",
              "    <tr>\n",
              "      <th>time</th>\n",
              "      <th></th>\n",
              "      <th></th>\n",
              "      <th></th>\n",
              "      <th></th>\n",
              "      <th></th>\n",
              "      <th></th>\n",
              "      <th></th>\n",
              "      <th></th>\n",
              "      <th></th>\n",
              "      <th></th>\n",
              "      <th></th>\n",
              "      <th></th>\n",
              "      <th></th>\n",
              "      <th></th>\n",
              "      <th></th>\n",
              "    </tr>\n",
              "  </thead>\n",
              "  <tbody>\n",
              "    <tr>\n",
              "      <th>2021-01-22</th>\n",
              "      <td>28732.00</td>\n",
              "      <td>33867.00</td>\n",
              "      <td>30855.90</td>\n",
              "      <td>48155.721617</td>\n",
              "      <td>34259.641429</td>\n",
              "      <td>35865.701429</td>\n",
              "      <td>35377.080031</td>\n",
              "      <td>34647.900062</td>\n",
              "      <td>-729.179969</td>\n",
              "      <td>2768.237573</td>\n",
              "      <td>41402.176574</td>\n",
              "      <td>30329.226283</td>\n",
              "      <td>32345.742206</td>\n",
              "      <td>32111.01</td>\n",
              "      <td>10.376954</td>\n",
              "    </tr>\n",
              "    <tr>\n",
              "      <th>2021-01-23</th>\n",
              "      <td>31432.19</td>\n",
              "      <td>33488.79</td>\n",
              "      <td>32982.66</td>\n",
              "      <td>16139.814783</td>\n",
              "      <td>33755.150000</td>\n",
              "      <td>35827.982381</td>\n",
              "      <td>35096.733728</td>\n",
              "      <td>34275.485985</td>\n",
              "      <td>-821.247744</td>\n",
              "      <td>2813.115648</td>\n",
              "      <td>41454.213677</td>\n",
              "      <td>30201.751085</td>\n",
              "      <td>32307.620735</td>\n",
              "      <td>32287.56</td>\n",
              "      <td>10.382437</td>\n",
              "    </tr>\n",
              "    <tr>\n",
              "      <th>2021-01-24</th>\n",
              "      <td>30931.21</td>\n",
              "      <td>33086.53</td>\n",
              "      <td>32110.00</td>\n",
              "      <td>13618.800978</td>\n",
              "      <td>33131.955714</td>\n",
              "      <td>35839.500476</td>\n",
              "      <td>34843.637701</td>\n",
              "      <td>33958.909800</td>\n",
              "      <td>-884.727901</td>\n",
              "      <td>2797.194653</td>\n",
              "      <td>41433.889782</td>\n",
              "      <td>30245.111171</td>\n",
              "      <td>32277.120245</td>\n",
              "      <td>32260.87</td>\n",
              "      <td>10.381610</td>\n",
              "    </tr>\n",
              "    <tr>\n",
              "      <th>2021-01-25</th>\n",
              "      <td>31920.80</td>\n",
              "      <td>34888.00</td>\n",
              "      <td>32293.18</td>\n",
              "      <td>23045.662934</td>\n",
              "      <td>32645.318571</td>\n",
              "      <td>35767.128095</td>\n",
              "      <td>34638.483747</td>\n",
              "      <td>33732.009389</td>\n",
              "      <td>-906.474358</td>\n",
              "      <td>2865.171051</td>\n",
              "      <td>41497.470197</td>\n",
              "      <td>30036.785993</td>\n",
              "      <td>32432.920082</td>\n",
              "      <td>32509.82</td>\n",
              "      <td>10.389297</td>\n",
              "    </tr>\n",
              "    <tr>\n",
              "      <th>2021-01-26</th>\n",
              "      <td>30830.00</td>\n",
              "      <td>32960.37</td>\n",
              "      <td>32260.52</td>\n",
              "      <td>23535.838917</td>\n",
              "      <td>31917.324286</td>\n",
              "      <td>35459.883810</td>\n",
              "      <td>34271.457772</td>\n",
              "      <td>33212.512918</td>\n",
              "      <td>-1058.944854</td>\n",
              "      <td>3080.085635</td>\n",
              "      <td>41620.055080</td>\n",
              "      <td>29299.712539</td>\n",
              "      <td>31082.393361</td>\n",
              "      <td>30406.13</td>\n",
              "      <td>10.322400</td>\n",
              "    </tr>\n",
              "  </tbody>\n",
              "</table>\n",
              "</div>\n",
              "      <button class=\"colab-df-convert\" onclick=\"convertToInteractive('df-89e4537a-1249-4c3f-9839-44a8e2382f1a')\"\n",
              "              title=\"Convert this dataframe to an interactive table.\"\n",
              "              style=\"display:none;\">\n",
              "        \n",
              "  <svg xmlns=\"http://www.w3.org/2000/svg\" height=\"24px\"viewBox=\"0 0 24 24\"\n",
              "       width=\"24px\">\n",
              "    <path d=\"M0 0h24v24H0V0z\" fill=\"none\"/>\n",
              "    <path d=\"M18.56 5.44l.94 2.06.94-2.06 2.06-.94-2.06-.94-.94-2.06-.94 2.06-2.06.94zm-11 1L8.5 8.5l.94-2.06 2.06-.94-2.06-.94L8.5 2.5l-.94 2.06-2.06.94zm10 10l.94 2.06.94-2.06 2.06-.94-2.06-.94-.94-2.06-.94 2.06-2.06.94z\"/><path d=\"M17.41 7.96l-1.37-1.37c-.4-.4-.92-.59-1.43-.59-.52 0-1.04.2-1.43.59L10.3 9.45l-7.72 7.72c-.78.78-.78 2.05 0 2.83L4 21.41c.39.39.9.59 1.41.59.51 0 1.02-.2 1.41-.59l7.78-7.78 2.81-2.81c.8-.78.8-2.07 0-2.86zM5.41 20L4 18.59l7.72-7.72 1.47 1.35L5.41 20z\"/>\n",
              "  </svg>\n",
              "      </button>\n",
              "      \n",
              "  <style>\n",
              "    .colab-df-container {\n",
              "      display:flex;\n",
              "      flex-wrap:wrap;\n",
              "      gap: 12px;\n",
              "    }\n",
              "\n",
              "    .colab-df-convert {\n",
              "      background-color: #E8F0FE;\n",
              "      border: none;\n",
              "      border-radius: 50%;\n",
              "      cursor: pointer;\n",
              "      display: none;\n",
              "      fill: #1967D2;\n",
              "      height: 32px;\n",
              "      padding: 0 0 0 0;\n",
              "      width: 32px;\n",
              "    }\n",
              "\n",
              "    .colab-df-convert:hover {\n",
              "      background-color: #E2EBFA;\n",
              "      box-shadow: 0px 1px 2px rgba(60, 64, 67, 0.3), 0px 1px 3px 1px rgba(60, 64, 67, 0.15);\n",
              "      fill: #174EA6;\n",
              "    }\n",
              "\n",
              "    [theme=dark] .colab-df-convert {\n",
              "      background-color: #3B4455;\n",
              "      fill: #D2E3FC;\n",
              "    }\n",
              "\n",
              "    [theme=dark] .colab-df-convert:hover {\n",
              "      background-color: #434B5C;\n",
              "      box-shadow: 0px 1px 3px 1px rgba(0, 0, 0, 0.15);\n",
              "      filter: drop-shadow(0px 1px 2px rgba(0, 0, 0, 0.3));\n",
              "      fill: #FFFFFF;\n",
              "    }\n",
              "  </style>\n",
              "\n",
              "      <script>\n",
              "        const buttonEl =\n",
              "          document.querySelector('#df-89e4537a-1249-4c3f-9839-44a8e2382f1a button.colab-df-convert');\n",
              "        buttonEl.style.display =\n",
              "          google.colab.kernel.accessAllowed ? 'block' : 'none';\n",
              "\n",
              "        async function convertToInteractive(key) {\n",
              "          const element = document.querySelector('#df-89e4537a-1249-4c3f-9839-44a8e2382f1a');\n",
              "          const dataTable =\n",
              "            await google.colab.kernel.invokeFunction('convertToInteractive',\n",
              "                                                     [key], {});\n",
              "          if (!dataTable) return;\n",
              "\n",
              "          const docLinkHtml = 'Like what you see? Visit the ' +\n",
              "            '<a target=\"_blank\" href=https://colab.research.google.com/notebooks/data_table.ipynb>data table notebook</a>'\n",
              "            + ' to learn more about interactive tables.';\n",
              "          element.innerHTML = '';\n",
              "          dataTable['output_type'] = 'display_data';\n",
              "          await google.colab.output.renderOutput(dataTable, element);\n",
              "          const docLink = document.createElement('div');\n",
              "          docLink.innerHTML = docLinkHtml;\n",
              "          element.appendChild(docLink);\n",
              "        }\n",
              "      </script>\n",
              "    </div>\n",
              "  </div>\n",
              "  "
            ]
          },
          "metadata": {},
          "execution_count": 24
        }
      ]
    },
    {
      "cell_type": "code",
      "source": [
        "'''\n",
        "#Plot train and test data\n",
        "plt.figure(figsize = (12, 6))\n",
        "plt.rcParams['figure.dpi'] = 360\n",
        "plt.plot(train_dataset.TOMORROW_CLOSE)\n",
        "plt.plot(test_dataset.TOMORROW_CLOSE)\n",
        "plt.xlabel('Date')\n",
        "plt.ylabel('Close value (US$)')\n",
        "plt.legend(['Train set', 'Test set'], loc='upper left')\n",
        "print('Dimension of train data: ',train_dataset.shape)\n",
        "print('Dimension of test data: ', test_dataset.shape)\n",
        "'''"
      ],
      "metadata": {
        "colab": {
          "base_uri": "https://localhost:8080/",
          "height": 52
        },
        "id": "hF4OcMzB3D1I",
        "outputId": "f5e35964-280f-4e34-e1da-647c60e70a15"
      },
      "execution_count": 25,
      "outputs": [
        {
          "output_type": "execute_result",
          "data": {
            "text/plain": [
              "\"\\n#Plot train and test data\\nplt.figure(figsize = (12, 6))\\nplt.rcParams['figure.dpi'] = 360\\nplt.plot(train_dataset.TOMORROW_CLOSE)\\nplt.plot(test_dataset.TOMORROW_CLOSE)\\nplt.xlabel('Date')\\nplt.ylabel('Close value (US$)')\\nplt.legend(['Train set', 'Test set'], loc='upper left')\\nprint('Dimension of train data: ',train_dataset.shape)\\nprint('Dimension of test data: ', test_dataset.shape)\\n\""
            ],
            "application/vnd.google.colaboratory.intrinsic+json": {
              "type": "string"
            }
          },
          "metadata": {},
          "execution_count": 25
        }
      ]
    },
    {
      "cell_type": "code",
      "source": [
        "# Different scaler for input and output ----> Normalizate the data\n",
        "scaler_x = MinMaxScaler(feature_range = (-1,1))\n",
        "scaler_y = MinMaxScaler(feature_range = (-1,1))\n",
        "\n",
        "# Fit the scaler using available training data\n",
        "input_scaler = scaler_x.fit(X_train)\n",
        "output_scaler = scaler_y.fit(y_train)\n",
        "\n",
        "# Apply the scaler to training data\n",
        "train_y_norm = output_scaler.transform(y_train)\n",
        "train_x_norm = input_scaler.transform(X_train)\n",
        "\n",
        "# Apply the scaler to test data\n",
        "test_y_norm = output_scaler.transform(y_test)\n",
        "test_x_norm = input_scaler.transform(X_test)"
      ],
      "metadata": {
        "id": "XhyiYytM3S-w"
      },
      "execution_count": 26,
      "outputs": []
    },
    {
      "cell_type": "code",
      "source": [
        "# Create 3 dimensional data set \n",
        "def threeD_dataset (X, y, time_steps = 1):\n",
        "    Xs, ys = [], []\n",
        "    \n",
        "    for i in range(len(X)-time_steps):\n",
        "        v = X[i:i+time_steps, :]\n",
        "        Xs.append(v)\n",
        "        ys.append(y[i+time_steps])\n",
        "        \n",
        "    return np.array(Xs), np.array(ys)\n",
        "\n",
        "\n",
        "TIME_STEPS = 15 # which means the model will make predictions of ‘TOMORROW_CLOSE’ based on the input from the 10 previous days or future days bi-lstm or bi-gru\n",
        "\n",
        "X_test, y_test = threeD_dataset(test_x_norm, test_y_norm, TIME_STEPS)\n",
        "X_train, y_train = threeD_dataset(train_x_norm, train_y_norm, TIME_STEPS)\n",
        "print('X_train.shape: ', X_train.shape)\n",
        "print('y_train.shape: ', y_train.shape)\n",
        "print('X_test.shape: ', X_test.shape) \n",
        "print('y_test.shape: ', y_test.shape)"
      ],
      "metadata": {
        "colab": {
          "base_uri": "https://localhost:8080/"
        },
        "id": "_yxSLwrm3efn",
        "outputId": "c3f710df-bf65-4ac8-bcbe-c358643e06f6"
      },
      "execution_count": 27,
      "outputs": [
        {
          "output_type": "stream",
          "name": "stdout",
          "text": [
            "X_train.shape:  (455, 15, 15)\n",
            "y_train.shape:  (455, 1)\n",
            "X_test.shape:  (40, 15, 15)\n",
            "y_test.shape:  (40, 1)\n"
          ]
        }
      ]
    },
    {
      "cell_type": "code",
      "source": [
        "# Create gru \n",
        "def create_model(m):\n",
        "    model = Sequential()\n",
        "    # First layer of gru\n",
        "    model.add(m (units = 128, activation = 'relu', return_sequences = False, input_shape = [X_train.shape[1], X_train.shape[2]])) # use 64 hidden units\n",
        "    model.add(Dense(units = 1))\n",
        "    model.compile(loss = 'mse', optimizer=tf.keras.optimizers.Adam(learning_rate = 1e-3 ) ) # use loss as MSE and Adam optimizer (0.001)\n",
        "    return model"
      ],
      "metadata": {
        "id": "NOhFjCaC3wM4"
      },
      "execution_count": 28,
      "outputs": []
    },
    {
      "cell_type": "code",
      "source": [
        "model_GRU = create_model(GRU)\n"
      ],
      "metadata": {
        "id": "x-1Fc8hc4Nw4"
      },
      "execution_count": 29,
      "outputs": []
    },
    {
      "cell_type": "code",
      "source": [
        "# Let's check the summary of our baby model\n",
        "model_GRU.summary()"
      ],
      "metadata": {
        "colab": {
          "base_uri": "https://localhost:8080/"
        },
        "id": "QvyWxytS4Pg3",
        "outputId": "5c90b707-7aaf-4fd3-bed9-9710a5b59ea0"
      },
      "execution_count": 30,
      "outputs": [
        {
          "output_type": "stream",
          "name": "stdout",
          "text": [
            "Model: \"sequential\"\n",
            "_________________________________________________________________\n",
            " Layer (type)                Output Shape              Param #   \n",
            "=================================================================\n",
            " gru (GRU)                   (None, 128)               55680     \n",
            "                                                                 \n",
            " dense (Dense)               (None, 1)                 129       \n",
            "                                                                 \n",
            "=================================================================\n",
            "Total params: 55,809\n",
            "Trainable params: 55,809\n",
            "Non-trainable params: 0\n",
            "_________________________________________________________________\n"
          ]
        }
      ]
    },
    {
      "cell_type": "code",
      "source": [
        "history_gru = model_GRU.fit(X_train, y_train, epochs = 50, validation_split = 0.2,batch_size = 32, shuffle = False) # no shuffer , as its time series data (32) 80 epoch"
      ],
      "metadata": {
        "colab": {
          "base_uri": "https://localhost:8080/"
        },
        "id": "HsWs4MNL4RuI",
        "outputId": "df730d1c-89a9-4d8e-e553-3385edd6dce9"
      },
      "execution_count": 31,
      "outputs": [
        {
          "output_type": "stream",
          "name": "stdout",
          "text": [
            "Epoch 1/50\n",
            "12/12 [==============================] - 2s 45ms/step - loss: 0.1445 - val_loss: 0.0228\n",
            "Epoch 2/50\n",
            "12/12 [==============================] - 0s 19ms/step - loss: 0.0418 - val_loss: 0.0185\n",
            "Epoch 3/50\n",
            "12/12 [==============================] - 0s 18ms/step - loss: 0.0294 - val_loss: 0.0153\n",
            "Epoch 4/50\n",
            "12/12 [==============================] - 0s 18ms/step - loss: 0.0225 - val_loss: 0.0135\n",
            "Epoch 5/50\n",
            "12/12 [==============================] - 0s 17ms/step - loss: 0.0191 - val_loss: 0.0117\n",
            "Epoch 6/50\n",
            "12/12 [==============================] - 0s 17ms/step - loss: 0.0180 - val_loss: 0.0108\n",
            "Epoch 7/50\n",
            "12/12 [==============================] - 0s 18ms/step - loss: 0.0162 - val_loss: 0.0099\n",
            "Epoch 8/50\n",
            "12/12 [==============================] - 0s 18ms/step - loss: 0.0154 - val_loss: 0.0092\n",
            "Epoch 9/50\n",
            "12/12 [==============================] - 0s 18ms/step - loss: 0.0141 - val_loss: 0.0087\n",
            "Epoch 10/50\n",
            "12/12 [==============================] - 0s 17ms/step - loss: 0.0137 - val_loss: 0.0084\n",
            "Epoch 11/50\n",
            "12/12 [==============================] - 0s 19ms/step - loss: 0.0130 - val_loss: 0.0080\n",
            "Epoch 12/50\n",
            "12/12 [==============================] - 0s 18ms/step - loss: 0.0125 - val_loss: 0.0077\n",
            "Epoch 13/50\n",
            "12/12 [==============================] - 0s 18ms/step - loss: 0.0121 - val_loss: 0.0074\n",
            "Epoch 14/50\n",
            "12/12 [==============================] - 0s 38ms/step - loss: 0.0116 - val_loss: 0.0072\n",
            "Epoch 15/50\n",
            "12/12 [==============================] - 0s 30ms/step - loss: 0.0114 - val_loss: 0.0069\n",
            "Epoch 16/50\n",
            "12/12 [==============================] - 0s 30ms/step - loss: 0.0110 - val_loss: 0.0069\n",
            "Epoch 17/50\n",
            "12/12 [==============================] - 0s 29ms/step - loss: 0.0107 - val_loss: 0.0066\n",
            "Epoch 18/50\n",
            "12/12 [==============================] - 0s 38ms/step - loss: 0.0106 - val_loss: 0.0069\n",
            "Epoch 19/50\n",
            "12/12 [==============================] - 0s 32ms/step - loss: 0.0103 - val_loss: 0.0067\n",
            "Epoch 20/50\n",
            "12/12 [==============================] - 0s 32ms/step - loss: 0.0103 - val_loss: 0.0071\n",
            "Epoch 21/50\n",
            "12/12 [==============================] - 0s 28ms/step - loss: 0.0101 - val_loss: 0.0070\n",
            "Epoch 22/50\n",
            "12/12 [==============================] - 0s 32ms/step - loss: 0.0102 - val_loss: 0.0077\n",
            "Epoch 23/50\n",
            "12/12 [==============================] - 0s 32ms/step - loss: 0.0100 - val_loss: 0.0077\n",
            "Epoch 24/50\n",
            "12/12 [==============================] - 1s 42ms/step - loss: 0.0102 - val_loss: 0.0085\n",
            "Epoch 25/50\n",
            "12/12 [==============================] - 0s 29ms/step - loss: 0.0101 - val_loss: 0.0087\n",
            "Epoch 26/50\n",
            "12/12 [==============================] - 0s 32ms/step - loss: 0.0105 - val_loss: 0.0096\n",
            "Epoch 27/50\n",
            "12/12 [==============================] - 0s 37ms/step - loss: 0.0105 - val_loss: 0.0100\n",
            "Epoch 28/50\n",
            "12/12 [==============================] - 0s 38ms/step - loss: 0.0110 - val_loss: 0.0097\n",
            "Epoch 29/50\n",
            "12/12 [==============================] - 1s 43ms/step - loss: 0.0108 - val_loss: 0.0099\n",
            "Epoch 30/50\n",
            "12/12 [==============================] - 0s 38ms/step - loss: 0.0112 - val_loss: 0.0086\n",
            "Epoch 31/50\n",
            "12/12 [==============================] - 0s 34ms/step - loss: 0.0105 - val_loss: 0.0083\n",
            "Epoch 32/50\n",
            "12/12 [==============================] - 0s 32ms/step - loss: 0.0105 - val_loss: 0.0071\n",
            "Epoch 33/50\n",
            "12/12 [==============================] - 0s 37ms/step - loss: 0.0098 - val_loss: 0.0069\n",
            "Epoch 34/50\n",
            "12/12 [==============================] - 0s 33ms/step - loss: 0.0097 - val_loss: 0.0063\n",
            "Epoch 35/50\n",
            "12/12 [==============================] - 0s 37ms/step - loss: 0.0091 - val_loss: 0.0062\n",
            "Epoch 36/50\n",
            "12/12 [==============================] - 0s 31ms/step - loss: 0.0091 - val_loss: 0.0060\n",
            "Epoch 37/50\n",
            "12/12 [==============================] - 0s 36ms/step - loss: 0.0088 - val_loss: 0.0059\n",
            "Epoch 38/50\n",
            "12/12 [==============================] - 0s 39ms/step - loss: 0.0089 - val_loss: 0.0060\n",
            "Epoch 39/50\n",
            "12/12 [==============================] - 0s 34ms/step - loss: 0.0086 - val_loss: 0.0059\n",
            "Epoch 40/50\n",
            "12/12 [==============================] - 0s 33ms/step - loss: 0.0087 - val_loss: 0.0059\n",
            "Epoch 41/50\n",
            "12/12 [==============================] - 0s 39ms/step - loss: 0.0085 - val_loss: 0.0058\n",
            "Epoch 42/50\n",
            "12/12 [==============================] - 0s 37ms/step - loss: 0.0087 - val_loss: 0.0059\n",
            "Epoch 43/50\n",
            "12/12 [==============================] - 0s 34ms/step - loss: 0.0090 - val_loss: 0.0060\n",
            "Epoch 44/50\n",
            "12/12 [==============================] - 0s 32ms/step - loss: 0.0093 - val_loss: 0.0058\n",
            "Epoch 45/50\n",
            "12/12 [==============================] - 0s 32ms/step - loss: 0.0086 - val_loss: 0.0057\n",
            "Epoch 46/50\n",
            "12/12 [==============================] - 0s 28ms/step - loss: 0.0095 - val_loss: 0.0061\n",
            "Epoch 47/50\n",
            "12/12 [==============================] - 0s 30ms/step - loss: 0.0102 - val_loss: 0.0060\n",
            "Epoch 48/50\n",
            "12/12 [==============================] - 0s 35ms/step - loss: 0.0089 - val_loss: 0.0060\n",
            "Epoch 49/50\n",
            "12/12 [==============================] - 0s 39ms/step - loss: 0.0093 - val_loss: 0.0059\n",
            "Epoch 50/50\n",
            "12/12 [==============================] - 0s 31ms/step - loss: 0.0086 - val_loss: 0.0062\n"
          ]
        }
      ]
    },
    {
      "cell_type": "code",
      "source": [
        "#Plot train and validation loss\n",
        "def plot_loss (history, model_name):\n",
        "    fig1 = plt.figure(figsize = (10, 6))\n",
        "    plt.rcParams['figure.dpi'] = 360\n",
        "    plt.plot(history.history['loss'])\n",
        "    plt.plot(history.history['val_loss'])\n",
        "    plt.title('Model Train vs Validation Loss for ' + model_name + ' with TI')\n",
        "    plt.ylabel('Loss')\n",
        "    plt.xlabel('epoch')\n",
        "    plt.legend(['Train loss', 'Validation loss'], loc='upper right')\n",
        "    fig1.savefig('Model_Train_Validation_loss_GRU_with_TI.png')\n",
        "plot_loss (history_gru, 'GRU')"
      ],
      "metadata": {
        "id": "zkd3oqts4anP",
        "colab": {
          "base_uri": "https://localhost:8080/",
          "height": 404
        },
        "outputId": "75999de5-8dac-4662-80cb-551d314f4ebe"
      },
      "execution_count": 32,
      "outputs": [
        {
          "output_type": "display_data",
          "data": {
            "text/plain": [
              "<Figure size 720x432 with 1 Axes>"
            ],
            "image/png": "[encoded data removed]"
          },
          "metadata": {
            "needs_background": "light"
          }
        }
      ]
    },
    {
      "cell_type": "markdown",
      "source": [
        "**Afte 30 epochs, the validation errors starts to rise, which is a sign of over fitting, therefore, one has to stop the training process at 30 epochs.**"
      ],
      "metadata": {
        "id": "8c3y71jpqXIf"
      }
    },
    {
      "cell_type": "code",
      "source": [
        "y_test = scaler_y.inverse_transform(y_test)\n",
        "y_train = scaler_y.inverse_transform(y_train)"
      ],
      "metadata": {
        "id": "6y6yIrED4_B_"
      },
      "execution_count": 33,
      "outputs": []
    },
    {
      "cell_type": "code",
      "source": [
        "def prediction(model):\n",
        "    prediction = model.predict(X_test)\n",
        "    prediction = scaler_y.inverse_transform(prediction)\n",
        "    return prediction"
      ],
      "metadata": {
        "id": "afyw6NSrNjKz"
      },
      "execution_count": 34,
      "outputs": []
    },
    {
      "cell_type": "code",
      "source": [
        "prediction_gru = prediction(model_GRU)"
      ],
      "metadata": {
        "id": "gAEBUr__NlXa"
      },
      "execution_count": 35,
      "outputs": []
    },
    {
      "cell_type": "code",
      "source": [
        "def plot_future(prediction, model_name, y_test):\n",
        "    fig4 = plt.figure(figsize=(10, 6))\n",
        "    plt.rcParams['figure.dpi'] = 360\n",
        "    range_future = len(prediction)\n",
        "    plt.plot(np.arange(range_future), np.array(y_test), label='True Future')\n",
        "    plt.plot(np.arange(range_future), np.array(prediction),label='Prediction')\n",
        "    plt.title('True future vs prediction for ' + model_name + ' with TI')\n",
        "    plt.legend(loc='upper left')\n",
        "    plt.xlabel('Date')\n",
        "    plt.ylabel('Close value (USD $)')\n",
        "    fig4.savefig('True_future_vs_prediction_for_GRU_with_TI.png')\n",
        "plot_future(prediction_gru, 'GRU', y_test)"
      ],
      "metadata": {
        "id": "siq7YgD6s6Xn",
        "colab": {
          "base_uri": "https://localhost:8080/",
          "height": 1000
        },
        "outputId": "f922c17a-20ee-4e4e-dece-2fd06e88b614"
      },
      "execution_count": 36,
      "outputs": [
        {
          "output_type": "display_data",
          "data": {
            "text/plain": [
              "<Figure size 3600x2160 with 1 Axes>"
            ],
            "image/png": "[encoded data removed]"
          },
          "metadata": {
            "needs_background": "light"
          }
        }
      ]
    },
    {
      "cell_type": "code",
      "source": [
        "## Define a function to calculate MAE and RMSE\n",
        "def evaluate_prediction(predictions, actual, model_name):\n",
        "    errors = predictions - actual\n",
        "    mse = np.square(errors).mean()\n",
        "    rmse = np.sqrt(mse)\n",
        "    mae = np.abs(errors).mean()\n",
        "    print(model_name + ':')\n",
        "    print('Mean Absolute Error: {:.4f}'.format(mae))\n",
        "    print('Root Mean Square Error: {:.4f}'.format(rmse))\n",
        "    print('')"
      ],
      "metadata": {
        "id": "MvsFAOhlNqow"
      },
      "execution_count": 37,
      "outputs": []
    },
    {
      "cell_type": "code",
      "source": [
        "evaluate_prediction(prediction_gru, y_test, 'GRU with TI')"
      ],
      "metadata": {
        "id": "xlZLERJqNtPQ",
        "colab": {
          "base_uri": "https://localhost:8080/"
        },
        "outputId": "0beb5c74-d33d-4124-8517-a45fca35fdd8"
      },
      "execution_count": 38,
      "outputs": [
        {
          "output_type": "stream",
          "name": "stdout",
          "text": [
            "GRU with TI:\n",
            "Mean Absolute Error: 815.2454\n",
            "Root Mean Square Error: 1160.4246\n",
            "\n"
          ]
        }
      ]
    },
    {
      "cell_type": "code",
      "source": [
        ""
      ],
      "metadata": {
        "id": "DfDYdT3R4tF2"
      },
      "execution_count": 38,
      "outputs": []
    }
  ]
}