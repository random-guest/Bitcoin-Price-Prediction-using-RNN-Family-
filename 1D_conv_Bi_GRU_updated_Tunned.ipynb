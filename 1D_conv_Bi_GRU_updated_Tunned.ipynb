{
  "nbformat": 4,
  "nbformat_minor": 0,
  "metadata": {
    "colab": {
      "name": "1D_conv_Bi_GRU_updated_Tunned.ipynb",
      "provenance": [],
      "collapsed_sections": []
    },
    "kernelspec": {
      "name": "python3",
      "display_name": "Python 3"
    },
    "language_info": {
      "name": "python"
    },
    "accelerator": "GPU"
  },
  "cells": [
    {
      "cell_type": "code",
      "source": [
        "import pandas as pd\n",
        "import numpy as np\n",
        "import matplotlib.pyplot as plt\n",
        "import seaborn as sns\n",
        "from matplotlib.dates import DateFormatter\n",
        "sns.set_style(\"white\")\n",
        "\n",
        "import scipy \n",
        "import tensorflow as tf\n",
        "from tensorflow import keras\n",
        "from tensorflow.keras import Sequential, layers, callbacks\n",
        "from tensorflow.keras.layers import Dense, LSTM, Dropout, GRU, Bidirectional, Conv2D,Conv1D, BatchNormalization\n",
        "\n",
        "from sklearn.preprocessing import MinMaxScaler\n",
        "from sklearn.model_selection import train_test_split\n",
        "\n",
        "from IPython.core.pylabtools import figsize\n",
        "\n",
        "from pandas.plotting import register_matplotlib_converters\n",
        "register_matplotlib_converters()\n",
        "from tensorflow.keras.callbacks import EarlyStopping, LearningRateScheduler\n",
        "from tensorflow.keras.callbacks import ModelCheckpoint\n",
        "from keras.layers import *\n",
        "from keras.models import *\n",
        "from keras import backend as K\n",
        "\n",
        "\n",
        "\n",
        "# Set random seed for reproducibility\n",
        "tf.random.set_seed(42)"
      ],
      "metadata": {
        "id": "ZIqnE-1t3LpQ"
      },
      "execution_count": 1,
      "outputs": []
    },
    {
      "cell_type": "code",
      "execution_count": 2,
      "metadata": {
        "colab": {
          "base_uri": "https://localhost:8080/"
        },
        "id": "DlKkrRPxurWw",
        "outputId": "bc362d39-8340-48fd-90ee-ec68f3a76b2f"
      },
      "outputs": [
        {
          "output_type": "stream",
          "name": "stdout",
          "text": [
            "Looking in indexes: https://pypi.org/simple, https://us-python.pkg.dev/colab-wheels/public/simple/\n",
            "Requirement already satisfied: Historic-Crypto in /usr/local/lib/python3.7/dist-packages (0.1.6)\n",
            "Requirement already satisfied: numpy in /usr/local/lib/python3.7/dist-packages (from Historic-Crypto) (1.21.6)\n",
            "Requirement already satisfied: requests in /usr/local/lib/python3.7/dist-packages (from Historic-Crypto) (2.23.0)\n",
            "Requirement already satisfied: certifi>=2017.4.17 in /usr/local/lib/python3.7/dist-packages (from requests->Historic-Crypto) (2022.5.18.1)\n",
            "Requirement already satisfied: idna<3,>=2.5 in /usr/local/lib/python3.7/dist-packages (from requests->Historic-Crypto) (2.10)\n",
            "Requirement already satisfied: urllib3!=1.25.0,!=1.25.1,<1.26,>=1.21.1 in /usr/local/lib/python3.7/dist-packages (from requests->Historic-Crypto) (1.24.3)\n",
            "Requirement already satisfied: chardet<4,>=3.0.2 in /usr/local/lib/python3.7/dist-packages (from requests->Historic-Crypto) (3.0.4)\n"
          ]
        }
      ],
      "source": [
        "!pip install Historic-Crypto"
      ]
    },
    {
      "cell_type": "code",
      "source": [
        "import warnings\n",
        "warnings.filterwarnings(\"ignore\")\n",
        "\n",
        "from Historic_Crypto import HistoricalData"
      ],
      "metadata": {
        "id": "duP3WefmvoJd"
      },
      "execution_count": 3,
      "outputs": []
    },
    {
      "cell_type": "code",
      "source": [
        "btc_historicals = HistoricalData('BTC-USD',86400,'2021-01-01-00-00', '2022-05-30-00-00').retrieve_data() # cyrpto name, number of seconds, start date, end date\n"
      ],
      "metadata": {
        "colab": {
          "base_uri": "https://localhost:8080/"
        },
        "id": "mXFZVRlFvxAq",
        "outputId": "c8080f9e-4f3e-4bf2-b91e-4f010e20f466"
      },
      "execution_count": 4,
      "outputs": [
        {
          "output_type": "stream",
          "name": "stdout",
          "text": [
            "Checking input parameters are in the correct format.\n",
            "Formatting Dates.\n",
            "Checking if user supplied is available on the CoinBase Pro API.\n",
            "Connected to the CoinBase Pro API.\n",
            "Ticker 'BTC-USD' found at the CoinBase Pro API, continuing to extraction.\n",
            "Provisional Start: 2021-01-01T00:00:00\n",
            "Provisional End: 2021-10-28T00:00:00\n",
            "Data for chunk 1 of 2 extracted\n",
            "Provisional Start: 2021-10-28T00:00:00\n",
            "Provisional End: 2022-08-24T00:00:00\n",
            "Data for chunk 2 of 2 extracted\n"
          ]
        }
      ]
    },
    {
      "cell_type": "code",
      "source": [
        "btc_historicals.shape"
      ],
      "metadata": {
        "colab": {
          "base_uri": "https://localhost:8080/"
        },
        "id": "bB36viuAwnr4",
        "outputId": "8fee94c3-a52d-4366-ef6d-70330afd3bfd"
      },
      "execution_count": 5,
      "outputs": [
        {
          "output_type": "execute_result",
          "data": {
            "text/plain": [
              "(514, 5)"
            ]
          },
          "metadata": {},
          "execution_count": 5
        }
      ]
    },
    {
      "cell_type": "code",
      "source": [
        "btc_historicals.tail()"
      ],
      "metadata": {
        "colab": {
          "base_uri": "https://localhost:8080/",
          "height": 237
        },
        "id": "-QepeTnmyIfF",
        "outputId": "adf4ffa0-94c5-4c54-c236-f8f7e9f813ea"
      },
      "execution_count": 6,
      "outputs": [
        {
          "output_type": "execute_result",
          "data": {
            "text/plain": [
              "                 low      high      open     close        volume\n",
              "time                                                            \n",
              "2022-05-26  28000.00  29850.00  29503.48  29166.06  26598.586061\n",
              "2022-05-27  28220.00  29355.40  29166.06  28598.31  21035.537369\n",
              "2022-05-28  28500.00  29239.52  28598.31  29008.99   7717.343676\n",
              "2022-05-29  28809.84  29550.00  29008.99  29447.07   6727.927704\n",
              "2022-05-30  29273.65  32232.16  29447.08  31711.42  24915.372760"
            ],
            "text/html": [
              "\n",
              "  <div id=\"df-d46c07d0-560a-4ae7-95cd-ceea1cb96102\">\n",
              "    <div class=\"colab-df-container\">\n",
              "      <div>\n",
              "<style scoped>\n",
              "    .dataframe tbody tr th:only-of-type {\n",
              "        vertical-align: middle;\n",
              "    }\n",
              "\n",
              "    .dataframe tbody tr th {\n",
              "        vertical-align: top;\n",
              "    }\n",
              "\n",
              "    .dataframe thead th {\n",
              "        text-align: right;\n",
              "    }\n",
              "</style>\n",
              "<table border=\"1\" class=\"dataframe\">\n",
              "  <thead>\n",
              "    <tr style=\"text-align: right;\">\n",
              "      <th></th>\n",
              "      <th>low</th>\n",
              "      <th>high</th>\n",
              "      <th>open</th>\n",
              "      <th>close</th>\n",
              "      <th>volume</th>\n",
              "    </tr>\n",
              "    <tr>\n",
              "      <th>time</th>\n",
              "      <th></th>\n",
              "      <th></th>\n",
              "      <th></th>\n",
              "      <th></th>\n",
              "      <th></th>\n",
              "    </tr>\n",
              "  </thead>\n",
              "  <tbody>\n",
              "    <tr>\n",
              "      <th>2022-05-26</th>\n",
              "      <td>28000.00</td>\n",
              "      <td>29850.00</td>\n",
              "      <td>29503.48</td>\n",
              "      <td>29166.06</td>\n",
              "      <td>26598.586061</td>\n",
              "    </tr>\n",
              "    <tr>\n",
              "      <th>2022-05-27</th>\n",
              "      <td>28220.00</td>\n",
              "      <td>29355.40</td>\n",
              "      <td>29166.06</td>\n",
              "      <td>28598.31</td>\n",
              "      <td>21035.537369</td>\n",
              "    </tr>\n",
              "    <tr>\n",
              "      <th>2022-05-28</th>\n",
              "      <td>28500.00</td>\n",
              "      <td>29239.52</td>\n",
              "      <td>28598.31</td>\n",
              "      <td>29008.99</td>\n",
              "      <td>7717.343676</td>\n",
              "    </tr>\n",
              "    <tr>\n",
              "      <th>2022-05-29</th>\n",
              "      <td>28809.84</td>\n",
              "      <td>29550.00</td>\n",
              "      <td>29008.99</td>\n",
              "      <td>29447.07</td>\n",
              "      <td>6727.927704</td>\n",
              "    </tr>\n",
              "    <tr>\n",
              "      <th>2022-05-30</th>\n",
              "      <td>29273.65</td>\n",
              "      <td>32232.16</td>\n",
              "      <td>29447.08</td>\n",
              "      <td>31711.42</td>\n",
              "      <td>24915.372760</td>\n",
              "    </tr>\n",
              "  </tbody>\n",
              "</table>\n",
              "</div>\n",
              "      <button class=\"colab-df-convert\" onclick=\"convertToInteractive('df-d46c07d0-560a-4ae7-95cd-ceea1cb96102')\"\n",
              "              title=\"Convert this dataframe to an interactive table.\"\n",
              "              style=\"display:none;\">\n",
              "        \n",
              "  <svg xmlns=\"http://www.w3.org/2000/svg\" height=\"24px\"viewBox=\"0 0 24 24\"\n",
              "       width=\"24px\">\n",
              "    <path d=\"M0 0h24v24H0V0z\" fill=\"none\"/>\n",
              "    <path d=\"M18.56 5.44l.94 2.06.94-2.06 2.06-.94-2.06-.94-.94-2.06-.94 2.06-2.06.94zm-11 1L8.5 8.5l.94-2.06 2.06-.94-2.06-.94L8.5 2.5l-.94 2.06-2.06.94zm10 10l.94 2.06.94-2.06 2.06-.94-2.06-.94-.94-2.06-.94 2.06-2.06.94z\"/><path d=\"M17.41 7.96l-1.37-1.37c-.4-.4-.92-.59-1.43-.59-.52 0-1.04.2-1.43.59L10.3 9.45l-7.72 7.72c-.78.78-.78 2.05 0 2.83L4 21.41c.39.39.9.59 1.41.59.51 0 1.02-.2 1.41-.59l7.78-7.78 2.81-2.81c.8-.78.8-2.07 0-2.86zM5.41 20L4 18.59l7.72-7.72 1.47 1.35L5.41 20z\"/>\n",
              "  </svg>\n",
              "      </button>\n",
              "      \n",
              "  <style>\n",
              "    .colab-df-container {\n",
              "      display:flex;\n",
              "      flex-wrap:wrap;\n",
              "      gap: 12px;\n",
              "    }\n",
              "\n",
              "    .colab-df-convert {\n",
              "      background-color: #E8F0FE;\n",
              "      border: none;\n",
              "      border-radius: 50%;\n",
              "      cursor: pointer;\n",
              "      display: none;\n",
              "      fill: #1967D2;\n",
              "      height: 32px;\n",
              "      padding: 0 0 0 0;\n",
              "      width: 32px;\n",
              "    }\n",
              "\n",
              "    .colab-df-convert:hover {\n",
              "      background-color: #E2EBFA;\n",
              "      box-shadow: 0px 1px 2px rgba(60, 64, 67, 0.3), 0px 1px 3px 1px rgba(60, 64, 67, 0.15);\n",
              "      fill: #174EA6;\n",
              "    }\n",
              "\n",
              "    [theme=dark] .colab-df-convert {\n",
              "      background-color: #3B4455;\n",
              "      fill: #D2E3FC;\n",
              "    }\n",
              "\n",
              "    [theme=dark] .colab-df-convert:hover {\n",
              "      background-color: #434B5C;\n",
              "      box-shadow: 0px 1px 3px 1px rgba(0, 0, 0, 0.15);\n",
              "      filter: drop-shadow(0px 1px 2px rgba(0, 0, 0, 0.3));\n",
              "      fill: #FFFFFF;\n",
              "    }\n",
              "  </style>\n",
              "\n",
              "      <script>\n",
              "        const buttonEl =\n",
              "          document.querySelector('#df-d46c07d0-560a-4ae7-95cd-ceea1cb96102 button.colab-df-convert');\n",
              "        buttonEl.style.display =\n",
              "          google.colab.kernel.accessAllowed ? 'block' : 'none';\n",
              "\n",
              "        async function convertToInteractive(key) {\n",
              "          const element = document.querySelector('#df-d46c07d0-560a-4ae7-95cd-ceea1cb96102');\n",
              "          const dataTable =\n",
              "            await google.colab.kernel.invokeFunction('convertToInteractive',\n",
              "                                                     [key], {});\n",
              "          if (!dataTable) return;\n",
              "\n",
              "          const docLinkHtml = 'Like what you see? Visit the ' +\n",
              "            '<a target=\"_blank\" href=https://colab.research.google.com/notebooks/data_table.ipynb>data table notebook</a>'\n",
              "            + ' to learn more about interactive tables.';\n",
              "          element.innerHTML = '';\n",
              "          dataTable['output_type'] = 'display_data';\n",
              "          await google.colab.output.renderOutput(dataTable, element);\n",
              "          const docLink = document.createElement('div');\n",
              "          docLink.innerHTML = docLinkHtml;\n",
              "          element.appendChild(docLink);\n",
              "        }\n",
              "      </script>\n",
              "    </div>\n",
              "  </div>\n",
              "  "
            ]
          },
          "metadata": {},
          "execution_count": 6
        }
      ]
    },
    {
      "cell_type": "code",
      "source": [
        "# Check out variables\n",
        "btc_historicals.dtypes"
      ],
      "metadata": {
        "colab": {
          "base_uri": "https://localhost:8080/"
        },
        "id": "wEBYs9iyygbR",
        "outputId": "35db6f0e-ba0c-4323-e6e4-294adcd9623d"
      },
      "execution_count": 7,
      "outputs": [
        {
          "output_type": "execute_result",
          "data": {
            "text/plain": [
              "low       float64\n",
              "high      float64\n",
              "open      float64\n",
              "close     float64\n",
              "volume    float64\n",
              "dtype: object"
            ]
          },
          "metadata": {},
          "execution_count": 7
        }
      ]
    },
    {
      "cell_type": "code",
      "source": [
        "tst = btc_historicals"
      ],
      "metadata": {
        "id": "8AvL9iDB0Ajo"
      },
      "execution_count": 8,
      "outputs": []
    },
    {
      "cell_type": "code",
      "source": [
        "print('Null Values:',tst.isnull().values.sum())\n",
        "print('If any NA values:', tst.isnull().values.any())"
      ],
      "metadata": {
        "colab": {
          "base_uri": "https://localhost:8080/"
        },
        "id": "8CWBQogH8Dvl",
        "outputId": "155edd5e-d311-4e65-e740-474248f32320"
      },
      "execution_count": 9,
      "outputs": [
        {
          "output_type": "stream",
          "name": "stdout",
          "text": [
            "Null Values: 0\n",
            "If any NA values: False\n"
          ]
        }
      ]
    },
    {
      "cell_type": "code",
      "source": [
        "# Create variable '‘TOMORROW_CLOSE’' which shifts 'Close' up by 1\n",
        "tst['TOMORROW_CLOSE'] = tst['close'].shift(-1,fill_value=0)"
      ],
      "metadata": {
        "id": "dhxMK0DoyiIJ"
      },
      "execution_count": 10,
      "outputs": []
    },
    {
      "cell_type": "code",
      "source": [
        "# drop last row because we shifted value (remember this when you add your forecasting data)\n",
        "tst.drop(tst.tail(1).index,inplace=True) "
      ],
      "metadata": {
        "id": "tIyv8Sikzy_R"
      },
      "execution_count": 11,
      "outputs": []
    },
    {
      "cell_type": "code",
      "source": [
        "# Drop close column, since we created new ‘TOMORROW_CLOSE’\n",
        "tst = tst.drop(columns=['close'])"
      ],
      "metadata": {
        "id": "Vb8CFnmzy1vh"
      },
      "execution_count": 12,
      "outputs": []
    },
    {
      "cell_type": "code",
      "source": [
        "tst.head()"
      ],
      "metadata": {
        "colab": {
          "base_uri": "https://localhost:8080/",
          "height": 237
        },
        "id": "Ee1SrZN3y9zR",
        "outputId": "9982a9d2-c177-4b47-ecea-1bdf6ff2d561"
      },
      "execution_count": 13,
      "outputs": [
        {
          "output_type": "execute_result",
          "data": {
            "text/plain": [
              "                 low      high      open        volume  TOMORROW_CLOSE\n",
              "time                                                                  \n",
              "2021-01-02  29039.00  33300.00  29413.29  46675.246521        33080.66\n",
              "2021-01-03  32008.62  34810.00  32222.88  36951.716506        32019.99\n",
              "2021-01-04  27678.00  33666.99  33082.84  46045.389685        34030.64\n",
              "2021-01-05  29891.13  34499.67  32020.22  42282.569200        36859.26\n",
              "2021-01-06  33352.54  37000.00  34043.91  45744.103200        39505.56"
            ],
            "text/html": [
              "\n",
              "  <div id=\"df-69d7184a-745c-43b9-a43c-8f43d4c64e16\">\n",
              "    <div class=\"colab-df-container\">\n",
              "      <div>\n",
              "<style scoped>\n",
              "    .dataframe tbody tr th:only-of-type {\n",
              "        vertical-align: middle;\n",
              "    }\n",
              "\n",
              "    .dataframe tbody tr th {\n",
              "        vertical-align: top;\n",
              "    }\n",
              "\n",
              "    .dataframe thead th {\n",
              "        text-align: right;\n",
              "    }\n",
              "</style>\n",
              "<table border=\"1\" class=\"dataframe\">\n",
              "  <thead>\n",
              "    <tr style=\"text-align: right;\">\n",
              "      <th></th>\n",
              "      <th>low</th>\n",
              "      <th>high</th>\n",
              "      <th>open</th>\n",
              "      <th>volume</th>\n",
              "      <th>TOMORROW_CLOSE</th>\n",
              "    </tr>\n",
              "    <tr>\n",
              "      <th>time</th>\n",
              "      <th></th>\n",
              "      <th></th>\n",
              "      <th></th>\n",
              "      <th></th>\n",
              "      <th></th>\n",
              "    </tr>\n",
              "  </thead>\n",
              "  <tbody>\n",
              "    <tr>\n",
              "      <th>2021-01-02</th>\n",
              "      <td>29039.00</td>\n",
              "      <td>33300.00</td>\n",
              "      <td>29413.29</td>\n",
              "      <td>46675.246521</td>\n",
              "      <td>33080.66</td>\n",
              "    </tr>\n",
              "    <tr>\n",
              "      <th>2021-01-03</th>\n",
              "      <td>32008.62</td>\n",
              "      <td>34810.00</td>\n",
              "      <td>32222.88</td>\n",
              "      <td>36951.716506</td>\n",
              "      <td>32019.99</td>\n",
              "    </tr>\n",
              "    <tr>\n",
              "      <th>2021-01-04</th>\n",
              "      <td>27678.00</td>\n",
              "      <td>33666.99</td>\n",
              "      <td>33082.84</td>\n",
              "      <td>46045.389685</td>\n",
              "      <td>34030.64</td>\n",
              "    </tr>\n",
              "    <tr>\n",
              "      <th>2021-01-05</th>\n",
              "      <td>29891.13</td>\n",
              "      <td>34499.67</td>\n",
              "      <td>32020.22</td>\n",
              "      <td>42282.569200</td>\n",
              "      <td>36859.26</td>\n",
              "    </tr>\n",
              "    <tr>\n",
              "      <th>2021-01-06</th>\n",
              "      <td>33352.54</td>\n",
              "      <td>37000.00</td>\n",
              "      <td>34043.91</td>\n",
              "      <td>45744.103200</td>\n",
              "      <td>39505.56</td>\n",
              "    </tr>\n",
              "  </tbody>\n",
              "</table>\n",
              "</div>\n",
              "      <button class=\"colab-df-convert\" onclick=\"convertToInteractive('df-69d7184a-745c-43b9-a43c-8f43d4c64e16')\"\n",
              "              title=\"Convert this dataframe to an interactive table.\"\n",
              "              style=\"display:none;\">\n",
              "        \n",
              "  <svg xmlns=\"http://www.w3.org/2000/svg\" height=\"24px\"viewBox=\"0 0 24 24\"\n",
              "       width=\"24px\">\n",
              "    <path d=\"M0 0h24v24H0V0z\" fill=\"none\"/>\n",
              "    <path d=\"M18.56 5.44l.94 2.06.94-2.06 2.06-.94-2.06-.94-.94-2.06-.94 2.06-2.06.94zm-11 1L8.5 8.5l.94-2.06 2.06-.94-2.06-.94L8.5 2.5l-.94 2.06-2.06.94zm10 10l.94 2.06.94-2.06 2.06-.94-2.06-.94-.94-2.06-.94 2.06-2.06.94z\"/><path d=\"M17.41 7.96l-1.37-1.37c-.4-.4-.92-.59-1.43-.59-.52 0-1.04.2-1.43.59L10.3 9.45l-7.72 7.72c-.78.78-.78 2.05 0 2.83L4 21.41c.39.39.9.59 1.41.59.51 0 1.02-.2 1.41-.59l7.78-7.78 2.81-2.81c.8-.78.8-2.07 0-2.86zM5.41 20L4 18.59l7.72-7.72 1.47 1.35L5.41 20z\"/>\n",
              "  </svg>\n",
              "      </button>\n",
              "      \n",
              "  <style>\n",
              "    .colab-df-container {\n",
              "      display:flex;\n",
              "      flex-wrap:wrap;\n",
              "      gap: 12px;\n",
              "    }\n",
              "\n",
              "    .colab-df-convert {\n",
              "      background-color: #E8F0FE;\n",
              "      border: none;\n",
              "      border-radius: 50%;\n",
              "      cursor: pointer;\n",
              "      display: none;\n",
              "      fill: #1967D2;\n",
              "      height: 32px;\n",
              "      padding: 0 0 0 0;\n",
              "      width: 32px;\n",
              "    }\n",
              "\n",
              "    .colab-df-convert:hover {\n",
              "      background-color: #E2EBFA;\n",
              "      box-shadow: 0px 1px 2px rgba(60, 64, 67, 0.3), 0px 1px 3px 1px rgba(60, 64, 67, 0.15);\n",
              "      fill: #174EA6;\n",
              "    }\n",
              "\n",
              "    [theme=dark] .colab-df-convert {\n",
              "      background-color: #3B4455;\n",
              "      fill: #D2E3FC;\n",
              "    }\n",
              "\n",
              "    [theme=dark] .colab-df-convert:hover {\n",
              "      background-color: #434B5C;\n",
              "      box-shadow: 0px 1px 3px 1px rgba(0, 0, 0, 0.15);\n",
              "      filter: drop-shadow(0px 1px 2px rgba(0, 0, 0, 0.3));\n",
              "      fill: #FFFFFF;\n",
              "    }\n",
              "  </style>\n",
              "\n",
              "      <script>\n",
              "        const buttonEl =\n",
              "          document.querySelector('#df-69d7184a-745c-43b9-a43c-8f43d4c64e16 button.colab-df-convert');\n",
              "        buttonEl.style.display =\n",
              "          google.colab.kernel.accessAllowed ? 'block' : 'none';\n",
              "\n",
              "        async function convertToInteractive(key) {\n",
              "          const element = document.querySelector('#df-69d7184a-745c-43b9-a43c-8f43d4c64e16');\n",
              "          const dataTable =\n",
              "            await google.colab.kernel.invokeFunction('convertToInteractive',\n",
              "                                                     [key], {});\n",
              "          if (!dataTable) return;\n",
              "\n",
              "          const docLinkHtml = 'Like what you see? Visit the ' +\n",
              "            '<a target=\"_blank\" href=https://colab.research.google.com/notebooks/data_table.ipynb>data table notebook</a>'\n",
              "            + ' to learn more about interactive tables.';\n",
              "          element.innerHTML = '';\n",
              "          dataTable['output_type'] = 'display_data';\n",
              "          await google.colab.output.renderOutput(dataTable, element);\n",
              "          const docLink = document.createElement('div');\n",
              "          docLink.innerHTML = docLinkHtml;\n",
              "          element.appendChild(docLink);\n",
              "        }\n",
              "      </script>\n",
              "    </div>\n",
              "  </div>\n",
              "  "
            ]
          },
          "metadata": {},
          "execution_count": 13
        }
      ]
    },
    {
      "cell_type": "code",
      "source": [
        "tst.shape"
      ],
      "metadata": {
        "colab": {
          "base_uri": "https://localhost:8080/"
        },
        "id": "bmfjRuDozBTh",
        "outputId": "880b9714-9b2b-4090-d0cf-368cc42aa1d0"
      },
      "execution_count": 14,
      "outputs": [
        {
          "output_type": "execute_result",
          "data": {
            "text/plain": [
              "(513, 5)"
            ]
          },
          "metadata": {},
          "execution_count": 14
        }
      ]
    },
    {
      "cell_type": "code",
      "source": [
        "# Split train data (90%) and test data (10%)\n",
        "\n",
        "train_size = int(len(tst)*0.90)\n",
        "train_dataset, test_dataset = tst.iloc[:train_size],tst.iloc[train_size:]\n"
      ],
      "metadata": {
        "id": "vaD-dLKTzJbx"
      },
      "execution_count": 15,
      "outputs": []
    },
    {
      "cell_type": "code",
      "source": [
        "train_dataset.head()"
      ],
      "metadata": {
        "colab": {
          "base_uri": "https://localhost:8080/",
          "height": 237
        },
        "id": "yIvQhz7xpYkg",
        "outputId": "b10953ac-90a8-45ef-9581-6d4618bc9e12"
      },
      "execution_count": 16,
      "outputs": [
        {
          "output_type": "execute_result",
          "data": {
            "text/plain": [
              "                 low      high      open        volume  TOMORROW_CLOSE\n",
              "time                                                                  \n",
              "2021-01-02  29039.00  33300.00  29413.29  46675.246521        33080.66\n",
              "2021-01-03  32008.62  34810.00  32222.88  36951.716506        32019.99\n",
              "2021-01-04  27678.00  33666.99  33082.84  46045.389685        34030.64\n",
              "2021-01-05  29891.13  34499.67  32020.22  42282.569200        36859.26\n",
              "2021-01-06  33352.54  37000.00  34043.91  45744.103200        39505.56"
            ],
            "text/html": [
              "\n",
              "  <div id=\"df-b2a8cb9a-1fba-43a7-8570-65d72bb52a6f\">\n",
              "    <div class=\"colab-df-container\">\n",
              "      <div>\n",
              "<style scoped>\n",
              "    .dataframe tbody tr th:only-of-type {\n",
              "        vertical-align: middle;\n",
              "    }\n",
              "\n",
              "    .dataframe tbody tr th {\n",
              "        vertical-align: top;\n",
              "    }\n",
              "\n",
              "    .dataframe thead th {\n",
              "        text-align: right;\n",
              "    }\n",
              "</style>\n",
              "<table border=\"1\" class=\"dataframe\">\n",
              "  <thead>\n",
              "    <tr style=\"text-align: right;\">\n",
              "      <th></th>\n",
              "      <th>low</th>\n",
              "      <th>high</th>\n",
              "      <th>open</th>\n",
              "      <th>volume</th>\n",
              "      <th>TOMORROW_CLOSE</th>\n",
              "    </tr>\n",
              "    <tr>\n",
              "      <th>time</th>\n",
              "      <th></th>\n",
              "      <th></th>\n",
              "      <th></th>\n",
              "      <th></th>\n",
              "      <th></th>\n",
              "    </tr>\n",
              "  </thead>\n",
              "  <tbody>\n",
              "    <tr>\n",
              "      <th>2021-01-02</th>\n",
              "      <td>29039.00</td>\n",
              "      <td>33300.00</td>\n",
              "      <td>29413.29</td>\n",
              "      <td>46675.246521</td>\n",
              "      <td>33080.66</td>\n",
              "    </tr>\n",
              "    <tr>\n",
              "      <th>2021-01-03</th>\n",
              "      <td>32008.62</td>\n",
              "      <td>34810.00</td>\n",
              "      <td>32222.88</td>\n",
              "      <td>36951.716506</td>\n",
              "      <td>32019.99</td>\n",
              "    </tr>\n",
              "    <tr>\n",
              "      <th>2021-01-04</th>\n",
              "      <td>27678.00</td>\n",
              "      <td>33666.99</td>\n",
              "      <td>33082.84</td>\n",
              "      <td>46045.389685</td>\n",
              "      <td>34030.64</td>\n",
              "    </tr>\n",
              "    <tr>\n",
              "      <th>2021-01-05</th>\n",
              "      <td>29891.13</td>\n",
              "      <td>34499.67</td>\n",
              "      <td>32020.22</td>\n",
              "      <td>42282.569200</td>\n",
              "      <td>36859.26</td>\n",
              "    </tr>\n",
              "    <tr>\n",
              "      <th>2021-01-06</th>\n",
              "      <td>33352.54</td>\n",
              "      <td>37000.00</td>\n",
              "      <td>34043.91</td>\n",
              "      <td>45744.103200</td>\n",
              "      <td>39505.56</td>\n",
              "    </tr>\n",
              "  </tbody>\n",
              "</table>\n",
              "</div>\n",
              "      <button class=\"colab-df-convert\" onclick=\"convertToInteractive('df-b2a8cb9a-1fba-43a7-8570-65d72bb52a6f')\"\n",
              "              title=\"Convert this dataframe to an interactive table.\"\n",
              "              style=\"display:none;\">\n",
              "        \n",
              "  <svg xmlns=\"http://www.w3.org/2000/svg\" height=\"24px\"viewBox=\"0 0 24 24\"\n",
              "       width=\"24px\">\n",
              "    <path d=\"M0 0h24v24H0V0z\" fill=\"none\"/>\n",
              "    <path d=\"M18.56 5.44l.94 2.06.94-2.06 2.06-.94-2.06-.94-.94-2.06-.94 2.06-2.06.94zm-11 1L8.5 8.5l.94-2.06 2.06-.94-2.06-.94L8.5 2.5l-.94 2.06-2.06.94zm10 10l.94 2.06.94-2.06 2.06-.94-2.06-.94-.94-2.06-.94 2.06-2.06.94z\"/><path d=\"M17.41 7.96l-1.37-1.37c-.4-.4-.92-.59-1.43-.59-.52 0-1.04.2-1.43.59L10.3 9.45l-7.72 7.72c-.78.78-.78 2.05 0 2.83L4 21.41c.39.39.9.59 1.41.59.51 0 1.02-.2 1.41-.59l7.78-7.78 2.81-2.81c.8-.78.8-2.07 0-2.86zM5.41 20L4 18.59l7.72-7.72 1.47 1.35L5.41 20z\"/>\n",
              "  </svg>\n",
              "      </button>\n",
              "      \n",
              "  <style>\n",
              "    .colab-df-container {\n",
              "      display:flex;\n",
              "      flex-wrap:wrap;\n",
              "      gap: 12px;\n",
              "    }\n",
              "\n",
              "    .colab-df-convert {\n",
              "      background-color: #E8F0FE;\n",
              "      border: none;\n",
              "      border-radius: 50%;\n",
              "      cursor: pointer;\n",
              "      display: none;\n",
              "      fill: #1967D2;\n",
              "      height: 32px;\n",
              "      padding: 0 0 0 0;\n",
              "      width: 32px;\n",
              "    }\n",
              "\n",
              "    .colab-df-convert:hover {\n",
              "      background-color: #E2EBFA;\n",
              "      box-shadow: 0px 1px 2px rgba(60, 64, 67, 0.3), 0px 1px 3px 1px rgba(60, 64, 67, 0.15);\n",
              "      fill: #174EA6;\n",
              "    }\n",
              "\n",
              "    [theme=dark] .colab-df-convert {\n",
              "      background-color: #3B4455;\n",
              "      fill: #D2E3FC;\n",
              "    }\n",
              "\n",
              "    [theme=dark] .colab-df-convert:hover {\n",
              "      background-color: #434B5C;\n",
              "      box-shadow: 0px 1px 3px 1px rgba(0, 0, 0, 0.15);\n",
              "      filter: drop-shadow(0px 1px 2px rgba(0, 0, 0, 0.3));\n",
              "      fill: #FFFFFF;\n",
              "    }\n",
              "  </style>\n",
              "\n",
              "      <script>\n",
              "        const buttonEl =\n",
              "          document.querySelector('#df-b2a8cb9a-1fba-43a7-8570-65d72bb52a6f button.colab-df-convert');\n",
              "        buttonEl.style.display =\n",
              "          google.colab.kernel.accessAllowed ? 'block' : 'none';\n",
              "\n",
              "        async function convertToInteractive(key) {\n",
              "          const element = document.querySelector('#df-b2a8cb9a-1fba-43a7-8570-65d72bb52a6f');\n",
              "          const dataTable =\n",
              "            await google.colab.kernel.invokeFunction('convertToInteractive',\n",
              "                                                     [key], {});\n",
              "          if (!dataTable) return;\n",
              "\n",
              "          const docLinkHtml = 'Like what you see? Visit the ' +\n",
              "            '<a target=\"_blank\" href=https://colab.research.google.com/notebooks/data_table.ipynb>data table notebook</a>'\n",
              "            + ' to learn more about interactive tables.';\n",
              "          element.innerHTML = '';\n",
              "          dataTable['output_type'] = 'display_data';\n",
              "          await google.colab.output.renderOutput(dataTable, element);\n",
              "          const docLink = document.createElement('div');\n",
              "          docLink.innerHTML = docLinkHtml;\n",
              "          element.appendChild(docLink);\n",
              "        }\n",
              "      </script>\n",
              "    </div>\n",
              "  </div>\n",
              "  "
            ]
          },
          "metadata": {},
          "execution_count": 16
        }
      ]
    },
    {
      "cell_type": "code",
      "source": [
        "# Split train data to X and y\n",
        "X_train = train_dataset.drop('TOMORROW_CLOSE', axis = 1)\n",
        "y_train = train_dataset.loc[:,['TOMORROW_CLOSE']]\n",
        "\n",
        "# Split test data to X and y\n",
        "X_test = test_dataset.drop('TOMORROW_CLOSE', axis = 1)\n",
        "y_test = test_dataset.loc[:,['TOMORROW_CLOSE']]"
      ],
      "metadata": {
        "id": "mHMzSSQ_24Uo"
      },
      "execution_count": 17,
      "outputs": []
    },
    {
      "cell_type": "code",
      "source": [
        "X_train.head()"
      ],
      "metadata": {
        "colab": {
          "base_uri": "https://localhost:8080/",
          "height": 237
        },
        "id": "fNUixtLJm6mv",
        "outputId": "a407fd32-648f-49a0-a676-e3231e98891f"
      },
      "execution_count": 18,
      "outputs": [
        {
          "output_type": "execute_result",
          "data": {
            "text/plain": [
              "                 low      high      open        volume\n",
              "time                                                  \n",
              "2021-01-02  29039.00  33300.00  29413.29  46675.246521\n",
              "2021-01-03  32008.62  34810.00  32222.88  36951.716506\n",
              "2021-01-04  27678.00  33666.99  33082.84  46045.389685\n",
              "2021-01-05  29891.13  34499.67  32020.22  42282.569200\n",
              "2021-01-06  33352.54  37000.00  34043.91  45744.103200"
            ],
            "text/html": [
              "\n",
              "  <div id=\"df-eb4ff81a-86a3-4d0c-8289-40cc84f465af\">\n",
              "    <div class=\"colab-df-container\">\n",
              "      <div>\n",
              "<style scoped>\n",
              "    .dataframe tbody tr th:only-of-type {\n",
              "        vertical-align: middle;\n",
              "    }\n",
              "\n",
              "    .dataframe tbody tr th {\n",
              "        vertical-align: top;\n",
              "    }\n",
              "\n",
              "    .dataframe thead th {\n",
              "        text-align: right;\n",
              "    }\n",
              "</style>\n",
              "<table border=\"1\" class=\"dataframe\">\n",
              "  <thead>\n",
              "    <tr style=\"text-align: right;\">\n",
              "      <th></th>\n",
              "      <th>low</th>\n",
              "      <th>high</th>\n",
              "      <th>open</th>\n",
              "      <th>volume</th>\n",
              "    </tr>\n",
              "    <tr>\n",
              "      <th>time</th>\n",
              "      <th></th>\n",
              "      <th></th>\n",
              "      <th></th>\n",
              "      <th></th>\n",
              "    </tr>\n",
              "  </thead>\n",
              "  <tbody>\n",
              "    <tr>\n",
              "      <th>2021-01-02</th>\n",
              "      <td>29039.00</td>\n",
              "      <td>33300.00</td>\n",
              "      <td>29413.29</td>\n",
              "      <td>46675.246521</td>\n",
              "    </tr>\n",
              "    <tr>\n",
              "      <th>2021-01-03</th>\n",
              "      <td>32008.62</td>\n",
              "      <td>34810.00</td>\n",
              "      <td>32222.88</td>\n",
              "      <td>36951.716506</td>\n",
              "    </tr>\n",
              "    <tr>\n",
              "      <th>2021-01-04</th>\n",
              "      <td>27678.00</td>\n",
              "      <td>33666.99</td>\n",
              "      <td>33082.84</td>\n",
              "      <td>46045.389685</td>\n",
              "    </tr>\n",
              "    <tr>\n",
              "      <th>2021-01-05</th>\n",
              "      <td>29891.13</td>\n",
              "      <td>34499.67</td>\n",
              "      <td>32020.22</td>\n",
              "      <td>42282.569200</td>\n",
              "    </tr>\n",
              "    <tr>\n",
              "      <th>2021-01-06</th>\n",
              "      <td>33352.54</td>\n",
              "      <td>37000.00</td>\n",
              "      <td>34043.91</td>\n",
              "      <td>45744.103200</td>\n",
              "    </tr>\n",
              "  </tbody>\n",
              "</table>\n",
              "</div>\n",
              "      <button class=\"colab-df-convert\" onclick=\"convertToInteractive('df-eb4ff81a-86a3-4d0c-8289-40cc84f465af')\"\n",
              "              title=\"Convert this dataframe to an interactive table.\"\n",
              "              style=\"display:none;\">\n",
              "        \n",
              "  <svg xmlns=\"http://www.w3.org/2000/svg\" height=\"24px\"viewBox=\"0 0 24 24\"\n",
              "       width=\"24px\">\n",
              "    <path d=\"M0 0h24v24H0V0z\" fill=\"none\"/>\n",
              "    <path d=\"M18.56 5.44l.94 2.06.94-2.06 2.06-.94-2.06-.94-.94-2.06-.94 2.06-2.06.94zm-11 1L8.5 8.5l.94-2.06 2.06-.94-2.06-.94L8.5 2.5l-.94 2.06-2.06.94zm10 10l.94 2.06.94-2.06 2.06-.94-2.06-.94-.94-2.06-.94 2.06-2.06.94z\"/><path d=\"M17.41 7.96l-1.37-1.37c-.4-.4-.92-.59-1.43-.59-.52 0-1.04.2-1.43.59L10.3 9.45l-7.72 7.72c-.78.78-.78 2.05 0 2.83L4 21.41c.39.39.9.59 1.41.59.51 0 1.02-.2 1.41-.59l7.78-7.78 2.81-2.81c.8-.78.8-2.07 0-2.86zM5.41 20L4 18.59l7.72-7.72 1.47 1.35L5.41 20z\"/>\n",
              "  </svg>\n",
              "      </button>\n",
              "      \n",
              "  <style>\n",
              "    .colab-df-container {\n",
              "      display:flex;\n",
              "      flex-wrap:wrap;\n",
              "      gap: 12px;\n",
              "    }\n",
              "\n",
              "    .colab-df-convert {\n",
              "      background-color: #E8F0FE;\n",
              "      border: none;\n",
              "      border-radius: 50%;\n",
              "      cursor: pointer;\n",
              "      display: none;\n",
              "      fill: #1967D2;\n",
              "      height: 32px;\n",
              "      padding: 0 0 0 0;\n",
              "      width: 32px;\n",
              "    }\n",
              "\n",
              "    .colab-df-convert:hover {\n",
              "      background-color: #E2EBFA;\n",
              "      box-shadow: 0px 1px 2px rgba(60, 64, 67, 0.3), 0px 1px 3px 1px rgba(60, 64, 67, 0.15);\n",
              "      fill: #174EA6;\n",
              "    }\n",
              "\n",
              "    [theme=dark] .colab-df-convert {\n",
              "      background-color: #3B4455;\n",
              "      fill: #D2E3FC;\n",
              "    }\n",
              "\n",
              "    [theme=dark] .colab-df-convert:hover {\n",
              "      background-color: #434B5C;\n",
              "      box-shadow: 0px 1px 3px 1px rgba(0, 0, 0, 0.15);\n",
              "      filter: drop-shadow(0px 1px 2px rgba(0, 0, 0, 0.3));\n",
              "      fill: #FFFFFF;\n",
              "    }\n",
              "  </style>\n",
              "\n",
              "      <script>\n",
              "        const buttonEl =\n",
              "          document.querySelector('#df-eb4ff81a-86a3-4d0c-8289-40cc84f465af button.colab-df-convert');\n",
              "        buttonEl.style.display =\n",
              "          google.colab.kernel.accessAllowed ? 'block' : 'none';\n",
              "\n",
              "        async function convertToInteractive(key) {\n",
              "          const element = document.querySelector('#df-eb4ff81a-86a3-4d0c-8289-40cc84f465af');\n",
              "          const dataTable =\n",
              "            await google.colab.kernel.invokeFunction('convertToInteractive',\n",
              "                                                     [key], {});\n",
              "          if (!dataTable) return;\n",
              "\n",
              "          const docLinkHtml = 'Like what you see? Visit the ' +\n",
              "            '<a target=\"_blank\" href=https://colab.research.google.com/notebooks/data_table.ipynb>data table notebook</a>'\n",
              "            + ' to learn more about interactive tables.';\n",
              "          element.innerHTML = '';\n",
              "          dataTable['output_type'] = 'display_data';\n",
              "          await google.colab.output.renderOutput(dataTable, element);\n",
              "          const docLink = document.createElement('div');\n",
              "          docLink.innerHTML = docLinkHtml;\n",
              "          element.appendChild(docLink);\n",
              "        }\n",
              "      </script>\n",
              "    </div>\n",
              "  </div>\n",
              "  "
            ]
          },
          "metadata": {},
          "execution_count": 18
        }
      ]
    },
    {
      "cell_type": "code",
      "source": [
        "'''\n",
        "#Plot train and test data\n",
        "plt.figure(figsize = (12, 6))\n",
        "plt.rcParams['figure.dpi'] = 360\n",
        "plt.plot(train_dataset.TOMORROW_CLOSE)\n",
        "plt.plot(test_dataset.TOMORROW_CLOSE)\n",
        "plt.xlabel('Date')\n",
        "plt.ylabel('Close value (US$)')\n",
        "plt.legend(['Train set', 'Test set'], loc='upper left')\n",
        "print('Dimension of train data: ',train_dataset.shape)\n",
        "print('Dimension of test data: ', test_dataset.shape)\n",
        "'''"
      ],
      "metadata": {
        "colab": {
          "base_uri": "https://localhost:8080/",
          "height": 55
        },
        "id": "hF4OcMzB3D1I",
        "outputId": "ca609970-6ee9-46cf-e89d-64fe3778bc41"
      },
      "execution_count": 19,
      "outputs": [
        {
          "output_type": "execute_result",
          "data": {
            "text/plain": [
              "\"\\n#Plot train and test data\\nplt.figure(figsize = (12, 6))\\nplt.rcParams['figure.dpi'] = 360\\nplt.plot(train_dataset.TOMORROW_CLOSE)\\nplt.plot(test_dataset.TOMORROW_CLOSE)\\nplt.xlabel('Date')\\nplt.ylabel('Close value (US$)')\\nplt.legend(['Train set', 'Test set'], loc='upper left')\\nprint('Dimension of train data: ',train_dataset.shape)\\nprint('Dimension of test data: ', test_dataset.shape)\\n\""
            ],
            "application/vnd.google.colaboratory.intrinsic+json": {
              "type": "string"
            }
          },
          "metadata": {},
          "execution_count": 19
        }
      ]
    },
    {
      "cell_type": "code",
      "source": [
        "# Different scaler for input and output ----> Normalizate the data\n",
        "scaler_x = MinMaxScaler(feature_range = (-1,1))\n",
        "scaler_y = MinMaxScaler(feature_range = (-1,1))\n",
        "\n",
        "# Fit the scaler using available training data\n",
        "input_scaler = scaler_x.fit(X_train)\n",
        "output_scaler = scaler_y.fit(y_train)\n",
        "\n",
        "# Apply the scaler to training data\n",
        "train_y_norm = output_scaler.transform(y_train)\n",
        "train_x_norm = input_scaler.transform(X_train)\n",
        "\n",
        "# Apply the scaler to test data\n",
        "test_y_norm = output_scaler.transform(y_test)\n",
        "test_x_norm = input_scaler.transform(X_test)"
      ],
      "metadata": {
        "id": "XhyiYytM3S-w"
      },
      "execution_count": 20,
      "outputs": []
    },
    {
      "cell_type": "code",
      "source": [
        "# Create 3 dimensional data set \n",
        "def threeD_dataset (X, y, time_steps = 1):\n",
        "    Xs, ys = [], []\n",
        "    \n",
        "    for i in range(len(X)-time_steps):\n",
        "        v = X[i:i+time_steps, :]\n",
        "        Xs.append(v)\n",
        "        ys.append(y[i+time_steps])\n",
        "        \n",
        "    return np.array(Xs), np.array(ys)\n",
        "\n",
        "\n",
        "TIME_STEPS = 15 # which means the model will make predictions of ‘TOMORROW_CLOSE’ based on the input from the 10 previous days or future days bi-lstm or bi-gru\n",
        "\n",
        "X_test, y_test = threeD_dataset(test_x_norm, test_y_norm, TIME_STEPS)\n",
        "X_train, y_train = threeD_dataset(train_x_norm, train_y_norm, TIME_STEPS)\n",
        "print('X_train.shape: ', X_train.shape)\n",
        "print('y_train.shape: ', y_train.shape)\n",
        "print('X_test.shape: ', X_test.shape) \n",
        "print('y_test.shape: ', y_test.shape)"
      ],
      "metadata": {
        "colab": {
          "base_uri": "https://localhost:8080/"
        },
        "id": "_yxSLwrm3efn",
        "outputId": "9eb7243e-1a1b-474c-8272-6354d372012b"
      },
      "execution_count": 21,
      "outputs": [
        {
          "output_type": "stream",
          "name": "stdout",
          "text": [
            "X_train.shape:  (446, 15, 4)\n",
            "y_train.shape:  (446, 1)\n",
            "X_test.shape:  (37, 15, 4)\n",
            "y_test.shape:  (37, 1)\n"
          ]
        }
      ]
    },
    {
      "cell_type": "code",
      "source": [
        "# Create 1d-conv-Bi-GRU model\n",
        "model_conv_bi_gru = tf.keras.models.Sequential([\n",
        "                    \n",
        "    # Conv Layer\n",
        "    Conv1D(64, 1, activation='relu',input_shape = X_train.shape[1:]),\n",
        "\n",
        "    # First Layer Bi-GRU\n",
        "    Bidirectional(tf.keras.layers.GRU(64, activation='relu', return_sequences=False )),\n",
        "    tf.keras.layers.Dropout(0.1),\n",
        "\n",
        "    tf.keras.layers.Dense(32, activation='tanh'),\n",
        "    tf.keras.layers.Dense(1)\n",
        "])\n",
        "model_conv_bi_gru.compile(optimizer=tf.keras.optimizers.Adam(learning_rate = 0.5e-3),loss='mae')"
      ],
      "metadata": {
        "id": "NOhFjCaC3wM4",
        "colab": {
          "base_uri": "https://localhost:8080/"
        },
        "outputId": "0b683dae-c806-47a5-f318-61cc35538a67"
      },
      "execution_count": 22,
      "outputs": [
        {
          "output_type": "stream",
          "name": "stdout",
          "text": [
            "WARNING:tensorflow:Layer gru will not use cuDNN kernels since it doesn't meet the criteria. It will use a generic GPU kernel as fallback when running on GPU.\n",
            "WARNING:tensorflow:Layer gru will not use cuDNN kernels since it doesn't meet the criteria. It will use a generic GPU kernel as fallback when running on GPU.\n",
            "WARNING:tensorflow:Layer gru will not use cuDNN kernels since it doesn't meet the criteria. It will use a generic GPU kernel as fallback when running on GPU.\n"
          ]
        }
      ]
    },
    {
      "cell_type": "code",
      "source": [
        "#model_bi_lstm = create_model_bilstm()"
      ],
      "metadata": {
        "id": "x-1Fc8hc4Nw4"
      },
      "execution_count": 23,
      "outputs": []
    },
    {
      "cell_type": "code",
      "source": [
        "# Let's check the summary of our baby model\n",
        "model_conv_bi_gru.summary()"
      ],
      "metadata": {
        "colab": {
          "base_uri": "https://localhost:8080/"
        },
        "id": "QvyWxytS4Pg3",
        "outputId": "51443bfe-90ed-4b33-cffa-53afb4687bee"
      },
      "execution_count": 24,
      "outputs": [
        {
          "output_type": "stream",
          "name": "stdout",
          "text": [
            "Model: \"sequential\"\n",
            "_________________________________________________________________\n",
            " Layer (type)                Output Shape              Param #   \n",
            "=================================================================\n",
            " conv1d (Conv1D)             (None, 15, 64)            320       \n",
            "                                                                 \n",
            " bidirectional (Bidirectiona  (None, 128)              49920     \n",
            " l)                                                              \n",
            "                                                                 \n",
            " dropout (Dropout)           (None, 128)               0         \n",
            "                                                                 \n",
            " dense (Dense)               (None, 32)                4128      \n",
            "                                                                 \n",
            " dense_1 (Dense)             (None, 1)                 33        \n",
            "                                                                 \n",
            "=================================================================\n",
            "Total params: 54,401\n",
            "Trainable params: 54,401\n",
            "Non-trainable params: 0\n",
            "_________________________________________________________________\n"
          ]
        }
      ]
    },
    {
      "cell_type": "code",
      "source": [
        "'''\n",
        "# Fit the model !\n",
        "early_stop = keras.callbacks.EarlyStopping(monitor = 'val_loss',patience = 10) # use early stop technique to stop the training process if the val loss didn't improve for 10 epochs\n",
        "\n",
        "# decaying lr on every 2nd epoch by 1%\n",
        "def scheduler(epoch, lr):\n",
        "    rate =  1 - 0.01 \n",
        "    if epoch%2 == 0:\n",
        "        return lr*rate\n",
        "    return lr\n",
        "\n",
        "LRscheduler = LearningRateScheduler(scheduler)\n",
        "callbacks_list = [early_stop, LRscheduler]\n",
        "'''\n",
        "\n",
        "#,callbacks=callbacks_list\n",
        "history_conv_bi_gru = model_conv_bi_gru.fit(X_train, y_train, epochs = 20, validation_split = 0.2,batch_size = 32, shuffle = False) # no shuffer , as its time series data"
      ],
      "metadata": {
        "colab": {
          "base_uri": "https://localhost:8080/"
        },
        "id": "HsWs4MNL4RuI",
        "outputId": "de929af2-a136-4d04-cf41-a9e66db505a5"
      },
      "execution_count": 25,
      "outputs": [
        {
          "output_type": "stream",
          "name": "stdout",
          "text": [
            "Epoch 1/20\n",
            "12/12 [==============================] - 6s 116ms/step - loss: 0.3558 - val_loss: 0.1864\n",
            "Epoch 2/20\n",
            "12/12 [==============================] - 1s 88ms/step - loss: 0.2461 - val_loss: 0.1464\n",
            "Epoch 3/20\n",
            "12/12 [==============================] - 1s 82ms/step - loss: 0.2042 - val_loss: 0.1411\n",
            "Epoch 4/20\n",
            "12/12 [==============================] - 1s 78ms/step - loss: 0.1818 - val_loss: 0.1288\n",
            "Epoch 5/20\n",
            "12/12 [==============================] - 1s 81ms/step - loss: 0.1698 - val_loss: 0.1168\n",
            "Epoch 6/20\n",
            "12/12 [==============================] - 2s 135ms/step - loss: 0.1543 - val_loss: 0.1097\n",
            "Epoch 7/20\n",
            "12/12 [==============================] - 2s 154ms/step - loss: 0.1476 - val_loss: 0.1005\n",
            "Epoch 8/20\n",
            "12/12 [==============================] - 2s 171ms/step - loss: 0.1378 - val_loss: 0.1030\n",
            "Epoch 9/20\n",
            "12/12 [==============================] - 2s 182ms/step - loss: 0.1373 - val_loss: 0.0974\n",
            "Epoch 10/20\n",
            "12/12 [==============================] - 2s 155ms/step - loss: 0.1372 - val_loss: 0.0984\n",
            "Epoch 11/20\n",
            "12/12 [==============================] - 2s 157ms/step - loss: 0.1312 - val_loss: 0.1013\n",
            "Epoch 12/20\n",
            "12/12 [==============================] - 2s 152ms/step - loss: 0.1320 - val_loss: 0.1024\n",
            "Epoch 13/20\n",
            "12/12 [==============================] - 2s 139ms/step - loss: 0.1280 - val_loss: 0.1026\n",
            "Epoch 14/20\n",
            "12/12 [==============================] - 2s 186ms/step - loss: 0.1326 - val_loss: 0.1050\n",
            "Epoch 15/20\n",
            "12/12 [==============================] - 2s 212ms/step - loss: 0.1225 - val_loss: 0.1075\n",
            "Epoch 16/20\n",
            "12/12 [==============================] - 2s 202ms/step - loss: 0.1285 - val_loss: 0.1092\n",
            "Epoch 17/20\n",
            "12/12 [==============================] - 2s 184ms/step - loss: 0.1268 - val_loss: 0.1086\n",
            "Epoch 18/20\n",
            "12/12 [==============================] - 2s 167ms/step - loss: 0.1266 - val_loss: 0.1070\n",
            "Epoch 19/20\n",
            "12/12 [==============================] - 2s 140ms/step - loss: 0.1281 - val_loss: 0.1090\n",
            "Epoch 20/20\n",
            "12/12 [==============================] - 1s 79ms/step - loss: 0.1225 - val_loss: 0.1074\n"
          ]
        }
      ]
    },
    {
      "cell_type": "code",
      "source": [
        "#Plot train and validation loss\n",
        "def plot_loss (history, model_name):\n",
        "    plt.figure(figsize = (10, 6))\n",
        "    plt.rcParams['figure.dpi'] = 360\n",
        "    plt.plot(history.history['loss'])\n",
        "    plt.plot(history.history['val_loss'])\n",
        "    plt.title('Model Train vs Validation Loss for ' + model_name)\n",
        "    plt.ylabel('Loss')\n",
        "    plt.xlabel('epoch')\n",
        "    plt.legend(['Train loss', 'Validation loss'], loc='upper right')\n",
        "    \n",
        "plot_loss (history_conv_bi_gru, 'Conv-Bi-gru')"
      ],
      "metadata": {
        "id": "zkd3oqts4anP",
        "colab": {
          "base_uri": "https://localhost:8080/",
          "height": 404
        },
        "outputId": "c84f37b9-8651-4c12-fbdd-980da59f8833"
      },
      "execution_count": 26,
      "outputs": [
        {
          "output_type": "display_data",
          "data": {
            "text/plain": [
              "<Figure size 720x432 with 1 Axes>"
            ],
            "image/png": "[encoded data removed]"
          },
          "metadata": {
            "needs_background": "light"
          }
        }
      ]
    },
    {
      "cell_type": "markdown",
      "source": [
        "**Afte 30 epochs, the validation errors starts to rise, which is a sign of over fitting, therefore, one has to stop the training process at 30 epochs.**"
      ],
      "metadata": {
        "id": "8c3y71jpqXIf"
      }
    },
    {
      "cell_type": "code",
      "source": [
        "y_test = scaler_y.inverse_transform(y_test)\n",
        "y_train = scaler_y.inverse_transform(y_train)"
      ],
      "metadata": {
        "id": "6y6yIrED4_B_"
      },
      "execution_count": 27,
      "outputs": []
    },
    {
      "cell_type": "code",
      "source": [
        "def prediction(model):\n",
        "    prediction = model.predict(X_test)\n",
        "    prediction = scaler_y.inverse_transform(prediction)\n",
        "    return prediction"
      ],
      "metadata": {
        "id": "afyw6NSrNjKz"
      },
      "execution_count": 28,
      "outputs": []
    },
    {
      "cell_type": "code",
      "source": [
        "prediction_conv_bi_gru = prediction(model_conv_bi_gru)"
      ],
      "metadata": {
        "id": "gAEBUr__NlXa"
      },
      "execution_count": 29,
      "outputs": []
    },
    {
      "cell_type": "code",
      "source": [
        "## Define a function to calculate MAE and RMSE\n",
        "def evaluate_prediction(predictions, actual, model_name):\n",
        "    errors = predictions - actual\n",
        "    mse = np.square(errors).mean()\n",
        "    rmse = np.sqrt(mse)\n",
        "    mae = np.abs(errors).mean()\n",
        "\n",
        "    print(model_name + ':')\n",
        "    print('Mean Absolute Error: {:.4f}'.format(mae))\n",
        "    print('Root Mean Square Error: {:.4f}'.format(rmse))\n",
        "    print('')"
      ],
      "metadata": {
        "id": "MvsFAOhlNqow"
      },
      "execution_count": 30,
      "outputs": []
    },
    {
      "cell_type": "code",
      "source": [
        "evaluate_prediction(prediction_conv_bi_gru, y_test, 'conv-Bi-gru')"
      ],
      "metadata": {
        "id": "xlZLERJqNtPQ",
        "colab": {
          "base_uri": "https://localhost:8080/"
        },
        "outputId": "4a03eb4b-e954-4c5b-9df2-6e5624a56b7e"
      },
      "execution_count": 31,
      "outputs": [
        {
          "output_type": "stream",
          "name": "stdout",
          "text": [
            "conv-Bi-gru:\n",
            "Mean Absolute Error: 1840.7816\n",
            "Root Mean Square Error: 2353.7567\n",
            "\n"
          ]
        }
      ]
    }
  ]
}